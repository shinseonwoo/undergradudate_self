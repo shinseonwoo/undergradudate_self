{
 "cells": [
  {
   "cell_type": "markdown",
   "metadata": {
    "toc": true
   },
   "source": [
    "<h1>따릉이 주행거리 추천시스템<span class=\"tocSkip\"></span></h1>\n",
    "<div class=\"toc\"><ul class=\"toc-item\"><li><span><a href=\"#데이터-다운로드\" data-toc-modified-id=\"데이터-다운로드-1\"><span class=\"toc-item-num\">1&nbsp;&nbsp;</span>데이터 다운로드</a></span></li><li><span><a href=\"#데이터-부르기\" data-toc-modified-id=\"데이터-부르기-2\"><span class=\"toc-item-num\">2&nbsp;&nbsp;</span>데이터 부르기</a></span></li><li><span><a href=\"#데이터-전처리\" data-toc-modified-id=\"데이터-전처리-3\"><span class=\"toc-item-num\">3&nbsp;&nbsp;</span>데이터 전처리</a></span></li><li><span><a href=\"#데이터-로더\" data-toc-modified-id=\"데이터-로더-4\"><span class=\"toc-item-num\">4&nbsp;&nbsp;</span>데이터 로더</a></span></li><li><span><a href=\"#간단한-MLP-모델\" data-toc-modified-id=\"간단한-MLP-모델-5\"><span class=\"toc-item-num\">5&nbsp;&nbsp;</span>간단한 MLP 모델</a></span></li></ul></div>"
   ]
  },
  {
   "cell_type": "markdown",
   "metadata": {},
   "source": [
    "# 데이터 다운로드\n",
    "\n",
    "https://drive.google.com/file/d/1wjnM_E5I0l4P-dNlV7fBNzPEg6RZ_eeM/view?usp=sharing #weather_df.csv\n",
    "https://drive.google.com/file/d/1LEH7k18Lh53iJisT84at7Os9HgIR4GsK/view?usp=sharing #bike_df.csv\n",
    "https://drive.google.com/file/d/1UoevNRadJNANWxuH40YAuPktNnMPzY8b/view?usp=sharing #air_df.csv\n"
   ]
  },
  {
   "cell_type": "markdown",
   "metadata": {},
   "source": [
    "# 데이터 부르기"
   ]
  },
  {
   "cell_type": "code",
   "execution_count": 1,
   "metadata": {},
   "outputs": [],
   "source": [
    "import pandas as pd\n",
    "import numpy as np\n",
    "import matplotlib.pyplot as plt\n",
    "\n",
    "# 한글 출력 설정\n",
    "from matplotlib import font_manager, rc\n",
    "font_name = font_manager.FontProperties(fname=\"c:/Windows/Fonts/malgun.ttf\").get_name()\n",
    "rc('font', family=font_name)\n"
   ]
  },
  {
   "cell_type": "code",
   "execution_count": 2,
   "metadata": {},
   "outputs": [
    {
     "data": {
      "text/html": [
       "<div>\n",
       "<style scoped>\n",
       "    .dataframe tbody tr th:only-of-type {\n",
       "        vertical-align: middle;\n",
       "    }\n",
       "\n",
       "    .dataframe tbody tr th {\n",
       "        vertical-align: top;\n",
       "    }\n",
       "\n",
       "    .dataframe thead th {\n",
       "        text-align: right;\n",
       "    }\n",
       "</style>\n",
       "<table border=\"1\" class=\"dataframe\">\n",
       "  <thead>\n",
       "    <tr style=\"text-align: right;\">\n",
       "      <th></th>\n",
       "      <th>일시</th>\n",
       "      <th>기온(°C)</th>\n",
       "      <th>강수량(mm)</th>\n",
       "      <th>풍속(m/s)</th>\n",
       "      <th>습도(%)</th>\n",
       "      <th>현지기압(hPa)</th>\n",
       "      <th>일조(hr)</th>\n",
       "      <th>일사(MJ/m2)</th>\n",
       "      <th>적설(cm)</th>\n",
       "      <th>전운량(10분위)</th>\n",
       "      <th>지면온도(°C)</th>\n",
       "    </tr>\n",
       "  </thead>\n",
       "  <tbody>\n",
       "    <tr>\n",
       "      <th>0</th>\n",
       "      <td>2018-12-01 00:00:00</td>\n",
       "      <td>1.8</td>\n",
       "      <td>0</td>\n",
       "      <td>0.9</td>\n",
       "      <td>47.0</td>\n",
       "      <td>1016.5</td>\n",
       "      <td>0</td>\n",
       "      <td>0</td>\n",
       "      <td>0</td>\n",
       "      <td>2</td>\n",
       "      <td>-0.4</td>\n",
       "    </tr>\n",
       "    <tr>\n",
       "      <th>1</th>\n",
       "      <td>2018-12-01 01:00:00</td>\n",
       "      <td>1.9</td>\n",
       "      <td>0</td>\n",
       "      <td>0.4</td>\n",
       "      <td>53.0</td>\n",
       "      <td>1016.1</td>\n",
       "      <td>0</td>\n",
       "      <td>0</td>\n",
       "      <td>0</td>\n",
       "      <td>8</td>\n",
       "      <td>-0.6</td>\n",
       "    </tr>\n",
       "    <tr>\n",
       "      <th>2</th>\n",
       "      <td>2018-12-01 02:00:00</td>\n",
       "      <td>1.5</td>\n",
       "      <td>0</td>\n",
       "      <td>1</td>\n",
       "      <td>55.0</td>\n",
       "      <td>1016.1</td>\n",
       "      <td>0</td>\n",
       "      <td>0</td>\n",
       "      <td>0</td>\n",
       "      <td>7</td>\n",
       "      <td>-0.5</td>\n",
       "    </tr>\n",
       "    <tr>\n",
       "      <th>3</th>\n",
       "      <td>2018-12-01 03:00:00</td>\n",
       "      <td>1.2</td>\n",
       "      <td>0</td>\n",
       "      <td>0.8</td>\n",
       "      <td>48.0</td>\n",
       "      <td>1016.4</td>\n",
       "      <td>0</td>\n",
       "      <td>0</td>\n",
       "      <td>0</td>\n",
       "      <td>2</td>\n",
       "      <td>-0.7</td>\n",
       "    </tr>\n",
       "    <tr>\n",
       "      <th>4</th>\n",
       "      <td>2018-12-01 04:00:00</td>\n",
       "      <td>0.9</td>\n",
       "      <td>0</td>\n",
       "      <td>1.2</td>\n",
       "      <td>54.0</td>\n",
       "      <td>1015.8</td>\n",
       "      <td>0</td>\n",
       "      <td>0</td>\n",
       "      <td>0</td>\n",
       "      <td>1</td>\n",
       "      <td>-0.7</td>\n",
       "    </tr>\n",
       "  </tbody>\n",
       "</table>\n",
       "</div>"
      ],
      "text/plain": [
       "                    일시  기온(°C) 강수량(mm) 풍속(m/s)  습도(%)  현지기압(hPa) 일조(hr)  \\\n",
       "0  2018-12-01 00:00:00     1.8       0     0.9   47.0     1016.5      0   \n",
       "1  2018-12-01 01:00:00     1.9       0     0.4   53.0     1016.1      0   \n",
       "2  2018-12-01 02:00:00     1.5       0       1   55.0     1016.1      0   \n",
       "3  2018-12-01 03:00:00     1.2       0     0.8   48.0     1016.4      0   \n",
       "4  2018-12-01 04:00:00     0.9       0     1.2   54.0     1015.8      0   \n",
       "\n",
       "  일사(MJ/m2) 적설(cm) 전운량(10분위) 지면온도(°C)  \n",
       "0         0      0         2     -0.4  \n",
       "1         0      0         8     -0.6  \n",
       "2         0      0         7     -0.5  \n",
       "3         0      0         2     -0.7  \n",
       "4         0      0         1     -0.7  "
      ]
     },
     "execution_count": 2,
     "metadata": {},
     "output_type": "execute_result"
    }
   ],
   "source": [
    "# 기간 : 2018년 12월 1일 ~ 2019년 11월 30일\n",
    "# 기간 내 날씨\n",
    "\n",
    "weather_df = pd.read_csv('weather_df.csv')\n",
    "weather_df.drop(['지점','지점명'],axis=1,inplace=True)\n",
    "weather_df.fillna('0',inplace=True)\n",
    "weather_df.head()"
   ]
  },
  {
   "cell_type": "code",
   "execution_count": 3,
   "metadata": {},
   "outputs": [
    {
     "data": {
      "text/html": [
       "<div>\n",
       "<style scoped>\n",
       "    .dataframe tbody tr th:only-of-type {\n",
       "        vertical-align: middle;\n",
       "    }\n",
       "\n",
       "    .dataframe tbody tr th {\n",
       "        vertical-align: top;\n",
       "    }\n",
       "\n",
       "    .dataframe thead th {\n",
       "        text-align: right;\n",
       "    }\n",
       "</style>\n",
       "<table border=\"1\" class=\"dataframe\">\n",
       "  <thead>\n",
       "    <tr style=\"text-align: right;\">\n",
       "      <th></th>\n",
       "      <th>일시</th>\n",
       "      <th>미세먼지농도(㎍/㎥)</th>\n",
       "    </tr>\n",
       "  </thead>\n",
       "  <tbody>\n",
       "    <tr>\n",
       "      <th>0</th>\n",
       "      <td>2018-12-01 00:00:00</td>\n",
       "      <td>41</td>\n",
       "    </tr>\n",
       "    <tr>\n",
       "      <th>1</th>\n",
       "      <td>2018-12-01 01:00:00</td>\n",
       "      <td>46</td>\n",
       "    </tr>\n",
       "    <tr>\n",
       "      <th>2</th>\n",
       "      <td>2018-12-01 02:00:00</td>\n",
       "      <td>29</td>\n",
       "    </tr>\n",
       "    <tr>\n",
       "      <th>3</th>\n",
       "      <td>2018-12-01 03:00:00</td>\n",
       "      <td>31</td>\n",
       "    </tr>\n",
       "    <tr>\n",
       "      <th>4</th>\n",
       "      <td>2018-12-01 04:00:00</td>\n",
       "      <td>39</td>\n",
       "    </tr>\n",
       "  </tbody>\n",
       "</table>\n",
       "</div>"
      ],
      "text/plain": [
       "                    일시 미세먼지농도(㎍/㎥)\n",
       "0  2018-12-01 00:00:00          41\n",
       "1  2018-12-01 01:00:00          46\n",
       "2  2018-12-01 02:00:00          29\n",
       "3  2018-12-01 03:00:00          31\n",
       "4  2018-12-01 04:00:00          39"
      ]
     },
     "execution_count": 3,
     "metadata": {},
     "output_type": "execute_result"
    }
   ],
   "source": [
    "# 기간 내 미세먼지농도\n",
    "\n",
    "air_df = pd.read_csv('air_df.csv') \n",
    "air_df.drop(['지점명','지점번호'],axis=1,inplace=True)\n",
    "air_df.fillna('0',inplace=True)\n",
    "air_df.head()"
   ]
  },
  {
   "cell_type": "code",
   "execution_count": 4,
   "metadata": {
    "scrolled": false
   },
   "outputs": [
    {
     "name": "stderr",
     "output_type": "stream",
     "text": [
      "C:\\ProgramData\\Anaconda3\\lib\\site-packages\\IPython\\core\\interactiveshell.py:3058: DtypeWarning: Columns (6,7,10) have mixed types. Specify dtype option on import or set low_memory=False.\n",
      "  interactivity=interactivity, compiler=compiler, result=result)\n"
     ]
    },
    {
     "data": {
      "text/html": [
       "<div>\n",
       "<style scoped>\n",
       "    .dataframe tbody tr th:only-of-type {\n",
       "        vertical-align: middle;\n",
       "    }\n",
       "\n",
       "    .dataframe tbody tr th {\n",
       "        vertical-align: top;\n",
       "    }\n",
       "\n",
       "    .dataframe thead th {\n",
       "        text-align: right;\n",
       "    }\n",
       "</style>\n",
       "<table border=\"1\" class=\"dataframe\">\n",
       "  <thead>\n",
       "    <tr style=\"text-align: right;\">\n",
       "      <th></th>\n",
       "      <th>일시</th>\n",
       "      <th>대여소명</th>\n",
       "      <th>대여구분코드</th>\n",
       "      <th>성별</th>\n",
       "      <th>연령대코드</th>\n",
       "      <th>이용건수</th>\n",
       "      <th>운동량</th>\n",
       "      <th>탄소량</th>\n",
       "      <th>이동거리</th>\n",
       "      <th>사용시간</th>\n",
       "      <th>대여소ID</th>\n",
       "    </tr>\n",
       "  </thead>\n",
       "  <tbody>\n",
       "    <tr>\n",
       "      <th>0</th>\n",
       "      <td>2018-12-01 00:00:00</td>\n",
       "      <td>1721. 창동역 2번출구</td>\n",
       "      <td>정기권</td>\n",
       "      <td>Null</td>\n",
       "      <td>~10대</td>\n",
       "      <td>1</td>\n",
       "      <td>25.95</td>\n",
       "      <td>0.26</td>\n",
       "      <td>1130.0</td>\n",
       "      <td>4</td>\n",
       "      <td>1721</td>\n",
       "    </tr>\n",
       "    <tr>\n",
       "      <th>1</th>\n",
       "      <td>2018-12-01 00:00:00</td>\n",
       "      <td>311. 서울광장 옆</td>\n",
       "      <td>정기권</td>\n",
       "      <td>M</td>\n",
       "      <td>40대</td>\n",
       "      <td>1</td>\n",
       "      <td>90.59</td>\n",
       "      <td>0.71</td>\n",
       "      <td>3050.0</td>\n",
       "      <td>32</td>\n",
       "      <td>311</td>\n",
       "    </tr>\n",
       "    <tr>\n",
       "      <th>2</th>\n",
       "      <td>2018-12-01 00:00:00</td>\n",
       "      <td>1671. 인덕대학교</td>\n",
       "      <td>정기권</td>\n",
       "      <td>M</td>\n",
       "      <td>40대</td>\n",
       "      <td>1</td>\n",
       "      <td>30.78</td>\n",
       "      <td>0.27</td>\n",
       "      <td>1160.0</td>\n",
       "      <td>13</td>\n",
       "      <td>1671</td>\n",
       "    </tr>\n",
       "    <tr>\n",
       "      <th>3</th>\n",
       "      <td>2018-12-01 00:00:00</td>\n",
       "      <td>274. 영등포역지하쇼핑센타 5번출구</td>\n",
       "      <td>정기권</td>\n",
       "      <td>M</td>\n",
       "      <td>40대</td>\n",
       "      <td>1</td>\n",
       "      <td>89.83</td>\n",
       "      <td>0.81</td>\n",
       "      <td>3490.0</td>\n",
       "      <td>45</td>\n",
       "      <td>274</td>\n",
       "    </tr>\n",
       "    <tr>\n",
       "      <th>4</th>\n",
       "      <td>2018-12-01 00:00:00</td>\n",
       "      <td>3520. 광진경찰서</td>\n",
       "      <td>정기권</td>\n",
       "      <td>M</td>\n",
       "      <td>40대</td>\n",
       "      <td>1</td>\n",
       "      <td>0.29</td>\n",
       "      <td>0</td>\n",
       "      <td>10.0</td>\n",
       "      <td>3</td>\n",
       "      <td>3520</td>\n",
       "    </tr>\n",
       "  </tbody>\n",
       "</table>\n",
       "</div>"
      ],
      "text/plain": [
       "                    일시                  대여소명 대여구분코드    성별 연령대코드  이용건수    운동량  \\\n",
       "0  2018-12-01 00:00:00       1721. 창동역 2번출구     정기권  Null  ~10대     1  25.95   \n",
       "1  2018-12-01 00:00:00           311. 서울광장 옆    정기권     M   40대     1  90.59   \n",
       "2  2018-12-01 00:00:00           1671. 인덕대학교    정기권     M   40대     1  30.78   \n",
       "3  2018-12-01 00:00:00  274. 영등포역지하쇼핑센타 5번출구    정기권     M   40대     1  89.83   \n",
       "4  2018-12-01 00:00:00           3520. 광진경찰서    정기권     M   40대     1   0.29   \n",
       "\n",
       "    탄소량    이동거리  사용시간 대여소ID  \n",
       "0  0.26  1130.0     4  1721  \n",
       "1  0.71  3050.0    32   311  \n",
       "2  0.27  1160.0    13  1671  \n",
       "3  0.81  3490.0    45   274  \n",
       "4     0    10.0     3  3520  "
      ]
     },
     "execution_count": 4,
     "metadata": {},
     "output_type": "execute_result"
    }
   ],
   "source": [
    "# 기간 내 따릉이 대여정보\n",
    "\n",
    "bike_df = pd.read_csv('bike_df.csv', skiprows = lambda i: i%2==0 and i!=0) # 절반만 가져오기\n",
    "bike_df.head()"
   ]
  },
  {
   "cell_type": "markdown",
   "metadata": {},
   "source": [
    "# 데이터 전처리"
   ]
  },
  {
   "cell_type": "code",
   "execution_count": 5,
   "metadata": {},
   "outputs": [
    {
     "data": {
      "text/html": [
       "<div>\n",
       "<style scoped>\n",
       "    .dataframe tbody tr th:only-of-type {\n",
       "        vertical-align: middle;\n",
       "    }\n",
       "\n",
       "    .dataframe tbody tr th {\n",
       "        vertical-align: top;\n",
       "    }\n",
       "\n",
       "    .dataframe thead th {\n",
       "        text-align: right;\n",
       "    }\n",
       "</style>\n",
       "<table border=\"1\" class=\"dataframe\">\n",
       "  <thead>\n",
       "    <tr style=\"text-align: right;\">\n",
       "      <th></th>\n",
       "      <th>일시</th>\n",
       "      <th>기온(°C)</th>\n",
       "      <th>강수량(mm)</th>\n",
       "      <th>풍속(m/s)</th>\n",
       "      <th>습도(%)</th>\n",
       "      <th>현지기압(hPa)</th>\n",
       "      <th>일조(hr)</th>\n",
       "      <th>일사(MJ/m2)</th>\n",
       "      <th>적설(cm)</th>\n",
       "      <th>전운량(10분위)</th>\n",
       "      <th>지면온도(°C)</th>\n",
       "      <th>미세먼지농도(㎍/㎥)</th>\n",
       "    </tr>\n",
       "  </thead>\n",
       "  <tbody>\n",
       "    <tr>\n",
       "      <th>0</th>\n",
       "      <td>2018-12-01 00:00:00</td>\n",
       "      <td>1.8</td>\n",
       "      <td>0</td>\n",
       "      <td>0.9</td>\n",
       "      <td>47.0</td>\n",
       "      <td>1016.5</td>\n",
       "      <td>0</td>\n",
       "      <td>0</td>\n",
       "      <td>0</td>\n",
       "      <td>2</td>\n",
       "      <td>-0.4</td>\n",
       "      <td>41</td>\n",
       "    </tr>\n",
       "    <tr>\n",
       "      <th>1</th>\n",
       "      <td>2018-12-01 01:00:00</td>\n",
       "      <td>1.9</td>\n",
       "      <td>0</td>\n",
       "      <td>0.4</td>\n",
       "      <td>53.0</td>\n",
       "      <td>1016.1</td>\n",
       "      <td>0</td>\n",
       "      <td>0</td>\n",
       "      <td>0</td>\n",
       "      <td>8</td>\n",
       "      <td>-0.6</td>\n",
       "      <td>46</td>\n",
       "    </tr>\n",
       "    <tr>\n",
       "      <th>2</th>\n",
       "      <td>2018-12-01 02:00:00</td>\n",
       "      <td>1.5</td>\n",
       "      <td>0</td>\n",
       "      <td>1</td>\n",
       "      <td>55.0</td>\n",
       "      <td>1016.1</td>\n",
       "      <td>0</td>\n",
       "      <td>0</td>\n",
       "      <td>0</td>\n",
       "      <td>7</td>\n",
       "      <td>-0.5</td>\n",
       "      <td>29</td>\n",
       "    </tr>\n",
       "    <tr>\n",
       "      <th>3</th>\n",
       "      <td>2018-12-01 03:00:00</td>\n",
       "      <td>1.2</td>\n",
       "      <td>0</td>\n",
       "      <td>0.8</td>\n",
       "      <td>48.0</td>\n",
       "      <td>1016.4</td>\n",
       "      <td>0</td>\n",
       "      <td>0</td>\n",
       "      <td>0</td>\n",
       "      <td>2</td>\n",
       "      <td>-0.7</td>\n",
       "      <td>31</td>\n",
       "    </tr>\n",
       "    <tr>\n",
       "      <th>4</th>\n",
       "      <td>2018-12-01 04:00:00</td>\n",
       "      <td>0.9</td>\n",
       "      <td>0</td>\n",
       "      <td>1.2</td>\n",
       "      <td>54.0</td>\n",
       "      <td>1015.8</td>\n",
       "      <td>0</td>\n",
       "      <td>0</td>\n",
       "      <td>0</td>\n",
       "      <td>1</td>\n",
       "      <td>-0.7</td>\n",
       "      <td>39</td>\n",
       "    </tr>\n",
       "  </tbody>\n",
       "</table>\n",
       "</div>"
      ],
      "text/plain": [
       "                    일시  기온(°C) 강수량(mm) 풍속(m/s)  습도(%)  현지기압(hPa) 일조(hr)  \\\n",
       "0  2018-12-01 00:00:00     1.8       0     0.9   47.0     1016.5      0   \n",
       "1  2018-12-01 01:00:00     1.9       0     0.4   53.0     1016.1      0   \n",
       "2  2018-12-01 02:00:00     1.5       0       1   55.0     1016.1      0   \n",
       "3  2018-12-01 03:00:00     1.2       0     0.8   48.0     1016.4      0   \n",
       "4  2018-12-01 04:00:00     0.9       0     1.2   54.0     1015.8      0   \n",
       "\n",
       "  일사(MJ/m2) 적설(cm) 전운량(10분위) 지면온도(°C) 미세먼지농도(㎍/㎥)  \n",
       "0         0      0         2     -0.4          41  \n",
       "1         0      0         8     -0.6          46  \n",
       "2         0      0         7     -0.5          29  \n",
       "3         0      0         2     -0.7          31  \n",
       "4         0      0         1     -0.7          39  "
      ]
     },
     "execution_count": 5,
     "metadata": {},
     "output_type": "execute_result"
    }
   ],
   "source": [
    "# 기간 내 날씨 + 미세먼지농도\n",
    "\n",
    "new_weather_df = pd.merge(weather_df,air_df[['일시','미세먼지농도(㎍/㎥)']],on='일시')\n",
    "new_weather_df.head()"
   ]
  },
  {
   "cell_type": "code",
   "execution_count": 6,
   "metadata": {
    "scrolled": false
   },
   "outputs": [
    {
     "data": {
      "text/html": [
       "<div>\n",
       "<style scoped>\n",
       "    .dataframe tbody tr th:only-of-type {\n",
       "        vertical-align: middle;\n",
       "    }\n",
       "\n",
       "    .dataframe tbody tr th {\n",
       "        vertical-align: top;\n",
       "    }\n",
       "\n",
       "    .dataframe thead th {\n",
       "        text-align: right;\n",
       "    }\n",
       "</style>\n",
       "<table border=\"1\" class=\"dataframe\">\n",
       "  <thead>\n",
       "    <tr style=\"text-align: right;\">\n",
       "      <th></th>\n",
       "      <th>일시</th>\n",
       "      <th>대여소명</th>\n",
       "      <th>대여구분코드</th>\n",
       "      <th>성별</th>\n",
       "      <th>연령대코드</th>\n",
       "      <th>이용건수</th>\n",
       "      <th>운동량</th>\n",
       "      <th>탄소량</th>\n",
       "      <th>이동거리</th>\n",
       "      <th>사용시간</th>\n",
       "      <th>...</th>\n",
       "      <th>강수량(mm)</th>\n",
       "      <th>풍속(m/s)</th>\n",
       "      <th>습도(%)</th>\n",
       "      <th>현지기압(hPa)</th>\n",
       "      <th>일조(hr)</th>\n",
       "      <th>일사(MJ/m2)</th>\n",
       "      <th>적설(cm)</th>\n",
       "      <th>전운량(10분위)</th>\n",
       "      <th>지면온도(°C)</th>\n",
       "      <th>미세먼지농도(㎍/㎥)</th>\n",
       "    </tr>\n",
       "  </thead>\n",
       "  <tbody>\n",
       "    <tr>\n",
       "      <th>0</th>\n",
       "      <td>2018-12-01 00:00:00</td>\n",
       "      <td>1721. 창동역 2번출구</td>\n",
       "      <td>정기권</td>\n",
       "      <td>Null</td>\n",
       "      <td>~10대</td>\n",
       "      <td>1</td>\n",
       "      <td>25.95</td>\n",
       "      <td>0.26</td>\n",
       "      <td>1130.0</td>\n",
       "      <td>4</td>\n",
       "      <td>...</td>\n",
       "      <td>0</td>\n",
       "      <td>0.9</td>\n",
       "      <td>47.0</td>\n",
       "      <td>1016.5</td>\n",
       "      <td>0</td>\n",
       "      <td>0</td>\n",
       "      <td>0</td>\n",
       "      <td>2</td>\n",
       "      <td>-0.4</td>\n",
       "      <td>41</td>\n",
       "    </tr>\n",
       "    <tr>\n",
       "      <th>1</th>\n",
       "      <td>2018-12-01 00:00:00</td>\n",
       "      <td>311. 서울광장 옆</td>\n",
       "      <td>정기권</td>\n",
       "      <td>M</td>\n",
       "      <td>40대</td>\n",
       "      <td>1</td>\n",
       "      <td>90.59</td>\n",
       "      <td>0.71</td>\n",
       "      <td>3050.0</td>\n",
       "      <td>32</td>\n",
       "      <td>...</td>\n",
       "      <td>0</td>\n",
       "      <td>0.9</td>\n",
       "      <td>47.0</td>\n",
       "      <td>1016.5</td>\n",
       "      <td>0</td>\n",
       "      <td>0</td>\n",
       "      <td>0</td>\n",
       "      <td>2</td>\n",
       "      <td>-0.4</td>\n",
       "      <td>41</td>\n",
       "    </tr>\n",
       "    <tr>\n",
       "      <th>2</th>\n",
       "      <td>2018-12-01 00:00:00</td>\n",
       "      <td>1671. 인덕대학교</td>\n",
       "      <td>정기권</td>\n",
       "      <td>M</td>\n",
       "      <td>40대</td>\n",
       "      <td>1</td>\n",
       "      <td>30.78</td>\n",
       "      <td>0.27</td>\n",
       "      <td>1160.0</td>\n",
       "      <td>13</td>\n",
       "      <td>...</td>\n",
       "      <td>0</td>\n",
       "      <td>0.9</td>\n",
       "      <td>47.0</td>\n",
       "      <td>1016.5</td>\n",
       "      <td>0</td>\n",
       "      <td>0</td>\n",
       "      <td>0</td>\n",
       "      <td>2</td>\n",
       "      <td>-0.4</td>\n",
       "      <td>41</td>\n",
       "    </tr>\n",
       "    <tr>\n",
       "      <th>3</th>\n",
       "      <td>2018-12-01 00:00:00</td>\n",
       "      <td>274. 영등포역지하쇼핑센타 5번출구</td>\n",
       "      <td>정기권</td>\n",
       "      <td>M</td>\n",
       "      <td>40대</td>\n",
       "      <td>1</td>\n",
       "      <td>89.83</td>\n",
       "      <td>0.81</td>\n",
       "      <td>3490.0</td>\n",
       "      <td>45</td>\n",
       "      <td>...</td>\n",
       "      <td>0</td>\n",
       "      <td>0.9</td>\n",
       "      <td>47.0</td>\n",
       "      <td>1016.5</td>\n",
       "      <td>0</td>\n",
       "      <td>0</td>\n",
       "      <td>0</td>\n",
       "      <td>2</td>\n",
       "      <td>-0.4</td>\n",
       "      <td>41</td>\n",
       "    </tr>\n",
       "    <tr>\n",
       "      <th>4</th>\n",
       "      <td>2018-12-01 00:00:00</td>\n",
       "      <td>3520. 광진경찰서</td>\n",
       "      <td>정기권</td>\n",
       "      <td>M</td>\n",
       "      <td>40대</td>\n",
       "      <td>1</td>\n",
       "      <td>0.29</td>\n",
       "      <td>0</td>\n",
       "      <td>10.0</td>\n",
       "      <td>3</td>\n",
       "      <td>...</td>\n",
       "      <td>0</td>\n",
       "      <td>0.9</td>\n",
       "      <td>47.0</td>\n",
       "      <td>1016.5</td>\n",
       "      <td>0</td>\n",
       "      <td>0</td>\n",
       "      <td>0</td>\n",
       "      <td>2</td>\n",
       "      <td>-0.4</td>\n",
       "      <td>41</td>\n",
       "    </tr>\n",
       "  </tbody>\n",
       "</table>\n",
       "<p>5 rows × 22 columns</p>\n",
       "</div>"
      ],
      "text/plain": [
       "                    일시                  대여소명 대여구분코드    성별 연령대코드  이용건수    운동량  \\\n",
       "0  2018-12-01 00:00:00       1721. 창동역 2번출구     정기권  Null  ~10대     1  25.95   \n",
       "1  2018-12-01 00:00:00           311. 서울광장 옆    정기권     M   40대     1  90.59   \n",
       "2  2018-12-01 00:00:00           1671. 인덕대학교    정기권     M   40대     1  30.78   \n",
       "3  2018-12-01 00:00:00  274. 영등포역지하쇼핑센타 5번출구    정기권     M   40대     1  89.83   \n",
       "4  2018-12-01 00:00:00           3520. 광진경찰서    정기권     M   40대     1   0.29   \n",
       "\n",
       "    탄소량    이동거리  사용시간  ... 강수량(mm)  풍속(m/s) 습도(%) 현지기압(hPa)  일조(hr)  \\\n",
       "0  0.26  1130.0     4  ...       0      0.9  47.0    1016.5       0   \n",
       "1  0.71  3050.0    32  ...       0      0.9  47.0    1016.5       0   \n",
       "2  0.27  1160.0    13  ...       0      0.9  47.0    1016.5       0   \n",
       "3  0.81  3490.0    45  ...       0      0.9  47.0    1016.5       0   \n",
       "4     0    10.0     3  ...       0      0.9  47.0    1016.5       0   \n",
       "\n",
       "   일사(MJ/m2) 적설(cm) 전운량(10분위) 지면온도(°C) 미세먼지농도(㎍/㎥)  \n",
       "0          0      0         2     -0.4          41  \n",
       "1          0      0         2     -0.4          41  \n",
       "2          0      0         2     -0.4          41  \n",
       "3          0      0         2     -0.4          41  \n",
       "4          0      0         2     -0.4          41  \n",
       "\n",
       "[5 rows x 22 columns]"
      ]
     },
     "execution_count": 6,
     "metadata": {},
     "output_type": "execute_result"
    }
   ],
   "source": [
    "# (기간 내 날씨 + 미세먼지농도) + 따릉이 대여정보\n",
    "\n",
    "data_df = pd.merge(bike_df,new_weather_df,on='일시')\n",
    "data_df.head()"
   ]
  },
  {
   "cell_type": "code",
   "execution_count": 7,
   "metadata": {
    "scrolled": true
   },
   "outputs": [
    {
     "data": {
      "text/html": [
       "<div>\n",
       "<style scoped>\n",
       "    .dataframe tbody tr th:only-of-type {\n",
       "        vertical-align: middle;\n",
       "    }\n",
       "\n",
       "    .dataframe tbody tr th {\n",
       "        vertical-align: top;\n",
       "    }\n",
       "\n",
       "    .dataframe thead th {\n",
       "        text-align: right;\n",
       "    }\n",
       "</style>\n",
       "<table border=\"1\" class=\"dataframe\">\n",
       "  <thead>\n",
       "    <tr style=\"text-align: right;\">\n",
       "      <th></th>\n",
       "      <th>성별</th>\n",
       "      <th>연령대코드</th>\n",
       "      <th>이동거리</th>\n",
       "      <th>기온(°C)</th>\n",
       "      <th>강수량(mm)</th>\n",
       "      <th>풍속(m/s)</th>\n",
       "      <th>습도(%)</th>\n",
       "      <th>현지기압(hPa)</th>\n",
       "      <th>일조(hr)</th>\n",
       "      <th>일사(MJ/m2)</th>\n",
       "      <th>적설(cm)</th>\n",
       "      <th>전운량(10분위)</th>\n",
       "      <th>지면온도(°C)</th>\n",
       "      <th>미세먼지농도(㎍/㎥)</th>\n",
       "    </tr>\n",
       "  </thead>\n",
       "  <tbody>\n",
       "    <tr>\n",
       "      <th>0</th>\n",
       "      <td>Null</td>\n",
       "      <td>~10대</td>\n",
       "      <td>1130.0</td>\n",
       "      <td>1.8</td>\n",
       "      <td>0</td>\n",
       "      <td>0.9</td>\n",
       "      <td>47.0</td>\n",
       "      <td>1016.5</td>\n",
       "      <td>0</td>\n",
       "      <td>0</td>\n",
       "      <td>0</td>\n",
       "      <td>2</td>\n",
       "      <td>-0.4</td>\n",
       "      <td>41</td>\n",
       "    </tr>\n",
       "    <tr>\n",
       "      <th>1</th>\n",
       "      <td>M</td>\n",
       "      <td>40대</td>\n",
       "      <td>3050.0</td>\n",
       "      <td>1.8</td>\n",
       "      <td>0</td>\n",
       "      <td>0.9</td>\n",
       "      <td>47.0</td>\n",
       "      <td>1016.5</td>\n",
       "      <td>0</td>\n",
       "      <td>0</td>\n",
       "      <td>0</td>\n",
       "      <td>2</td>\n",
       "      <td>-0.4</td>\n",
       "      <td>41</td>\n",
       "    </tr>\n",
       "    <tr>\n",
       "      <th>2</th>\n",
       "      <td>M</td>\n",
       "      <td>40대</td>\n",
       "      <td>1160.0</td>\n",
       "      <td>1.8</td>\n",
       "      <td>0</td>\n",
       "      <td>0.9</td>\n",
       "      <td>47.0</td>\n",
       "      <td>1016.5</td>\n",
       "      <td>0</td>\n",
       "      <td>0</td>\n",
       "      <td>0</td>\n",
       "      <td>2</td>\n",
       "      <td>-0.4</td>\n",
       "      <td>41</td>\n",
       "    </tr>\n",
       "    <tr>\n",
       "      <th>3</th>\n",
       "      <td>M</td>\n",
       "      <td>40대</td>\n",
       "      <td>3490.0</td>\n",
       "      <td>1.8</td>\n",
       "      <td>0</td>\n",
       "      <td>0.9</td>\n",
       "      <td>47.0</td>\n",
       "      <td>1016.5</td>\n",
       "      <td>0</td>\n",
       "      <td>0</td>\n",
       "      <td>0</td>\n",
       "      <td>2</td>\n",
       "      <td>-0.4</td>\n",
       "      <td>41</td>\n",
       "    </tr>\n",
       "    <tr>\n",
       "      <th>4</th>\n",
       "      <td>M</td>\n",
       "      <td>40대</td>\n",
       "      <td>10.0</td>\n",
       "      <td>1.8</td>\n",
       "      <td>0</td>\n",
       "      <td>0.9</td>\n",
       "      <td>47.0</td>\n",
       "      <td>1016.5</td>\n",
       "      <td>0</td>\n",
       "      <td>0</td>\n",
       "      <td>0</td>\n",
       "      <td>2</td>\n",
       "      <td>-0.4</td>\n",
       "      <td>41</td>\n",
       "    </tr>\n",
       "  </tbody>\n",
       "</table>\n",
       "</div>"
      ],
      "text/plain": [
       "     성별 연령대코드    이동거리  기온(°C) 강수량(mm) 풍속(m/s)  습도(%)  현지기압(hPa) 일조(hr)  \\\n",
       "0  Null  ~10대  1130.0     1.8       0     0.9   47.0     1016.5      0   \n",
       "1     M   40대  3050.0     1.8       0     0.9   47.0     1016.5      0   \n",
       "2     M   40대  1160.0     1.8       0     0.9   47.0     1016.5      0   \n",
       "3     M   40대  3490.0     1.8       0     0.9   47.0     1016.5      0   \n",
       "4     M   40대    10.0     1.8       0     0.9   47.0     1016.5      0   \n",
       "\n",
       "  일사(MJ/m2) 적설(cm) 전운량(10분위) 지면온도(°C) 미세먼지농도(㎍/㎥)  \n",
       "0         0      0         2     -0.4          41  \n",
       "1         0      0         2     -0.4          41  \n",
       "2         0      0         2     -0.4          41  \n",
       "3         0      0         2     -0.4          41  \n",
       "4         0      0         2     -0.4          41  "
      ]
     },
     "execution_count": 7,
     "metadata": {},
     "output_type": "execute_result"
    }
   ],
   "source": [
    "# 성별, 연령대, 날씨로 이동거리를 예측하자\n",
    "\n",
    "data_df = data_df.drop(columns=['일시','대여소명','이용건수','대여구분코드','운동량','탄소량','사용시간','대여소ID'])\n",
    "data_df.head()"
   ]
  },
  {
   "cell_type": "code",
   "execution_count": 8,
   "metadata": {
    "scrolled": true
   },
   "outputs": [
    {
     "data": {
      "text/html": [
       "<div>\n",
       "<style scoped>\n",
       "    .dataframe tbody tr th:only-of-type {\n",
       "        vertical-align: middle;\n",
       "    }\n",
       "\n",
       "    .dataframe tbody tr th {\n",
       "        vertical-align: top;\n",
       "    }\n",
       "\n",
       "    .dataframe thead th {\n",
       "        text-align: right;\n",
       "    }\n",
       "</style>\n",
       "<table border=\"1\" class=\"dataframe\">\n",
       "  <thead>\n",
       "    <tr style=\"text-align: right;\">\n",
       "      <th></th>\n",
       "      <th>이동거리</th>\n",
       "      <th>기온(°C)</th>\n",
       "      <th>강수량(mm)</th>\n",
       "      <th>풍속(m/s)</th>\n",
       "      <th>습도(%)</th>\n",
       "      <th>현지기압(hPa)</th>\n",
       "      <th>일조(hr)</th>\n",
       "      <th>일사(MJ/m2)</th>\n",
       "      <th>적설(cm)</th>\n",
       "      <th>전운량(10분위)</th>\n",
       "      <th>...</th>\n",
       "      <th>성별_F</th>\n",
       "      <th>성별_M</th>\n",
       "      <th>성별_Null</th>\n",
       "      <th>연령대코드_20대</th>\n",
       "      <th>연령대코드_30대</th>\n",
       "      <th>연령대코드_40대</th>\n",
       "      <th>연령대코드_50대</th>\n",
       "      <th>연령대코드_60대</th>\n",
       "      <th>연령대코드_70대~</th>\n",
       "      <th>연령대코드_~10대</th>\n",
       "    </tr>\n",
       "  </thead>\n",
       "  <tbody>\n",
       "    <tr>\n",
       "      <th>0</th>\n",
       "      <td>1130.0</td>\n",
       "      <td>1.8</td>\n",
       "      <td>0.0</td>\n",
       "      <td>0.9</td>\n",
       "      <td>47.0</td>\n",
       "      <td>1016.5</td>\n",
       "      <td>0.0</td>\n",
       "      <td>0.0</td>\n",
       "      <td>0.0</td>\n",
       "      <td>2.0</td>\n",
       "      <td>...</td>\n",
       "      <td>0.0</td>\n",
       "      <td>0.0</td>\n",
       "      <td>1.0</td>\n",
       "      <td>0.0</td>\n",
       "      <td>0.0</td>\n",
       "      <td>0.0</td>\n",
       "      <td>0.0</td>\n",
       "      <td>0.0</td>\n",
       "      <td>0.0</td>\n",
       "      <td>1.0</td>\n",
       "    </tr>\n",
       "    <tr>\n",
       "      <th>1</th>\n",
       "      <td>3050.0</td>\n",
       "      <td>1.8</td>\n",
       "      <td>0.0</td>\n",
       "      <td>0.9</td>\n",
       "      <td>47.0</td>\n",
       "      <td>1016.5</td>\n",
       "      <td>0.0</td>\n",
       "      <td>0.0</td>\n",
       "      <td>0.0</td>\n",
       "      <td>2.0</td>\n",
       "      <td>...</td>\n",
       "      <td>0.0</td>\n",
       "      <td>1.0</td>\n",
       "      <td>0.0</td>\n",
       "      <td>0.0</td>\n",
       "      <td>0.0</td>\n",
       "      <td>1.0</td>\n",
       "      <td>0.0</td>\n",
       "      <td>0.0</td>\n",
       "      <td>0.0</td>\n",
       "      <td>0.0</td>\n",
       "    </tr>\n",
       "    <tr>\n",
       "      <th>2</th>\n",
       "      <td>1160.0</td>\n",
       "      <td>1.8</td>\n",
       "      <td>0.0</td>\n",
       "      <td>0.9</td>\n",
       "      <td>47.0</td>\n",
       "      <td>1016.5</td>\n",
       "      <td>0.0</td>\n",
       "      <td>0.0</td>\n",
       "      <td>0.0</td>\n",
       "      <td>2.0</td>\n",
       "      <td>...</td>\n",
       "      <td>0.0</td>\n",
       "      <td>1.0</td>\n",
       "      <td>0.0</td>\n",
       "      <td>0.0</td>\n",
       "      <td>0.0</td>\n",
       "      <td>1.0</td>\n",
       "      <td>0.0</td>\n",
       "      <td>0.0</td>\n",
       "      <td>0.0</td>\n",
       "      <td>0.0</td>\n",
       "    </tr>\n",
       "    <tr>\n",
       "      <th>3</th>\n",
       "      <td>3490.0</td>\n",
       "      <td>1.8</td>\n",
       "      <td>0.0</td>\n",
       "      <td>0.9</td>\n",
       "      <td>47.0</td>\n",
       "      <td>1016.5</td>\n",
       "      <td>0.0</td>\n",
       "      <td>0.0</td>\n",
       "      <td>0.0</td>\n",
       "      <td>2.0</td>\n",
       "      <td>...</td>\n",
       "      <td>0.0</td>\n",
       "      <td>1.0</td>\n",
       "      <td>0.0</td>\n",
       "      <td>0.0</td>\n",
       "      <td>0.0</td>\n",
       "      <td>1.0</td>\n",
       "      <td>0.0</td>\n",
       "      <td>0.0</td>\n",
       "      <td>0.0</td>\n",
       "      <td>0.0</td>\n",
       "    </tr>\n",
       "    <tr>\n",
       "      <th>4</th>\n",
       "      <td>10.0</td>\n",
       "      <td>1.8</td>\n",
       "      <td>0.0</td>\n",
       "      <td>0.9</td>\n",
       "      <td>47.0</td>\n",
       "      <td>1016.5</td>\n",
       "      <td>0.0</td>\n",
       "      <td>0.0</td>\n",
       "      <td>0.0</td>\n",
       "      <td>2.0</td>\n",
       "      <td>...</td>\n",
       "      <td>0.0</td>\n",
       "      <td>1.0</td>\n",
       "      <td>0.0</td>\n",
       "      <td>0.0</td>\n",
       "      <td>0.0</td>\n",
       "      <td>1.0</td>\n",
       "      <td>0.0</td>\n",
       "      <td>0.0</td>\n",
       "      <td>0.0</td>\n",
       "      <td>0.0</td>\n",
       "    </tr>\n",
       "  </tbody>\n",
       "</table>\n",
       "<p>5 rows × 22 columns</p>\n",
       "</div>"
      ],
      "text/plain": [
       "     이동거리  기온(°C)  강수량(mm)  풍속(m/s)  습도(%)  현지기압(hPa)  일조(hr)  일사(MJ/m2)  \\\n",
       "0  1130.0     1.8      0.0      0.9   47.0     1016.5     0.0        0.0   \n",
       "1  3050.0     1.8      0.0      0.9   47.0     1016.5     0.0        0.0   \n",
       "2  1160.0     1.8      0.0      0.9   47.0     1016.5     0.0        0.0   \n",
       "3  3490.0     1.8      0.0      0.9   47.0     1016.5     0.0        0.0   \n",
       "4    10.0     1.8      0.0      0.9   47.0     1016.5     0.0        0.0   \n",
       "\n",
       "   적설(cm)  전운량(10분위)  ...  성별_F  성별_M  성별_Null  연령대코드_20대  연령대코드_30대  \\\n",
       "0     0.0        2.0  ...   0.0   0.0      1.0        0.0        0.0   \n",
       "1     0.0        2.0  ...   0.0   1.0      0.0        0.0        0.0   \n",
       "2     0.0        2.0  ...   0.0   1.0      0.0        0.0        0.0   \n",
       "3     0.0        2.0  ...   0.0   1.0      0.0        0.0        0.0   \n",
       "4     0.0        2.0  ...   0.0   1.0      0.0        0.0        0.0   \n",
       "\n",
       "   연령대코드_40대  연령대코드_50대  연령대코드_60대  연령대코드_70대~  연령대코드_~10대  \n",
       "0        0.0        0.0        0.0         0.0         1.0  \n",
       "1        1.0        0.0        0.0         0.0         0.0  \n",
       "2        1.0        0.0        0.0         0.0         0.0  \n",
       "3        1.0        0.0        0.0         0.0         0.0  \n",
       "4        1.0        0.0        0.0         0.0         0.0  \n",
       "\n",
       "[5 rows x 22 columns]"
      ]
     },
     "execution_count": 8,
     "metadata": {},
     "output_type": "execute_result"
    }
   ],
   "source": [
    "# 범주형 자료 (성별, 연령대코드) 를 양적 데이터로 만들기 (가변수 활용)\n",
    "\n",
    "data_df = data_df.drop(['성별','연령대코드'],axis=1).join(pd.get_dummies(data_df[['성별','연령대코드']])).astype(float)\n",
    "data_df.head()"
   ]
  },
  {
   "cell_type": "code",
   "execution_count": 9,
   "metadata": {},
   "outputs": [
    {
     "data": {
      "text/plain": [
       "(6454300, 22)"
      ]
     },
     "execution_count": 9,
     "metadata": {},
     "output_type": "execute_result"
    }
   ],
   "source": [
    "data_df.shape"
   ]
  },
  {
   "cell_type": "code",
   "execution_count": 10,
   "metadata": {
    "scrolled": false
   },
   "outputs": [
    {
     "data": {
      "text/plain": [
       "<matplotlib.axes._subplots.AxesSubplot at 0x22124c3b7c8>"
      ]
     },
     "execution_count": 10,
     "metadata": {},
     "output_type": "execute_result"
    },
    {
     "data": {
      "image/png": "[encoded data removed]",
      "text/plain": [
       "<Figure size 432x288 with 1 Axes>"
      ]
     },
     "metadata": {
      "needs_background": "light"
     },
     "output_type": "display_data"
    }
   ],
   "source": [
    "# 이동거리 분포 확인\n",
    "\n",
    "import seaborn as sns\n",
    "sns.distplot(data_df['이동거리'])"
   ]
  },
  {
   "cell_type": "code",
   "execution_count": 11,
   "metadata": {
    "scrolled": true
   },
   "outputs": [
    {
     "name": "stdout",
     "output_type": "stream",
     "text": [
      "-5260.0\n",
      "12180.0\n"
     ]
    }
   ],
   "source": [
    "# IQR = Q3-Q1, Q1-1.5*IQR 보다 작거나, Q3+1.5*IQR보다 크면 이상치\n",
    "x=data_df['이동거리'].values\n",
    "q1 = np.percentile(x, 25)\n",
    "q3 = np.percentile(x, 75)\n",
    "iqr = q3-q1\n",
    "print(q1-iqr*1.5)\n",
    "print(q3+iqr*1.5)"
   ]
  },
  {
   "cell_type": "code",
   "execution_count": 12,
   "metadata": {
    "scrolled": true
   },
   "outputs": [
    {
     "data": {
      "text/plain": [
       "<matplotlib.axes._subplots.AxesSubplot at 0x2214bfde788>"
      ]
     },
     "execution_count": 12,
     "metadata": {},
     "output_type": "execute_result"
    },
    {
     "data": {
      "image/png": "[encoded data removed]",
      "text/plain": [
       "<Figure size 432x288 with 1 Axes>"
      ]
     },
     "metadata": {
      "needs_background": "light"
     },
     "output_type": "display_data"
    }
   ],
   "source": [
    "data_df = data_df[data_df['이동거리']<q3+iqr*1.5]\n",
    "sns.distplot(data_df['이동거리'])"
   ]
  },
  {
   "cell_type": "code",
   "execution_count": 13,
   "metadata": {},
   "outputs": [
    {
     "data": {
      "text/plain": [
       "(5780267, 22)"
      ]
     },
     "execution_count": 13,
     "metadata": {},
     "output_type": "execute_result"
    }
   ],
   "source": [
    "data_df.shape"
   ]
  },
  {
   "cell_type": "code",
   "execution_count": 14,
   "metadata": {},
   "outputs": [],
   "source": [
    "# 랜덤포레스트회귀로 분석해보기\n",
    "from sklearn.ensemble import RandomForestRegressor\n",
    "from sklearn.model_selection import train_test_split\n",
    "from sklearn.metrics import mean_squared_error"
   ]
  },
  {
   "cell_type": "code",
   "execution_count": 15,
   "metadata": {
    "scrolled": true
   },
   "outputs": [],
   "source": [
    "x = data_df.drop(['이동거리'], axis=1)\n",
    "y = data_df['이동거리']\n",
    "x_train, x_test, y_train, y_test = train_test_split(x,y,test_size=0.2,random_state=42) "
   ]
  },
  {
   "cell_type": "code",
   "execution_count": 16,
   "metadata": {},
   "outputs": [
    {
     "name": "stderr",
     "output_type": "stream",
     "text": [
      "C:\\ProgramData\\Anaconda3\\lib\\site-packages\\sklearn\\ensemble\\forest.py:245: FutureWarning: The default value of n_estimators will change from 10 in version 0.20 to 100 in 0.22.\n",
      "  \"10 in version 0.20 to 100 in 0.22.\", FutureWarning)\n"
     ]
    },
    {
     "data": {
      "text/plain": [
       "RandomForestRegressor(bootstrap=True, criterion='mse', max_depth=None,\n",
       "                      max_features='auto', max_leaf_nodes=None,\n",
       "                      min_impurity_decrease=0.0, min_impurity_split=None,\n",
       "                      min_samples_leaf=1, min_samples_split=2,\n",
       "                      min_weight_fraction_leaf=0.0, n_estimators=10,\n",
       "                      n_jobs=None, oob_score=False, random_state=42, verbose=0,\n",
       "                      warm_start=False)"
      ]
     },
     "execution_count": 16,
     "metadata": {},
     "output_type": "execute_result"
    }
   ],
   "source": [
    "forest = RandomForestRegressor(criterion='mse', random_state=42) \n",
    "forest.fit(x_train, y_train)"
   ]
  },
  {
   "cell_type": "code",
   "execution_count": 17,
   "metadata": {},
   "outputs": [],
   "source": [
    "y_test_pred = forest.predict(x_test)"
   ]
  },
  {
   "cell_type": "code",
   "execution_count": 18,
   "metadata": {},
   "outputs": [
    {
     "name": "stdout",
     "output_type": "stream",
     "text": [
      "MSE_forest : 6907865.827518065\n"
     ]
    }
   ],
   "source": [
    "MSE_forest = mean_squared_error(y_test, y_test_pred)\n",
    "print(f'MSE_forest : {MSE_forest}')\n",
    "\n",
    "# f-string (Literal String Interpolation) 사용하자.\n",
    "# ex)\n",
    "# name = 'Jung'\n",
    "# sex = 'male'\n",
    "\n",
    "# f'Hi, I am {name}. I am {sex}.'\n",
    "# >>> 'Hi, I am Jung. I am male'"
   ]
  },
  {
   "cell_type": "code",
   "execution_count": 19,
   "metadata": {},
   "outputs": [],
   "source": [
    "# 특성중요도 찾기\n",
    "feature_importance = forest.feature_importances_"
   ]
  },
  {
   "cell_type": "code",
   "execution_count": 20,
   "metadata": {},
   "outputs": [
    {
     "data": {
      "image/png": "[encoded data removed]",
      "text/plain": [
       "<Figure size 1080x504 with 1 Axes>"
      ]
     },
     "metadata": {
      "needs_background": "light"
     },
     "output_type": "display_data"
    }
   ],
   "source": [
    "# plot\n",
    "df_fi = pd.DataFrame({'columns':x.columns, 'importances':feature_importance})\n",
    "df_fi = df_fi[df_fi['importances'] > 0] # importance가 0이상인 것만 \n",
    "df_fi = df_fi.sort_values(by=['importances'], ascending=False)\n",
    "\n",
    "fig = plt.figure(figsize=(15,7))\n",
    "ax = sns.barplot(df_fi['columns'], df_fi['importances'])\n",
    "ax.set_xticklabels(df_fi['columns'], rotation=80, fontsize=13)\n",
    "plt.tight_layout()\n",
    "plt.show()"
   ]
  },
  {
   "cell_type": "code",
   "execution_count": 21,
   "metadata": {},
   "outputs": [
    {
     "data": {
      "text/html": [
       "<div>\n",
       "<style scoped>\n",
       "    .dataframe tbody tr th:only-of-type {\n",
       "        vertical-align: middle;\n",
       "    }\n",
       "\n",
       "    .dataframe tbody tr th {\n",
       "        vertical-align: top;\n",
       "    }\n",
       "\n",
       "    .dataframe thead th {\n",
       "        text-align: right;\n",
       "    }\n",
       "</style>\n",
       "<table border=\"1\" class=\"dataframe\">\n",
       "  <thead>\n",
       "    <tr style=\"text-align: right;\">\n",
       "      <th></th>\n",
       "      <th>기온(°C)</th>\n",
       "      <th>습도(%)</th>\n",
       "      <th>일사(MJ/m2)</th>\n",
       "      <th>현지기압(hPa)</th>\n",
       "      <th>지면온도(°C)</th>\n",
       "      <th>풍속(m/s)</th>\n",
       "      <th>미세먼지농도(㎍/㎥)</th>\n",
       "      <th>전운량(10분위)</th>\n",
       "      <th>성별_F</th>\n",
       "      <th>성별_M</th>\n",
       "    </tr>\n",
       "  </thead>\n",
       "  <tbody>\n",
       "    <tr>\n",
       "      <th>0</th>\n",
       "      <td>1.8</td>\n",
       "      <td>47.0</td>\n",
       "      <td>0.0</td>\n",
       "      <td>1016.5</td>\n",
       "      <td>-0.4</td>\n",
       "      <td>0.9</td>\n",
       "      <td>41.0</td>\n",
       "      <td>2.0</td>\n",
       "      <td>0.0</td>\n",
       "      <td>0.0</td>\n",
       "    </tr>\n",
       "    <tr>\n",
       "      <th>1</th>\n",
       "      <td>1.8</td>\n",
       "      <td>47.0</td>\n",
       "      <td>0.0</td>\n",
       "      <td>1016.5</td>\n",
       "      <td>-0.4</td>\n",
       "      <td>0.9</td>\n",
       "      <td>41.0</td>\n",
       "      <td>2.0</td>\n",
       "      <td>0.0</td>\n",
       "      <td>1.0</td>\n",
       "    </tr>\n",
       "    <tr>\n",
       "      <th>2</th>\n",
       "      <td>1.8</td>\n",
       "      <td>47.0</td>\n",
       "      <td>0.0</td>\n",
       "      <td>1016.5</td>\n",
       "      <td>-0.4</td>\n",
       "      <td>0.9</td>\n",
       "      <td>41.0</td>\n",
       "      <td>2.0</td>\n",
       "      <td>0.0</td>\n",
       "      <td>1.0</td>\n",
       "    </tr>\n",
       "    <tr>\n",
       "      <th>3</th>\n",
       "      <td>1.8</td>\n",
       "      <td>47.0</td>\n",
       "      <td>0.0</td>\n",
       "      <td>1016.5</td>\n",
       "      <td>-0.4</td>\n",
       "      <td>0.9</td>\n",
       "      <td>41.0</td>\n",
       "      <td>2.0</td>\n",
       "      <td>0.0</td>\n",
       "      <td>1.0</td>\n",
       "    </tr>\n",
       "    <tr>\n",
       "      <th>4</th>\n",
       "      <td>1.8</td>\n",
       "      <td>47.0</td>\n",
       "      <td>0.0</td>\n",
       "      <td>1016.5</td>\n",
       "      <td>-0.4</td>\n",
       "      <td>0.9</td>\n",
       "      <td>41.0</td>\n",
       "      <td>2.0</td>\n",
       "      <td>0.0</td>\n",
       "      <td>1.0</td>\n",
       "    </tr>\n",
       "  </tbody>\n",
       "</table>\n",
       "</div>"
      ],
      "text/plain": [
       "   기온(°C)  습도(%)  일사(MJ/m2)  현지기압(hPa)  지면온도(°C)  풍속(m/s)  미세먼지농도(㎍/㎥)  \\\n",
       "0     1.8   47.0        0.0     1016.5      -0.4      0.9         41.0   \n",
       "1     1.8   47.0        0.0     1016.5      -0.4      0.9         41.0   \n",
       "2     1.8   47.0        0.0     1016.5      -0.4      0.9         41.0   \n",
       "3     1.8   47.0        0.0     1016.5      -0.4      0.9         41.0   \n",
       "4     1.8   47.0        0.0     1016.5      -0.4      0.9         41.0   \n",
       "\n",
       "   전운량(10분위)  성별_F  성별_M  \n",
       "0        2.0   0.0   0.0  \n",
       "1        2.0   0.0   1.0  \n",
       "2        2.0   0.0   1.0  \n",
       "3        2.0   0.0   1.0  \n",
       "4        2.0   0.0   1.0  "
      ]
     },
     "execution_count": 21,
     "metadata": {},
     "output_type": "execute_result"
    }
   ],
   "source": [
    "#특성 중요도가 높은 10개만 넣어보자\n",
    "list1 = []\n",
    "for i,v in enumerate(df_fi['columns'][0:10]):\n",
    "    list1.append(v)\n",
    "data_df = data_df[list1]\n",
    "data_df.head()"
   ]
  },
  {
   "cell_type": "code",
   "execution_count": 22,
   "metadata": {
    "scrolled": true
   },
   "outputs": [
    {
     "data": {
      "text/plain": [
       "(5780267, 10)"
      ]
     },
     "execution_count": 22,
     "metadata": {},
     "output_type": "execute_result"
    }
   ],
   "source": [
    "data_df.shape"
   ]
  },
  {
   "cell_type": "markdown",
   "metadata": {},
   "source": [
    "# 데이터 로더"
   ]
  },
  {
   "cell_type": "code",
   "execution_count": 23,
   "metadata": {},
   "outputs": [],
   "source": [
    "import torch\n",
    "from torch.utils.data import Dataset,DataLoader\n",
    "from sklearn import preprocessing"
   ]
  },
  {
   "cell_type": "code",
   "execution_count": 24,
   "metadata": {},
   "outputs": [],
   "source": [
    "class BikeDataLoader(Dataset):\n",
    "    def __init__(self,transform = torch.tensor):\n",
    "        x_data = data_df.values\n",
    "        self.Y = y.values\n",
    "        self.X = preprocessing.scale(x_data) \n",
    "        self.len = len(data_df)\n",
    "        self.transform = transform\n",
    "        \n",
    "    def __getitem__(self,index):\n",
    "        return self.transform(self.X[index]),self.transform(self.Y[index])\n",
    "    \n",
    "    def __len__(self):\n",
    "        return self.len"
   ]
  },
  {
   "cell_type": "code",
   "execution_count": 25,
   "metadata": {},
   "outputs": [],
   "source": [
    "dataset = BikeDataLoader()"
   ]
  },
  {
   "cell_type": "code",
   "execution_count": 26,
   "metadata": {
    "scrolled": true
   },
   "outputs": [
    {
     "data": {
      "text/plain": [
       "(tensor([-2.0165, -0.3917, -0.8067,  1.7158, -1.8389, -1.1574,  0.3721, -0.7578,\n",
       "         -0.4763, -0.6809], dtype=torch.float64), tensor(1130.))"
      ]
     },
     "execution_count": 26,
     "metadata": {},
     "output_type": "execute_result"
    }
   ],
   "source": [
    "dataset[0]"
   ]
  },
  {
   "cell_type": "code",
   "execution_count": 27,
   "metadata": {},
   "outputs": [
    {
     "data": {
      "text/plain": [
       "5780267"
      ]
     },
     "execution_count": 27,
     "metadata": {},
     "output_type": "execute_result"
    }
   ],
   "source": [
    "dataset.len"
   ]
  },
  {
   "cell_type": "code",
   "execution_count": 28,
   "metadata": {},
   "outputs": [
    {
     "name": "stdout",
     "output_type": "stream",
     "text": [
      "4624213 1156054\n",
      "4624213 1156054\n"
     ]
    }
   ],
   "source": [
    "# train, validation set 나누기\n",
    "\n",
    "train_val_ratio = 0.8\n",
    "train_size = int(dataset.len*train_val_ratio)\n",
    "val_size = dataset.len - train_size\n",
    "print(train_size, val_size)\n",
    "\n",
    "#datset를 train_size와 val_size의 길이로 나눈다\n",
    "train_dataset,val_dataset = torch.utils.data.random_split(dataset,[train_size,val_size])\n",
    "print(len(train_dataset), len(val_dataset))"
   ]
  },
  {
   "cell_type": "code",
   "execution_count": 29,
   "metadata": {},
   "outputs": [],
   "source": [
    "batch_size = 4096 \n",
    "train_loader = DataLoader(dataset=train_dataset, batch_size=batch_size, shuffle=True)\n",
    "val_loader = DataLoader(dataset=val_dataset, batch_size=batch_size, shuffle=True)"
   ]
  },
  {
   "cell_type": "markdown",
   "metadata": {},
   "source": [
    "# 간단한 MLP 모델"
   ]
  },
  {
   "cell_type": "code",
   "execution_count": 30,
   "metadata": {},
   "outputs": [],
   "source": [
    "from torch import nn\n",
    "from torch.nn import functional as F\n",
    "import torch.optim as optim\n",
    "\n",
    "class Model(nn.Module):\n",
    "    def __init__(self):\n",
    "        super(Model,self).__init__()\n",
    "        self.layer1 = nn.Linear(10,20)\n",
    "        self.layer2 = nn.Linear(20,20)\n",
    "        self.layer3 = nn.Linear(20,20)\n",
    "        self.layer4 = nn.Linear(20,1)\n",
    "        \n",
    "    def forward(self,x):\n",
    "        x_origin = x.float()\n",
    "        x = F.elu(self.layer1(x_origin))\n",
    "        x = F.elu(self.layer2(x))\n",
    "        x = F.elu(self.layer3(x))\n",
    "        x = F.elu(self.layer4(x))\n",
    "        return x.squeeze(-1)"
   ]
  },
  {
   "cell_type": "code",
   "execution_count": 31,
   "metadata": {},
   "outputs": [],
   "source": [
    "model = Model().cuda()\n",
    "criterion = nn.MSELoss() \n",
    "optimizer = torch.optim.Adam(params=model.parameters(), lr=0.001)"
   ]
  },
  {
   "cell_type": "code",
   "execution_count": null,
   "metadata": {
    "scrolled": false
   },
   "outputs": [
    {
     "name": "stdout",
     "output_type": "stream",
     "text": [
      "1 epoch train loss = 10571213.0\n",
      "1 epoch val loss = 7064232.2597173145\n",
      "--------------------------------------------------\n",
      "2 epoch train loss = 6985648.5\n",
      "2 epoch val loss = 6965880.689045937\n",
      "--------------------------------------------------\n",
      "3 epoch train loss = 6947292.0\n",
      "3 epoch val loss = 6952782.019434629\n",
      "--------------------------------------------------\n",
      "4 epoch train loss = 6936038.5\n",
      "4 epoch val loss = 6943330.348056537\n",
      "--------------------------------------------------\n",
      "5 epoch train loss = 6929454.0\n",
      "5 epoch val loss = 6937787.187279152\n",
      "--------------------------------------------------\n",
      "6 epoch train loss = 6925662.0\n",
      "6 epoch val loss = 6936273.443462897\n",
      "--------------------------------------------------\n",
      "7 epoch train loss = 6923141.0\n",
      "7 epoch val loss = 6932452.754416961\n",
      "--------------------------------------------------\n",
      "8 epoch train loss = 6921592.0\n",
      "8 epoch val loss = 6935751.749116608\n",
      "--------------------------------------------------\n",
      "9 epoch train loss = 6920471.0\n",
      "9 epoch val loss = 6932598.955830389\n",
      "--------------------------------------------------\n",
      "10 epoch train loss = 6919719.0\n",
      "10 epoch val loss = 6932208.386925795\n",
      "--------------------------------------------------\n",
      "11 epoch train loss = 6918974.5\n",
      "11 epoch val loss = 6932369.199646643\n",
      "--------------------------------------------------\n",
      "12 epoch train loss = 6918462.5\n",
      "12 epoch val loss = 6930653.503533569\n",
      "--------------------------------------------------\n",
      "13 epoch train loss = 6918025.0\n",
      "13 epoch val loss = 6930745.6254416965\n",
      "--------------------------------------------------\n",
      "14 epoch train loss = 6917495.5\n",
      "14 epoch val loss = 6929774.7985865725\n",
      "--------------------------------------------------\n",
      "15 epoch train loss = 6917210.5\n",
      "15 epoch val loss = 6928245.127208481\n",
      "--------------------------------------------------\n",
      "16 epoch train loss = 6916949.0\n",
      "16 epoch val loss = 6927201.074204947\n",
      "--------------------------------------------------\n",
      "17 epoch train loss = 6916602.5\n",
      "17 epoch val loss = 6929013.46819788\n",
      "--------------------------------------------------\n",
      "18 epoch train loss = 6916304.0\n",
      "18 epoch val loss = 6929396.390459364\n",
      "--------------------------------------------------\n",
      "19 epoch train loss = 6915949.0\n",
      "19 epoch val loss = 6928198.330388692\n",
      "--------------------------------------------------\n",
      "20 epoch train loss = 6915750.5\n",
      "20 epoch val loss = 6926319.537102474\n",
      "--------------------------------------------------\n",
      "21 epoch train loss = 6915464.0\n",
      "21 epoch val loss = 6927914.729681979\n",
      "--------------------------------------------------\n",
      "22 epoch train loss = 6915151.0\n",
      "22 epoch val loss = 6927410.224381626\n",
      "--------------------------------------------------\n",
      "23 epoch train loss = 6914934.5\n",
      "23 epoch val loss = 6925489.316254417\n",
      "--------------------------------------------------\n",
      "24 epoch train loss = 6914723.0\n",
      "24 epoch val loss = 6928942.358657244\n",
      "--------------------------------------------------\n",
      "25 epoch train loss = 6914549.0\n",
      "25 epoch val loss = 6927051.098939929\n",
      "--------------------------------------------------\n",
      "26 epoch train loss = 6914267.0\n",
      "26 epoch val loss = 6924969.455830389\n",
      "--------------------------------------------------\n"
     ]
    }
   ],
   "source": [
    "plot_list = {'train':[], 'val':[]}\n",
    "\n",
    "for epoch in range(50):\n",
    "    model.train()\n",
    "    train_losses = []\n",
    "    for i, data in enumerate(train_loader): # i에는 인덱스 값이, data에는 [inputs과 targets] 이 있다.\n",
    "        inputs, targets = data\n",
    "        inputs, targets = inputs.cuda(), targets.cuda()\n",
    "        \n",
    "        optimizer.zero_grad()\n",
    "        \n",
    "        outputs = model(inputs)\n",
    "        train_loss = criterion(outputs, targets)\n",
    "        train_loss.backward()\n",
    "        optimizer.step()\n",
    "        \n",
    "        train_losses.append(train_loss)\n",
    "        \n",
    "        del data\n",
    "        del inputs\n",
    "    \n",
    "    model.eval()\n",
    "    val_losses = []\n",
    "    for i,data in enumerate(val_loader):\n",
    "        inputs,targets = data\n",
    "        inputs, targets = inputs.cuda(),targets.cuda()\n",
    "            \n",
    "        outputs = model(inputs)\n",
    "        val_loss = criterion(outputs, targets)\n",
    "        \n",
    "        val_losses.append(val_loss.item())\n",
    "    print(f\"{epoch+1} epoch train loss = {sum(train_losses)/len(train_losses)}\")    \n",
    "    print(f\"{epoch+1} epoch val loss = {sum(val_losses)/len(val_losses)}\")\n",
    "    print('-'*50)\n",
    "    plot_list['train'].append(sum(train_losses)/len(train_losses))\n",
    "    plot_list['val'].append(sum(val_losses)/len(val_losses))\n",
    "\n",
    "print('Finished Training')"
   ]
  },
  {
   "cell_type": "code",
   "execution_count": null,
   "metadata": {},
   "outputs": [],
   "source": [
    "print(f'MSE_forest : {MSE_forest}')\n",
    "print(f'MSE_MLP : {sum(val_losses)/len(val_losses)}')"
   ]
  },
  {
   "cell_type": "code",
   "execution_count": null,
   "metadata": {},
   "outputs": [],
   "source": [
    "plt.plot(plot_list['train'])\n",
    "plt.plot(plot_list['val'])\n",
    "plt.legend(['train', 'val'])\n",
    "plt.show()"
   ]
  },
  {
   "cell_type": "code",
   "execution_count": null,
   "metadata": {},
   "outputs": [],
   "source": []
  }
 ],
 "metadata": {
  "kernelspec": {
   "display_name": "Python 3",
   "language": "python",
   "name": "python3"
  },
  "language_info": {
   "codemirror_mode": {
    "name": "ipython",
    "version": 3
   },
   "file_extension": ".py",
   "mimetype": "text/x-python",
   "name": "python",
   "nbconvert_exporter": "python",
   "pygments_lexer": "ipython3",
   "version": "3.7.5"
  },
  "toc": {
   "base_numbering": "1",
   "nav_menu": {},
   "number_sections": true,
   "sideBar": true,
   "skip_h1_title": false,
   "title_cell": "따릉이 주행거리 추천시스템",
   "title_sidebar": "Contents",
   "toc_cell": true,
   "toc_position": {
    "height": "calc(100% - 180px)",
    "left": "10px",
    "top": "150px",
    "width": "165px"
   },
   "toc_section_display": true,
   "toc_window_display": true
  },
  "varInspector": {
   "cols": {
    "lenName": 16,
    "lenType": 16,
    "lenVar": 40
   },
   "kernels_config": {
    "python": {
     "delete_cmd_postfix": "",
     "delete_cmd_prefix": "del ",
     "library": "var_list.py",
     "varRefreshCmd": "print(var_dic_list())"
    },
    "r": {
     "delete_cmd_postfix": ") ",
     "delete_cmd_prefix": "rm(",
     "library": "var_list.r",
     "varRefreshCmd": "cat(var_dic_list()) "
    }
   },
   "types_to_exclude": [
    "module",
    "function",
    "builtin_function_or_method",
    "instance",
    "_Feature"
   ],
   "window_display": false
  }
 },
 "nbformat": 4,
 "nbformat_minor": 2
}
