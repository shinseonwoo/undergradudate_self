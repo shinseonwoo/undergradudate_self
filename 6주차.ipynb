{
 "cells": [
  {
   "cell_type": "code",
   "execution_count": 3,
   "metadata": {},
   "outputs": [],
   "source": [
    "import pandas as pd\n",
    "import matplotlib.pyplot as plt"
   ]
  },
  {
   "cell_type": "code",
   "execution_count": 4,
   "metadata": {},
   "outputs": [
    {
     "data": {
      "text/html": [
       "<div>\n",
       "<style scoped>\n",
       "    .dataframe tbody tr th:only-of-type {\n",
       "        vertical-align: middle;\n",
       "    }\n",
       "\n",
       "    .dataframe tbody tr th {\n",
       "        vertical-align: top;\n",
       "    }\n",
       "\n",
       "    .dataframe thead th {\n",
       "        text-align: right;\n",
       "    }\n",
       "</style>\n",
       "<table border=\"1\" class=\"dataframe\">\n",
       "  <thead>\n",
       "    <tr style=\"text-align: right;\">\n",
       "      <th></th>\n",
       "      <th>ID</th>\n",
       "      <th>Days</th>\n",
       "      <th>Type</th>\n",
       "    </tr>\n",
       "  </thead>\n",
       "  <tbody>\n",
       "    <tr>\n",
       "      <th>0</th>\n",
       "      <td>101</td>\n",
       "      <td>462</td>\n",
       "      <td>1</td>\n",
       "    </tr>\n",
       "    <tr>\n",
       "      <th>1</th>\n",
       "      <td>101</td>\n",
       "      <td>730</td>\n",
       "      <td>1</td>\n",
       "    </tr>\n",
       "    <tr>\n",
       "      <th>2</th>\n",
       "      <td>112</td>\n",
       "      <td>364</td>\n",
       "      <td>1</td>\n",
       "    </tr>\n",
       "    <tr>\n",
       "      <th>3</th>\n",
       "      <td>112</td>\n",
       "      <td>391</td>\n",
       "      <td>1</td>\n",
       "    </tr>\n",
       "    <tr>\n",
       "      <th>4</th>\n",
       "      <td>112</td>\n",
       "      <td>548</td>\n",
       "      <td>1</td>\n",
       "    </tr>\n",
       "    <tr>\n",
       "      <th>...</th>\n",
       "      <td>...</td>\n",
       "      <td>...</td>\n",
       "      <td>...</td>\n",
       "    </tr>\n",
       "    <tr>\n",
       "      <th>74</th>\n",
       "      <td>235</td>\n",
       "      <td>416</td>\n",
       "      <td>2</td>\n",
       "    </tr>\n",
       "    <tr>\n",
       "      <th>75</th>\n",
       "      <td>243</td>\n",
       "      <td>93</td>\n",
       "      <td>2</td>\n",
       "    </tr>\n",
       "    <tr>\n",
       "      <th>76</th>\n",
       "      <td>243</td>\n",
       "      <td>205</td>\n",
       "      <td>2</td>\n",
       "    </tr>\n",
       "    <tr>\n",
       "      <th>77</th>\n",
       "      <td>243</td>\n",
       "      <td>264</td>\n",
       "      <td>2</td>\n",
       "    </tr>\n",
       "    <tr>\n",
       "      <th>78</th>\n",
       "      <td>243</td>\n",
       "      <td>415</td>\n",
       "      <td>2</td>\n",
       "    </tr>\n",
       "  </tbody>\n",
       "</table>\n",
       "<p>79 rows × 3 columns</p>\n",
       "</div>"
      ],
      "text/plain": [
       "     ID  Days  Type\n",
       "0   101   462     1\n",
       "1   101   730     1\n",
       "2   112   364     1\n",
       "3   112   391     1\n",
       "4   112   548     1\n",
       "..  ...   ...   ...\n",
       "74  235   416     2\n",
       "75  243    93     2\n",
       "76  243   205     2\n",
       "77  243   264     2\n",
       "78  243   415     2\n",
       "\n",
       "[79 rows x 3 columns]"
      ]
     },
     "execution_count": 4,
     "metadata": {},
     "output_type": "execute_result"
    }
   ],
   "source": [
    "data=pd.read_excel('신뢰성공학 실습 6주차BrakeReliability.xlsx')\n",
    "data"
   ]
  },
  {
   "cell_type": "code",
   "execution_count": 5,
   "metadata": {},
   "outputs": [],
   "source": [
    "df=data[['Days','Type']]"
   ]
  },
  {
   "cell_type": "code",
   "execution_count": 6,
   "metadata": {},
   "outputs": [
    {
     "data": {
      "text/html": [
       "<div>\n",
       "<style scoped>\n",
       "    .dataframe tbody tr th:only-of-type {\n",
       "        vertical-align: middle;\n",
       "    }\n",
       "\n",
       "    .dataframe tbody tr th {\n",
       "        vertical-align: top;\n",
       "    }\n",
       "\n",
       "    .dataframe thead th {\n",
       "        text-align: right;\n",
       "    }\n",
       "</style>\n",
       "<table border=\"1\" class=\"dataframe\">\n",
       "  <thead>\n",
       "    <tr style=\"text-align: right;\">\n",
       "      <th></th>\n",
       "      <th>Days</th>\n",
       "      <th>Type</th>\n",
       "    </tr>\n",
       "  </thead>\n",
       "  <tbody>\n",
       "    <tr>\n",
       "      <th>0</th>\n",
       "      <td>462</td>\n",
       "      <td>1</td>\n",
       "    </tr>\n",
       "    <tr>\n",
       "      <th>1</th>\n",
       "      <td>730</td>\n",
       "      <td>1</td>\n",
       "    </tr>\n",
       "    <tr>\n",
       "      <th>2</th>\n",
       "      <td>364</td>\n",
       "      <td>1</td>\n",
       "    </tr>\n",
       "    <tr>\n",
       "      <th>3</th>\n",
       "      <td>391</td>\n",
       "      <td>1</td>\n",
       "    </tr>\n",
       "    <tr>\n",
       "      <th>4</th>\n",
       "      <td>548</td>\n",
       "      <td>1</td>\n",
       "    </tr>\n",
       "    <tr>\n",
       "      <th>...</th>\n",
       "      <td>...</td>\n",
       "      <td>...</td>\n",
       "    </tr>\n",
       "    <tr>\n",
       "      <th>74</th>\n",
       "      <td>416</td>\n",
       "      <td>2</td>\n",
       "    </tr>\n",
       "    <tr>\n",
       "      <th>75</th>\n",
       "      <td>93</td>\n",
       "      <td>2</td>\n",
       "    </tr>\n",
       "    <tr>\n",
       "      <th>76</th>\n",
       "      <td>205</td>\n",
       "      <td>2</td>\n",
       "    </tr>\n",
       "    <tr>\n",
       "      <th>77</th>\n",
       "      <td>264</td>\n",
       "      <td>2</td>\n",
       "    </tr>\n",
       "    <tr>\n",
       "      <th>78</th>\n",
       "      <td>415</td>\n",
       "      <td>2</td>\n",
       "    </tr>\n",
       "  </tbody>\n",
       "</table>\n",
       "<p>79 rows × 2 columns</p>\n",
       "</div>"
      ],
      "text/plain": [
       "    Days  Type\n",
       "0    462     1\n",
       "1    730     1\n",
       "2    364     1\n",
       "3    391     1\n",
       "4    548     1\n",
       "..   ...   ...\n",
       "74   416     2\n",
       "75    93     2\n",
       "76   205     2\n",
       "77   264     2\n",
       "78   415     2\n",
       "\n",
       "[79 rows x 2 columns]"
      ]
     },
     "execution_count": 6,
     "metadata": {},
     "output_type": "execute_result"
    }
   ],
   "source": [
    "df"
   ]
  },
  {
   "cell_type": "code",
   "execution_count": 7,
   "metadata": {},
   "outputs": [
    {
     "name": "stdout",
     "output_type": "stream",
     "text": [
      "<class 'pandas.core.frame.DataFrame'>\n",
      "RangeIndex: 79 entries, 0 to 78\n",
      "Data columns (total 2 columns):\n",
      " #   Column  Non-Null Count  Dtype\n",
      "---  ------  --------------  -----\n",
      " 0   Days    79 non-null     int64\n",
      " 1   Type    79 non-null     int64\n",
      "dtypes: int64(2)\n",
      "memory usage: 1.4 KB\n"
     ]
    }
   ],
   "source": [
    "df.info()"
   ]
  },
  {
   "cell_type": "code",
   "execution_count": 10,
   "metadata": {},
   "outputs": [
    {
     "data": {
      "text/html": [
       "<div>\n",
       "<style scoped>\n",
       "    .dataframe tbody tr th:only-of-type {\n",
       "        vertical-align: middle;\n",
       "    }\n",
       "\n",
       "    .dataframe tbody tr th {\n",
       "        vertical-align: top;\n",
       "    }\n",
       "\n",
       "    .dataframe thead th {\n",
       "        text-align: right;\n",
       "    }\n",
       "</style>\n",
       "<table border=\"1\" class=\"dataframe\">\n",
       "  <thead>\n",
       "    <tr style=\"text-align: right;\">\n",
       "      <th></th>\n",
       "      <th>Days</th>\n",
       "      <th>Type</th>\n",
       "    </tr>\n",
       "  </thead>\n",
       "  <tbody>\n",
       "    <tr>\n",
       "      <th>count</th>\n",
       "      <td>79.000000</td>\n",
       "      <td>79.000000</td>\n",
       "    </tr>\n",
       "    <tr>\n",
       "      <th>mean</th>\n",
       "      <td>397.594937</td>\n",
       "      <td>1.518987</td>\n",
       "    </tr>\n",
       "    <tr>\n",
       "      <th>std</th>\n",
       "      <td>207.967238</td>\n",
       "      <td>0.502832</td>\n",
       "    </tr>\n",
       "    <tr>\n",
       "      <th>min</th>\n",
       "      <td>19.000000</td>\n",
       "      <td>1.000000</td>\n",
       "    </tr>\n",
       "    <tr>\n",
       "      <th>25%</th>\n",
       "      <td>246.000000</td>\n",
       "      <td>1.000000</td>\n",
       "    </tr>\n",
       "    <tr>\n",
       "      <th>50%</th>\n",
       "      <td>419.000000</td>\n",
       "      <td>2.000000</td>\n",
       "    </tr>\n",
       "    <tr>\n",
       "      <th>75%</th>\n",
       "      <td>507.000000</td>\n",
       "      <td>2.000000</td>\n",
       "    </tr>\n",
       "    <tr>\n",
       "      <th>max</th>\n",
       "      <td>730.000000</td>\n",
       "      <td>2.000000</td>\n",
       "    </tr>\n",
       "  </tbody>\n",
       "</table>\n",
       "</div>"
      ],
      "text/plain": [
       "             Days       Type\n",
       "count   79.000000  79.000000\n",
       "mean   397.594937   1.518987\n",
       "std    207.967238   0.502832\n",
       "min     19.000000   1.000000\n",
       "25%    246.000000   1.000000\n",
       "50%    419.000000   2.000000\n",
       "75%    507.000000   2.000000\n",
       "max    730.000000   2.000000"
      ]
     },
     "execution_count": 10,
     "metadata": {},
     "output_type": "execute_result"
    }
   ],
   "source": [
    "df.describe()"
   ]
  },
  {
   "cell_type": "code",
   "execution_count": 12,
   "metadata": {},
   "outputs": [
    {
     "data": {
      "image/png": "[encoded data removed]",
      "text/plain": [
       "<Figure size 432x288 with 1 Axes>"
      ]
     },
     "metadata": {
      "needs_background": "light"
     },
     "output_type": "display_data"
    }
   ],
   "source": [
    "plt.hist(df['Days'])\n",
    "plt.show()"
   ]
  },
  {
   "cell_type": "code",
   "execution_count": 13,
   "metadata": {},
   "outputs": [
    {
     "data": {
      "text/plain": [
       "<function matplotlib.pyplot.show(close=None, block=None)>"
      ]
     },
     "execution_count": 13,
     "metadata": {},
     "output_type": "execute_result"
    },
    {
     "data": {
      "image/png": "[encoded data removed]",
      "text/plain": [
       "<Figure size 432x288 with 1 Axes>"
      ]
     },
     "metadata": {
      "needs_background": "light"
     },
     "output_type": "display_data"
    }
   ],
   "source": [
    "plt.hist(df['Type'])\n",
    "plt.show"
   ]
  },
  {
   "cell_type": "code",
   "execution_count": 15,
   "metadata": {},
   "outputs": [
    {
     "name": "stdout",
     "output_type": "stream",
     "text": [
      "Type 1\n",
      "Group \n",
      "     Days  Type\n",
      "0    462     1\n",
      "1    730     1\n",
      "2    364     1\n",
      "3    391     1\n",
      "4    548     1\n",
      "5    724     1\n",
      "6    302     1\n",
      "7    444     1\n",
      "8    500     1\n",
      "9    730     1\n",
      "10   250     1\n",
      "11   500     1\n",
      "12   724     1\n",
      "13    88     1\n",
      "14   724     1\n",
      "15   272     1\n",
      "16   421     1\n",
      "17   552     1\n",
      "18   625     1\n",
      "19   719     1\n",
      "20   481     1\n",
      "21   710     1\n",
      "22   431     1\n",
      "23   710     1\n",
      "24   367     1\n",
      "25   710     1\n",
      "26   635     1\n",
      "27   650     1\n",
      "28   708     1\n",
      "29   402     1\n",
      "30   700     1\n",
      "31    33     1\n",
      "32   687     1\n",
      "33   287     1\n",
      "34   687     1\n",
      "35   317     1\n",
      "36   498     1\n",
      "37   657     1\n"
     ]
    },
    {
     "data": {
      "image/png": "[encoded data removed]",
      "text/plain": [
       "<Figure size 432x288 with 1 Axes>"
      ]
     },
     "metadata": {
      "needs_background": "light"
     },
     "output_type": "display_data"
    },
    {
     "name": "stdout",
     "output_type": "stream",
     "text": [
      "Type 2\n",
      "Group \n",
      "     Days  Type\n",
      "38   203     2\n",
      "39   211     2\n",
      "40   277     2\n",
      "41   373     2\n",
      "42   511     2\n",
      "43   293     2\n",
      "44   503     2\n",
      "45   173     2\n",
      "46   242     2\n",
      "47   464     2\n",
      "48    39     2\n",
      "49    91     2\n",
      "50   119     2\n",
      "51   148     2\n",
      "52   306     2\n",
      "53   461     2\n",
      "54   382     2\n",
      "55   460     2\n",
      "56   250     2\n",
      "57   434     2\n",
      "58   192     2\n",
      "59   448     2\n",
      "60   369     2\n",
      "61   448     2\n",
      "62    22     2\n",
      "63   447     2\n",
      "64    54     2\n",
      "65   441     2\n",
      "66   194     2\n",
      "67   432     2\n",
      "68    61     2\n",
      "69   419     2\n",
      "70    19     2\n",
      "71   185     2\n",
      "72   419     2\n",
      "73   187     2\n",
      "74   416     2\n",
      "75    93     2\n",
      "76   205     2\n",
      "77   264     2\n",
      "78   415     2\n"
     ]
    },
    {
     "data": {
      "image/png": "[encoded data removed]",
      "text/plain": [
       "<Figure size 432x288 with 1 Axes>"
      ]
     },
     "metadata": {
      "needs_background": "light"
     },
     "output_type": "display_data"
    }
   ],
   "source": [
    "grouped=df.groupby('Type')\n",
    "\n",
    "for type_,group in grouped:\n",
    "    print('Type', type_)\n",
    "    print('Group \\n', group)\n",
    "    plt.hist(group['Days'])\n",
    "    plt.title('Type{0} failure histogram'.format(type_))\n",
    "    plt.show()"
   ]
  },
  {
   "cell_type": "code",
   "execution_count": 16,
   "metadata": {},
   "outputs": [
    {
     "data": {
      "text/html": [
       "<div>\n",
       "<style scoped>\n",
       "    .dataframe tbody tr th:only-of-type {\n",
       "        vertical-align: middle;\n",
       "    }\n",
       "\n",
       "    .dataframe tbody tr th {\n",
       "        vertical-align: top;\n",
       "    }\n",
       "\n",
       "    .dataframe thead th {\n",
       "        text-align: right;\n",
       "    }\n",
       "</style>\n",
       "<table border=\"1\" class=\"dataframe\">\n",
       "  <thead>\n",
       "    <tr style=\"text-align: right;\">\n",
       "      <th></th>\n",
       "      <th>Days</th>\n",
       "      <th>Type</th>\n",
       "    </tr>\n",
       "  </thead>\n",
       "  <tbody>\n",
       "    <tr>\n",
       "      <th>0</th>\n",
       "      <td>462</td>\n",
       "      <td>1</td>\n",
       "    </tr>\n",
       "    <tr>\n",
       "      <th>1</th>\n",
       "      <td>730</td>\n",
       "      <td>1</td>\n",
       "    </tr>\n",
       "    <tr>\n",
       "      <th>2</th>\n",
       "      <td>364</td>\n",
       "      <td>1</td>\n",
       "    </tr>\n",
       "    <tr>\n",
       "      <th>3</th>\n",
       "      <td>391</td>\n",
       "      <td>1</td>\n",
       "    </tr>\n",
       "    <tr>\n",
       "      <th>4</th>\n",
       "      <td>548</td>\n",
       "      <td>1</td>\n",
       "    </tr>\n",
       "    <tr>\n",
       "      <th>...</th>\n",
       "      <td>...</td>\n",
       "      <td>...</td>\n",
       "    </tr>\n",
       "    <tr>\n",
       "      <th>74</th>\n",
       "      <td>416</td>\n",
       "      <td>2</td>\n",
       "    </tr>\n",
       "    <tr>\n",
       "      <th>75</th>\n",
       "      <td>93</td>\n",
       "      <td>2</td>\n",
       "    </tr>\n",
       "    <tr>\n",
       "      <th>76</th>\n",
       "      <td>205</td>\n",
       "      <td>2</td>\n",
       "    </tr>\n",
       "    <tr>\n",
       "      <th>77</th>\n",
       "      <td>264</td>\n",
       "      <td>2</td>\n",
       "    </tr>\n",
       "    <tr>\n",
       "      <th>78</th>\n",
       "      <td>415</td>\n",
       "      <td>2</td>\n",
       "    </tr>\n",
       "  </tbody>\n",
       "</table>\n",
       "<p>79 rows × 2 columns</p>\n",
       "</div>"
      ],
      "text/plain": [
       "    Days  Type\n",
       "0    462     1\n",
       "1    730     1\n",
       "2    364     1\n",
       "3    391     1\n",
       "4    548     1\n",
       "..   ...   ...\n",
       "74   416     2\n",
       "75    93     2\n",
       "76   205     2\n",
       "77   264     2\n",
       "78   415     2\n",
       "\n",
       "[79 rows x 2 columns]"
      ]
     },
     "execution_count": 16,
     "metadata": {},
     "output_type": "execute_result"
    }
   ],
   "source": [
    "df"
   ]
  },
  {
   "cell_type": "code",
   "execution_count": 18,
   "metadata": {},
   "outputs": [
    {
     "data": {
      "text/plain": [
       "0     462\n",
       "1     730\n",
       "2     364\n",
       "3     391\n",
       "4     548\n",
       "5     724\n",
       "6     302\n",
       "7     444\n",
       "8     500\n",
       "9     730\n",
       "10    250\n",
       "11    500\n",
       "12    724\n",
       "13     88\n",
       "14    724\n",
       "15    272\n",
       "16    421\n",
       "17    552\n",
       "18    625\n",
       "19    719\n",
       "20    481\n",
       "21    710\n",
       "22    431\n",
       "23    710\n",
       "24    367\n",
       "25    710\n",
       "26    635\n",
       "27    650\n",
       "28    708\n",
       "29    402\n",
       "30    700\n",
       "31     33\n",
       "32    687\n",
       "33    287\n",
       "34    687\n",
       "35    317\n",
       "36    498\n",
       "37    657\n",
       "Name: Days, dtype: int64"
      ]
     },
     "execution_count": 18,
     "metadata": {},
     "output_type": "execute_result"
    }
   ],
   "source": [
    "type_1=df[df['Type']==1]['Days']\n",
    "type_2=df[df['Type']==2]['Days']\n",
    "\n",
    "type_1"
   ]
  },
  {
   "cell_type": "code",
   "execution_count": 20,
   "metadata": {},
   "outputs": [
    {
     "data": {
      "text/plain": [
       "count     41.000000\n",
       "mean     284.634146\n",
       "std      152.521434\n",
       "min       19.000000\n",
       "25%      185.000000\n",
       "50%      277.000000\n",
       "75%      432.000000\n",
       "max      511.000000\n",
       "Name: Days, dtype: float64"
      ]
     },
     "execution_count": 20,
     "metadata": {},
     "output_type": "execute_result"
    }
   ],
   "source": [
    "type_2.describe()"
   ]
  },
  {
   "cell_type": "code",
   "execution_count": 21,
   "metadata": {},
   "outputs": [
    {
     "data": {
      "text/plain": [
       "519.4736842105264"
      ]
     },
     "execution_count": 21,
     "metadata": {},
     "output_type": "execute_result"
    }
   ],
   "source": [
    "type_1_mttf=type_1.describe()['mean']\n",
    "type_2_mttf=type_2.describe()['mean']\n",
    "\n",
    "type_1_mttf"
   ]
  },
  {
   "cell_type": "code",
   "execution_count": 24,
   "metadata": {},
   "outputs": [
    {
     "data": {
      "text/plain": [
       "393.75"
      ]
     },
     "execution_count": 24,
     "metadata": {},
     "output_type": "execute_result"
    }
   ],
   "source": [
    "type_1_b25=type_1.describe()['25%']\n",
    "\n",
    "type_1_b25"
   ]
  },
  {
   "cell_type": "code",
   "execution_count": 32,
   "metadata": {},
   "outputs": [
    {
     "data": {
      "text/html": [
       "<div>\n",
       "<style scoped>\n",
       "    .dataframe tbody tr th:only-of-type {\n",
       "        vertical-align: middle;\n",
       "    }\n",
       "\n",
       "    .dataframe tbody tr th {\n",
       "        vertical-align: top;\n",
       "    }\n",
       "\n",
       "    .dataframe thead th {\n",
       "        text-align: right;\n",
       "    }\n",
       "</style>\n",
       "<table border=\"1\" class=\"dataframe\">\n",
       "  <thead>\n",
       "    <tr style=\"text-align: right;\">\n",
       "      <th></th>\n",
       "      <th>Type1</th>\n",
       "      <th>Type2</th>\n",
       "    </tr>\n",
       "  </thead>\n",
       "  <tbody>\n",
       "    <tr>\n",
       "      <th>(0:50]</th>\n",
       "      <td>1</td>\n",
       "      <td>3</td>\n",
       "    </tr>\n",
       "    <tr>\n",
       "      <th>(50:100]</th>\n",
       "      <td>2</td>\n",
       "      <td>7</td>\n",
       "    </tr>\n",
       "    <tr>\n",
       "      <th>(100:150]</th>\n",
       "      <td>2</td>\n",
       "      <td>9</td>\n",
       "    </tr>\n",
       "    <tr>\n",
       "      <th>(150:200]</th>\n",
       "      <td>2</td>\n",
       "      <td>14</td>\n",
       "    </tr>\n",
       "    <tr>\n",
       "      <th>(200:250]</th>\n",
       "      <td>2</td>\n",
       "      <td>18</td>\n",
       "    </tr>\n",
       "    <tr>\n",
       "      <th>(250:300]</th>\n",
       "      <td>5</td>\n",
       "      <td>22</td>\n",
       "    </tr>\n",
       "    <tr>\n",
       "      <th>(300:350]</th>\n",
       "      <td>7</td>\n",
       "      <td>23</td>\n",
       "    </tr>\n",
       "    <tr>\n",
       "      <th>(350:400]</th>\n",
       "      <td>10</td>\n",
       "      <td>26</td>\n",
       "    </tr>\n",
       "    <tr>\n",
       "      <th>(400:450]</th>\n",
       "      <td>14</td>\n",
       "      <td>36</td>\n",
       "    </tr>\n",
       "    <tr>\n",
       "      <th>(450:500]</th>\n",
       "      <td>17</td>\n",
       "      <td>39</td>\n",
       "    </tr>\n",
       "    <tr>\n",
       "      <th>(500:550]</th>\n",
       "      <td>20</td>\n",
       "      <td>41</td>\n",
       "    </tr>\n",
       "    <tr>\n",
       "      <th>(550:600]</th>\n",
       "      <td>21</td>\n",
       "      <td>41</td>\n",
       "    </tr>\n",
       "    <tr>\n",
       "      <th>(600:650]</th>\n",
       "      <td>23</td>\n",
       "      <td>41</td>\n",
       "    </tr>\n",
       "    <tr>\n",
       "      <th>(650:700]</th>\n",
       "      <td>27</td>\n",
       "      <td>41</td>\n",
       "    </tr>\n",
       "    <tr>\n",
       "      <th>(700:750]</th>\n",
       "      <td>38</td>\n",
       "      <td>41</td>\n",
       "    </tr>\n",
       "  </tbody>\n",
       "</table>\n",
       "</div>"
      ],
      "text/plain": [
       "          Type1 Type2\n",
       "(0:50]        1     3\n",
       "(50:100]      2     7\n",
       "(100:150]     2     9\n",
       "(150:200]     2    14\n",
       "(200:250]     2    18\n",
       "(250:300]     5    22\n",
       "(300:350]     7    23\n",
       "(350:400]    10    26\n",
       "(400:450]    14    36\n",
       "(450:500]    17    39\n",
       "(500:550]    20    41\n",
       "(550:600]    21    41\n",
       "(600:650]    23    41\n",
       "(650:700]    27    41\n",
       "(700:750]    38    41"
      ]
     },
     "execution_count": 32,
     "metadata": {},
     "output_type": "execute_result"
    }
   ],
   "source": [
    "index = ['({0}:{1}]'.format(t,t+50) for t in range(0,750,50)]\n",
    "\n",
    "cdf=pd.DataFrame(index=index, columns=[\"Type1\",'Type2'])\n",
    "\n",
    "\n",
    "for i,t in zip(cdf.index,range(0,750,50)):\n",
    "    cdf.loc[i,'Type1']=sum(type_1<t+50)\n",
    "    cdf.loc[i,'Type2']=sum(type_2<t+50)\n",
    "cdf"
   ]
  },
  {
   "cell_type": "code",
   "execution_count": 33,
   "metadata": {},
   "outputs": [],
   "source": [
    "t=range(0,800,50)\n",
    "\n",
    "type1_Ft=[0] +[x/len(type_1) for x in cdf['Type1']]\n",
    "type2_Ft=[0] +[x/len(type_2) for x in cdf['Type2']]"
   ]
  },
  {
   "cell_type": "code",
   "execution_count": 34,
   "metadata": {},
   "outputs": [
    {
     "data": {
      "image/png": "[encoded data removed]",
      "text/plain": [
       "<Figure size 432x288 with 1 Axes>"
      ]
     },
     "metadata": {
      "needs_background": "light"
     },
     "output_type": "display_data"
    }
   ],
   "source": [
    "plt.plot(t,type1_Ft, color='r', label='Type1')\n",
    "plt.plot(t,type2_Ft, color='g', label='Type2')\n",
    "\n",
    "plt.scatter(t,type1_Ft, color='r')\n",
    "plt.scatter(t,type2_Ft, color='g')\n",
    "\n",
    "plt.title('F(t)')\n",
    "plt.legend()\n",
    "plt.show()"
   ]
  },
  {
   "cell_type": "code",
   "execution_count": 38,
   "metadata": {},
   "outputs": [
    {
     "data": {
      "image/png": "[encoded data removed]",
      "text/plain": [
       "<Figure size 432x288 with 1 Axes>"
      ]
     },
     "metadata": {
      "needs_background": "light"
     },
     "output_type": "display_data"
    }
   ],
   "source": [
    "t=range(0,800,50)\n",
    "\n",
    "type1_Rt=[1] +[1-x/len(type_1) for x in cdf['Type1']]\n",
    "type2_Rt=[1] +[1-x/len(type_2) for x in cdf['Type2']]\n",
    "\n",
    "plt.plot(t,type1_Rt, color='b', label='Type1')\n",
    "plt.plot(t,type2_Rt, color='y', label='Type2')\n",
    "\n",
    "plt.scatter(t,type1_Rt, color='b')\n",
    "plt.scatter(t,type2_Rt, color='y')\n",
    "\n",
    "plt.title('R(t)')\n",
    "plt.legend()\n",
    "plt.show()"
   ]
  },
  {
   "cell_type": "code",
   "execution_count": 44,
   "metadata": {},
   "outputs": [
    {
     "data": {
      "image/png": "[encoded data removed]",
      "text/plain": [
       "<Figure size 432x288 with 1 Axes>"
      ]
     },
     "metadata": {
      "needs_background": "light"
     },
     "output_type": "display_data"
    }
   ],
   "source": [
    "t= [t_+25 for t_ in range(0,750,50)]\n",
    "\n",
    "type1_ft=[cdf.iloc[0,0]/ (len(type_1)*50)]\n",
    "for i in range(1, len(cdf.index)):\n",
    "    type1_ft.append((cdf.iloc[i,0]-cdf.iloc[i-1,0])/len(type_1)*50)\n",
    "\n",
    "    \n",
    "type2_ft=[cdf.iloc[0,1]/ (len(type_2)*50)]\n",
    "for i in range(1, len(cdf.index)):\n",
    "    type2_ft.append((cdf.iloc[i,1]-cdf.iloc[i-1,1])/len(type_2)*50)\n",
    "    \n",
    "\n",
    "plt.plot(t,type1_ft, color='b', label='Type1')\n",
    "plt.plot(t,type2_ft, color='y', label='Type2')\n",
    "\n",
    "plt.scatter(t,type1_ft, color='b')\n",
    "plt.scatter(t,type2_ft, color='y')\n",
    "\n",
    "plt.title('f(t)')\n",
    "plt.legend()\n",
    "plt.show()"
   ]
  },
  {
   "cell_type": "code",
   "execution_count": 51,
   "metadata": {},
   "outputs": [
    {
     "name": "stdout",
     "output_type": "stream",
     "text": [
      "[0.0005263157894736842, 0.0005263157894736842]\n",
      "1\n",
      "[0.0005263157894736842, 0.0005263157894736842, 0.0]\n",
      "1\n",
      "[0.0005263157894736842, 0.0005263157894736842, 0.0, 0.0]\n",
      "1\n",
      "[0.0005263157894736842, 0.0005263157894736842, 0.0, 0.0, 0.0]\n",
      "1\n",
      "[0.0005263157894736842, 0.0005263157894736842, 0.0, 0.0, 0.0, 0.0016216216216216215]\n",
      "4\n",
      "[0.0005263157894736842, 0.0005263157894736842, 0.0, 0.0, 0.0, 0.0016216216216216215, 0.001176470588235294]\n",
      "6\n",
      "[0.0005263157894736842, 0.0005263157894736842, 0.0, 0.0, 0.0, 0.0016216216216216215, 0.001176470588235294, 0.001875]\n",
      "9\n",
      "[0.0005263157894736842, 0.0005263157894736842, 0.0, 0.0, 0.0, 0.0016216216216216215, 0.001176470588235294, 0.001875, 0.002758620689655172]\n",
      "13\n",
      "[0.0005263157894736842, 0.0005263157894736842, 0.0, 0.0, 0.0, 0.0016216216216216215, 0.001176470588235294, 0.001875, 0.002758620689655172, 0.0024]\n",
      "16\n",
      "[0.0005263157894736842, 0.0005263157894736842, 0.0, 0.0, 0.0, 0.0016216216216216215, 0.001176470588235294, 0.001875, 0.002758620689655172, 0.0024, 0.0027272727272727275]\n",
      "19\n",
      "[0.0005263157894736842, 0.0005263157894736842, 0.0, 0.0, 0.0, 0.0016216216216216215, 0.001176470588235294, 0.001875, 0.002758620689655172, 0.0024, 0.0027272727272727275, 0.0010526315789473684]\n",
      "20\n",
      "[0.0005263157894736842, 0.0005263157894736842, 0.0, 0.0, 0.0, 0.0016216216216216215, 0.001176470588235294, 0.001875, 0.002758620689655172, 0.0024, 0.0027272727272727275, 0.0010526315789473684, 0.0022222222222222222]\n",
      "22\n",
      "[0.0005263157894736842, 0.0005263157894736842, 0.0, 0.0, 0.0, 0.0016216216216216215, 0.001176470588235294, 0.001875, 0.002758620689655172, 0.0024, 0.0027272727272727275, 0.0010526315789473684, 0.0022222222222222222, 0.005]\n",
      "26\n",
      "[0.0005263157894736842, 0.0005263157894736842, 0.0, 0.0, 0.0, 0.0016216216216216215, 0.001176470588235294, 0.001875, 0.002758620689655172, 0.0024, 0.0027272727272727275, 0.0010526315789473684, 0.0022222222222222222, 0.005, 0.018333333333333333]\n",
      "37\n",
      "[0.0014634146341463415, 0.001951219512195122]\n",
      "4\n",
      "[0.0014634146341463415, 0.001951219512195122, 0.001081081081081081]\n",
      "6\n",
      "[0.0014634146341463415, 0.001951219512195122, 0.001081081081081081, 0.002857142857142857]\n",
      "11\n",
      "[0.0014634146341463415, 0.001951219512195122, 0.001081081081081081, 0.002857142857142857, 0.0026666666666666666]\n",
      "15\n",
      "[0.0014634146341463415, 0.001951219512195122, 0.001081081081081081, 0.002857142857142857, 0.0026666666666666666, 0.003076923076923077]\n",
      "19\n",
      "[0.0014634146341463415, 0.001951219512195122, 0.001081081081081081, 0.002857142857142857, 0.0026666666666666666, 0.003076923076923077, 0.0009090909090909091]\n",
      "20\n",
      "[0.0014634146341463415, 0.001951219512195122, 0.001081081081081081, 0.002857142857142857, 0.0026666666666666666, 0.003076923076923077, 0.0009090909090909091, 0.002857142857142857]\n",
      "23\n",
      "[0.0014634146341463415, 0.001951219512195122, 0.001081081081081081, 0.002857142857142857, 0.0026666666666666666, 0.003076923076923077, 0.0009090909090909091, 0.002857142857142857, 0.011111111111111112]\n",
      "33\n",
      "[0.0014634146341463415, 0.001951219512195122, 0.001081081081081081, 0.002857142857142857, 0.0026666666666666666, 0.003076923076923077, 0.0009090909090909091, 0.002857142857142857, 0.011111111111111112, 0.0075]\n",
      "36\n",
      "[0.0014634146341463415, 0.001951219512195122, 0.001081081081081081, 0.002857142857142857, 0.0026666666666666666, 0.003076923076923077, 0.0009090909090909091, 0.002857142857142857, 0.011111111111111112, 0.0075, 0.008]\n",
      "38\n",
      "[0.0014634146341463415, 0.001951219512195122, 0.001081081081081081, 0.002857142857142857, 0.0026666666666666666, 0.003076923076923077, 0.0009090909090909091, 0.002857142857142857, 0.011111111111111112, 0.0075, 0.008, 0.0]\n",
      "38\n",
      "[0.0014634146341463415, 0.001951219512195122, 0.001081081081081081, 0.002857142857142857, 0.0026666666666666666, 0.003076923076923077, 0.0009090909090909091, 0.002857142857142857, 0.011111111111111112, 0.0075, 0.008, 0.0, 0.0]\n",
      "38\n",
      "[0.0014634146341463415, 0.001951219512195122, 0.001081081081081081, 0.002857142857142857, 0.0026666666666666666, 0.003076923076923077, 0.0009090909090909091, 0.002857142857142857, 0.011111111111111112, 0.0075, 0.008, 0.0, 0.0, 0.0]\n",
      "38\n",
      "[0.0014634146341463415, 0.001951219512195122, 0.001081081081081081, 0.002857142857142857, 0.0026666666666666666, 0.003076923076923077, 0.0009090909090909091, 0.002857142857142857, 0.011111111111111112, 0.0075, 0.008, 0.0, 0.0, 0.0, 0.0]\n",
      "38\n"
     ]
    }
   ],
   "source": [
    "t= [t_+25 for t_ in range(0,750,50)]\n",
    "\n",
    "type1_failure=0\n",
    "type1_ht =[cdf.iloc[0,0]/((len(type_1)-type1_failure)*50)]\n",
    "\n",
    "for i in range(1,len(cdf.index)):\n",
    "    type1_ht.append((cdf.iloc[i,0]-cdf.iloc[i-1,0])/((len(type_1)-type1_failure)*50))\n",
    "    type1_failure +=cdf.iloc[i,0] - cdf.iloc[i-1,0]\n",
    "    \n",
    "    print(type1_ht)\n",
    "    print(type1_failure)\n",
    "    \n",
    "    \n",
    "type2_failure=0\n",
    "type2_ht =[cdf.iloc[0,1]/((len(type_2)-type2_failure)*50)]\n",
    "\n",
    "for i in range(1,len(cdf.index)):\n",
    "    type2_ht.append((cdf.iloc[i,1]-cdf.iloc[i-1,1])/((len(type_2)-type2_failure)*50))\n",
    "    type2_failure +=cdf.iloc[i,1] - cdf.iloc[i-1,1]\n",
    "       \n",
    "    print(type2_ht)\n",
    "    print(type2_failure)"
   ]
  },
  {
   "cell_type": "code",
   "execution_count": 52,
   "metadata": {},
   "outputs": [
    {
     "data": {
      "image/png": "[encoded data removed]",
      "text/plain": [
       "<Figure size 432x288 with 1 Axes>"
      ]
     },
     "metadata": {
      "needs_background": "light"
     },
     "output_type": "display_data"
    }
   ],
   "source": [
    "plt.plot(t, type1_ht, color = 'r', label='Type 1')\n",
    "plt.plot(t, type2_ht, color = 'b', label='Type 2')\n",
    "\n",
    "plt.scatter(t, type1_ht, color='r')\n",
    "plt.scatter(t, type2_ht, color='b')\n",
    "\n",
    "plt.title('h(t)')\n",
    "plt.legend()\n",
    "plt.show()"
   ]
  },
  {
   "cell_type": "code",
   "execution_count": null,
   "metadata": {},
   "outputs": [],
   "source": []
  }
 ],
 "metadata": {
  "kernelspec": {
   "display_name": "Python 3",
   "language": "python",
   "name": "python3"
  },
  "language_info": {
   "codemirror_mode": {
    "name": "ipython",
    "version": 3
   },
   "file_extension": ".py",
   "mimetype": "text/x-python",
   "name": "python",
   "nbconvert_exporter": "python",
   "pygments_lexer": "ipython3",
   "version": "3.8.5"
  }
 },
 "nbformat": 4,
 "nbformat_minor": 4
}
