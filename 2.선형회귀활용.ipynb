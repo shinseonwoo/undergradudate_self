{
  "nbformat": 4,
  "nbformat_minor": 0,
  "metadata": {
    "colab": {
      "name": "2_선형회귀활용.ipynb",
      "provenance": [],
      "collapsed_sections": [],
      "toc_visible": true,
      "include_colab_link": true
    },
    "kernelspec": {
      "name": "python3",
      "display_name": "Python 3"
    }
  },
  "cells": [
    {
      "cell_type": "markdown",
      "metadata": {
        "id": "view-in-github",
        "colab_type": "text"
      },
      "source": [
        "<a href=\"https://colab.research.google.com/github/Jung0Jin/Pytorch_study/blob/master/2.%EC%84%A0%ED%98%95%ED%9A%8C%EA%B7%80%ED%99%9C%EC%9A%A9.ipynb\" target=\"_parent\"><img src=\"https://colab.research.google.com/assets/colab-badge.svg\" alt=\"Open In Colab\"/></a>"
      ]
    },
    {
      "cell_type": "markdown",
      "metadata": {
        "id": "_Y57p0K6g1O_",
        "colab_type": "text"
      },
      "source": [
        "#2.선형회귀활용\n",
        "\n",
        "공부한 선형회귀를 활용해보자."
      ]
    },
    {
      "cell_type": "code",
      "metadata": {
        "id": "p9M618fsOdz7",
        "colab_type": "code",
        "outputId": "9b7842db-292e-4421-955d-c53aaaf1cafd",
        "colab": {
          "base_uri": "https://localhost:8080/",
          "height": 55
        }
      },
      "source": [
        "from google.colab import drive\n",
        "drive.mount('/content/drive')"
      ],
      "execution_count": 34,
      "outputs": [
        {
          "output_type": "stream",
          "text": [
            "Drive already mounted at /content/drive; to attempt to forcibly remount, call drive.mount(\"/content/drive\", force_remount=True).\n"
          ],
          "name": "stdout"
        }
      ]
    },
    {
      "cell_type": "markdown",
      "metadata": {
        "id": "88FifWEDhAAU",
        "colab_type": "text"
      },
      "source": [
        "##2.1데이터 다운로드"
      ]
    },
    {
      "cell_type": "markdown",
      "metadata": {
        "id": "dZQX9xX4x0l9",
        "colab_type": "text"
      },
      "source": [
        "아래 링크 클릭하면 구글 드라이브에 저장된 데이터가 있다. 눌러서 다운로드 받으면 된다. \n",
        "\n",
        "출처 : https://dacon.io/competitions/open/235576/overview/\n",
        "\n",
        "https://drive.google.com/open?id=1Fr-DRWYo4HqI9Rz57j5Bi16SVkSt7rPA #train.csv\n",
        "\n",
        "https://drive.google.com/open?id=1Jm6ZoJGrC10-P2GK965Nd0vc0NAs07Sx #test.csv\n",
        "\n",
        "https://drive.google.com/open?id=16SI0RPmqyBnOn-bZqtUv95NKKsLJcpS5 #submission.csv\n"
      ]
    },
    {
      "cell_type": "markdown",
      "metadata": {
        "id": "IkL3843WynQF",
        "colab_type": "text"
      },
      "source": [
        "##2.2 데이터 불러오기"
      ]
    },
    {
      "cell_type": "markdown",
      "metadata": {
        "id": "clB5Ulwc3DIJ",
        "colab_type": "text"
      },
      "source": [
        "*   데이터 설명\n",
        "\n",
        ">2017년 4월 1일부터, 5월 31일까지 시간별로 서울시 따릉이 대여수와 기상상황 데이터가 주어집니다. 각 날짜의 1시간 전의 기상상황을 가지고 1시간 후의 따릉이 대여수를 예측해보세요. \n",
        "\n",
        "*   특징 데이터 (10개)\n",
        "\n",
        "> id : 고유 id\n",
        "\n",
        "> hour : 시간\n",
        "\n",
        "> temperature : 기온\n",
        "\n",
        "> precipitation : 비가 오지 않았으면 0, 비가 오면 1\n",
        "\n",
        "> windspeed : 풍속(평균)\n",
        "\n",
        "> humidity : 습도\n",
        "\n",
        "> visibility : 가시 거리\n",
        "\n",
        "> ozone : 오존\n",
        "\n",
        "> pm10 : 미세먼지\n",
        "\n",
        "> pm2.5 : 미세먼지\n",
        "\n",
        "* 타겟 데이터 (1개)\n",
        "\n",
        "> count : 시간에 따른 따릉이 대여 수"
      ]
    },
    {
      "cell_type": "code",
      "metadata": {
        "id": "E0l3BO5YypMH",
        "colab_type": "code",
        "colab": {}
      },
      "source": [
        "import pandas as pd\n",
        "import numpy as np\n",
        "import matplotlib.pyplot as plt\n",
        "import seaborn as sns"
      ],
      "execution_count": 0,
      "outputs": []
    },
    {
      "cell_type": "code",
      "metadata": {
        "id": "HsSmQtNw0grI",
        "colab_type": "code",
        "outputId": "e60b2b92-2c7c-4e6d-cafd-cfd83c445871",
        "colab": {
          "base_uri": "https://localhost:8080/",
          "height": 224
        }
      },
      "source": [
        "train = pd.read_csv('/content/drive/My Drive/데이터/데이콘 따릉이 데이터/train.csv')\n",
        "train.fillna(train.mean(), inplace=True)\n",
        "train.head()"
      ],
      "execution_count": 36,
      "outputs": [
        {
          "output_type": "execute_result",
          "data": {
            "text/html": [
              "<div>\n",
              "<style scoped>\n",
              "    .dataframe tbody tr th:only-of-type {\n",
              "        vertical-align: middle;\n",
              "    }\n",
              "\n",
              "    .dataframe tbody tr th {\n",
              "        vertical-align: top;\n",
              "    }\n",
              "\n",
              "    .dataframe thead th {\n",
              "        text-align: right;\n",
              "    }\n",
              "</style>\n",
              "<table border=\"1\" class=\"dataframe\">\n",
              "  <thead>\n",
              "    <tr style=\"text-align: right;\">\n",
              "      <th></th>\n",
              "      <th>id</th>\n",
              "      <th>hour</th>\n",
              "      <th>hour_bef_temperature</th>\n",
              "      <th>hour_bef_precipitation</th>\n",
              "      <th>hour_bef_windspeed</th>\n",
              "      <th>hour_bef_humidity</th>\n",
              "      <th>hour_bef_visibility</th>\n",
              "      <th>hour_bef_ozone</th>\n",
              "      <th>hour_bef_pm10</th>\n",
              "      <th>hour_bef_pm2.5</th>\n",
              "      <th>count</th>\n",
              "    </tr>\n",
              "  </thead>\n",
              "  <tbody>\n",
              "    <tr>\n",
              "      <th>0</th>\n",
              "      <td>3</td>\n",
              "      <td>20</td>\n",
              "      <td>16.3</td>\n",
              "      <td>1.0</td>\n",
              "      <td>1.5</td>\n",
              "      <td>89.0</td>\n",
              "      <td>576.0</td>\n",
              "      <td>0.027</td>\n",
              "      <td>76.0</td>\n",
              "      <td>33.0</td>\n",
              "      <td>49.0</td>\n",
              "    </tr>\n",
              "    <tr>\n",
              "      <th>1</th>\n",
              "      <td>6</td>\n",
              "      <td>13</td>\n",
              "      <td>20.1</td>\n",
              "      <td>0.0</td>\n",
              "      <td>1.4</td>\n",
              "      <td>48.0</td>\n",
              "      <td>916.0</td>\n",
              "      <td>0.042</td>\n",
              "      <td>73.0</td>\n",
              "      <td>40.0</td>\n",
              "      <td>159.0</td>\n",
              "    </tr>\n",
              "    <tr>\n",
              "      <th>2</th>\n",
              "      <td>7</td>\n",
              "      <td>6</td>\n",
              "      <td>13.9</td>\n",
              "      <td>0.0</td>\n",
              "      <td>0.7</td>\n",
              "      <td>79.0</td>\n",
              "      <td>1382.0</td>\n",
              "      <td>0.033</td>\n",
              "      <td>32.0</td>\n",
              "      <td>19.0</td>\n",
              "      <td>26.0</td>\n",
              "    </tr>\n",
              "    <tr>\n",
              "      <th>3</th>\n",
              "      <td>8</td>\n",
              "      <td>23</td>\n",
              "      <td>8.1</td>\n",
              "      <td>0.0</td>\n",
              "      <td>2.7</td>\n",
              "      <td>54.0</td>\n",
              "      <td>946.0</td>\n",
              "      <td>0.040</td>\n",
              "      <td>75.0</td>\n",
              "      <td>64.0</td>\n",
              "      <td>57.0</td>\n",
              "    </tr>\n",
              "    <tr>\n",
              "      <th>4</th>\n",
              "      <td>9</td>\n",
              "      <td>18</td>\n",
              "      <td>29.5</td>\n",
              "      <td>0.0</td>\n",
              "      <td>4.8</td>\n",
              "      <td>7.0</td>\n",
              "      <td>2000.0</td>\n",
              "      <td>0.057</td>\n",
              "      <td>27.0</td>\n",
              "      <td>11.0</td>\n",
              "      <td>431.0</td>\n",
              "    </tr>\n",
              "  </tbody>\n",
              "</table>\n",
              "</div>"
            ],
            "text/plain": [
              "   id  hour  hour_bef_temperature  ...  hour_bef_pm10  hour_bef_pm2.5  count\n",
              "0   3    20                  16.3  ...           76.0            33.0   49.0\n",
              "1   6    13                  20.1  ...           73.0            40.0  159.0\n",
              "2   7     6                  13.9  ...           32.0            19.0   26.0\n",
              "3   8    23                   8.1  ...           75.0            64.0   57.0\n",
              "4   9    18                  29.5  ...           27.0            11.0  431.0\n",
              "\n",
              "[5 rows x 11 columns]"
            ]
          },
          "metadata": {
            "tags": []
          },
          "execution_count": 36
        }
      ]
    },
    {
      "cell_type": "code",
      "metadata": {
        "id": "VxuKQNni24fF",
        "colab_type": "code",
        "outputId": "1afe0b5c-8a92-4c90-950b-cf484ab12309",
        "colab": {
          "base_uri": "https://localhost:8080/",
          "height": 224
        }
      },
      "source": [
        "test = pd.read_csv('/content/drive/My Drive/데이터/데이콘 따릉이 데이터/test.csv')\n",
        "test.fillna(test.mean(), inplace=True)\n",
        "test.head()"
      ],
      "execution_count": 37,
      "outputs": [
        {
          "output_type": "execute_result",
          "data": {
            "text/html": [
              "<div>\n",
              "<style scoped>\n",
              "    .dataframe tbody tr th:only-of-type {\n",
              "        vertical-align: middle;\n",
              "    }\n",
              "\n",
              "    .dataframe tbody tr th {\n",
              "        vertical-align: top;\n",
              "    }\n",
              "\n",
              "    .dataframe thead th {\n",
              "        text-align: right;\n",
              "    }\n",
              "</style>\n",
              "<table border=\"1\" class=\"dataframe\">\n",
              "  <thead>\n",
              "    <tr style=\"text-align: right;\">\n",
              "      <th></th>\n",
              "      <th>id</th>\n",
              "      <th>hour</th>\n",
              "      <th>hour_bef_temperature</th>\n",
              "      <th>hour_bef_precipitation</th>\n",
              "      <th>hour_bef_windspeed</th>\n",
              "      <th>hour_bef_humidity</th>\n",
              "      <th>hour_bef_visibility</th>\n",
              "      <th>hour_bef_ozone</th>\n",
              "      <th>hour_bef_pm10</th>\n",
              "      <th>hour_bef_pm2.5</th>\n",
              "    </tr>\n",
              "  </thead>\n",
              "  <tbody>\n",
              "    <tr>\n",
              "      <th>0</th>\n",
              "      <td>0</td>\n",
              "      <td>7</td>\n",
              "      <td>20.7</td>\n",
              "      <td>0.0</td>\n",
              "      <td>1.3</td>\n",
              "      <td>62.0</td>\n",
              "      <td>954.0</td>\n",
              "      <td>0.041</td>\n",
              "      <td>44.0</td>\n",
              "      <td>27.0</td>\n",
              "    </tr>\n",
              "    <tr>\n",
              "      <th>1</th>\n",
              "      <td>1</td>\n",
              "      <td>17</td>\n",
              "      <td>30.0</td>\n",
              "      <td>0.0</td>\n",
              "      <td>5.4</td>\n",
              "      <td>33.0</td>\n",
              "      <td>1590.0</td>\n",
              "      <td>0.061</td>\n",
              "      <td>49.0</td>\n",
              "      <td>36.0</td>\n",
              "    </tr>\n",
              "    <tr>\n",
              "      <th>2</th>\n",
              "      <td>2</td>\n",
              "      <td>13</td>\n",
              "      <td>19.0</td>\n",
              "      <td>1.0</td>\n",
              "      <td>2.1</td>\n",
              "      <td>95.0</td>\n",
              "      <td>193.0</td>\n",
              "      <td>0.020</td>\n",
              "      <td>36.0</td>\n",
              "      <td>28.0</td>\n",
              "    </tr>\n",
              "    <tr>\n",
              "      <th>3</th>\n",
              "      <td>4</td>\n",
              "      <td>6</td>\n",
              "      <td>22.5</td>\n",
              "      <td>0.0</td>\n",
              "      <td>2.5</td>\n",
              "      <td>60.0</td>\n",
              "      <td>1185.0</td>\n",
              "      <td>0.027</td>\n",
              "      <td>52.0</td>\n",
              "      <td>38.0</td>\n",
              "    </tr>\n",
              "    <tr>\n",
              "      <th>4</th>\n",
              "      <td>5</td>\n",
              "      <td>22</td>\n",
              "      <td>14.6</td>\n",
              "      <td>1.0</td>\n",
              "      <td>3.4</td>\n",
              "      <td>93.0</td>\n",
              "      <td>218.0</td>\n",
              "      <td>0.041</td>\n",
              "      <td>18.0</td>\n",
              "      <td>15.0</td>\n",
              "    </tr>\n",
              "  </tbody>\n",
              "</table>\n",
              "</div>"
            ],
            "text/plain": [
              "   id  hour  ...  hour_bef_pm10  hour_bef_pm2.5\n",
              "0   0     7  ...           44.0            27.0\n",
              "1   1    17  ...           49.0            36.0\n",
              "2   2    13  ...           36.0            28.0\n",
              "3   4     6  ...           52.0            38.0\n",
              "4   5    22  ...           18.0            15.0\n",
              "\n",
              "[5 rows x 10 columns]"
            ]
          },
          "metadata": {
            "tags": []
          },
          "execution_count": 37
        }
      ]
    },
    {
      "cell_type": "code",
      "metadata": {
        "id": "jvPF6sae3Old",
        "colab_type": "code",
        "outputId": "abfdd340-0259-472a-b30a-cee3e44ec0df",
        "colab": {
          "base_uri": "https://localhost:8080/",
          "height": 35
        }
      },
      "source": [
        "print(train.shape, test.shape)"
      ],
      "execution_count": 38,
      "outputs": [
        {
          "output_type": "stream",
          "text": [
            "(1459, 11) (715, 10)\n"
          ],
          "name": "stdout"
        }
      ]
    },
    {
      "cell_type": "code",
      "metadata": {
        "id": "DRUIjNdxbzAy",
        "colab_type": "code",
        "outputId": "8f56e906-f3c8-4362-9201-bffb86d59201",
        "colab": {
          "base_uri": "https://localhost:8080/",
          "height": 317
        }
      },
      "source": [
        "train.describe()"
      ],
      "execution_count": 39,
      "outputs": [
        {
          "output_type": "execute_result",
          "data": {
            "text/html": [
              "<div>\n",
              "<style scoped>\n",
              "    .dataframe tbody tr th:only-of-type {\n",
              "        vertical-align: middle;\n",
              "    }\n",
              "\n",
              "    .dataframe tbody tr th {\n",
              "        vertical-align: top;\n",
              "    }\n",
              "\n",
              "    .dataframe thead th {\n",
              "        text-align: right;\n",
              "    }\n",
              "</style>\n",
              "<table border=\"1\" class=\"dataframe\">\n",
              "  <thead>\n",
              "    <tr style=\"text-align: right;\">\n",
              "      <th></th>\n",
              "      <th>id</th>\n",
              "      <th>hour</th>\n",
              "      <th>hour_bef_temperature</th>\n",
              "      <th>hour_bef_precipitation</th>\n",
              "      <th>hour_bef_windspeed</th>\n",
              "      <th>hour_bef_humidity</th>\n",
              "      <th>hour_bef_visibility</th>\n",
              "      <th>hour_bef_ozone</th>\n",
              "      <th>hour_bef_pm10</th>\n",
              "      <th>hour_bef_pm2.5</th>\n",
              "      <th>count</th>\n",
              "    </tr>\n",
              "  </thead>\n",
              "  <tbody>\n",
              "    <tr>\n",
              "      <th>count</th>\n",
              "      <td>1459.000000</td>\n",
              "      <td>1459.000000</td>\n",
              "      <td>1459.000000</td>\n",
              "      <td>1459.000000</td>\n",
              "      <td>1459.000000</td>\n",
              "      <td>1459.000000</td>\n",
              "      <td>1459.000000</td>\n",
              "      <td>1459.000000</td>\n",
              "      <td>1459.000000</td>\n",
              "      <td>1459.000000</td>\n",
              "      <td>1459.000000</td>\n",
              "    </tr>\n",
              "    <tr>\n",
              "      <th>mean</th>\n",
              "      <td>1105.914325</td>\n",
              "      <td>11.493489</td>\n",
              "      <td>16.717433</td>\n",
              "      <td>0.031572</td>\n",
              "      <td>2.479034</td>\n",
              "      <td>52.231297</td>\n",
              "      <td>1405.216884</td>\n",
              "      <td>0.039149</td>\n",
              "      <td>57.168736</td>\n",
              "      <td>30.327124</td>\n",
              "      <td>108.563400</td>\n",
              "    </tr>\n",
              "    <tr>\n",
              "      <th>std</th>\n",
              "      <td>631.338681</td>\n",
              "      <td>6.922790</td>\n",
              "      <td>5.235555</td>\n",
              "      <td>0.174797</td>\n",
              "      <td>1.374005</td>\n",
              "      <td>20.356410</td>\n",
              "      <td>582.731618</td>\n",
              "      <td>0.018994</td>\n",
              "      <td>30.774814</td>\n",
              "      <td>14.110562</td>\n",
              "      <td>82.631733</td>\n",
              "    </tr>\n",
              "    <tr>\n",
              "      <th>min</th>\n",
              "      <td>3.000000</td>\n",
              "      <td>0.000000</td>\n",
              "      <td>3.100000</td>\n",
              "      <td>0.000000</td>\n",
              "      <td>0.000000</td>\n",
              "      <td>7.000000</td>\n",
              "      <td>78.000000</td>\n",
              "      <td>0.003000</td>\n",
              "      <td>9.000000</td>\n",
              "      <td>8.000000</td>\n",
              "      <td>1.000000</td>\n",
              "    </tr>\n",
              "    <tr>\n",
              "      <th>25%</th>\n",
              "      <td>555.500000</td>\n",
              "      <td>5.500000</td>\n",
              "      <td>12.800000</td>\n",
              "      <td>0.000000</td>\n",
              "      <td>1.400000</td>\n",
              "      <td>36.000000</td>\n",
              "      <td>880.000000</td>\n",
              "      <td>0.026000</td>\n",
              "      <td>37.000000</td>\n",
              "      <td>21.000000</td>\n",
              "      <td>37.000000</td>\n",
              "    </tr>\n",
              "    <tr>\n",
              "      <th>50%</th>\n",
              "      <td>1115.000000</td>\n",
              "      <td>11.000000</td>\n",
              "      <td>16.600000</td>\n",
              "      <td>0.000000</td>\n",
              "      <td>2.400000</td>\n",
              "      <td>51.000000</td>\n",
              "      <td>1576.000000</td>\n",
              "      <td>0.039149</td>\n",
              "      <td>53.000000</td>\n",
              "      <td>28.000000</td>\n",
              "      <td>96.000000</td>\n",
              "    </tr>\n",
              "    <tr>\n",
              "      <th>75%</th>\n",
              "      <td>1651.000000</td>\n",
              "      <td>17.500000</td>\n",
              "      <td>20.050000</td>\n",
              "      <td>0.000000</td>\n",
              "      <td>3.400000</td>\n",
              "      <td>68.500000</td>\n",
              "      <td>1994.000000</td>\n",
              "      <td>0.051000</td>\n",
              "      <td>68.000000</td>\n",
              "      <td>36.000000</td>\n",
              "      <td>150.000000</td>\n",
              "    </tr>\n",
              "    <tr>\n",
              "      <th>max</th>\n",
              "      <td>2179.000000</td>\n",
              "      <td>23.000000</td>\n",
              "      <td>30.000000</td>\n",
              "      <td>1.000000</td>\n",
              "      <td>8.000000</td>\n",
              "      <td>99.000000</td>\n",
              "      <td>2000.000000</td>\n",
              "      <td>0.125000</td>\n",
              "      <td>269.000000</td>\n",
              "      <td>90.000000</td>\n",
              "      <td>431.000000</td>\n",
              "    </tr>\n",
              "  </tbody>\n",
              "</table>\n",
              "</div>"
            ],
            "text/plain": [
              "                id         hour  ...  hour_bef_pm2.5        count\n",
              "count  1459.000000  1459.000000  ...     1459.000000  1459.000000\n",
              "mean   1105.914325    11.493489  ...       30.327124   108.563400\n",
              "std     631.338681     6.922790  ...       14.110562    82.631733\n",
              "min       3.000000     0.000000  ...        8.000000     1.000000\n",
              "25%     555.500000     5.500000  ...       21.000000    37.000000\n",
              "50%    1115.000000    11.000000  ...       28.000000    96.000000\n",
              "75%    1651.000000    17.500000  ...       36.000000   150.000000\n",
              "max    2179.000000    23.000000  ...       90.000000   431.000000\n",
              "\n",
              "[8 rows x 11 columns]"
            ]
          },
          "metadata": {
            "tags": []
          },
          "execution_count": 39
        }
      ]
    },
    {
      "cell_type": "code",
      "metadata": {
        "id": "sauiKjh5ddAc",
        "colab_type": "code",
        "outputId": "951d64a8-900f-44d3-8843-49ba5ac67343",
        "colab": {
          "base_uri": "https://localhost:8080/",
          "height": 297
        }
      },
      "source": [
        "# count 값의 분포를 확인하자.\n",
        "sns.distplot(train['count'])"
      ],
      "execution_count": 40,
      "outputs": [
        {
          "output_type": "execute_result",
          "data": {
            "text/plain": [
              "<matplotlib.axes._subplots.AxesSubplot at 0x7f6779c5fdd8>"
            ]
          },
          "metadata": {
            "tags": []
          },
          "execution_count": 40
        },
        {
          "output_type": "display_data",
          "data": {
            "image/png": "[encoded data removed]",
            "text/plain": [
              "<Figure size 432x288 with 1 Axes>"
            ]
          },
          "metadata": {
            "tags": [],
            "needs_background": "light"
          }
        }
      ]
    },
    {
      "cell_type": "code",
      "metadata": {
        "id": "MMBtOUHHdr8s",
        "colab_type": "code",
        "outputId": "5ce39cd1-a381-4bc2-c5c0-d21d34217bc1",
        "colab": {
          "base_uri": "https://localhost:8080/",
          "height": 53
        }
      },
      "source": [
        "# count 값 중 이상치를 제외시킨다.\n",
        "# IQR = Q3-Q1 이다. Q1-(1.5*IQR) 보다 작거나, Q3+(1.5*IQR)보다 크면 이상치로 볼 수 있다.\n",
        "\n",
        "temp=train['count'].values\n",
        "q1 = np.percentile(temp, 25)\n",
        "q3 = np.percentile(temp, 75)\n",
        "iqr = q3-q1\n",
        "print(q1-iqr*1.5)\n",
        "print(q3+iqr*1.5)\n"
      ],
      "execution_count": 41,
      "outputs": [
        {
          "output_type": "stream",
          "text": [
            "-132.5\n",
            "319.5\n"
          ],
          "name": "stdout"
        }
      ]
    },
    {
      "cell_type": "code",
      "metadata": {
        "id": "2DVzHjWQeWQl",
        "colab_type": "code",
        "outputId": "09c59aa0-de3a-443b-ba9b-d171d4d11469",
        "colab": {
          "base_uri": "https://localhost:8080/",
          "height": 297
        }
      },
      "source": [
        "# 319.5 보다 큰 값은 이상치로 보이므로 지우겠다.\n",
        "train = train[train['count']<q3+iqr*1.5]\n",
        "sns.distplot(train['count'])"
      ],
      "execution_count": 42,
      "outputs": [
        {
          "output_type": "execute_result",
          "data": {
            "text/plain": [
              "<matplotlib.axes._subplots.AxesSubplot at 0x7f6779b95f60>"
            ]
          },
          "metadata": {
            "tags": []
          },
          "execution_count": 42
        },
        {
          "output_type": "display_data",
          "data": {
            "image/png": "[encoded data removed]",
            "text/plain": [
              "<Figure size 432x288 with 1 Axes>"
            ]
          },
          "metadata": {
            "tags": [],
            "needs_background": "light"
          }
        }
      ]
    },
    {
      "cell_type": "code",
      "metadata": {
        "id": "X3DF-5U2T89S",
        "colab_type": "code",
        "outputId": "555f4f4e-bcb5-4e3d-edb9-4bcc8c377ad5",
        "colab": {
          "base_uri": "https://localhost:8080/",
          "height": 265
        }
      },
      "source": [
        "# hour가 시간 값이라서 이걸 처리해야하는데 어떻게 해주지?\n",
        "plt.plot(train.groupby('hour').mean().index, train.groupby('hour').mean()['count'])\n",
        "plt.show()"
      ],
      "execution_count": 43,
      "outputs": [
        {
          "output_type": "display_data",
          "data": {
            "image/png": "[encoded data removed]",
            "text/plain": [
              "<Figure size 432x288 with 1 Axes>"
            ]
          },
          "metadata": {
            "tags": [],
            "needs_background": "light"
          }
        }
      ]
    },
    {
      "cell_type": "code",
      "metadata": {
        "id": "zr7f1LwLVmkF",
        "colab_type": "code",
        "outputId": "2d1baab5-46e6-4ebf-fd76-597cdc8d4656",
        "colab": {
          "base_uri": "https://localhost:8080/",
          "height": 485
        }
      },
      "source": [
        " train.groupby('hour').mean()['count']"
      ],
      "execution_count": 44,
      "outputs": [
        {
          "output_type": "execute_result",
          "data": {
            "text/plain": [
              "hour\n",
              "0      71.766667\n",
              "1      47.606557\n",
              "2      31.409836\n",
              "3      21.377049\n",
              "4      13.524590\n",
              "5      13.114754\n",
              "6      24.557377\n",
              "7      62.360656\n",
              "8     136.688525\n",
              "9      93.540984\n",
              "10     78.803279\n",
              "11     88.327869\n",
              "12    111.901639\n",
              "13    120.050000\n",
              "14    134.590164\n",
              "15    149.716667\n",
              "16    159.561404\n",
              "17    184.813559\n",
              "18    227.130435\n",
              "19    194.965517\n",
              "20    164.868852\n",
              "21    168.816667\n",
              "22    148.245902\n",
              "23    103.852459\n",
              "Name: count, dtype: float64"
            ]
          },
          "metadata": {
            "tags": []
          },
          "execution_count": 44
        }
      ]
    },
    {
      "cell_type": "code",
      "metadata": {
        "id": "QvMoAuhgVvIe",
        "colab_type": "code",
        "colab": {}
      },
      "source": [
        "# count값이 평균보다 낮으면 0을, 높으면 1로 바꿔주자.\n",
        "\n",
        "# train['new_hour']=0\n",
        "\n",
        "# for i,v in enumerate(train.groupby('hour').mean()['count']):\n",
        "#   if  v <  train.groupby('hour').mean()['count'].mean():\n",
        "#     print(i)\n",
        "#     train.loc[train['hour']==i, 'new_hour']=0\n",
        "#     train.loc[train['hour']!=i, 'new_hour']=1\n",
        "\n",
        "# train = train.drop('hour', axis=1)\n",
        "# train.head()\n",
        "\n",
        "# 해봤는데 성능이 별로여서 안한다."
      ],
      "execution_count": 0,
      "outputs": []
    },
    {
      "cell_type": "code",
      "metadata": {
        "id": "doksYw_6fSBp",
        "colab_type": "code",
        "outputId": "abd480fc-a5f2-409b-941f-7314d4211faa",
        "colab": {
          "base_uri": "https://localhost:8080/",
          "height": 410
        }
      },
      "source": [
        "# 상관관계를 확인하자.\n",
        "train.corr()"
      ],
      "execution_count": 46,
      "outputs": [
        {
          "output_type": "execute_result",
          "data": {
            "text/html": [
              "<div>\n",
              "<style scoped>\n",
              "    .dataframe tbody tr th:only-of-type {\n",
              "        vertical-align: middle;\n",
              "    }\n",
              "\n",
              "    .dataframe tbody tr th {\n",
              "        vertical-align: top;\n",
              "    }\n",
              "\n",
              "    .dataframe thead th {\n",
              "        text-align: right;\n",
              "    }\n",
              "</style>\n",
              "<table border=\"1\" class=\"dataframe\">\n",
              "  <thead>\n",
              "    <tr style=\"text-align: right;\">\n",
              "      <th></th>\n",
              "      <th>id</th>\n",
              "      <th>hour</th>\n",
              "      <th>hour_bef_temperature</th>\n",
              "      <th>hour_bef_precipitation</th>\n",
              "      <th>hour_bef_windspeed</th>\n",
              "      <th>hour_bef_humidity</th>\n",
              "      <th>hour_bef_visibility</th>\n",
              "      <th>hour_bef_ozone</th>\n",
              "      <th>hour_bef_pm10</th>\n",
              "      <th>hour_bef_pm2.5</th>\n",
              "      <th>count</th>\n",
              "    </tr>\n",
              "  </thead>\n",
              "  <tbody>\n",
              "    <tr>\n",
              "      <th>id</th>\n",
              "      <td>1.000000</td>\n",
              "      <td>-0.008108</td>\n",
              "      <td>0.003231</td>\n",
              "      <td>-0.057448</td>\n",
              "      <td>0.003874</td>\n",
              "      <td>-0.026223</td>\n",
              "      <td>0.015976</td>\n",
              "      <td>0.057215</td>\n",
              "      <td>-0.030530</td>\n",
              "      <td>-0.003905</td>\n",
              "      <td>0.011063</td>\n",
              "    </tr>\n",
              "    <tr>\n",
              "      <th>hour</th>\n",
              "      <td>-0.008108</td>\n",
              "      <td>1.000000</td>\n",
              "      <td>0.395551</td>\n",
              "      <td>0.024380</td>\n",
              "      <td>0.454815</td>\n",
              "      <td>-0.320500</td>\n",
              "      <td>0.167067</td>\n",
              "      <td>0.360112</td>\n",
              "      <td>-0.028371</td>\n",
              "      <td>-0.052034</td>\n",
              "      <td>0.635935</td>\n",
              "    </tr>\n",
              "    <tr>\n",
              "      <th>hour_bef_temperature</th>\n",
              "      <td>0.003231</td>\n",
              "      <td>0.395551</td>\n",
              "      <td>1.000000</td>\n",
              "      <td>-0.094747</td>\n",
              "      <td>0.363864</td>\n",
              "      <td>-0.485955</td>\n",
              "      <td>0.185481</td>\n",
              "      <td>0.514197</td>\n",
              "      <td>0.004772</td>\n",
              "      <td>-0.069711</td>\n",
              "      <td>0.602330</td>\n",
              "    </tr>\n",
              "    <tr>\n",
              "      <th>hour_bef_precipitation</th>\n",
              "      <td>-0.057448</td>\n",
              "      <td>0.024380</td>\n",
              "      <td>-0.094747</td>\n",
              "      <td>1.000000</td>\n",
              "      <td>0.026296</td>\n",
              "      <td>0.276727</td>\n",
              "      <td>-0.216394</td>\n",
              "      <td>-0.057810</td>\n",
              "      <td>-0.049762</td>\n",
              "      <td>0.003195</td>\n",
              "      <td>-0.168228</td>\n",
              "    </tr>\n",
              "    <tr>\n",
              "      <th>hour_bef_windspeed</th>\n",
              "      <td>0.003874</td>\n",
              "      <td>0.454815</td>\n",
              "      <td>0.363864</td>\n",
              "      <td>0.026296</td>\n",
              "      <td>1.000000</td>\n",
              "      <td>-0.423090</td>\n",
              "      <td>0.241311</td>\n",
              "      <td>0.505478</td>\n",
              "      <td>0.017403</td>\n",
              "      <td>-0.184920</td>\n",
              "      <td>0.446111</td>\n",
              "    </tr>\n",
              "    <tr>\n",
              "      <th>hour_bef_humidity</th>\n",
              "      <td>-0.026223</td>\n",
              "      <td>-0.320500</td>\n",
              "      <td>-0.485955</td>\n",
              "      <td>0.276727</td>\n",
              "      <td>-0.423090</td>\n",
              "      <td>1.000000</td>\n",
              "      <td>-0.589359</td>\n",
              "      <td>-0.401610</td>\n",
              "      <td>-0.114203</td>\n",
              "      <td>0.152419</td>\n",
              "      <td>-0.460279</td>\n",
              "    </tr>\n",
              "    <tr>\n",
              "      <th>hour_bef_visibility</th>\n",
              "      <td>0.015976</td>\n",
              "      <td>0.167067</td>\n",
              "      <td>0.185481</td>\n",
              "      <td>-0.216394</td>\n",
              "      <td>0.241311</td>\n",
              "      <td>-0.589359</td>\n",
              "      <td>1.000000</td>\n",
              "      <td>0.090078</td>\n",
              "      <td>-0.386198</td>\n",
              "      <td>-0.610812</td>\n",
              "      <td>0.284057</td>\n",
              "    </tr>\n",
              "    <tr>\n",
              "      <th>hour_bef_ozone</th>\n",
              "      <td>0.057215</td>\n",
              "      <td>0.360112</td>\n",
              "      <td>0.514197</td>\n",
              "      <td>-0.057810</td>\n",
              "      <td>0.505478</td>\n",
              "      <td>-0.401610</td>\n",
              "      <td>0.090078</td>\n",
              "      <td>1.000000</td>\n",
              "      <td>0.119325</td>\n",
              "      <td>0.019924</td>\n",
              "      <td>0.448136</td>\n",
              "    </tr>\n",
              "    <tr>\n",
              "      <th>hour_bef_pm10</th>\n",
              "      <td>-0.030530</td>\n",
              "      <td>-0.028371</td>\n",
              "      <td>0.004772</td>\n",
              "      <td>-0.049762</td>\n",
              "      <td>0.017403</td>\n",
              "      <td>-0.114203</td>\n",
              "      <td>-0.386198</td>\n",
              "      <td>0.119325</td>\n",
              "      <td>1.000000</td>\n",
              "      <td>0.471372</td>\n",
              "      <td>-0.099186</td>\n",
              "    </tr>\n",
              "    <tr>\n",
              "      <th>hour_bef_pm2.5</th>\n",
              "      <td>-0.003905</td>\n",
              "      <td>-0.052034</td>\n",
              "      <td>-0.069711</td>\n",
              "      <td>0.003195</td>\n",
              "      <td>-0.184920</td>\n",
              "      <td>0.152419</td>\n",
              "      <td>-0.610812</td>\n",
              "      <td>0.019924</td>\n",
              "      <td>0.471372</td>\n",
              "      <td>1.000000</td>\n",
              "      <td>-0.118022</td>\n",
              "    </tr>\n",
              "    <tr>\n",
              "      <th>count</th>\n",
              "      <td>0.011063</td>\n",
              "      <td>0.635935</td>\n",
              "      <td>0.602330</td>\n",
              "      <td>-0.168228</td>\n",
              "      <td>0.446111</td>\n",
              "      <td>-0.460279</td>\n",
              "      <td>0.284057</td>\n",
              "      <td>0.448136</td>\n",
              "      <td>-0.099186</td>\n",
              "      <td>-0.118022</td>\n",
              "      <td>1.000000</td>\n",
              "    </tr>\n",
              "  </tbody>\n",
              "</table>\n",
              "</div>"
            ],
            "text/plain": [
              "                              id      hour  ...  hour_bef_pm2.5     count\n",
              "id                      1.000000 -0.008108  ...       -0.003905  0.011063\n",
              "hour                   -0.008108  1.000000  ...       -0.052034  0.635935\n",
              "hour_bef_temperature    0.003231  0.395551  ...       -0.069711  0.602330\n",
              "hour_bef_precipitation -0.057448  0.024380  ...        0.003195 -0.168228\n",
              "hour_bef_windspeed      0.003874  0.454815  ...       -0.184920  0.446111\n",
              "hour_bef_humidity      -0.026223 -0.320500  ...        0.152419 -0.460279\n",
              "hour_bef_visibility     0.015976  0.167067  ...       -0.610812  0.284057\n",
              "hour_bef_ozone          0.057215  0.360112  ...        0.019924  0.448136\n",
              "hour_bef_pm10          -0.030530 -0.028371  ...        0.471372 -0.099186\n",
              "hour_bef_pm2.5         -0.003905 -0.052034  ...        1.000000 -0.118022\n",
              "count                   0.011063  0.635935  ...       -0.118022  1.000000\n",
              "\n",
              "[11 rows x 11 columns]"
            ]
          },
          "metadata": {
            "tags": []
          },
          "execution_count": 46
        }
      ]
    },
    {
      "cell_type": "code",
      "metadata": {
        "id": "ONCWNN57fzXQ",
        "colab_type": "code",
        "outputId": "0062bac0-c5e6-4204-e2fa-592d00e79a7e",
        "colab": {
          "base_uri": "https://localhost:8080/",
          "height": 924
        }
      },
      "source": [
        "plt.figure(figsize=(15,15))\n",
        "sns.heatmap(data = train.corr(), annot=True, \n",
        "fmt = '.2f', linewidths=.5, cmap='Blues')"
      ],
      "execution_count": 47,
      "outputs": [
        {
          "output_type": "execute_result",
          "data": {
            "text/plain": [
              "<matplotlib.axes._subplots.AxesSubplot at 0x7f6779af1710>"
            ]
          },
          "metadata": {
            "tags": []
          },
          "execution_count": 47
        },
        {
          "output_type": "display_data",
          "data": {
            "image/png": "[encoded data removed]",
            "text/plain": [
              "<Figure size 1080x1080 with 2 Axes>"
            ]
          },
          "metadata": {
            "tags": [],
            "needs_background": "light"
          }
        }
      ]
    },
    {
      "cell_type": "markdown",
      "metadata": {
        "id": "Nf5fGnBwlZLw",
        "colab_type": "text"
      },
      "source": [
        "r이 -1.0과 -0.7 사이이면, 강한 음적 선형관계,\n",
        "\n",
        "r이 -0.7과 -0.3 사이이면, 뚜렷한 음적 선형관계,\n",
        "\n",
        "r이 -0.3과 -0.1 사이이면, 약한 음적 선형관계,\n",
        "\n",
        "r이 -0.1과 +0.1 사이이면, 거의 무시될 수 있는 선형관계,\n",
        "\n",
        "r이 +0.1과 +0.3 사이이면, 약한 양적 선형관계,\n",
        "\n",
        "r이 +0.3과 +0.7 사이이면, 뚜렷한 양적 선형관계,\n",
        "\n",
        "r이 +0.7과 +1.0 사이이면, 강한 양적 선형관계\n"
      ]
    },
    {
      "cell_type": "code",
      "metadata": {
        "id": "fv1_mRoyl7Zx",
        "colab_type": "code",
        "outputId": "a6be792f-52c0-40b5-ceb3-f8693e0695f4",
        "colab": {
          "base_uri": "https://localhost:8080/",
          "height": 35
        }
      },
      "source": [
        "# 상관계수의 절댓값이 0.1 보다 낮은 특성을 찾자.\n",
        "temp = []\n",
        "for i, v in enumerate(train.corr()['count']):\n",
        "  if abs(v) < 0.1:\n",
        "    temp.append(train.corr()['count'].index[i])\n",
        "temp"
      ],
      "execution_count": 48,
      "outputs": [
        {
          "output_type": "execute_result",
          "data": {
            "text/plain": [
              "['id', 'hour_bef_pm10']"
            ]
          },
          "metadata": {
            "tags": []
          },
          "execution_count": 48
        }
      ]
    },
    {
      "cell_type": "code",
      "metadata": {
        "id": "2bUSr7yjpbGn",
        "colab_type": "code",
        "outputId": "d4e1624f-2ae4-4de1-8b9c-a3fa9e98764f",
        "colab": {
          "base_uri": "https://localhost:8080/",
          "height": 224
        }
      },
      "source": [
        "# 상관계수의 절대값이 0.1 보다 낮은 특성은 버리자.\n",
        "train = train.drop(temp, axis=1)\n",
        "train.head()"
      ],
      "execution_count": 49,
      "outputs": [
        {
          "output_type": "execute_result",
          "data": {
            "text/html": [
              "<div>\n",
              "<style scoped>\n",
              "    .dataframe tbody tr th:only-of-type {\n",
              "        vertical-align: middle;\n",
              "    }\n",
              "\n",
              "    .dataframe tbody tr th {\n",
              "        vertical-align: top;\n",
              "    }\n",
              "\n",
              "    .dataframe thead th {\n",
              "        text-align: right;\n",
              "    }\n",
              "</style>\n",
              "<table border=\"1\" class=\"dataframe\">\n",
              "  <thead>\n",
              "    <tr style=\"text-align: right;\">\n",
              "      <th></th>\n",
              "      <th>hour</th>\n",
              "      <th>hour_bef_temperature</th>\n",
              "      <th>hour_bef_precipitation</th>\n",
              "      <th>hour_bef_windspeed</th>\n",
              "      <th>hour_bef_humidity</th>\n",
              "      <th>hour_bef_visibility</th>\n",
              "      <th>hour_bef_ozone</th>\n",
              "      <th>hour_bef_pm2.5</th>\n",
              "      <th>count</th>\n",
              "    </tr>\n",
              "  </thead>\n",
              "  <tbody>\n",
              "    <tr>\n",
              "      <th>0</th>\n",
              "      <td>20</td>\n",
              "      <td>16.3</td>\n",
              "      <td>1.0</td>\n",
              "      <td>1.5</td>\n",
              "      <td>89.0</td>\n",
              "      <td>576.0</td>\n",
              "      <td>0.027</td>\n",
              "      <td>33.0</td>\n",
              "      <td>49.0</td>\n",
              "    </tr>\n",
              "    <tr>\n",
              "      <th>1</th>\n",
              "      <td>13</td>\n",
              "      <td>20.1</td>\n",
              "      <td>0.0</td>\n",
              "      <td>1.4</td>\n",
              "      <td>48.0</td>\n",
              "      <td>916.0</td>\n",
              "      <td>0.042</td>\n",
              "      <td>40.0</td>\n",
              "      <td>159.0</td>\n",
              "    </tr>\n",
              "    <tr>\n",
              "      <th>2</th>\n",
              "      <td>6</td>\n",
              "      <td>13.9</td>\n",
              "      <td>0.0</td>\n",
              "      <td>0.7</td>\n",
              "      <td>79.0</td>\n",
              "      <td>1382.0</td>\n",
              "      <td>0.033</td>\n",
              "      <td>19.0</td>\n",
              "      <td>26.0</td>\n",
              "    </tr>\n",
              "    <tr>\n",
              "      <th>3</th>\n",
              "      <td>23</td>\n",
              "      <td>8.1</td>\n",
              "      <td>0.0</td>\n",
              "      <td>2.7</td>\n",
              "      <td>54.0</td>\n",
              "      <td>946.0</td>\n",
              "      <td>0.040</td>\n",
              "      <td>64.0</td>\n",
              "      <td>57.0</td>\n",
              "    </tr>\n",
              "    <tr>\n",
              "      <th>5</th>\n",
              "      <td>2</td>\n",
              "      <td>13.6</td>\n",
              "      <td>0.0</td>\n",
              "      <td>1.7</td>\n",
              "      <td>80.0</td>\n",
              "      <td>1073.0</td>\n",
              "      <td>0.027</td>\n",
              "      <td>15.0</td>\n",
              "      <td>39.0</td>\n",
              "    </tr>\n",
              "  </tbody>\n",
              "</table>\n",
              "</div>"
            ],
            "text/plain": [
              "   hour  hour_bef_temperature  ...  hour_bef_pm2.5  count\n",
              "0    20                  16.3  ...            33.0   49.0\n",
              "1    13                  20.1  ...            40.0  159.0\n",
              "2     6                  13.9  ...            19.0   26.0\n",
              "3    23                   8.1  ...            64.0   57.0\n",
              "5     2                  13.6  ...            15.0   39.0\n",
              "\n",
              "[5 rows x 9 columns]"
            ]
          },
          "metadata": {
            "tags": []
          },
          "execution_count": 49
        }
      ]
    },
    {
      "cell_type": "code",
      "metadata": {
        "id": "5Z7BzRn9FQx7",
        "colab_type": "code",
        "outputId": "b3166ca4-f9be-46b0-a35e-b29592757179",
        "colab": {
          "base_uri": "https://localhost:8080/",
          "height": 224
        }
      },
      "source": [
        "# 모델에 넣을 특성들을 정규화를 시켜주자.\n",
        "x_temp = train.drop(['count'], axis=1)\n",
        "x_temp = x_temp.apply(lambda x: (x - x.mean()) / x.std())\n",
        "x_temp.head()"
      ],
      "execution_count": 50,
      "outputs": [
        {
          "output_type": "execute_result",
          "data": {
            "text/html": [
              "<div>\n",
              "<style scoped>\n",
              "    .dataframe tbody tr th:only-of-type {\n",
              "        vertical-align: middle;\n",
              "    }\n",
              "\n",
              "    .dataframe tbody tr th {\n",
              "        vertical-align: top;\n",
              "    }\n",
              "\n",
              "    .dataframe thead th {\n",
              "        text-align: right;\n",
              "    }\n",
              "</style>\n",
              "<table border=\"1\" class=\"dataframe\">\n",
              "  <thead>\n",
              "    <tr style=\"text-align: right;\">\n",
              "      <th></th>\n",
              "      <th>hour</th>\n",
              "      <th>hour_bef_temperature</th>\n",
              "      <th>hour_bef_precipitation</th>\n",
              "      <th>hour_bef_windspeed</th>\n",
              "      <th>hour_bef_humidity</th>\n",
              "      <th>hour_bef_visibility</th>\n",
              "      <th>hour_bef_ozone</th>\n",
              "      <th>hour_bef_pm2.5</th>\n",
              "    </tr>\n",
              "  </thead>\n",
              "  <tbody>\n",
              "    <tr>\n",
              "      <th>0</th>\n",
              "      <td>1.241490</td>\n",
              "      <td>-0.056044</td>\n",
              "      <td>5.494998</td>\n",
              "      <td>-0.698938</td>\n",
              "      <td>1.796103</td>\n",
              "      <td>-1.408743</td>\n",
              "      <td>-0.626707</td>\n",
              "      <td>0.181971</td>\n",
              "    </tr>\n",
              "    <tr>\n",
              "      <th>1</th>\n",
              "      <td>0.231662</td>\n",
              "      <td>0.680281</td>\n",
              "      <td>-0.182107</td>\n",
              "      <td>-0.772140</td>\n",
              "      <td>-0.225428</td>\n",
              "      <td>-0.825915</td>\n",
              "      <td>0.173526</td>\n",
              "      <td>0.676559</td>\n",
              "    </tr>\n",
              "    <tr>\n",
              "      <th>2</th>\n",
              "      <td>-0.778167</td>\n",
              "      <td>-0.521091</td>\n",
              "      <td>-0.182107</td>\n",
              "      <td>-1.284551</td>\n",
              "      <td>1.303047</td>\n",
              "      <td>-0.027098</td>\n",
              "      <td>-0.306614</td>\n",
              "      <td>-0.807204</td>\n",
              "    </tr>\n",
              "    <tr>\n",
              "      <th>3</th>\n",
              "      <td>1.674274</td>\n",
              "      <td>-1.644955</td>\n",
              "      <td>-0.182107</td>\n",
              "      <td>0.179481</td>\n",
              "      <td>0.070406</td>\n",
              "      <td>-0.774489</td>\n",
              "      <td>0.066828</td>\n",
              "      <td>2.372287</td>\n",
              "    </tr>\n",
              "    <tr>\n",
              "      <th>5</th>\n",
              "      <td>-1.355212</td>\n",
              "      <td>-0.579222</td>\n",
              "      <td>-0.182107</td>\n",
              "      <td>-0.552535</td>\n",
              "      <td>1.352352</td>\n",
              "      <td>-0.556786</td>\n",
              "      <td>-0.626707</td>\n",
              "      <td>-1.089826</td>\n",
              "    </tr>\n",
              "  </tbody>\n",
              "</table>\n",
              "</div>"
            ],
            "text/plain": [
              "       hour  hour_bef_temperature  ...  hour_bef_ozone  hour_bef_pm2.5\n",
              "0  1.241490             -0.056044  ...       -0.626707        0.181971\n",
              "1  0.231662              0.680281  ...        0.173526        0.676559\n",
              "2 -0.778167             -0.521091  ...       -0.306614       -0.807204\n",
              "3  1.674274             -1.644955  ...        0.066828        2.372287\n",
              "5 -1.355212             -0.579222  ...       -0.626707       -1.089826\n",
              "\n",
              "[5 rows x 8 columns]"
            ]
          },
          "metadata": {
            "tags": []
          },
          "execution_count": 50
        }
      ]
    },
    {
      "cell_type": "code",
      "metadata": {
        "id": "rNM5bDelefnP",
        "colab_type": "code",
        "outputId": "52b722e8-cb6a-4293-e5fd-e16d7d24a1fc",
        "colab": {
          "base_uri": "https://localhost:8080/",
          "height": 35
        }
      },
      "source": [
        "# 데이터프레임 형식은 텐서로 못 바꾼다. 어레이로 만들어 주자.\n",
        "x = x_temp.values \n",
        "y = train[['count']].values\n",
        "\n",
        "print(x.shape, y.shape)"
      ],
      "execution_count": 51,
      "outputs": [
        {
          "output_type": "stream",
          "text": [
            "(1436, 8) (1436, 1)\n"
          ],
          "name": "stdout"
        }
      ]
    },
    {
      "cell_type": "markdown",
      "metadata": {
        "id": "b0Dw70b_ku-j",
        "colab_type": "text"
      },
      "source": [
        "##2.3 커스텀 데이터셋 만들기"
      ]
    },
    {
      "cell_type": "code",
      "metadata": {
        "id": "9w0-UkMG54Q_",
        "colab_type": "code",
        "colab": {}
      },
      "source": [
        "import torch\n",
        "import torch.nn as nn\n",
        "import torch.nn.functional as F\n",
        "import torch.optim as optim\n",
        "\n",
        "from torch.utils.data import Dataset\n",
        "from torch.utils.data import DataLoader"
      ],
      "execution_count": 0,
      "outputs": []
    },
    {
      "cell_type": "code",
      "metadata": {
        "id": "gONd5Hil7iQW",
        "colab_type": "code",
        "colab": {}
      },
      "source": [
        "class MyDataset(Dataset):\n",
        "  #데이터셋의 전처리를 해주는 부분\n",
        "  def __init__(self):\n",
        "    self.x_data = torch.tensor(x, dtype=torch.float)\n",
        "    self.y_data = torch.tensor(y, dtype=torch.float)\n",
        "    \n",
        "  #데이터셋의 길이, 즉 총 샘플의 수를 적어주는 부분\n",
        "  def __len__(self):\n",
        "    return len(self.x_data)\n",
        "  \n",
        "  #데이터셋에서 특정 1개의 샘플을 가져오는 함수\n",
        "  def __getitem__(self, idx):\n",
        "    x = self.x_data[idx]\n",
        "    y = self.y_data[idx]\n",
        "    return x, y"
      ],
      "execution_count": 0,
      "outputs": []
    },
    {
      "cell_type": "code",
      "metadata": {
        "id": "RBoQn1tD8Vpc",
        "colab_type": "code",
        "colab": {}
      },
      "source": [
        "dataset = MyDataset()"
      ],
      "execution_count": 0,
      "outputs": []
    },
    {
      "cell_type": "code",
      "metadata": {
        "id": "bl5QJfP69Cpn",
        "colab_type": "code",
        "outputId": "be55247c-1890-48fe-fe68-c1b9b33c67e8",
        "colab": {
          "base_uri": "https://localhost:8080/",
          "height": 53
        }
      },
      "source": [
        "# train set 와 validation set로 나누는 비율 정하기\n",
        "\n",
        "train_val_ratio = 0.8\n",
        "train_size = int(len(dataset) * train_val_ratio)\n",
        "val_size = len(dataset) - train_size\n",
        "print(train_size, val_size)\n",
        "\n",
        "# train set와 validation set로 나누자\n",
        "\n",
        "train_dataset, val_dataset = torch.utils.data.random_split(dataset, [train_size, val_size])\n",
        "print(len(train_dataset), len(val_dataset))"
      ],
      "execution_count": 55,
      "outputs": [
        {
          "output_type": "stream",
          "text": [
            "1148 288\n",
            "1148 288\n"
          ],
          "name": "stdout"
        }
      ]
    },
    {
      "cell_type": "code",
      "metadata": {
        "id": "N-m74j2b9ztg",
        "colab_type": "code",
        "colab": {}
      },
      "source": [
        "train_loader = DataLoader(dataset=train_dataset, batch_size=len(train_dataset), shuffle=True)\n",
        "val_loader = DataLoader(dataset=val_dataset, batch_size=len(val_dataset), shuffle=True)"
      ],
      "execution_count": 0,
      "outputs": []
    },
    {
      "cell_type": "markdown",
      "metadata": {
        "id": "brACwgpvk1Jv",
        "colab_type": "text"
      },
      "source": [
        "##2.4 모델 학습하기"
      ]
    },
    {
      "cell_type": "code",
      "metadata": {
        "id": "6-T5EN0G-vzf",
        "colab_type": "code",
        "outputId": "02be6f8a-70bf-43db-be32-06b9965610d7",
        "colab": {
          "base_uri": "https://localhost:8080/",
          "height": 809
        }
      },
      "source": [
        "model = nn.Linear(8,1) \n",
        "optimizer = optim.SGD(model.parameters(), lr=0.01)\n",
        "\n",
        "nb_epochs = 1000\n",
        "train_losses = []\n",
        "val_losses = []\n",
        "for epoch in range(nb_epochs+1):\n",
        "  for x_train, y_train in train_loader:\n",
        "    \n",
        "    # H(x) 계산\n",
        "    prediction = model(x_train)\n",
        "\n",
        "    # cost 계산\n",
        "    cost = F.mse_loss(prediction, y_train)\n",
        "\n",
        "    # cost로 H(x) 계산\n",
        "    optimizer.zero_grad()\n",
        "    cost.backward()\n",
        "    optimizer.step()\n",
        "    train_losses.append(cost.item())\n",
        "    if epoch % (nb_epochs/10) == 0:\n",
        "      print(f'Epoch : {epoch}/{nb_epochs}')\n",
        "      print(f'Train Cost : {cost.item()}')\n",
        "\n",
        "  for x_val, y_val in val_loader:\n",
        "    prediction = model(x_val)\n",
        "    cost = F.mse_loss(prediction, y_val)\n",
        "    val_losses.append(cost.item())\n",
        "    if epoch % (nb_epochs/10) == 0:\n",
        "      print(f'Validation Cost : {cost.item()}')\n",
        "      print('-'*50)"
      ],
      "execution_count": 58,
      "outputs": [
        {
          "output_type": "stream",
          "text": [
            "Epoch : 0/1000\n",
            "Train Cost : 16562.044921875\n",
            "Validation Cost : 16914.072265625\n",
            "--------------------------------------------------\n",
            "Epoch : 100/1000\n",
            "Train Cost : 2617.67431640625\n",
            "Validation Cost : 2881.0283203125\n",
            "--------------------------------------------------\n",
            "Epoch : 200/1000\n",
            "Train Cost : 2382.25634765625\n",
            "Validation Cost : 2603.067626953125\n",
            "--------------------------------------------------\n",
            "Epoch : 300/1000\n",
            "Train Cost : 2374.220458984375\n",
            "Validation Cost : 2589.42529296875\n",
            "--------------------------------------------------\n",
            "Epoch : 400/1000\n",
            "Train Cost : 2373.449951171875\n",
            "Validation Cost : 2587.7861328125\n",
            "--------------------------------------------------\n",
            "Epoch : 500/1000\n",
            "Train Cost : 2373.244140625\n",
            "Validation Cost : 2587.3251953125\n",
            "--------------------------------------------------\n",
            "Epoch : 600/1000\n",
            "Train Cost : 2373.1591796875\n",
            "Validation Cost : 2587.095947265625\n",
            "--------------------------------------------------\n",
            "Epoch : 700/1000\n",
            "Train Cost : 2373.11865234375\n",
            "Validation Cost : 2586.958740234375\n",
            "--------------------------------------------------\n",
            "Epoch : 800/1000\n",
            "Train Cost : 2373.100341796875\n",
            "Validation Cost : 2586.87255859375\n",
            "--------------------------------------------------\n",
            "Epoch : 900/1000\n",
            "Train Cost : 2373.0908203125\n",
            "Validation Cost : 2586.8173828125\n",
            "--------------------------------------------------\n",
            "Epoch : 1000/1000\n",
            "Train Cost : 2373.0869140625\n",
            "Validation Cost : 2586.782470703125\n",
            "--------------------------------------------------\n"
          ],
          "name": "stdout"
        }
      ]
    },
    {
      "cell_type": "code",
      "metadata": {
        "id": "fh4D0keUAE_8",
        "colab_type": "code",
        "outputId": "5754db2c-937c-45d0-ad57-af5033fa46a7",
        "colab": {
          "base_uri": "https://localhost:8080/",
          "height": 265
        }
      },
      "source": [
        "plt.plot(train_losses, label='train')\n",
        "plt.plot(val_losses, label='val')\n",
        "plt.legend()\n",
        "plt.show()"
      ],
      "execution_count": 59,
      "outputs": [
        {
          "output_type": "display_data",
          "data": {
            "image/png": "[encoded data removed]",
            "text/plain": [
              "<Figure size 432x288 with 1 Axes>"
            ]
          },
          "metadata": {
            "tags": [],
            "needs_background": "light"
          }
        }
      ]
    },
    {
      "cell_type": "markdown",
      "metadata": {
        "id": "FG8yS-jOpeUl",
        "colab_type": "text"
      },
      "source": [
        "##2.5 예측하기"
      ]
    },
    {
      "cell_type": "code",
      "metadata": {
        "id": "cs-ckNPr0Dc1",
        "colab_type": "code",
        "outputId": "07694ccd-d210-475b-c77b-5ae83fa09e61",
        "colab": {
          "base_uri": "https://localhost:8080/",
          "height": 89
        }
      },
      "source": [
        "train.columns"
      ],
      "execution_count": 60,
      "outputs": [
        {
          "output_type": "execute_result",
          "data": {
            "text/plain": [
              "Index(['hour', 'hour_bef_temperature', 'hour_bef_precipitation',\n",
              "       'hour_bef_windspeed', 'hour_bef_humidity', 'hour_bef_visibility',\n",
              "       'hour_bef_ozone', 'hour_bef_pm2.5', 'count'],\n",
              "      dtype='object')"
            ]
          },
          "metadata": {
            "tags": []
          },
          "execution_count": 60
        }
      ]
    },
    {
      "cell_type": "code",
      "metadata": {
        "id": "t9AdARXAo74g",
        "colab_type": "code",
        "colab": {
          "base_uri": "https://localhost:8080/",
          "height": 89
        },
        "outputId": "c17b1329-3b69-4424-ba17-9695d2b48c67"
      },
      "source": [
        "test.columns"
      ],
      "execution_count": 61,
      "outputs": [
        {
          "output_type": "execute_result",
          "data": {
            "text/plain": [
              "Index(['id', 'hour', 'hour_bef_temperature', 'hour_bef_precipitation',\n",
              "       'hour_bef_windspeed', 'hour_bef_humidity', 'hour_bef_visibility',\n",
              "       'hour_bef_ozone', 'hour_bef_pm10', 'hour_bef_pm2.5'],\n",
              "      dtype='object')"
            ]
          },
          "metadata": {
            "tags": []
          },
          "execution_count": 61
        }
      ]
    },
    {
      "cell_type": "code",
      "metadata": {
        "id": "PYcaeIIspiMf",
        "colab_type": "code",
        "colab": {}
      },
      "source": [
        "x_test = test.drop(temp, axis=1)\n",
        "x_test = x_test.apply(lambda x: (x - x.mean()) / x.std())\n",
        "x_test = x_test.values\n",
        "x_test = torch.tensor(x_test, dtype=torch.float)"
      ],
      "execution_count": 0,
      "outputs": []
    },
    {
      "cell_type": "code",
      "metadata": {
        "id": "8E5ZYJelrVOp",
        "colab_type": "code",
        "colab": {}
      },
      "source": [
        "prediction = model(x_test)\n",
        "# prediction 은 tensor 값이므로 어레이 형식으로 바꿔준다.\n",
        "prediction = prediction.detach().numpy()"
      ],
      "execution_count": 0,
      "outputs": []
    },
    {
      "cell_type": "markdown",
      "metadata": {
        "id": "aZQ0toUvk4JX",
        "colab_type": "text"
      },
      "source": [
        "##2.6 submission 만들기"
      ]
    },
    {
      "cell_type": "code",
      "metadata": {
        "id": "UPAxdyHhkTCI",
        "colab_type": "code",
        "colab": {}
      },
      "source": [
        "submission = pd.DataFrame(data=prediction, columns=['count'])\n",
        "submission['id'] = test['id']\n",
        "submission = submission.set_index('id')\n",
        "submission.to_csv('my_submission.csv', index=True)"
      ],
      "execution_count": 0,
      "outputs": []
    },
    {
      "cell_type": "markdown",
      "metadata": {
        "id": "02JdNBp_tUZy",
        "colab_type": "text"
      },
      "source": [
        "##2.7 랜덤포레스트랑 비교하기"
      ]
    },
    {
      "cell_type": "code",
      "metadata": {
        "id": "Mlz5waXol-R8",
        "colab_type": "code",
        "outputId": "81c82725-dcd4-4f82-ac26-4ebe39698982",
        "colab": {
          "base_uri": "https://localhost:8080/",
          "height": 73
        }
      },
      "source": [
        "from sklearn.model_selection import train_test_split\n",
        "x_train, x_val, y_train, y_val = train_test_split(x, y, test_size=0.2, random_state=42)\n",
        "\n",
        "from sklearn.ensemble import RandomForestRegressor\n",
        "\n",
        "model_forest = RandomForestRegressor(random_state=42)\n",
        "model_forest.fit(x_train, y_train)\n",
        "\n",
        "y_val_pred = model_forest.predict(x_val)\n",
        "\n",
        "from sklearn.metrics import mean_squared_error\n",
        "MSE_forest = mean_squared_error(y_val, y_val_pred)"
      ],
      "execution_count": 65,
      "outputs": [
        {
          "output_type": "stream",
          "text": [
            "/usr/local/lib/python3.6/dist-packages/ipykernel_launcher.py:7: DataConversionWarning: A column-vector y was passed when a 1d array was expected. Please change the shape of y to (n_samples,), for example using ravel().\n",
            "  import sys\n"
          ],
          "name": "stderr"
        }
      ]
    },
    {
      "cell_type": "code",
      "metadata": {
        "id": "g5M3x-kj3BQL",
        "colab_type": "code",
        "outputId": "29c04f17-5d71-47fe-c913-ab7de2d7bdfa",
        "colab": {
          "base_uri": "https://localhost:8080/",
          "height": 35
        }
      },
      "source": [
        "print(f'MSE_forest : {MSE_forest}, MSE_mymodel : {cost.item()}')"
      ],
      "execution_count": 66,
      "outputs": [
        {
          "output_type": "stream",
          "text": [
            "MSE_forest : 1355.9197788194444, MSE_mymodel : 2586.782470703125\n"
          ],
          "name": "stdout"
        }
      ]
    },
    {
      "cell_type": "code",
      "metadata": {
        "id": "MnJcKT5X3Xc6",
        "colab_type": "code",
        "colab": {}
      },
      "source": [
        ""
      ],
      "execution_count": 0,
      "outputs": []
    }
  ]
}