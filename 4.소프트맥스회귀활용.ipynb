{
  "nbformat": 4,
  "nbformat_minor": 0,
  "metadata": {
    "colab": {
      "name": "4.소프트맥스회귀활용.ipynb",
      "provenance": [],
      "collapsed_sections": [],
      "toc_visible": true,
      "mount_file_id": "1Svf2i5Zdl7T_L8OgzVsA6OU8Yhz_OC_u",
      "authorship_tag": "ABX9TyPdf2YXBGK1fa8kFQk6W5zo",
      "include_colab_link": true
    },
    "kernelspec": {
      "name": "python3",
      "display_name": "Python 3"
    }
  },
  "cells": [
    {
      "cell_type": "markdown",
      "metadata": {
        "id": "view-in-github",
        "colab_type": "text"
      },
      "source": [
        "<a href=\"https://colab.research.google.com/github/Jung0Jin/Pytorch_study/blob/master/4.%EC%86%8C%ED%94%84%ED%8A%B8%EB%A7%A5%EC%8A%A4%ED%9A%8C%EA%B7%80%ED%99%9C%EC%9A%A9.ipynb\" target=\"_parent\"><img src=\"https://colab.research.google.com/assets/colab-badge.svg\" alt=\"Open In Colab\"/></a>"
      ]
    },
    {
      "cell_type": "markdown",
      "metadata": {
        "id": "EWJCjp-jlaI_",
        "colab_type": "text"
      },
      "source": [
        "#4.소프트맥스회귀활용\n",
        "\n",
        "공부한 소프트맥스 회귀를 활용해보자. 캐글 타이타닉 데이터셋이다."
      ]
    },
    {
      "cell_type": "markdown",
      "metadata": {
        "id": "C__shbMblgp6",
        "colab_type": "text"
      },
      "source": [
        "##4.1 데이터 다운로드\n",
        "\n",
        "아래 링크를 클릭하면 구글 드라이브에 저장된 캐글 타이타닉 데이터가 있다. 눌러서 다운로드 받으면 된다.\n",
        "\n",
        "출처 : https://www.kaggle.com/c/titanic/data\n",
        "\n",
        "https://drive.google.com/open?id=1nd61rKLxciwrFHahU1PJORQQK0eIfbUg # train.csv\n",
        "\n",
        "train 데이터로만 하고 클래스 값이 3가지인 Pclass를 타겟 데이터로 두고 분석을 해보자"
      ]
    },
    {
      "cell_type": "markdown",
      "metadata": {
        "id": "L7TqT5Fpn78T",
        "colab_type": "text"
      },
      "source": [
        "##4.2 데이터 불러오기\n",
        "\n",
        "*   데이터 설명\n",
        "\n",
        "> The training set should be used to build your machine learning models. For the training set, we provide the outcome (also known as the “ground truth”) for each passenger. Your model will be based on “features” like passengers’ gender and class. You can also use feature engineering to create new features. \n",
        "\n",
        "> The test set should be used to see how well your model performs on unseen data. For the test set, we do not provide the ground truth for each passenger. It is your job to predict these outcomes. For each passenger in the test set, use the model you trained to predict whether or not they survived the sinking of the Titanic.\n",
        "\n",
        "*   특징 데이터 (11개)\n",
        "\n",
        "> PassengerId : 승객 Id\n",
        "\n",
        "> Pclass : 티켓 클래스 1st=1, 2nd=2, 3rd=3\n",
        "\n",
        "> Name : 승객 이름\n",
        "\n",
        ">\tSex : 승객 성별\n",
        "\n",
        ">\tAge : 승객 나이\n",
        "\n",
        ">\tSibSp : 함께 탑승한 형제 / 자매의 수\n",
        "\n",
        ">\tParch : 함께 탑승한 부모 / 자식의 수\n",
        "\n",
        ">\tTicket : 티켓 번호\n",
        "\n",
        ">\tFare : 운임료\n",
        "\n",
        "> Cabin : 선실 번호\t\n",
        "\n",
        "> Embarked : 승선한 항구 이름 , C = Cherbourg, Q = Queenstown, S = Southampton\n",
        "\n",
        "> Survived : 생존했으면 1, 아니면 0\n",
        "\n",
        "* 타겟 데이터 (1개)\n",
        "\n",
        "> Pclass : 티켓 클래스 1st=1, 2nd=2, 3rd=3\n"
      ]
    },
    {
      "cell_type": "code",
      "metadata": {
        "id": "1qG6mX8YlVVR",
        "colab_type": "code",
        "colab": {}
      },
      "source": [
        "import numpy as np \n",
        "import pandas as pd\n",
        "import matplotlib.pyplot as plt\n",
        "import seaborn as sns\n",
        "plt.style.use('fivethirtyeight')\n",
        "import warnings\n",
        "warnings.filterwarnings('ignore')\n",
        "%matplotlib inline"
      ],
      "execution_count": 0,
      "outputs": []
    },
    {
      "cell_type": "code",
      "metadata": {
        "id": "w_9-KgyUopAm",
        "colab_type": "code",
        "colab": {
          "base_uri": "https://localhost:8080/",
          "height": 340
        },
        "outputId": "86ab4db8-a3ba-41ba-8691-43cbdcc799b8"
      },
      "source": [
        "train = pd.read_csv('/content/drive/My Drive/데이터/캐글 타이타닉 데이터/train.csv')\n",
        "train.head()"
      ],
      "execution_count": 81,
      "outputs": [
        {
          "output_type": "execute_result",
          "data": {
            "text/html": [
              "<div>\n",
              "<style scoped>\n",
              "    .dataframe tbody tr th:only-of-type {\n",
              "        vertical-align: middle;\n",
              "    }\n",
              "\n",
              "    .dataframe tbody tr th {\n",
              "        vertical-align: top;\n",
              "    }\n",
              "\n",
              "    .dataframe thead th {\n",
              "        text-align: right;\n",
              "    }\n",
              "</style>\n",
              "<table border=\"1\" class=\"dataframe\">\n",
              "  <thead>\n",
              "    <tr style=\"text-align: right;\">\n",
              "      <th></th>\n",
              "      <th>PassengerId</th>\n",
              "      <th>Survived</th>\n",
              "      <th>Pclass</th>\n",
              "      <th>Name</th>\n",
              "      <th>Sex</th>\n",
              "      <th>Age</th>\n",
              "      <th>SibSp</th>\n",
              "      <th>Parch</th>\n",
              "      <th>Ticket</th>\n",
              "      <th>Fare</th>\n",
              "      <th>Cabin</th>\n",
              "      <th>Embarked</th>\n",
              "    </tr>\n",
              "  </thead>\n",
              "  <tbody>\n",
              "    <tr>\n",
              "      <th>0</th>\n",
              "      <td>1</td>\n",
              "      <td>0</td>\n",
              "      <td>3</td>\n",
              "      <td>Braund, Mr. Owen Harris</td>\n",
              "      <td>male</td>\n",
              "      <td>22.0</td>\n",
              "      <td>1</td>\n",
              "      <td>0</td>\n",
              "      <td>A/5 21171</td>\n",
              "      <td>7.2500</td>\n",
              "      <td>NaN</td>\n",
              "      <td>S</td>\n",
              "    </tr>\n",
              "    <tr>\n",
              "      <th>1</th>\n",
              "      <td>2</td>\n",
              "      <td>1</td>\n",
              "      <td>1</td>\n",
              "      <td>Cumings, Mrs. John Bradley (Florence Briggs Th...</td>\n",
              "      <td>female</td>\n",
              "      <td>38.0</td>\n",
              "      <td>1</td>\n",
              "      <td>0</td>\n",
              "      <td>PC 17599</td>\n",
              "      <td>71.2833</td>\n",
              "      <td>C85</td>\n",
              "      <td>C</td>\n",
              "    </tr>\n",
              "    <tr>\n",
              "      <th>2</th>\n",
              "      <td>3</td>\n",
              "      <td>1</td>\n",
              "      <td>3</td>\n",
              "      <td>Heikkinen, Miss. Laina</td>\n",
              "      <td>female</td>\n",
              "      <td>26.0</td>\n",
              "      <td>0</td>\n",
              "      <td>0</td>\n",
              "      <td>STON/O2. 3101282</td>\n",
              "      <td>7.9250</td>\n",
              "      <td>NaN</td>\n",
              "      <td>S</td>\n",
              "    </tr>\n",
              "    <tr>\n",
              "      <th>3</th>\n",
              "      <td>4</td>\n",
              "      <td>1</td>\n",
              "      <td>1</td>\n",
              "      <td>Futrelle, Mrs. Jacques Heath (Lily May Peel)</td>\n",
              "      <td>female</td>\n",
              "      <td>35.0</td>\n",
              "      <td>1</td>\n",
              "      <td>0</td>\n",
              "      <td>113803</td>\n",
              "      <td>53.1000</td>\n",
              "      <td>C123</td>\n",
              "      <td>S</td>\n",
              "    </tr>\n",
              "    <tr>\n",
              "      <th>4</th>\n",
              "      <td>5</td>\n",
              "      <td>0</td>\n",
              "      <td>3</td>\n",
              "      <td>Allen, Mr. William Henry</td>\n",
              "      <td>male</td>\n",
              "      <td>35.0</td>\n",
              "      <td>0</td>\n",
              "      <td>0</td>\n",
              "      <td>373450</td>\n",
              "      <td>8.0500</td>\n",
              "      <td>NaN</td>\n",
              "      <td>S</td>\n",
              "    </tr>\n",
              "  </tbody>\n",
              "</table>\n",
              "</div>"
            ],
            "text/plain": [
              "   PassengerId  Survived  Pclass  ...     Fare Cabin  Embarked\n",
              "0            1         0       3  ...   7.2500   NaN         S\n",
              "1            2         1       1  ...  71.2833   C85         C\n",
              "2            3         1       3  ...   7.9250   NaN         S\n",
              "3            4         1       1  ...  53.1000  C123         S\n",
              "4            5         0       3  ...   8.0500   NaN         S\n",
              "\n",
              "[5 rows x 12 columns]"
            ]
          },
          "metadata": {
            "tags": []
          },
          "execution_count": 81
        }
      ]
    },
    {
      "cell_type": "code",
      "metadata": {
        "id": "24kfcj5Lpc3Y",
        "colab_type": "code",
        "colab": {
          "base_uri": "https://localhost:8080/",
          "height": 35
        },
        "outputId": "149fc650-84a3-4063-b7df-252fe4f13ae6"
      },
      "source": [
        "print(train.shape)"
      ],
      "execution_count": 82,
      "outputs": [
        {
          "output_type": "stream",
          "text": [
            "(891, 12)\n"
          ],
          "name": "stdout"
        }
      ]
    },
    {
      "cell_type": "markdown",
      "metadata": {
        "id": "Q2b0n5bLtg6N",
        "colab_type": "text"
      },
      "source": [
        "##4.3 데이터 전처리"
      ]
    },
    {
      "cell_type": "markdown",
      "metadata": {
        "id": "4QO7emnipplE",
        "colab_type": "text"
      },
      "source": [
        "데이터 전처리는 저번에 했다. \n",
        "\n",
        "(https://github.com/Jung0Jin/Pytorch_study/blob/master/3.%EB%A1%9C%EC%A7%80%EC%8A%A4%ED%8B%B1%ED%9A%8C%EA%B7%80%ED%99%9C%EC%9A%A9.ipynb)\n",
        "\n",
        "이번에는 Pclass 데이터를 타겟 데이터로, Survived 데이터를 특징 데이터로 바꾸자."
      ]
    },
    {
      "cell_type": "code",
      "metadata": {
        "id": "A2SlZDJzpivc",
        "colab_type": "code",
        "colab": {
          "base_uri": "https://localhost:8080/",
          "height": 204
        },
        "outputId": "1aa5ea02-cf32-43cf-fee6-5d6c4aa49182"
      },
      "source": [
        "train['Initial'] = 0\n",
        "for i in train:\n",
        "  train['Initial'] = train.Name.str.extract('([A-Za-z]+)\\.') #정규표현식 [A-Za-z]대문자소문자 W. .으로 끝나는 것들\n",
        "\n",
        "train['Initial'].replace(['Mlle','Mme','Ms','Dr','Major','Lady','Countess','Jonkheer','Col','Rev','Capt','Sir','Don'],\n",
        "                         ['Miss','Miss','Miss','Mr','Mr','Mrs','Mrs','Other','Other','Other','Mr','Mr','Mr'],\n",
        "                         inplace=True)\n",
        "\n",
        "train.loc[(train.Age.isnull())&(train.Initial=='Mr'),'Age']=33\n",
        "train.loc[(train.Age.isnull())&(train.Initial=='Mrs'),'Age']=36\n",
        "train.loc[(train.Age.isnull())&(train.Initial=='Master'),'Age']=5\n",
        "train.loc[(train.Age.isnull())&(train.Initial=='Miss'),'Age']=22\n",
        "train.loc[(train.Age.isnull())&(train.Initial=='Other'),'Age']=46\n",
        "\n",
        "train.Embarked.fillna('S', inplace=True)\n",
        "\n",
        "train['Age_band']=0\n",
        "train.loc[train['Age']<=16,'Age_band']=0\n",
        "train.loc[(train['Age']>16)&(train['Age']<=32),'Age_band']=1\n",
        "train.loc[(train['Age']>32)&(train['Age']<=48),'Age_band']=2\n",
        "train.loc[(train['Age']>48)&(train['Age']<=64),'Age_band']=3\n",
        "train.loc[train['Age']>64,'Age_band']=4\n",
        "\n",
        "train['Family_Size']=0\n",
        "train['Family_Size']=train['Parch']+train['SibSp'] #family size\n",
        "train['Alone']=0\n",
        "train.loc[train.Family_Size==0,'Alone']=1 #Alone\n",
        "\n",
        "train['Fare_Range']=pd.qcut(train['Fare'],4)\n",
        "\n",
        "train['Fare_cat']=0\n",
        "train.loc[train['Fare']<=7.91,'Fare_cat']=0\n",
        "train.loc[(train['Fare']>7.91)&(train['Fare']<=14.454),'Fare_cat']=1\n",
        "train.loc[(train['Fare']>14.454)&(train['Fare']<=31),'Fare_cat']=2\n",
        "train.loc[(train['Fare']>31)&(train['Fare']<=513),'Fare_cat']=3\n",
        "\n",
        "train['Sex'].replace(['male','female'],[0,1],inplace=True)\n",
        "train['Embarked'].replace(['S','C','Q'],[0,1,2],inplace=True)\n",
        "train['Initial'].replace(['Mr','Mrs','Miss','Master','Other'],[0,1,2,3,4],inplace=True)\n",
        "\n",
        "train.drop(['Name','Age','Ticket','Fare','Cabin','Fare_Range','PassengerId'],axis=1,inplace=True)\n",
        "\n",
        "train.head()"
      ],
      "execution_count": 83,
      "outputs": [
        {
          "output_type": "execute_result",
          "data": {
            "text/html": [
              "<div>\n",
              "<style scoped>\n",
              "    .dataframe tbody tr th:only-of-type {\n",
              "        vertical-align: middle;\n",
              "    }\n",
              "\n",
              "    .dataframe tbody tr th {\n",
              "        vertical-align: top;\n",
              "    }\n",
              "\n",
              "    .dataframe thead th {\n",
              "        text-align: right;\n",
              "    }\n",
              "</style>\n",
              "<table border=\"1\" class=\"dataframe\">\n",
              "  <thead>\n",
              "    <tr style=\"text-align: right;\">\n",
              "      <th></th>\n",
              "      <th>Survived</th>\n",
              "      <th>Pclass</th>\n",
              "      <th>Sex</th>\n",
              "      <th>SibSp</th>\n",
              "      <th>Parch</th>\n",
              "      <th>Embarked</th>\n",
              "      <th>Initial</th>\n",
              "      <th>Age_band</th>\n",
              "      <th>Family_Size</th>\n",
              "      <th>Alone</th>\n",
              "      <th>Fare_cat</th>\n",
              "    </tr>\n",
              "  </thead>\n",
              "  <tbody>\n",
              "    <tr>\n",
              "      <th>0</th>\n",
              "      <td>0</td>\n",
              "      <td>3</td>\n",
              "      <td>0</td>\n",
              "      <td>1</td>\n",
              "      <td>0</td>\n",
              "      <td>0</td>\n",
              "      <td>0</td>\n",
              "      <td>1</td>\n",
              "      <td>1</td>\n",
              "      <td>0</td>\n",
              "      <td>0</td>\n",
              "    </tr>\n",
              "    <tr>\n",
              "      <th>1</th>\n",
              "      <td>1</td>\n",
              "      <td>1</td>\n",
              "      <td>1</td>\n",
              "      <td>1</td>\n",
              "      <td>0</td>\n",
              "      <td>1</td>\n",
              "      <td>1</td>\n",
              "      <td>2</td>\n",
              "      <td>1</td>\n",
              "      <td>0</td>\n",
              "      <td>3</td>\n",
              "    </tr>\n",
              "    <tr>\n",
              "      <th>2</th>\n",
              "      <td>1</td>\n",
              "      <td>3</td>\n",
              "      <td>1</td>\n",
              "      <td>0</td>\n",
              "      <td>0</td>\n",
              "      <td>0</td>\n",
              "      <td>2</td>\n",
              "      <td>1</td>\n",
              "      <td>0</td>\n",
              "      <td>1</td>\n",
              "      <td>1</td>\n",
              "    </tr>\n",
              "    <tr>\n",
              "      <th>3</th>\n",
              "      <td>1</td>\n",
              "      <td>1</td>\n",
              "      <td>1</td>\n",
              "      <td>1</td>\n",
              "      <td>0</td>\n",
              "      <td>0</td>\n",
              "      <td>1</td>\n",
              "      <td>2</td>\n",
              "      <td>1</td>\n",
              "      <td>0</td>\n",
              "      <td>3</td>\n",
              "    </tr>\n",
              "    <tr>\n",
              "      <th>4</th>\n",
              "      <td>0</td>\n",
              "      <td>3</td>\n",
              "      <td>0</td>\n",
              "      <td>0</td>\n",
              "      <td>0</td>\n",
              "      <td>0</td>\n",
              "      <td>0</td>\n",
              "      <td>2</td>\n",
              "      <td>0</td>\n",
              "      <td>1</td>\n",
              "      <td>1</td>\n",
              "    </tr>\n",
              "  </tbody>\n",
              "</table>\n",
              "</div>"
            ],
            "text/plain": [
              "   Survived  Pclass  Sex  SibSp  ...  Age_band  Family_Size  Alone  Fare_cat\n",
              "0         0       3    0      1  ...         1            1      0         0\n",
              "1         1       1    1      1  ...         2            1      0         3\n",
              "2         1       3    1      0  ...         1            0      1         1\n",
              "3         1       1    1      1  ...         2            1      0         3\n",
              "4         0       3    0      0  ...         2            0      1         1\n",
              "\n",
              "[5 rows x 11 columns]"
            ]
          },
          "metadata": {
            "tags": []
          },
          "execution_count": 83
        }
      ]
    },
    {
      "cell_type": "code",
      "metadata": {
        "id": "b4sTINR9sv_s",
        "colab_type": "code",
        "colab": {
          "base_uri": "https://localhost:8080/",
          "height": 419
        },
        "outputId": "d4f53f29-7980-4231-8eeb-26f2066c0059"
      },
      "source": [
        "# 모델에 넣을 특성들을 표준화를 시켜주자.\n",
        "x_temp = train.drop(['Pclass'], axis=1) # 타겟 데이터는 Pclass이다.\n",
        "x_temp = x_temp.apply(lambda x: (x - x.mean()) / x.std())\n",
        "x_temp"
      ],
      "execution_count": 84,
      "outputs": [
        {
          "output_type": "execute_result",
          "data": {
            "text/html": [
              "<div>\n",
              "<style scoped>\n",
              "    .dataframe tbody tr th:only-of-type {\n",
              "        vertical-align: middle;\n",
              "    }\n",
              "\n",
              "    .dataframe tbody tr th {\n",
              "        vertical-align: top;\n",
              "    }\n",
              "\n",
              "    .dataframe thead th {\n",
              "        text-align: right;\n",
              "    }\n",
              "</style>\n",
              "<table border=\"1\" class=\"dataframe\">\n",
              "  <thead>\n",
              "    <tr style=\"text-align: right;\">\n",
              "      <th></th>\n",
              "      <th>Survived</th>\n",
              "      <th>Sex</th>\n",
              "      <th>SibSp</th>\n",
              "      <th>Parch</th>\n",
              "      <th>Embarked</th>\n",
              "      <th>Initial</th>\n",
              "      <th>Age_band</th>\n",
              "      <th>Family_Size</th>\n",
              "      <th>Alone</th>\n",
              "      <th>Fare_cat</th>\n",
              "    </tr>\n",
              "  </thead>\n",
              "  <tbody>\n",
              "    <tr>\n",
              "      <th>0</th>\n",
              "      <td>-0.788829</td>\n",
              "      <td>-0.737281</td>\n",
              "      <td>0.432550</td>\n",
              "      <td>-0.473408</td>\n",
              "      <td>-0.568518</td>\n",
              "      <td>-0.733692</td>\n",
              "      <td>-0.522280</td>\n",
              "      <td>0.059127</td>\n",
              "      <td>-1.230954</td>\n",
              "      <td>-1.346021</td>\n",
              "    </tr>\n",
              "    <tr>\n",
              "      <th>1</th>\n",
              "      <td>1.266279</td>\n",
              "      <td>1.354813</td>\n",
              "      <td>0.432550</td>\n",
              "      <td>-0.473408</td>\n",
              "      <td>1.004617</td>\n",
              "      <td>0.264353</td>\n",
              "      <td>0.664842</td>\n",
              "      <td>0.059127</td>\n",
              "      <td>-1.230954</td>\n",
              "      <td>1.336987</td>\n",
              "    </tr>\n",
              "    <tr>\n",
              "      <th>2</th>\n",
              "      <td>1.266279</td>\n",
              "      <td>1.354813</td>\n",
              "      <td>-0.474279</td>\n",
              "      <td>-0.473408</td>\n",
              "      <td>-0.568518</td>\n",
              "      <td>1.262398</td>\n",
              "      <td>-0.522280</td>\n",
              "      <td>-0.560660</td>\n",
              "      <td>0.811467</td>\n",
              "      <td>-0.451685</td>\n",
              "    </tr>\n",
              "    <tr>\n",
              "      <th>3</th>\n",
              "      <td>1.266279</td>\n",
              "      <td>1.354813</td>\n",
              "      <td>0.432550</td>\n",
              "      <td>-0.473408</td>\n",
              "      <td>-0.568518</td>\n",
              "      <td>0.264353</td>\n",
              "      <td>0.664842</td>\n",
              "      <td>0.059127</td>\n",
              "      <td>-1.230954</td>\n",
              "      <td>1.336987</td>\n",
              "    </tr>\n",
              "    <tr>\n",
              "      <th>4</th>\n",
              "      <td>-0.788829</td>\n",
              "      <td>-0.737281</td>\n",
              "      <td>-0.474279</td>\n",
              "      <td>-0.473408</td>\n",
              "      <td>-0.568518</td>\n",
              "      <td>-0.733692</td>\n",
              "      <td>0.664842</td>\n",
              "      <td>-0.560660</td>\n",
              "      <td>0.811467</td>\n",
              "      <td>-0.451685</td>\n",
              "    </tr>\n",
              "    <tr>\n",
              "      <th>...</th>\n",
              "      <td>...</td>\n",
              "      <td>...</td>\n",
              "      <td>...</td>\n",
              "      <td>...</td>\n",
              "      <td>...</td>\n",
              "      <td>...</td>\n",
              "      <td>...</td>\n",
              "      <td>...</td>\n",
              "      <td>...</td>\n",
              "      <td>...</td>\n",
              "    </tr>\n",
              "    <tr>\n",
              "      <th>886</th>\n",
              "      <td>-0.788829</td>\n",
              "      <td>-0.737281</td>\n",
              "      <td>-0.474279</td>\n",
              "      <td>-0.473408</td>\n",
              "      <td>-0.568518</td>\n",
              "      <td>3.258488</td>\n",
              "      <td>-0.522280</td>\n",
              "      <td>-0.560660</td>\n",
              "      <td>0.811467</td>\n",
              "      <td>-0.451685</td>\n",
              "    </tr>\n",
              "    <tr>\n",
              "      <th>887</th>\n",
              "      <td>1.266279</td>\n",
              "      <td>1.354813</td>\n",
              "      <td>-0.474279</td>\n",
              "      <td>-0.473408</td>\n",
              "      <td>-0.568518</td>\n",
              "      <td>1.262398</td>\n",
              "      <td>-0.522280</td>\n",
              "      <td>-0.560660</td>\n",
              "      <td>0.811467</td>\n",
              "      <td>0.442651</td>\n",
              "    </tr>\n",
              "    <tr>\n",
              "      <th>888</th>\n",
              "      <td>-0.788829</td>\n",
              "      <td>1.354813</td>\n",
              "      <td>0.432550</td>\n",
              "      <td>2.007806</td>\n",
              "      <td>-0.568518</td>\n",
              "      <td>1.262398</td>\n",
              "      <td>-0.522280</td>\n",
              "      <td>1.298700</td>\n",
              "      <td>-1.230954</td>\n",
              "      <td>0.442651</td>\n",
              "    </tr>\n",
              "    <tr>\n",
              "      <th>889</th>\n",
              "      <td>1.266279</td>\n",
              "      <td>-0.737281</td>\n",
              "      <td>-0.474279</td>\n",
              "      <td>-0.473408</td>\n",
              "      <td>1.004617</td>\n",
              "      <td>-0.733692</td>\n",
              "      <td>-0.522280</td>\n",
              "      <td>-0.560660</td>\n",
              "      <td>0.811467</td>\n",
              "      <td>0.442651</td>\n",
              "    </tr>\n",
              "    <tr>\n",
              "      <th>890</th>\n",
              "      <td>-0.788829</td>\n",
              "      <td>-0.737281</td>\n",
              "      <td>-0.474279</td>\n",
              "      <td>-0.473408</td>\n",
              "      <td>2.577752</td>\n",
              "      <td>-0.733692</td>\n",
              "      <td>-0.522280</td>\n",
              "      <td>-0.560660</td>\n",
              "      <td>0.811467</td>\n",
              "      <td>-1.346021</td>\n",
              "    </tr>\n",
              "  </tbody>\n",
              "</table>\n",
              "<p>891 rows × 10 columns</p>\n",
              "</div>"
            ],
            "text/plain": [
              "     Survived       Sex     SibSp  ...  Family_Size     Alone  Fare_cat\n",
              "0   -0.788829 -0.737281  0.432550  ...     0.059127 -1.230954 -1.346021\n",
              "1    1.266279  1.354813  0.432550  ...     0.059127 -1.230954  1.336987\n",
              "2    1.266279  1.354813 -0.474279  ...    -0.560660  0.811467 -0.451685\n",
              "3    1.266279  1.354813  0.432550  ...     0.059127 -1.230954  1.336987\n",
              "4   -0.788829 -0.737281 -0.474279  ...    -0.560660  0.811467 -0.451685\n",
              "..        ...       ...       ...  ...          ...       ...       ...\n",
              "886 -0.788829 -0.737281 -0.474279  ...    -0.560660  0.811467 -0.451685\n",
              "887  1.266279  1.354813 -0.474279  ...    -0.560660  0.811467  0.442651\n",
              "888 -0.788829  1.354813  0.432550  ...     1.298700 -1.230954  0.442651\n",
              "889  1.266279 -0.737281 -0.474279  ...    -0.560660  0.811467  0.442651\n",
              "890 -0.788829 -0.737281 -0.474279  ...    -0.560660  0.811467 -1.346021\n",
              "\n",
              "[891 rows x 10 columns]"
            ]
          },
          "metadata": {
            "tags": []
          },
          "execution_count": 84
        }
      ]
    },
    {
      "cell_type": "code",
      "metadata": {
        "id": "D1yjrX4jtT60",
        "colab_type": "code",
        "colab": {
          "base_uri": "https://localhost:8080/",
          "height": 35
        },
        "outputId": "fc643fe0-a941-4190-90c9-093a677bf103"
      },
      "source": [
        "# 데이터프레임 형식은 텐서로 못 바꾼다. 어레이로 만들어 주자.\n",
        "x = x_temp.values \n",
        "y = train[['Pclass']].values\n",
        "\n",
        "print(x.shape, y.shape)"
      ],
      "execution_count": 85,
      "outputs": [
        {
          "output_type": "stream",
          "text": [
            "(891, 10) (891, 1)\n"
          ],
          "name": "stdout"
        }
      ]
    },
    {
      "cell_type": "markdown",
      "metadata": {
        "id": "_l58qE5YtdiU",
        "colab_type": "text"
      },
      "source": [
        "##4.4 커스텀 데이터셋 만들기"
      ]
    },
    {
      "cell_type": "code",
      "metadata": {
        "id": "-3AAbSBPtZbL",
        "colab_type": "code",
        "colab": {}
      },
      "source": [
        "import torch\n",
        "import torch.nn as nn\n",
        "import torch.nn.functional as F\n",
        "import torch.optim as optim\n",
        "\n",
        "from torch.utils.data import Dataset\n",
        "from torch.utils.data import DataLoader"
      ],
      "execution_count": 0,
      "outputs": []
    },
    {
      "cell_type": "code",
      "metadata": {
        "id": "UvqtInq_tmRr",
        "colab_type": "code",
        "colab": {}
      },
      "source": [
        "class MyDataset(Dataset):\n",
        "  #데이터셋의 전처리를 해주는 부분\n",
        "  def __init__(self):\n",
        "    self.x_data = torch.FloatTensor(x)\n",
        "    self.y_data = torch.LongTensor(y-1) # 이전과 다른 부분 1. Long 타입을 쓴다. 2. y를 넣으면 1,2,3값이 들어가는데 IndexError 뜬다.\n",
        "    \n",
        "  #데이터셋의 길이, 즉 총 샘플의 수를 적어주는 부분\n",
        "  def __len__(self):\n",
        "    return len(self.x_data)\n",
        "  \n",
        "  #데이터셋에서 특정 1개의 샘플을 가져오는 함수\n",
        "  def __getitem__(self, idx):\n",
        "    x = self.x_data[idx]\n",
        "    y = self.y_data[idx]\n",
        "    return x, y"
      ],
      "execution_count": 0,
      "outputs": []
    },
    {
      "cell_type": "code",
      "metadata": {
        "id": "I2nd28cgtnfF",
        "colab_type": "code",
        "colab": {}
      },
      "source": [
        "dataset = MyDataset()"
      ],
      "execution_count": 0,
      "outputs": []
    },
    {
      "cell_type": "code",
      "metadata": {
        "id": "a2aRvzXZtokl",
        "colab_type": "code",
        "colab": {
          "base_uri": "https://localhost:8080/",
          "height": 53
        },
        "outputId": "1eed8182-12ac-474c-d88d-063140d1c533"
      },
      "source": [
        "# train set 와 validation set로 나누는 비율 정하기\n",
        "\n",
        "train_val_ratio = 0.8\n",
        "train_size = int(len(dataset) * train_val_ratio)\n",
        "val_size = len(dataset) - train_size\n",
        "print(train_size, val_size)\n",
        "\n",
        "# train set와 validation set로 나누자\n",
        "\n",
        "train_dataset, val_dataset = torch.utils.data.random_split(dataset, [train_size, val_size])\n",
        "print(len(train_dataset), len(val_dataset))"
      ],
      "execution_count": 89,
      "outputs": [
        {
          "output_type": "stream",
          "text": [
            "712 179\n",
            "712 179\n"
          ],
          "name": "stdout"
        }
      ]
    },
    {
      "cell_type": "code",
      "metadata": {
        "id": "0FSQhSM_tqFz",
        "colab_type": "code",
        "colab": {}
      },
      "source": [
        "train_loader = DataLoader(dataset=train_dataset, \n",
        "                          batch_size=64,\n",
        "                          shuffle=True,\n",
        "                          drop_last=True)\n",
        "val_loader = DataLoader(dataset=val_dataset,\n",
        "                        batch_size=len(val_dataset))"
      ],
      "execution_count": 0,
      "outputs": []
    },
    {
      "cell_type": "markdown",
      "metadata": {
        "id": "Yi89eMwOuIK4",
        "colab_type": "text"
      },
      "source": [
        "##4.5 모델 학습하기"
      ]
    },
    {
      "cell_type": "code",
      "metadata": {
        "id": "o2gZg3VduGpl",
        "colab_type": "code",
        "colab": {}
      },
      "source": [
        "class SoftmaxClassifierModel(nn.Module):\n",
        "  def __init__(self):\n",
        "    super().__init__()\n",
        "    self.linear = nn.Linear(10, 3)\n",
        "\n",
        "  def forward(self, x):\n",
        "    return self.linear(x)"
      ],
      "execution_count": 0,
      "outputs": []
    },
    {
      "cell_type": "code",
      "metadata": {
        "id": "xJ21PDhCuvvX",
        "colab_type": "code",
        "colab": {}
      },
      "source": [
        "model = SoftmaxClassifierModel()\n",
        "optimizer = optim.SGD(model.parameters(), lr=0.001)\n",
        "criterion = nn.CrossEntropyLoss()"
      ],
      "execution_count": 0,
      "outputs": []
    },
    {
      "cell_type": "code",
      "metadata": {
        "id": "FfKCFo66u4xM",
        "colab_type": "code",
        "colab": {
          "base_uri": "https://localhost:8080/",
          "height": 827
        },
        "outputId": "3db04d20-8eb3-4001-ca1f-10f58b621356"
      },
      "source": [
        "nb_epochs = 1500\n",
        "train_losses = []\n",
        "val_losses = []\n",
        "\n",
        "for epoch in range(nb_epochs+1):\n",
        "  train_cost_avg = 0\n",
        "  \"\"\"\n",
        "  나는 한 epoch 당 cost를 알고 싶다.(712개로 한 바퀴 돌렸을 때의 cost) \n",
        "  근데 여기서 cost는 batch 마다 나온다. (한 배치인 64를 돌렸을 때의 cost) \n",
        "  그래서 각 배치에서의 cost를 모두 더 한후 batch의 수 만큼 나눠 평균을 구할거다.\n",
        "  \"\"\"\n",
        "  num_batch = len(train_loader) # 712개를 64로 나누니 11개가 나오고 나머지는 drop_last로 버렸다\n",
        "\n",
        "  for x_train, y_train in train_loader:\n",
        "    y_train = y_train.squeeze(1) # 2차원을 1차원으로 바꾸자\n",
        "\n",
        "    # H(x) 계산\n",
        "    hypothesis = model(x_train)\n",
        "\n",
        "    # train_cost 계산\n",
        "    train_cost = criterion(hypothesis, y_train)\n",
        "\n",
        "    # train_cost로 H(x) 개선\n",
        "    optimizer.zero_grad()\n",
        "    train_cost.backward()\n",
        "    optimizer.step()\n",
        "\n",
        "    train_cost_avg += train_cost / num_batch\n",
        "  train_losses.append(train_cost_avg.item())\n",
        "    \n",
        "  if epoch % (nb_epochs/10) == 0:\n",
        "    print(f'Epoch : {epoch}/{nb_epochs}')\n",
        "    print(f'Train Cost : {train_cost_avg.item()}')\n",
        "\n",
        "  for x_val, y_val in val_loader:\n",
        "    y_val = y_val.squeeze(1) # 2차원을 1차원으로 바꾸자\n",
        "\n",
        "    # 학습한 model로 prediction을 해보자\n",
        "    prediction = model(x_val) \n",
        "    val_cost = criterion(prediction, y_val)\n",
        "    val_losses.append(val_cost.item())\n",
        "    \n",
        "  if epoch % (nb_epochs/10) == 0:\n",
        "    print(f'Validation Cost : {val_cost.item()}')\n",
        "    print('-'*50)\n",
        "\n",
        "correct_prediction = torch.argmax(prediction, dim=1) == y_val # 실제값과 일치하는 경우만 True로 간주\n",
        "accuracy = correct_prediction.sum().item() / len(correct_prediction) # 정확도를 계산\n",
        "print(f'Accuracy : {accuracy * 100}%')"
      ],
      "execution_count": 93,
      "outputs": [
        {
          "output_type": "stream",
          "text": [
            "Epoch : 0/1500\n",
            "Train Cost : 1.095534086227417\n",
            "Validation Cost : 1.0409722328186035\n",
            "--------------------------------------------------\n",
            "Epoch : 150/1500\n",
            "Train Cost : 0.8179840445518494\n",
            "Validation Cost : 0.8179886341094971\n",
            "--------------------------------------------------\n",
            "Epoch : 300/1500\n",
            "Train Cost : 0.7150791883468628\n",
            "Validation Cost : 0.7318548560142517\n",
            "--------------------------------------------------\n",
            "Epoch : 450/1500\n",
            "Train Cost : 0.664397120475769\n",
            "Validation Cost : 0.6904929876327515\n",
            "--------------------------------------------------\n",
            "Epoch : 600/1500\n",
            "Train Cost : 0.6368412375450134\n",
            "Validation Cost : 0.6666018962860107\n",
            "--------------------------------------------------\n",
            "Epoch : 750/1500\n",
            "Train Cost : 0.6190136075019836\n",
            "Validation Cost : 0.6508075594902039\n",
            "--------------------------------------------------\n",
            "Epoch : 900/1500\n",
            "Train Cost : 0.6074761748313904\n",
            "Validation Cost : 0.6394428610801697\n",
            "--------------------------------------------------\n",
            "Epoch : 1050/1500\n",
            "Train Cost : 0.5961676836013794\n",
            "Validation Cost : 0.6307927370071411\n",
            "--------------------------------------------------\n",
            "Epoch : 1200/1500\n",
            "Train Cost : 0.5872454047203064\n",
            "Validation Cost : 0.623982310295105\n",
            "--------------------------------------------------\n",
            "Epoch : 1350/1500\n",
            "Train Cost : 0.5826056003570557\n",
            "Validation Cost : 0.6185364723205566\n",
            "--------------------------------------------------\n",
            "Epoch : 1500/1500\n",
            "Train Cost : 0.5796131491661072\n",
            "Validation Cost : 0.6140254139900208\n",
            "--------------------------------------------------\n",
            "Accuracy : 72.62569832402235%\n"
          ],
          "name": "stdout"
        }
      ]
    },
    {
      "cell_type": "code",
      "metadata": {
        "id": "SkSvTjpujnPl",
        "colab_type": "code",
        "colab": {
          "base_uri": "https://localhost:8080/",
          "height": 262
        },
        "outputId": "5d64a395-0173-42bc-8e26-a4fdcf8bafd1"
      },
      "source": [
        "plt.plot(train_losses, label = 'train')\n",
        "plt.plot(val_losses, label = 'val')\n",
        "plt.legend()\n",
        "plt.show()"
      ],
      "execution_count": 94,
      "outputs": [
        {
          "output_type": "display_data",
          "data": {
            "image/png": "[encoded data removed]",
            "text/plain": [
              "<Figure size 432x288 with 1 Axes>"
            ]
          },
          "metadata": {
            "tags": [],
            "needs_background": "light"
          }
        }
      ]
    },
    {
      "cell_type": "markdown",
      "metadata": {
        "id": "yNVCCg9rivec",
        "colab_type": "text"
      },
      "source": [
        "##4.6 랜덤포레스트랑 비교하기"
      ]
    },
    {
      "cell_type": "code",
      "metadata": {
        "id": "wwJ6DinSyOTK",
        "colab_type": "code",
        "colab": {}
      },
      "source": [
        "from sklearn.model_selection import train_test_split\n",
        "x_train, x_val, y_train, y_val = train_test_split(x, y, test_size=0.02, random_state=42)\n",
        "\n",
        "from sklearn.ensemble import  RandomForestClassifier\n",
        "\n",
        "model_forest = RandomForestClassifier(random_state=42)\n",
        "model_forest.fit(x_train,y_train)\n",
        "\n",
        "prediction = model_forest.predict(x_val)\n",
        "\n",
        "from sklearn import metrics\n",
        "acc_forest = metrics.accuracy_score(y_val, prediction)"
      ],
      "execution_count": 0,
      "outputs": []
    },
    {
      "cell_type": "code",
      "metadata": {
        "id": "dyXBqJDJjYDh",
        "colab_type": "code",
        "colab": {
          "base_uri": "https://localhost:8080/",
          "height": 35
        },
        "outputId": "855475ff-66a5-49ef-b1fd-cde86fa62380"
      },
      "source": [
        "print(f'acc_forest : {acc_forest}, acc_mymodel : {accuracy}')"
      ],
      "execution_count": 96,
      "outputs": [
        {
          "output_type": "stream",
          "text": [
            "acc_forest : 0.7222222222222222, acc_mymodel : 0.7262569832402235\n"
          ],
          "name": "stdout"
        }
      ]
    },
    {
      "cell_type": "code",
      "metadata": {
        "id": "SzUfMilCjjlU",
        "colab_type": "code",
        "colab": {}
      },
      "source": [
        ""
      ],
      "execution_count": 0,
      "outputs": []
    }
  ]
}