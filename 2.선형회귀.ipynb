{
 "cells": [
  {
   "cell_type": "markdown",
   "metadata": {
    "colab_type": "text",
    "id": "view-in-github"
   },
   "source": [
    "<a href=\"https://colab.research.google.com/github/Jung0Jin/Pytorch_study/blob/master/2.%EC%84%A0%ED%98%95%ED%9A%8C%EA%B7%80.ipynb\" target=\"_parent\"><img src=\"https://colab.research.google.com/assets/colab-badge.svg\" alt=\"Open In Colab\"/></a>"
   ]
  },
  {
   "cell_type": "markdown",
   "metadata": {
    "id": "7xbBzO-Nd0vt"
   },
   "source": [
    "2021.01.04 한번 더 보자\n",
    "\n",
    "출처 : https://wikidocs.net/53560\n",
    "\n",
    "참고 : https://github.com/Namsik-Yoon/pytorch_basic/blob/master/2.%20%EC%84%A0%ED%98%95%ED%9A%8C%EA%B7%80(Linear_Regression).ipynb "
   ]
  },
  {
   "cell_type": "markdown",
   "metadata": {
    "id": "uW2B5vLld0vt"
   },
   "source": [
    "#2. 선형회귀(Linear Regression)"
   ]
  },
  {
   "cell_type": "markdown",
   "metadata": {
    "id": "fHc68L1yd0vu"
   },
   "source": [
    "## 2.1 선형회귀(Linear Regression)"
   ]
  },
  {
   "cell_type": "markdown",
   "metadata": {
    "id": "URaM_5BBqPgf"
   },
   "source": [
    "이번 챕터에서는 선형 회귀 이론에 대해서 이해하고, 파이토치(PyTorch)를 이용하여 선형 회귀 모델을 만들어보겠습니다.\n",
    "\n",
    "* 데이터에 대한 이해(Data Definition)\n",
    "\n",
    "학습할 데이터에 대해서 알아봅니다.\n",
    "\n",
    "* 가설(Hypothesis) 수립\n",
    "\n",
    "가설을 수립하는 방법에 대해서 알아봅니다.\n",
    "\n",
    "* 손실 계산하기(Compute loss)\n",
    "\n",
    "학습 데이터를 이용해서 연속적으로 모델을 개선시키는데 이 때 손실(loss)를 이용합니다.\n",
    "\n",
    "* 경사 하강법(Gradient Descent)\n",
    "\n",
    "학습을 위한 핵심 알고리즘인 경사 하강법(Gradient Descent)에 대해서 이해합니다.\n",
    "\n"
   ]
  },
  {
   "cell_type": "markdown",
   "metadata": {
    "id": "TLiN4EkrqV-t"
   },
   "source": [
    "### 2.1.1 데이터에 대한 이해(Data Definition)"
   ]
  },
  {
   "cell_type": "markdown",
   "metadata": {
    "id": "TyZHtHebqak8"
   },
   "source": [
    "이번 챕터에서 선형 회귀를 위해 사용할 예제는 공부한 시간과 점수에 대한 상관관계입니다.\n",
    "\n",
    "1. 훈련 데이터셋과 테스트 데이터셋\n",
    "\n",
    "![](https://wikidocs.net/images/page/53560/data_definition.PNG)\n",
    "\n",
    "어떤 학생이 1시간 공부를 했더니 2점, 다른 학생이 2시간 공부를 했더니 4점, 또 다른 학생이 3시간을 공부했더니 6점을 맞았습니다. \n",
    "\n",
    "그렇다면, 내가 4시간을 공부한다면 몇 점을 맞을 수 있을까요?\n",
    "\n",
    "![](https://wikidocs.net/images/page/53560/linear_regression.PNG)\n",
    "\n",
    "이 질문에 대답하기 위해서 1시간, 2시간, 3시간을 공부했을 때 각각 2점, 4점, 6점이 나왔다는 앞서 나온 정보를 이용해야 합니다. \n",
    "\n",
    "이때 예측을 위해 사용하는 데이터를 훈련 데이터셋(training dataset)이라고 합니다. \n",
    "\n",
    "학습이 끝난 후, 이 모델이 얼마나 잘 작동하는지 판별하는 데이터셋을 테스트 데이터셋(test dataset)이라고 합니다.\n",
    "\n",
    "2. 훈련 데이터셋의 구성\n",
    "\n",
    "앞서 텐서에 대해서 배웠는데, 모델을 학습시키기 위한 데이터는 파이토치의 텐서의 형태(torch.tensor)를 가지고 있어야 합니다. \n",
    "\n",
    "그리고 입력과 출력을 각기 다른 텐서에 저장할 필요가 있습니다. \n",
    "\n",
    "이때 보편적으로 입력은 x, 출력은 y를 사용하여 표기합니다.\n",
    "\n",
    "여기서 x_train은 공부한 시간, y_train은 그에 맵핑되는 점수를 의미합니다."
   ]
  },
  {
   "cell_type": "code",
   "execution_count": 2,
   "metadata": {
    "id": "fs8u9r-D9eB5"
   },
   "outputs": [],
   "source": [
    "import torch"
   ]
  },
  {
   "cell_type": "code",
   "execution_count": 3,
   "metadata": {
    "id": "gDfxJLbaq2Lg"
   },
   "outputs": [],
   "source": [
    "x_train = torch.FloatTensor([[1], \n",
    "                             [2], \n",
    "                             [3]])\n",
    "y_train = torch.FloatTensor([[2], \n",
    "                             [4], \n",
    "                             [6]])"
   ]
  },
  {
   "cell_type": "markdown",
   "metadata": {
    "id": "gO_63v6Sq6Ja"
   },
   "source": [
    "![](https://wikidocs.net/images/page/53560/tensor1.PNG)\n",
    "\n",
    "이제 모델의 가설을 세워보겠습니다."
   ]
  },
  {
   "cell_type": "markdown",
   "metadata": {
    "id": "rc-Gi9B_q_og"
   },
   "source": [
    "### 2.1.2 가설(Hypothesis) 수립"
   ]
  },
  {
   "cell_type": "markdown",
   "metadata": {
    "id": "4vMVbRYkrHqv"
   },
   "source": [
    "머신 러닝에서 식을 세울때 이 식을 가설(Hypothesis)라고 합니다. \n",
    "\n",
    "보통 머신 러닝에서 가설은 임의로 추측해서 세워보는 식일수도 있고, 경험적으로 알고 있는 식일 수도 있습니다. \n",
    "\n",
    "그리고 맞는 가설이 아니라고 판단되면 계속 수정해나가게 되는 식이기도 합니다.\n",
    "\n",
    "선형 회귀의 가설은 이미 널리 알려져있으므로 고민할 필요가 없습니다. \n",
    "\n",
    "선형 회귀란 학습 데이터와 가장 잘 맞는 하나의 직선을 찾는 일입니다. \n",
    "\n",
    "이때 선형 회귀의 가설(직선의 방정식)은 아래와 같은 형식을 가집니다.\n",
    "\n",
    "$y=Wx+b$\n",
    "\n",
    "가설의 $H$를 따서 $y$ 대신 다음과 같이 식을 표현하기도 합니다.\n",
    "\n",
    "$H(x)=Wx+b$\n",
    "\n",
    "이때 $x$와 곱해지는 $W$를 가중치(Weight)라고 하며, $b$를 편향(bias)이라고 합니다.\n",
    "\n",
    "$W$와 $b$는 중학교 수학 과정인 직선의 방정식에서 기울기와 $y$절편에 해당됩니다.\n",
    "\n",
    "직선의 방정식 링크 : https://mathbang.net/443"
   ]
  },
  {
   "cell_type": "markdown",
   "metadata": {
    "id": "CAwKSib6rWRc"
   },
   "source": [
    "###2.1.3 비용 함수(Cost function)에 대한 이해"
   ]
  },
  {
   "cell_type": "markdown",
   "metadata": {
    "id": "_nZkSfxtrbCu"
   },
   "source": [
    "앞으로 딥 러닝을 학습하면서 인터넷에서 이런 용어들을 본다면, 전부 같은 용어로 생각하면 되겠습니다.\n",
    "\n",
    "비용 함수(cost function) = 손실 함수(loss function) = 오차 함수(error function) = 목적 함수(objective function)\n",
    "\n",
    "특히 비용 함수와 손실 함수란 용어는 기억해두는 것이 좋습니다.\n",
    "\n",
    "비용 함수에 대해서 이해하기 위해서 여기서만 잠깐 새로운 예제를 사용해보겠습니다.\n",
    "\n",
    "어떤 4개의 훈련 데이터가 있고, 이를 2차원 그래프에 4개의 점으로 표현한 상태라고 하겠습니다.\n",
    "\n",
    "![](https://wikidocs.net/images/page/53560/%EA%B7%B8%EB%A6%BC1.PNG)\n",
    "\n",
    "지금 목표는 4개의 점을 가장 잘 표현하는 직선을 그리는 일입니다. 임의로 3개의 직선을 그려보겠습니다.\n",
    "\n",
    "![](https://wikidocs.net/images/page/53560/%EA%B7%B8%EB%A6%BC2.PNG)\n",
    "\n",
    "위의 그림은 서로 다른 W와 b의 값에 따라서 천차만별로 그려진 3개의 직선의 모습을 보여줍니다. \n",
    "\n",
    "이 3개의 직선 중에서 4개의 점을 가장 잘 반영한 직선은 어떤 직선인가요? \n",
    "\n",
    "검은색 직선이라고 말하는 사람도 있을 것이고, 잘 모르겠다고 말하는 사람도 있을 것입니다. \n",
    "\n",
    "검은색 직선이라고 말하는 사람은 검은색 직선이 가장 4개의 점에 가깝게 지나가는 느낌을 받고 있기 때문입니다.\n",
    "\n",
    "하지만 수학에서 느낌이라는 표현을 사용하는 것은 아무런 의미도 없습니다. \n",
    "\n",
    "어떤 직선이 가장 적절한 직선인지를 수학적인 근거를 대서 표현할 수 있어야 합니다. \n",
    "\n",
    "그래서 오차(error)라는 개념을 도입하겠습니다.\n",
    "\n",
    "![](https://wikidocs.net/images/page/53560/%EA%B7%B8%EB%A6%BC3.PNG)\n",
    "\n",
    "위 그림은 임의로 그려진 주황색 선에 대해서 각 실제값(4개의 점)과 직선의 예측값(동일한 $x$값에서의 직선의 $y$값)에 대한 값의 차이를 빨간색 화살표 ↕로 표현한 것입니다. \n",
    "\n",
    "각 실제값과 각 예측값과의 차이고, 이를 각 실제값에서의 오차라고 말할 수 있습니다. \n",
    "\n",
    "이 직선의 예측값들과 실제값들과의 총 오차(total error)는 어떻게 구할까요? \n",
    "\n",
    "직관적으로 생각하기에 모든 오차를 다 더하면 될 것 같습니다. \n",
    "\n",
    "각 오차를 전부 더해봅시다.\n",
    "\n",
    "위 주황색 직선의 식은 $y=13x+1$이며, 각 오차는 다음과 같습니다.\n",
    "\n",
    "|hours(x)|2|3|4|5|\n",
    "|--------|-|-|-|-|\n",
    "|실제값|25|50|42|61|\n",
    "|예측값|27|40|53|66|\n",
    "|오차|-2|10|-7|-5|\n",
    "\n",
    "각 오차를 계산해봤습니다. \n",
    "\n",
    "그런데 수식적으로 단순히 '오차 = 실제값 - 예측값'으로 정의하면 오차값이 음수가 나오는 경우가 생깁니다. \n",
    "\n",
    "예를 들어 위의 표에서만 봐도 오차가 음수인 경우가 3번이나 됩니다.\n",
    "\n",
    "이 경우, 오차를 모두 더하면 덧셈 과정에서 오차값이 +가 되었다가 -되었다가 하므로 제대로 된 오차의 크기를 측정할 수 없습니다. \n",
    "\n",
    "그래서 오차를 그냥 전부 더하는 것이 아니라, 각 오차들을 제곱해준 뒤에 전부 더하겠습니다.\n",
    "\n",
    "이를 수식으로 표현하면 아래와 같습니다. \n",
    "\n",
    "단, 여기서 n은 갖고 있는 데이터의 개수를 의미합니다.\n",
    "\n",
    "$∑i=1n[y(i)−H(x(i))]^2=(−2)^2+10^2+(−7)^2+(−5)^2=178$\n",
    "\n",
    "이때 데이터의 개수인 n으로 나누면, 오차의 제곱합에 대한 평균을 구할 수 있는데 이를 평균 제곱 오차(Mean Squared Error, MSE)라고 합니다. \n",
    "\n",
    "수식은 아래와 같습니다.\n",
    "\n",
    "$1n∑i=1n[y(i)−H(x(i))]^2=178/4=44.5$\n",
    "\n",
    "이를 실제로 계산하면 44.5가 됩니다. \n",
    "\n",
    "이는 $y=13x+1$의 예측값과 실제값의 평균 제곱 오차의 값이 44.5임을 의미합니다.\n",
    "\n",
    "평균 제곱 오차는 이번 회귀 문제에서 적절한 $W$와 $b$를 찾기위해서 최적화된 식입니다. \n",
    "\n",
    "그 이유는 평균 제곱 오차의 값을 최소값으로 만드는 $W$와 $b$를 찾아내는 것이 가장 훈련 데이터를 잘 반영한 직선을 찾아내는 일이기 때문입니다.\n",
    "\n",
    "평균 제곱 오차를 $W$와 $b$에 의한 비용 함수(Cost function)로 재정의해보면 다음과 같습니다.\n",
    "\n",
    "$cost(W,b)=1n∑i=1n[y(i)−H(x(i))]^2$\n",
    "\n",
    "다시 정리하겠습니다. \n",
    "\n",
    "$Cost(W,b)$를 최소가 되게 만드는 $W$와 $b$를 구하면 훈련 데이터를 가장 잘 나타내는 직선을 구할 수 있습니다.\n",
    "\n"
   ]
  },
  {
   "cell_type": "markdown",
   "metadata": {
    "id": "2qZ7pi_puCAj"
   },
   "source": [
    "### 2.1.4 옵티마이저 - 경사 하강법(Gradient Descent)"
   ]
  },
  {
   "cell_type": "markdown",
   "metadata": {
    "id": "lf6xa-OwuOSJ"
   },
   "source": [
    "이제 앞서 정의한 비용 함수(Cost Function)의 값을 최소로 하는 $W$와 $b$를 찾는 방법에 대해서 배울 차례입니다. \n",
    "\n",
    "이때 사용되는 것이 옵티마이저(Optimizer) 알고리즘입니다. \n",
    "\n",
    "최적화 알고리즘이라고도 부릅니다. \n",
    "\n",
    "그리고 이 옵티마이저 알고리즘을 통해 적절한 $W$와 $b$를 찾아내는 과정을 머신 러닝에서 학습(training)이라고 부릅니다. \n",
    "\n",
    "여기서는 가장 기본적인 옵티마이저 알고리즘인 경사 하강법(Gradient Descent)에 대해서 배웁니다.\n",
    "\n",
    "이번 설명에서 편향 $b$는 고려하지 않겠습니다. \n",
    "\n",
    "즉, $b$가 0이라고 가정한 $y=Wx$와 같은 식을 기준으로 설명합니다.\n",
    "\n",
    "![](https://wikidocs.net/images/page/53560/%EA%B7%B8%EB%A6%BC4.PNG)\n",
    "\n",
    "가중치 $W$가 직선의 방정식에서는 기울기였음을 기억합시다. \n",
    "\n",
    "이제 $W$를 기울기라고 명명하고 설명합니다.\n",
    "\n",
    "위의 그림에서 주황색선은 기울기 $W$가 20일 때, 초록색선은 기울기 $W$가 1일 때를 보여줍니다. \n",
    "\n",
    "다시 말하면 각각 $y=20x$, $y=x$에 해당되는 직선입니다. \n",
    "\n",
    "↕는 각 점에서의 실제값과 두 직선의 예측값과의 오차를 보여줍니다. \n",
    "\n",
    "이는 앞서 예측에 사용했던 $y=13x+1$ 직선보다 확연히 큰 오차값들입니다. \n",
    "\n",
    "즉, 기울기가 지나치게 크면 실제값과 예측값의 오차가 커지고, 기울기가 지나치게 작아도 실제값과 예측값의 오차가 커집니다. \n",
    "\n",
    "사실 $b$ 또한 마찬가지인데 $b$가 지나치게 크거나 작으면 오차가 커집니다.\n",
    "\n",
    "설명의 편의를 위해 편향 $b$가 없이 단순히 가중치 $W$만을 사용한 $H(x)=Wx$라는 가설을 가지고, 경사 하강법을 설명하겠습니다. \n",
    "\n",
    "비용 함수의 값 $cost(W)$는 $cost$라고 줄여서 표현해보겠습니다. \n",
    "\n",
    "이에 따라 $W$와 $cost$의 관계를 그래프로 표현하면 다음과 같습니다.\n",
    "\n",
    "![](https://wikidocs.net/images/page/21670/%EA%B8%B0%EC%9A%B8%EA%B8%B0%EC%99%80%EC%BD%94%EC%8A%A4%ED%8A%B8.PNG)\n",
    "\n",
    "기울기 $W$가 무한대로 커지면 커질 수록 $cost$의 값 또한 무한대로 커지고, 반대로 기울기 $W$가 무한대로 작아져도 $cost$의 값은 무한대로 커집니다. \n",
    "\n",
    "위의 그래프에서 $cost$가 가장 작을 때는 맨 아래의 볼록한 부분입니다. \n",
    "\n",
    "기계가 해야할 일은 $cost$가 가장 최소값을 가지게 하는 W를 찾는 일이므로, 맨 아래의 볼록한 부분의 $W$의 값을 찾아야 합니다.\n",
    "\n",
    "![](https://wikidocs.net/images/page/21670/%EA%B2%BD%EC%82%AC%ED%95%98%EA%B0%95%EB%B2%95.PNG)\n",
    "\n",
    "기계는 임의의 초기값 $W$값을 정한 뒤에, 맨 아래의 볼록한 부분을 향해 점차 $W$의 값을 수정해나갑니다. \n",
    "\n",
    "위의 그림은 $W$값이 점차 수정되는 과정을 보여줍니다. \n",
    "\n",
    "그리고 이를 가능하게 하는 것이 경사 하강법(Gradient Descent)입니다. \n",
    "\n",
    "이를 이해하기 위해서는 고등학교 수학 과정인 미분을 이해해야 합니다. \n",
    "\n",
    "경사 하강법은 미분을 배우게 되면 가장 처음 배우게 되는 개념인 한 점에서의 순간 변화율 또는 접선에서의 기울기의 개념을 사용합니다.\n",
    "\n",
    "![](https://wikidocs.net/images/page/21670/%EC%A0%91%EC%84%A0%EC%9D%98%EA%B8%B0%EC%9A%B8%EA%B8%B01.PNG)\n",
    "\n",
    "위의 그림에서 초록색 선은 W가 임의의 값을 가지게 되는 네 가지의 경우에 대해서, 그래프 상으로 접선의 기울기를 보여줍니다. \n",
    "\n",
    "주목할 것은 맨 아래의 볼록한 부분으로 갈수록 접선의 기울기가 점차 작아진다는 점입니다. \n",
    "\n",
    "그리고 맨 아래의 볼록한 부분에서는 결국 접선의 기울기가 0이 됩니다. \n",
    "\n",
    "그래프 상으로는 초록색 화살표가 수평이 되는 지점입니다.\n",
    "\n",
    "즉, cost가 최소화가 되는 지점은 접선의 기울기가 0이 되는 지점이며, 또한 미분값이 0이 되는 지점입니다. \n",
    "\n",
    "경사 하강법의 아이디어는 비용 함수(Cost function)를 미분하여 현재 $W$에서의 접선의 기울기를 구하고, 접선의 기울기가 낮은 방향으로 $W$의 값을 변경하는 작업을 반복하는 것에 있습니다.\n",
    "\n",
    "이 반복 작업에는 현재 $W$에 접선의 기울기를 구해 특정 숫자 $α$를 곱한 값을 빼서 새로운 $W$로 사용하는 식이 사용됩니다.\n",
    "\n",
    "$기울기 = \\frac{∂cost(W)}{∂W}$\n",
    "\n",
    "기울기가 음수일 때와 양수일 때 어떻게 $W$ 값이 조정되는지 보겠습니다.\n",
    "\n",
    "* 기울기가 음수일 때 : $W$의 값이 증가\n",
    "\n",
    "$W := W - α × (음수 기울기) = W + α × (양수 기울기)$\n",
    "\n",
    "기울기가 음수면 $W$의 값이 증가하는데 이는 결과적으로 접선의 기울기가 0인 방향으로 $W$의 값이 조정됩니다.\n",
    "\n",
    "만약, 접선의 기울기가 양수라면 위의 수식은 아래와 같이 표현할 수 있습니다.\n",
    "\n",
    "* 기울기가 양수일 때 : $W$의 값이 감소\n",
    "\n",
    "$W := W - α × (양수 기울기)$\n",
    "\n",
    "기울기가 양수면 $W$의 값이 감소하게 되는데 이는 결과적으로 기울기가 0인 방향으로 $W$의 값이 조정됩니다. \n",
    "\n",
    "즉, 아래의 수식은 접선의 기울기가 음수거나, 양수일 때 모두 접선의 기울기가 0인 방향으로 $W$의 값을 조정합니다.\n",
    "\n",
    "$W := W - α\\frac{∂}{∂W}cost(W)$\n",
    "\n",
    "그렇다면 여기서 학습률(learning rate)이라고 말하는 $α$는 어떤 의미를 가질까요? \n",
    "\n",
    "학습률 $α$은 $W$의 값을 변경할 때, 얼마나 크게 변경할지를 결정합니다. \n",
    "\n",
    "또는 $W$를 그래프의 한 점으로보고 접선의 기울기가 0일 때까지 경사를 따라 내려간다는 관점에서는 얼마나 큰 폭으로 이동할지를 결정합니다. \n",
    "\n",
    "직관적으로 생각하기에 학습률 $α$의 값을 무작정 크게 하면 접선의 기울기가 최소값이 되는 $W$를 빠르게 찾을 수 있을 것같지만 그렇지 않습니다.\n",
    "\n",
    "![](https://wikidocs.net/images/page/21670/%EA%B8%B0%EC%9A%B8%EA%B8%B0%EB%B0%9C%EC%82%B0.PNG)\n",
    "\n",
    "위의 그림은 학습률 $α$가 지나치게 높은 값을 가질 때, 접선의 기울기가 0이 되는 $W$를 찾아가는 것이 아니라 $W$의 값이 발산하는 상황을 보여줍니다. \n",
    "\n",
    "반대로 학습률 $α$가 지나치게 낮은 값을 가지면 학습 속도가 느려지므로 적당한 $α$의 값을 찾아내는 것도 중요합니다.\n",
    "\n",
    "지금까지는 $b$는 배제시키고 최적의 $W$를 찾아내는 것에만 초점을 맞추어 경사 하강법의 원리에 대해서 배웠는데, 실제 경사 하강법은 $W$와 $b$에 대해서 동시에 경사 하강법을 수행하면서 최적의 $W$와 $b$의 값을 찾아갑니다.\n",
    "\n",
    "가설, 비용 함수, 옵티마이저는 머신 러닝 분야에서 사용되는 포괄적 개념입니다.\n",
    "\n",
    "풀고자하는 각 문제에 따라 가설, 비용 함수, 옵티마이저는 전부 다를 수 있으며 선형 회귀에 가장 적합한 비용 함수는 평균 제곱 오차, 옵티마이저는 경사 하강법입니다.\n",
    "\n",
    "이제 가설, 비용 함수, 옵티마이저에 대해서 학습하였으니 파이토치로 구현해보겠습니다.\n"
   ]
  },
  {
   "cell_type": "markdown",
   "metadata": {
    "id": "YQx5Xn29d0vw"
   },
   "source": [
    "### 2.1.5 파이토치로 선형 회귀 구현하기"
   ]
  },
  {
   "cell_type": "markdown",
   "metadata": {
    "id": "7ZsMUoamjE-3"
   },
   "source": [
    "우선 실습을 위해 파이토치의 도구들을 임포트하는 기본 셋팅을 진행합니다."
   ]
  },
  {
   "cell_type": "code",
   "execution_count": 4,
   "metadata": {
    "ExecuteTime": {
     "end_time": "2020-04-06T10:20:23.208265Z",
     "start_time": "2020-04-06T10:20:22.556977Z"
    },
    "colab": {
     "base_uri": "https://localhost:8080/"
    },
    "id": "jP84GlYgd0vx",
    "outputId": "9ca45e36-6183-4d7b-c0c7-f87e636fb75a"
   },
   "outputs": [
    {
     "data": {
      "text/plain": [
       "<torch._C.Generator at 0x7f62f95e7c60>"
      ]
     },
     "execution_count": 4,
     "metadata": {
      "tags": []
     },
     "output_type": "execute_result"
    }
   ],
   "source": [
    "import torch\n",
    "import torch.nn as nn\n",
    "import torch.nn.functional as F\n",
    "import torch.optim as optim\n",
    "\n",
    "torch.manual_seed(1) # 파이썬 코드를 재실행해도 같은 결과가 나오도록 랜덤 시드(random seed)를 준다."
   ]
  },
  {
   "cell_type": "markdown",
   "metadata": {
    "id": "qxtdSxLDjYuh"
   },
   "source": [
    "실습을 위한 기본적인 셋팅이 끝났습니다. 이제 훈련 데이터인 x_train과 y_train을 선언합니다."
   ]
  },
  {
   "cell_type": "code",
   "execution_count": 5,
   "metadata": {
    "ExecuteTime": {
     "end_time": "2020-04-06T10:20:23.784695Z",
     "start_time": "2020-04-06T10:20:23.779709Z"
    },
    "id": "hOLXgukjd0v2"
   },
   "outputs": [],
   "source": [
    "x_train = torch.FloatTensor([[1],\n",
    "                            [2],\n",
    "                            [3]])\n",
    "y_train = torch.FloatTensor([[2],\n",
    "                            [4],\n",
    "                            [6]])"
   ]
  },
  {
   "cell_type": "markdown",
   "metadata": {
    "id": "zaK7zhfIjc3z"
   },
   "source": [
    "x_train과 x_train의 크기(shape)를 출력해보겠습니다."
   ]
  },
  {
   "cell_type": "code",
   "execution_count": 6,
   "metadata": {
    "colab": {
     "base_uri": "https://localhost:8080/"
    },
    "id": "1fA6PCMojqxx",
    "outputId": "6f4ea729-7d4b-46ef-f467-6a6885fe3385"
   },
   "outputs": [
    {
     "name": "stdout",
     "output_type": "stream",
     "text": [
      "tensor([[1.],\n",
      "        [2.],\n",
      "        [3.]])\n",
      "torch.Size([3, 1])\n"
     ]
    }
   ],
   "source": [
    "print(x_train)\n",
    "print(x_train.shape)"
   ]
  },
  {
   "cell_type": "markdown",
   "metadata": {
    "id": "XESoGLTcjrlD"
   },
   "source": [
    "x_train의 값이 출력되고, x_train의 크기가 (3 × 1)임을 알 수 있습니다.\n",
    "\n",
    "y_train과 y_train의 크기(shape)를 출력해보겠습니다."
   ]
  },
  {
   "cell_type": "code",
   "execution_count": 7,
   "metadata": {
    "colab": {
     "base_uri": "https://localhost:8080/"
    },
    "id": "-_BahKRhjeEq",
    "outputId": "80aed5a0-fd76-4a80-8c84-65d4ee538778"
   },
   "outputs": [
    {
     "name": "stdout",
     "output_type": "stream",
     "text": [
      "tensor([[2.],\n",
      "        [4.],\n",
      "        [6.]])\n",
      "torch.Size([3, 1])\n"
     ]
    }
   ],
   "source": [
    "print(y_train)\n",
    "print(y_train.shape)"
   ]
  },
  {
   "cell_type": "markdown",
   "metadata": {
    "id": "raz-wYhVjh6K"
   },
   "source": [
    "y_train의 값이 출력되고, y_train의 크기가 (3 × 1)임을 알 수 있습니다."
   ]
  },
  {
   "cell_type": "markdown",
   "metadata": {
    "id": "djzE_YxDj54K"
   },
   "source": [
    "선형 회귀란 학습 데이터와 가장 잘 맞는 하나의 직선을 찾는 일입니다.\n",
    "\n",
    "그리고 가장 잘 맞는 직선을 정의하는 것은 바로 W와 b입니다.\n",
    "\n",
    "w와 b로 이루어진 직선은 다음과 같습니다.\n",
    "\n",
    "$y = W*x + b$\n",
    "\n",
    "선형 회귀의 목표는 가장 잘 맞는 직선을 정의하는 W와 b의 값을 찾는 것입니다.\n",
    "\n",
    "우선 가중치 W를 0으로 초기화하고, 이 값을 출력해보겠습니다."
   ]
  },
  {
   "cell_type": "code",
   "execution_count": 10,
   "metadata": {
    "ExecuteTime": {
     "end_time": "2020-04-06T10:20:25.008452Z",
     "start_time": "2020-04-06T10:20:24.995473Z"
    },
    "colab": {
     "base_uri": "https://localhost:8080/"
    },
    "id": "bzZX6w88d0v5",
    "outputId": "ed4b8c36-0f92-40fd-94f5-6c8b2dd99719",
    "scrolled": true
   },
   "outputs": [
    {
     "name": "stdout",
     "output_type": "stream",
     "text": [
      "tensor([0.], requires_grad=True)\n"
     ]
    }
   ],
   "source": [
    "# 가중치 W를 0으로 초기화하고 학습을 통해 값이 변경되는 변수임을 명시함.\n",
    "\n",
    "W = torch.zeros(1, requires_grad=True) \n",
    "\n",
    "# requres_grad=True는 텐서에 행해지는 모든 연산에 대해 미분값을 계산한다.\n",
    "\n",
    "# 학습을 통해 계속 값이 변경되는 변수임을 의미한다.\n",
    "\n",
    "print(W)"
   ]
  },
  {
   "cell_type": "markdown",
   "metadata": {
    "id": "2nuhFtq-kbHW"
   },
   "source": [
    "가중치 W가 0으로 초기화되어있으므로 0이 출력된 것을 확인할 수 있습니다. 위에서 requires_grad=True가 인자로 주어진 것을 확인할 수 있습니다. 이는 이 변수는 학습을 통해 계속 값이 변경되는 변수임을 의미합니다.\n",
    "\n",
    "마찬가지로 편향 b도 0으로 초기화하고, 학습을 통해 값이 변경되는 변수임을 명시합니다."
   ]
  },
  {
   "cell_type": "code",
   "execution_count": 11,
   "metadata": {
    "colab": {
     "base_uri": "https://localhost:8080/"
    },
    "id": "C5eUTw4gkeo2",
    "outputId": "5ac5c009-89f5-4eea-8c38-c6420fc646ca"
   },
   "outputs": [
    {
     "name": "stdout",
     "output_type": "stream",
     "text": [
      "tensor([0.], requires_grad=True)\n"
     ]
    }
   ],
   "source": [
    "b = torch.zeros(1, requires_grad=True)\n",
    "print(b)"
   ]
  },
  {
   "cell_type": "markdown",
   "metadata": {
    "id": "69Nk33f_d0v8"
   },
   "source": [
    "현재 가중치 $W$와 $b$ 둘 다 0이므로 현 직선의 방정식은 다음과 같습니다.\n",
    "\n",
    "$y=0×x+0$\n",
    "\n",
    "지금 상태에선 $x$에 어떤 값이 들어가도 가설은 0을 예측하게 됩니다. \n",
    "\n",
    "즉, 아직 적절한 $W$와 $b$의 값이 아닙니다.\n",
    "\n",
    "파이토치 코드 상으로 직선의 방정식에 해당되는 가설을 선언합니다."
   ]
  },
  {
   "cell_type": "code",
   "execution_count": 12,
   "metadata": {
    "ExecuteTime": {
     "end_time": "2020-04-06T10:20:26.288999Z",
     "start_time": "2020-04-06T10:20:26.284013Z"
    },
    "colab": {
     "base_uri": "https://localhost:8080/"
    },
    "id": "hO067OWUd0v9",
    "outputId": "1e27415e-bdbf-48f6-a0ce-6a98274ce9c9"
   },
   "outputs": [
    {
     "name": "stdout",
     "output_type": "stream",
     "text": [
      "tensor([[0.],\n",
      "        [0.],\n",
      "        [0.]], grad_fn=<AddBackward0>)\n",
      "torch.Size([3, 1])\n"
     ]
    }
   ],
   "source": [
    "hypothesis = W * x_train + b\n",
    "print(hypothesis)\n",
    "print(hypothesis.size())"
   ]
  },
  {
   "cell_type": "markdown",
   "metadata": {
    "id": "x0xQYqxTlCof"
   },
   "source": [
    "파이토치 코드 상으로 선형 회귀의 비용 함수에 해당되는 평균 제곱 오차를 선언합니다."
   ]
  },
  {
   "cell_type": "markdown",
   "metadata": {
    "id": "bRNvS7lBd0wC"
   },
   "source": [
    "$cost(W,b) = \\frac{1}{n}\\sum_{i=1}^{n}[H(x^{(i)}) - y^{(i)}]^{2}$"
   ]
  },
  {
   "cell_type": "code",
   "execution_count": 13,
   "metadata": {
    "colab": {
     "base_uri": "https://localhost:8080/"
    },
    "id": "ADhoRW1ilH8I",
    "outputId": "31e6bc33-25f4-49b2-bab3-f460c28ae624"
   },
   "outputs": [
    {
     "name": "stdout",
     "output_type": "stream",
     "text": [
      "tensor(18.6667, grad_fn=<MeanBackward0>)\n"
     ]
    }
   ],
   "source": [
    "# 앞서 배운 torch.mean으로 평균을 구한다.\n",
    "cost = torch.mean((hypothesis - y_train) ** 2) \n",
    "print(cost)"
   ]
  },
  {
   "cell_type": "markdown",
   "metadata": {
    "id": "WeQcIL85lmsl"
   },
   "source": [
    "이제 경사 하강법을 구현합니다. \n",
    "\n",
    "아래의 'SGD'는 경사 하강법의 일종입니다. \n",
    "\n",
    "lr은 학습률(learning rate)를 의미합니다.\n",
    "\n",
    "학습 대상인 $W$와 $b$가 SGD의 입력이 됩니다.\n",
    "\n"
   ]
  },
  {
   "cell_type": "code",
   "execution_count": 14,
   "metadata": {
    "ExecuteTime": {
     "end_time": "2020-04-06T10:20:28.518041Z",
     "start_time": "2020-04-06T10:20:28.514076Z"
    },
    "id": "wTvJRn2Ad0wF"
   },
   "outputs": [],
   "source": [
    "optimizer = optim.SGD([W, b], lr=0.01) \n",
    "#학습 대상인 W와 b가 SGD에 입력된다. lr은 학습률(learnign rate)을 의미한다."
   ]
  },
  {
   "cell_type": "code",
   "execution_count": 15,
   "metadata": {
    "ExecuteTime": {
     "end_time": "2020-04-06T10:20:29.123440Z",
     "start_time": "2020-04-06T10:20:29.114457Z"
    },
    "id": "LGAuHQePd0wI"
   },
   "outputs": [],
   "source": [
    "optimizer.zero_grad() # 미분을 통해 얻은 기울기를 0으로 초기화한다. \n",
    "\n",
    "cost.backward() # 가중치 W와 편향 b에 대한 기울기가 계산된다.\n",
    "\n",
    "optimizer.step() # 인수로 들어갔던 W와 b에 리턴되는 변수들의 기울기에 학습률을 곱하여 빼줌으로써 업데이트한다."
   ]
  },
  {
   "cell_type": "markdown",
   "metadata": {
    "id": "lwwX09lSl2p0"
   },
   "source": [
    "optimizer.zero_grad()를 실행하므로서 미분을 통해 얻은 기울기를 0으로 초기화합니다. \n",
    "\n",
    "기울기를 초기화해야만 새로운 가중치와 편향에 대해서 새로운 기울기를 구할 수 있습니다. \n",
    "\n",
    "그 다음 cost.backward() 함수를 호출하면 가중치 W와 편향 b에 대한 기울기가 계산됩니다.\n",
    "\n",
    "그 다음 경사 하강법 최적화 함수 opimizer의 .step() 함수를 호출하여 인수로 들어갔던 W와 b에서 리턴되는 변수들의 기울기에 학습률(learining rate) 0.01을 곱하여 빼줌으로서 업데이트합니다.\n",
    "\n",
    "* 텐서에는 requires_grad라는 속성이 있습니다. 이것을 True로 설정하면 자동 미분 기능이 적용됩니다. 선형 회귀부터 신경망과 같은 복잡한 구조에서 파라미터들이 모두 이 기능이 적용됩니다. requires_grad = True가 적용된 텐서에 연산을 하면, 계산 그래프가 생성되며 backward 함수를 호출하면 그래프로부터 자동으로 미분이 계산됩니다.\n",
    "\n",
    "\n",
    "* requires_grad=True와 backward()에 대한 정리는 자동 미분(Autograd) 챕터에 별도 정리하였습니다.\n"
   ]
  },
  {
   "cell_type": "code",
   "execution_count": 17,
   "metadata": {
    "colab": {
     "base_uri": "https://localhost:8080/"
    },
    "id": "cPg7PGbGEMEi",
    "outputId": "c35e0121-23ce-4d3e-be8e-f10c0801184c"
   },
   "outputs": [
    {
     "name": "stdout",
     "output_type": "stream",
     "text": [
      "tensor([0.1867], requires_grad=True)\n",
      "tensor([0.0800], requires_grad=True)\n"
     ]
    }
   ],
   "source": [
    "print(W)\n",
    "print(b)"
   ]
  },
  {
   "cell_type": "markdown",
   "metadata": {
    "id": "-1HFCn_Rd0wL"
   },
   "source": [
    "여기까지를 다시 한번에 보자"
   ]
  },
  {
   "cell_type": "code",
   "execution_count": 18,
   "metadata": {
    "ExecuteTime": {
     "end_time": "2020-04-06T10:20:30.721158Z",
     "start_time": "2020-04-06T10:20:30.170649Z"
    },
    "colab": {
     "base_uri": "https://localhost:8080/"
    },
    "id": "MRCt3e-Sd0wL",
    "outputId": "52f08fc2-5b98-481b-d33e-12817ef3488e"
   },
   "outputs": [
    {
     "name": "stdout",
     "output_type": "stream",
     "text": [
      "Epoch 0/2000 W: 0.187 b: 0.08 Cost: 18.667\n",
      "Epoch 100/2000 W: 1.746 b: 0.578 Cost: 0.048\n",
      "Epoch 200/2000 W: 1.8 b: 0.454 Cost: 0.03\n",
      "Epoch 300/2000 W: 1.843 b: 0.357 Cost: 0.018\n",
      "Epoch 400/2000 W: 1.876 b: 0.281 Cost: 0.011\n",
      "Epoch 500/2000 W: 1.903 b: 0.221 Cost: 0.007\n",
      "Epoch 600/2000 W: 1.924 b: 0.174 Cost: 0.004\n",
      "Epoch 700/2000 W: 1.94 b: 0.136 Cost: 0.003\n",
      "Epoch 800/2000 W: 1.953 b: 0.107 Cost: 0.002\n",
      "Epoch 900/2000 W: 1.963 b: 0.084 Cost: 0.001\n",
      "Epoch 1000/2000 W: 1.971 b: 0.066 Cost: 0.001\n",
      "Epoch 1100/2000 W: 1.977 b: 0.052 Cost: 0.0\n",
      "Epoch 1200/2000 W: 1.982 b: 0.041 Cost: 0.0\n",
      "Epoch 1300/2000 W: 1.986 b: 0.032 Cost: 0.0\n",
      "Epoch 1400/2000 W: 1.989 b: 0.025 Cost: 0.0\n",
      "Epoch 1500/2000 W: 1.991 b: 0.02 Cost: 0.0\n",
      "Epoch 1600/2000 W: 1.993 b: 0.016 Cost: 0.0\n",
      "Epoch 1700/2000 W: 1.995 b: 0.012 Cost: 0.0\n",
      "Epoch 1800/2000 W: 1.996 b: 0.01 Cost: 0.0\n",
      "Epoch 1900/2000 W: 1.997 b: 0.008 Cost: 0.0\n",
      "Epoch 2000/2000 W: 1.997 b: 0.006 Cost: 0.0\n"
     ]
    }
   ],
   "source": [
    "import torch\n",
    "import torch.nn as nn\n",
    "import torch.nn.functional as F\n",
    "import torch.optim as optim\n",
    "\n",
    "torch.manual_seed(1) # 파이썬 코드를 재실행해도 같은 결과가 나오도록 랜덤 시드(random seed)를 준다.\n",
    "\n",
    "# 데이터\n",
    "x_train = torch.FloatTensor([[1],\n",
    "                             [2],\n",
    "                             [3]])\n",
    "y_train = torch.FloatTensor([[2],\n",
    "                             [4],\n",
    "                             [6]])\n",
    "\n",
    "# 모델 초기화\n",
    "W = torch.zeros(1, requires_grad=True)\n",
    "b = torch.zeros(1, requires_grad=True)\n",
    "\n",
    "# optimizer 설정\n",
    "optimizer = optim.SGD([W, b], lr=0.01)\n",
    "\n",
    "nb_epochs = 2000 # 원하는만큼 경사 하강법을 반복\n",
    "for epoch in range(nb_epochs + 1):\n",
    "    \n",
    "    # H(x) 계산\n",
    "    hypothesis = x_train * W + b\n",
    "\n",
    "    # cost 계산\n",
    "    cost = torch.mean((hypothesis - y_train) ** 2)\n",
    "\n",
    "    # cost로 H(x) 개선\n",
    "    optimizer.zero_grad()\n",
    "    cost.backward()\n",
    "    optimizer.step()\n",
    "\n",
    "    # 100번마다 로그 출력\n",
    "    if epoch % 100 == 0:\n",
    "        print(f'Epoch {epoch}/{nb_epochs} W: {round(W.item(),3)} b: {round(b.item(),3)} Cost: {round(cost.item(),3)}')"
   ]
  },
  {
   "cell_type": "markdown",
   "metadata": {
    "id": "4rUTt-cSmnGc"
   },
   "source": [
    "결과적으로 훈련 과정에서 $W$와 $b$는 훈련 데이터와 잘 맞는 직선을 표현하기 위한 적절한 값으로 변화해갑니다.\n",
    "\n",
    "에포크(Epoch)는 전체 훈련 데이터가 학습에 한 번 사용된 주기를 말합니다.\n",
    "\n",
    "이번 실습의 경우 2,000번을 수행했습니다.\n",
    "\n",
    "최종 훈련 결과를 보면 최적의 기울기 W는 2에 가깝고, b는 0에 가까운 것을 볼 수 있습니다.\n",
    "\n",
    "현재 훈련 데이터가 x_train은 [[1], [2], [3]]이고 y_train은 [[2], [4], [6]]인 것을 감안하면\n",
    "실제 정답은 $W$가 2이고, $b$가 0인 $H(x)=2x$이므로 거의 정답을 찾은 셈입니다.\n",
    "\n"
   ]
  },
  {
   "cell_type": "markdown",
   "metadata": {
    "id": "_Dc85mBfd0wO"
   },
   "source": [
    "### 2.1.6 optimizer.zero_grad()가 필요한 이유"
   ]
  },
  {
   "cell_type": "markdown",
   "metadata": {
    "id": "uSKdSTP7d0wO"
   },
   "source": [
    "파이토치는 미분을 통해 얻은 기울기를 이전에 계산된 기울기 값에 누적시키는 특징이 있습니다. \n",
    "\n",
    "예를 들어봅시다."
   ]
  },
  {
   "cell_type": "code",
   "execution_count": 19,
   "metadata": {
    "ExecuteTime": {
     "end_time": "2020-04-06T10:20:35.297916Z",
     "start_time": "2020-04-06T10:20:35.280986Z"
    },
    "colab": {
     "base_uri": "https://localhost:8080/"
    },
    "id": "xN4uZcKXd0wP",
    "outputId": "ac06565c-011c-4449-ed6e-78c38c695a76",
    "scrolled": false
   },
   "outputs": [
    {
     "name": "stdout",
     "output_type": "stream",
     "text": [
      "수식을 w로 미분한 값:2.0\n",
      "수식을 w로 미분한 값:4.0\n",
      "수식을 w로 미분한 값:6.0\n",
      "수식을 w로 미분한 값:8.0\n",
      "수식을 w로 미분한 값:10.0\n",
      "수식을 w로 미분한 값:12.0\n",
      "수식을 w로 미분한 값:14.0\n",
      "수식을 w로 미분한 값:16.0\n",
      "수식을 w로 미분한 값:18.0\n",
      "수식을 w로 미분한 값:20.0\n",
      "수식을 w로 미분한 값:22.0\n",
      "수식을 w로 미분한 값:24.0\n",
      "수식을 w로 미분한 값:26.0\n",
      "수식을 w로 미분한 값:28.0\n",
      "수식을 w로 미분한 값:30.0\n",
      "수식을 w로 미분한 값:32.0\n",
      "수식을 w로 미분한 값:34.0\n",
      "수식을 w로 미분한 값:36.0\n",
      "수식을 w로 미분한 값:38.0\n",
      "수식을 w로 미분한 값:40.0\n",
      "수식을 w로 미분한 값:42.0\n"
     ]
    }
   ],
   "source": [
    "import torch\n",
    "w = torch.tensor(2.0, requires_grad=True)\n",
    "\n",
    "nb_epochs = 20\n",
    "for epoch in range(nb_epochs+1):\n",
    "    \n",
    "    z=2*w\n",
    "    \n",
    "    z.backward()\n",
    "    print(f'수식을 w로 미분한 값:{w.grad}')"
   ]
  },
  {
   "cell_type": "markdown",
   "metadata": {
    "id": "WHZB3BlMd0wV"
   },
   "source": [
    "계속해서 미분값인 2가 누적되는 것을 볼 수 있습니다. \n",
    "\n",
    "그렇기 때문에 optimizer.zero_grad()를 통해 미분값을 계속 0으로 초기화시켜줘야 합니다."
   ]
  },
  {
   "cell_type": "markdown",
   "metadata": {
    "id": "XTdk2chrnfPK"
   },
   "source": [
    "### 2.1.7 torch.manual_seed()를 하는 이유"
   ]
  },
  {
   "cell_type": "markdown",
   "metadata": {
    "id": "cp0qskfYnlAN"
   },
   "source": [
    "torch.manual_seed()를 사용한 프로그램의 결과는 다른 컴퓨터에서 실행시켜도 동일한 결과를 얻을 수 있습니다. \n",
    "\n",
    "그 이유는 torch.manual_seed()는 난수 발생 순서와 값을 동일하게 보장해준다는 특징때문입니다. \n",
    "\n",
    "우선 랜덤 시드가 3일 때 두 번 난수를 발생시켜보고, 다른 랜덤 시드를 사용한 후에 다시 랜덤 시드를 3을 사용한다면 난수 발생값이 동일하게 나오는지 보겠습니다."
   ]
  },
  {
   "cell_type": "code",
   "execution_count": 20,
   "metadata": {
    "colab": {
     "base_uri": "https://localhost:8080/"
    },
    "id": "BCLUvZXSnpgr",
    "outputId": "d7e15ac9-7b5d-4681-a05d-166715ccb282"
   },
   "outputs": [
    {
     "name": "stdout",
     "output_type": "stream",
     "text": [
      "랜덤 시드가 3일 때\n",
      "tensor([0.0043])\n",
      "tensor([0.1056])\n"
     ]
    }
   ],
   "source": [
    "import torch\n",
    "torch.manual_seed(3)\n",
    "print('랜덤 시드가 3일 때')\n",
    "for i in range(1,3):\n",
    "  print(torch.rand(1))"
   ]
  },
  {
   "cell_type": "code",
   "execution_count": 21,
   "metadata": {
    "colab": {
     "base_uri": "https://localhost:8080/"
    },
    "id": "w4L0XhtansuN",
    "outputId": "7f711e63-3152-4cfa-be1d-0d5ea5c0caa3"
   },
   "outputs": [
    {
     "name": "stdout",
     "output_type": "stream",
     "text": [
      "랜덤 시드가 5일 때\n",
      "tensor([0.8303])\n",
      "tensor([0.1261])\n"
     ]
    }
   ],
   "source": [
    "torch.manual_seed(5)\n",
    "print('랜덤 시드가 5일 때')\n",
    "for i in range(1,3):\n",
    "  print(torch.rand(1))"
   ]
  },
  {
   "cell_type": "code",
   "execution_count": 22,
   "metadata": {
    "colab": {
     "base_uri": "https://localhost:8080/"
    },
    "id": "vGoqTuxnnvcT",
    "outputId": "03a1b029-0c76-4b91-9391-8e0942c206f5"
   },
   "outputs": [
    {
     "name": "stdout",
     "output_type": "stream",
     "text": [
      "랜덤 시드가 다시 3일 때\n",
      "tensor([0.0043])\n",
      "tensor([0.1056])\n"
     ]
    }
   ],
   "source": [
    "torch.manual_seed(3)\n",
    "print('랜덤 시드가 다시 3일 때')\n",
    "for i in range(1,3):\n",
    "  print(torch.rand(1))\n"
   ]
  },
  {
   "cell_type": "markdown",
   "metadata": {
    "id": "W3bnRXved0wW"
   },
   "source": [
    "## 2.2 자동 미분(Autograd)"
   ]
  },
  {
   "cell_type": "markdown",
   "metadata": {
    "id": "1YhfI033d0wW"
   },
   "source": [
    "경사 하강법 코드를 보고있으면 requires_grad=True, backward() 등이 나옵니다.\n",
    "\n",
    "이는 파이토치에서 제공하고 있는 자동 미분(Autograd) 기능을 수행하고 있는 것입니다. \n",
    "\n",
    "파이토치의 학습 과정을 보다 더 잘 이해하기 위해서 자동 미분에 대해서 이해해봅시다."
   ]
  },
  {
   "cell_type": "markdown",
   "metadata": {
    "id": "VUTy_VgqoRK4"
   },
   "source": [
    "### 2.2.1 경사 하강법 리뷰"
   ]
  },
  {
   "cell_type": "markdown",
   "metadata": {
    "id": "Zp73phIcoVnt"
   },
   "source": [
    "![](https://wikidocs.net/images/page/21670/%EC%A0%91%EC%84%A0%EC%9D%98%EA%B8%B0%EC%9A%B8%EA%B8%B01.PNG)\n",
    "\n",
    "경사 하강법을 간단히 복습해보겠습니다. \n",
    "\n",
    "경사 하강법은 비용 함수를 미분하여 이 함수의 기울기(gradient)를 구해서 비용이 최소화 되는 방향을 찾아내는 알고리즘이었습니다.\n",
    "\n",
    "비용 함수를 손실 함수, 오차 함수라고도 부르므로 비용이 최소화 되는 방향이라는 표현 대신 손실이 최소화 되는 방향 또는 오차를 최소화 되는 방향이라고도 설명할 수 있습니다.\n",
    "\n",
    "모델이 복잡해질수록 경사 하강법을 넘파이 등으로 직접 코딩하는 것은 까다로운 일입니다. \n",
    "\n",
    "파이토치에서는 이런 수고를 하지 않도록 자동 미분(Autograd)을 지원합니다.\n",
    "\n",
    "자동 미분을 사용하면 미분 계산을 자동화하여 경사 하강법을 손쉽게 사용할 수 있게 해줍니다.\n",
    "\n"
   ]
  },
  {
   "cell_type": "markdown",
   "metadata": {
    "id": "uUm-JKGBokAq"
   },
   "source": [
    "### 2.2.2 자동 미분(Autograd) 실습하기\n"
   ]
  },
  {
   "cell_type": "markdown",
   "metadata": {
    "id": "FJheYjwDoo0n"
   },
   "source": [
    "자동 미분에 대해서 실습을 통해 이해해봅시다. \n",
    "\n",
    "임의로 $2w^2+5$라는 식을 세워보고, $w$에 대해 미분해보겠습니다.\n",
    "\n",
    "값이 2인 임의의 스칼라 텐서 $w$를 선언합니다. \n",
    "\n",
    "이때 required_grad를 True로 설정합니다. \n",
    "\n",
    "이는 이 텐서에 대한 기울기를 저장하겠다는 의미입니다. \n",
    "\n",
    "뒤에서 보겠지만, 이렇게 하면 w.grad에 $w$에 대한 미분값이 저장됩니다.\n",
    "\n"
   ]
  },
  {
   "cell_type": "code",
   "execution_count": 23,
   "metadata": {
    "id": "vVaT3gTqoxmc"
   },
   "outputs": [],
   "source": [
    "import torch\n",
    "\n",
    "w = torch.tensor(2.0, requires_grad=True)"
   ]
  },
  {
   "cell_type": "markdown",
   "metadata": {
    "id": "TJBX5ec3o_Ks"
   },
   "source": [
    "이제 수식을 정의합니다."
   ]
  },
  {
   "cell_type": "code",
   "execution_count": 24,
   "metadata": {
    "id": "0oAQG_DipBbR"
   },
   "outputs": [],
   "source": [
    "y = w**2\n",
    "z = 2*y + 5"
   ]
  },
  {
   "cell_type": "markdown",
   "metadata": {
    "id": "jXg9e9NepDTn"
   },
   "source": [
    "이제 해당 수식을 w에 대해서 미분해야합니다. \n",
    "\n",
    ".backward()를 호출하면 해당 수식의 w에 대한 기울기를 계산합니다."
   ]
  },
  {
   "cell_type": "code",
   "execution_count": 25,
   "metadata": {
    "id": "TBrQ1LVVpHBv"
   },
   "outputs": [],
   "source": [
    "z.backward()"
   ]
  },
  {
   "cell_type": "markdown",
   "metadata": {
    "id": "5ktSHINjpJDR"
   },
   "source": [
    "이제 w.grad를 출력하면 w가 속한 수식을 w로 미분한 값이 저장된 것을 확인할 수 있습니다."
   ]
  },
  {
   "cell_type": "code",
   "execution_count": 26,
   "metadata": {
    "colab": {
     "base_uri": "https://localhost:8080/"
    },
    "id": "r7U0fELMpLSZ",
    "outputId": "282f5018-c40b-4385-c345-9526918a4498"
   },
   "outputs": [
    {
     "name": "stdout",
     "output_type": "stream",
     "text": [
      "수식을 w로 미분한 값 : 8.0\n"
     ]
    }
   ],
   "source": [
    "print('수식을 w로 미분한 값 : {}'.format(w.grad))"
   ]
  },
  {
   "cell_type": "markdown",
   "metadata": {
    "id": "HAwWd1J0d0wX"
   },
   "source": [
    "## 2.3 다중 선형 회귀(Multivariable Linear regression)"
   ]
  },
  {
   "cell_type": "markdown",
   "metadata": {
    "id": "Bd4Qe8bZpime"
   },
   "source": [
    "앞서 배운 $x$가 1개인 선형 회귀를 단순 선형 회귀(Simple Linear Regression)이라고 합니다.\n",
    "\n",
    "이번 챕터에서는 다수의 $x$로부터 $y$를 예측하는 다중 선형 회귀(Multivariable Linear Regression)에 대해서 이해합니다."
   ]
  },
  {
   "cell_type": "markdown",
   "metadata": {
    "id": "4O-ydrroppQ2"
   },
   "source": [
    "### 2.3.1 데이터에 대한 이해(Data Definition)"
   ]
  },
  {
   "cell_type": "markdown",
   "metadata": {
    "id": "l943U_ICptzA"
   },
   "source": [
    "다음과 같은 훈련 데이터가 있습니다. \n",
    "\n",
    "앞서 배운 단순 선형 회귀와 다른 점은 독립 변수 $x$의 개수가 이제 1개가 아닌 3개라는 점입니다. \n",
    "\n",
    "3개의 퀴즈 점수로부터 최종 점수를 예측하는 모델을 만들어보겠습니다.\n",
    "\n",
    "![](https://wikidocs.net/images/page/54841/%ED%9B%88%EB%A0%A8%EB%8D%B0%EC%9D%B4%ED%84%B0.PNG)\n",
    "\n",
    "독립 변수 $x$의 개수가 3개므로 이를 수식으로 표현하면 아래와 같습니다.\n",
    "\n",
    "$H(x)=w1x1+w2x2+w3x3+b$"
   ]
  },
  {
   "cell_type": "markdown",
   "metadata": {
    "id": "MdmN6buQxtR4"
   },
   "source": [
    "### 2.3.2 파이토치로 구현하기"
   ]
  },
  {
   "cell_type": "markdown",
   "metadata": {
    "id": "tjWuDvTtxwxx"
   },
   "source": [
    "우선 필요한 도구들을 임포트하고 랜덤 시드를 고정합니다."
   ]
  },
  {
   "cell_type": "code",
   "execution_count": 27,
   "metadata": {
    "colab": {
     "base_uri": "https://localhost:8080/"
    },
    "id": "eZTRJOqsxxtT",
    "outputId": "18168cb6-605f-47a4-87ee-1b78af77d23a"
   },
   "outputs": [
    {
     "data": {
      "text/plain": [
       "<torch._C.Generator at 0x7f62f95e7c60>"
      ]
     },
     "execution_count": 27,
     "metadata": {
      "tags": []
     },
     "output_type": "execute_result"
    }
   ],
   "source": [
    "import torch\n",
    "import torch.nn as nn\n",
    "import torch.nn.functional as F\n",
    "import torch.optim as optim\n",
    "torch.manual_seed(1)"
   ]
  },
  {
   "cell_type": "markdown",
   "metadata": {
    "id": "2hnCkIaZx1sU"
   },
   "source": [
    "이제 훈련 데이터를 선언해보겠습니다.\n",
    "\n",
    "$H(x)=w1x1+w2x2+w3x3+b$\n",
    "\n",
    "위의 식을 보면 이번에는 단순 선형 회귀와 다르게 $x$의 개수가 3개입니다.\n",
    "\n",
    "그러니까 $x$를 3개 선언합니다."
   ]
  },
  {
   "cell_type": "code",
   "execution_count": 28,
   "metadata": {
    "id": "sypidnDLx8VI"
   },
   "outputs": [],
   "source": [
    "# 훈련 데이터\n",
    "x1_train = torch.FloatTensor([[73], [93], [89], [96], [73]])\n",
    "x2_train = torch.FloatTensor([[80], [88], [91], [98], [66]])\n",
    "x3_train = torch.FloatTensor([[75], [93], [90], [100], [70]])\n",
    "y_train = torch.FloatTensor([[152], [185], [180], [196], [142]])"
   ]
  },
  {
   "cell_type": "markdown",
   "metadata": {
    "id": "5Hugjqzvx-kb"
   },
   "source": [
    "이제 가중치 $w$와 편향 $b$를 선언합니다. \n",
    "\n",
    "가중치 $w$도 3개 선언해주어야 합니다."
   ]
  },
  {
   "cell_type": "code",
   "execution_count": 29,
   "metadata": {
    "id": "RcXQyyScyP2O"
   },
   "outputs": [],
   "source": [
    "# 가중치 w와 편향 b 초기화\n",
    "w1 = torch.zeros(1, requires_grad=True)\n",
    "w2 = torch.zeros(1, requires_grad=True)\n",
    "w3 = torch.zeros(1, requires_grad=True)\n",
    "b = torch.zeros(1, requires_grad=True)"
   ]
  },
  {
   "cell_type": "markdown",
   "metadata": {
    "id": "mwyaW5fkyTA3"
   },
   "source": [
    "이제 가설, 비용 함수, 옵티마이저를 선언한 후에 경사 하강법을 1,000회 반복합니다."
   ]
  },
  {
   "cell_type": "code",
   "execution_count": 30,
   "metadata": {
    "colab": {
     "base_uri": "https://localhost:8080/"
    },
    "id": "1DQqMIgjyWHn",
    "outputId": "12c38a71-c8e2-46f5-a781-aa0f94e40c81"
   },
   "outputs": [
    {
     "name": "stdout",
     "output_type": "stream",
     "text": [
      "Epoch    0/1000 w1: 0.294 w2: 0.294 w3: 0.297 b: 0.003 Cost: 29661.800781\n",
      "Epoch  100/1000 w1: 0.674 w2: 0.661 w3: 0.676 b: 0.008 Cost: 1.563628\n",
      "Epoch  200/1000 w1: 0.679 w2: 0.655 w3: 0.677 b: 0.008 Cost: 1.497595\n",
      "Epoch  300/1000 w1: 0.684 w2: 0.649 w3: 0.677 b: 0.008 Cost: 1.435044\n",
      "Epoch  400/1000 w1: 0.689 w2: 0.643 w3: 0.678 b: 0.008 Cost: 1.375726\n",
      "Epoch  500/1000 w1: 0.694 w2: 0.638 w3: 0.678 b: 0.009 Cost: 1.319507\n",
      "Epoch  600/1000 w1: 0.699 w2: 0.633 w3: 0.679 b: 0.009 Cost: 1.266222\n",
      "Epoch  700/1000 w1: 0.704 w2: 0.627 w3: 0.679 b: 0.009 Cost: 1.215703\n",
      "Epoch  800/1000 w1: 0.709 w2: 0.622 w3: 0.679 b: 0.009 Cost: 1.167810\n",
      "Epoch  900/1000 w1: 0.713 w2: 0.617 w3: 0.680 b: 0.009 Cost: 1.122429\n",
      "Epoch 1000/1000 w1: 0.718 w2: 0.613 w3: 0.680 b: 0.009 Cost: 1.079390\n"
     ]
    }
   ],
   "source": [
    "# optimizer 설정\n",
    "optimizer = optim.SGD([w1, w2, w3, b], lr=1e-5)\n",
    "\n",
    "nb_epochs = 1000\n",
    "for epoch in range(nb_epochs + 1):\n",
    "\n",
    "    # H(x) 계산\n",
    "    hypothesis = x1_train * w1 + x2_train * w2 + x3_train * w3 + b\n",
    "\n",
    "    # cost 계산\n",
    "    cost = torch.mean((hypothesis - y_train) ** 2)\n",
    "\n",
    "    # cost로 H(x) 개선\n",
    "    optimizer.zero_grad()\n",
    "    cost.backward()\n",
    "    optimizer.step()\n",
    "\n",
    "    # 100번마다 로그 출력\n",
    "    if epoch % 100 == 0:\n",
    "        print('Epoch {:4d}/{} w1: {:.3f} w2: {:.3f} w3: {:.3f} b: {:.3f} Cost: {:.6f}'.format(\n",
    "            epoch, nb_epochs, w1.item(), w2.item(), w3.item(), b.item(), cost.item()\n",
    "        ))"
   ]
  },
  {
   "cell_type": "markdown",
   "metadata": {
    "id": "Sff3a0l8yZ15"
   },
   "source": [
    "위의 경우 가설을 선언하는 부분인 hypothesis = x1_train * w1 + x2_train * w2 + x3_train * w3 + b에서도 x_train의 개수만큼 w와 곱해주도록 작성해준 것을 확인할 수 있습니다."
   ]
  },
  {
   "cell_type": "markdown",
   "metadata": {
    "id": "yU-WTwUByfMI"
   },
   "source": [
    "### 2.3.3 벡터와 행렬 연산으로 바꾸기"
   ]
  },
  {
   "cell_type": "markdown",
   "metadata": {
    "id": "W3I6P1i1yqYB"
   },
   "source": [
    "위의 코드를 개선할 수 있는 부분이 있습니다. \n",
    "\n",
    "이번에는 $x$의 개수가 3개였으니까 x1_train, x2_train, x3_train와 $w1$, $w2$, $w3$를 일일히 선언해주었습니다. \n",
    "\n",
    "그런데 $x$의 개수가 1,000개라고 가정해봅시다. \n",
    "\n",
    "위와 같은 방식을 고수할 경우 x_train1 ~ x_train1000을 전부 선언하고, $w1$ ~ $w1000$을 전부 선언해야 합니다. \n",
    "\n",
    "다시 말해 $x$와 $w$ 변수 선언만 총 합 2,000개를 해야합니다. \n",
    "\n",
    "또한 가설을 선언하는 부분에서도 마찬가지로 x_train과 $w$의 곱셈이 이루어지는 항을 1,000개를 작성해야 합니다. \n",
    "\n",
    "이는 굉장히 비효율적입니다.\n",
    "\n",
    "이를 해결하기 위해 행렬 곱셈 연산(또는 벡터의 내적)을 사용합니다.\n",
    "\n",
    "행렬의 곱셈 과정에서 이루어지는 벡터 연산을 벡터의 내적(Dot Product)이라고 합니다.\n",
    "\n",
    "![](https://wikidocs.net/images/page/54841/%ED%96%89%EB%A0%AC%EA%B3%B1.PNG)\n",
    "\n",
    "위의 그림은 행렬 곱셈 연산 과정에서 벡터의 내적으로 1 × 7 + 2 × 9 + 3 × 11 = 58이 되는 과정을 보여줍니다.\n",
    "\n",
    "이 행렬 연산이 어떻게 현재 배우고 있는 가설과 상관이 있다는 걸까요?\n",
    "\n",
    "바로 가설을 벡터와 행렬 연산으로 표현할 수 있기 때문입니다.\n",
    "\n",
    "1. 벡터 연산으로 이해하기\n",
    "\n",
    "$H(X)=w1x1+w2x2+w3x3$\n",
    "\n",
    "위 식은 아래와 같이 두 벡터의 내적으로 표현할 수 있습니다.\n",
    "\n",
    "![](https://wikidocs.net/images/page/54841/%EB%82%B4%EC%A0%81.PNG)\n",
    "\n",
    "두 벡터를 각각 $X$와 $W$로 표현한다면, 가설은 다음과 같습니다.\n",
    "\n",
    "$H(X)=XW$\n",
    "\n",
    "$x$의 개수가 3개였음에도 이제는 $X$와 $W$라는 두 개의 변수로 표현된 것을 볼 수 있습니다.\n",
    "\n",
    "2. 행렬 연산으로 이해하기\n",
    "훈련 데이터를 살펴보고, 벡터와 행렬 연산을 통해 가설 $H(X)$를 표현해보겠습니다.\n",
    "\n",
    "![](https://wikidocs.net/images/page/54841/%ED%9B%88%EB%A0%A8%EB%8D%B0%EC%9D%B4%ED%84%B0.PNG)\n",
    "\n",
    "전체 훈련 데이터의 개수를 셀 수 있는 1개의 단위를 샘플(sample)이라고 합니다. \n",
    "\n",
    "현재 샘플의 수는 총 5개입니다.\n",
    "\n",
    "각 샘플에서 $y$를 결정하게 하는 각각의 독립 변수 x를 특성(feature)이라고 합니다. \n",
    "\n",
    "현재 특성은 3개입니다.\n",
    "\n",
    "이는 종속 변수 $x$들의 수가 (샘플의 수 × 특성의 수) = 15개임을 의미합니다. \n",
    "\n",
    "종속 변수 $x$들을 (샘플의 수 × 특성의 수)의 크기를 가지는 하나의 행렬로 표현해봅시다. \n",
    "\n",
    "그리고 이 행렬을 $X$라고 하겠습니다.\n",
    "\n",
    "$\\left(\n",
    "    \\begin{array}{c}\n",
    "      x_{11}\\ x_{12}\\ x_{13}\\ \\\\\n",
    "      x_{21}\\ x_{22}\\ x_{23}\\ \\\\\n",
    "      x_{31}\\ x_{32}\\ x_{33}\\ \\\\\n",
    "      x_{41}\\ x_{42}\\ x_{43}\\ \\\\\n",
    "      x_{51}\\ x_{52}\\ x_{53}\\ \\\\\n",
    "    \\end{array}\n",
    "  \\right)$\n",
    "\n",
    "  그리고 여기에 가중치 $w1,w2,w3$을 원소로 하는 벡터를 $W$라 하고 이를 곱해보겠습니다.\n",
    "\n",
    "  $\\left(\n",
    "    \\begin{array}{c}\n",
    "      x_{11}\\ x_{12}\\ x_{13}\\ \\\\\n",
    "      x_{21}\\ x_{22}\\ x_{23}\\ \\\\\n",
    "      x_{31}\\ x_{32}\\ x_{33}\\ \\\\\n",
    "      x_{41}\\ x_{42}\\ x_{43}\\ \\\\\n",
    "      x_{51}\\ x_{52}\\ x_{53}\\ \\\\\n",
    "    \\end{array}\n",
    "  \\right)\n",
    "\\left(\n",
    "    \\begin{array}{c}\n",
    "      w_{1} \\\\\n",
    "      w_{2} \\\\\n",
    "      w_{3} \\\\\n",
    "    \\end{array}\n",
    "  \\right)\n",
    "\\  =\n",
    "\\left(\n",
    "    \\begin{array}{c}\n",
    "      x_{11}w_{1}+ x_{12}w_{2}+ x_{13}w_{3}\\ \\\\\n",
    "      x_{21}w_{1}+ x_{22}w_{2}+ x_{23}w_{3}\\ \\\\\n",
    "      x_{31}w_{1}+ x_{32}w_{2}+ x_{33}w_{3}\\ \\\\\n",
    "      x_{41}w_{1}+ x_{42}w_{2}+ x_{43}w_{3}\\ \\\\\n",
    "      x_{51}w_{1}+ x_{52}w_{2}+ x_{53}w_{3}\\ \\\\\n",
    "    \\end{array}\n",
    "  \\right)$\n",
    "\n",
    "  위의 식은 결과적으로 다음과 같습니다.\n",
    "\n",
    "$H(X)=XW$\n",
    "\n",
    "이 가설에 각 샘플에 더해지는 편향 $b$를 추가해봅시다. \n",
    "\n",
    "샘플 수만큼의 차원을 가지는 편향 벡터 $B$를 만들어 더합니다.\n",
    "\n",
    "$\\left(\n",
    "    \\begin{array}{c}\n",
    "      x_{11}\\ x_{12}\\ x_{13}\\ \\\\\n",
    "      x_{21}\\ x_{22}\\ x_{23}\\ \\\\\n",
    "      x_{31}\\ x_{32}\\ x_{33}\\ \\\\\n",
    "      x_{41}\\ x_{42}\\ x_{43}\\ \\\\\n",
    "      x_{51}\\ x_{52}\\ x_{53}\\ \\\\\n",
    "    \\end{array}\n",
    "  \\right)\n",
    "\\left(\n",
    "    \\begin{array}{c}\n",
    "      w_{1} \\\\\n",
    "      w_{2} \\\\\n",
    "      w_{3} \\\\\n",
    "    \\end{array}\n",
    "  \\right)\n",
    "+\n",
    "\\left(\n",
    "    \\begin{array}{c}\n",
    "      b \\\\\n",
    "      b \\\\\n",
    "      b \\\\\n",
    "      b \\\\\n",
    "      b \\\\\n",
    "    \\end{array}\n",
    "  \\right)\n",
    " \\ =\n",
    "\\left(\n",
    "    \\begin{array}{c}\n",
    "      x_{11}w_{1}+ x_{12}w_{2}+ x_{13}w_{3} + b\\ \\\\\n",
    "      x_{21}w_{1}+ x_{22}w_{2}+ x_{23}w_{3} + b\\ \\\\\n",
    "      x_{31}w_{1}+ x_{32}w_{2}+ x_{33}w_{3} + b\\ \\\\\n",
    "      x_{41}w_{1}+ x_{42}w_{2}+ x_{43}w_{3} + b\\ \\\\\n",
    "      x_{51}w_{1}+ x_{52}w_{2}+ x_{53}w_{3} + b\\ \\\\\n",
    "    \\end{array}\n",
    "  \\right)$\n",
    "\n",
    "  위의 식은 결과적으로 다음과 같습니다.\n",
    "\n",
    "$H(X)=XW+B$\n",
    "\n",
    "결과적으로 전체 훈련 데이터의 가설 연산을 3개의 변수만으로 표현하였습니다.\n",
    "\n",
    "이와 같이 벡터와 행렬 연산은 식을 간단하게 해줄 뿐만 아니라 다수의 샘플의 병렬 연산이므로 속도의 이점을 가집니다.\n",
    "\n",
    "이를 참고로 파이토치로 구현해봅시다."
   ]
  },
  {
   "cell_type": "markdown",
   "metadata": {
    "id": "1Z3ndkMFz8fH"
   },
   "source": [
    "### 2.3.4 행렬 연산을 고려하여 파이토치로 구현하기"
   ]
  },
  {
   "cell_type": "markdown",
   "metadata": {
    "id": "mSzfGF-l0AbH"
   },
   "source": [
    "이번에는 행렬 연산을 고려하여 파이토치로 재구현해보겠습니다.\n",
    "\n",
    "이번에는 훈련 데이터 또한 행렬로 선언해야 합니다.\n",
    "\n"
   ]
  },
  {
   "cell_type": "code",
   "execution_count": 31,
   "metadata": {
    "id": "EIEwYmAw0Dxg"
   },
   "outputs": [],
   "source": [
    "x_train  =  torch.FloatTensor([[73,  80,  75], \n",
    "                               [93,  88,  93], \n",
    "                               [89,  91,  90], \n",
    "                               [96,  98,  100],   \n",
    "                               [73,  66,  70]])  \n",
    "y_train  =  torch.FloatTensor([[152],\n",
    "                               [185],\n",
    "                               [180],\n",
    "                               [196],\n",
    "                               [142]])"
   ]
  },
  {
   "cell_type": "markdown",
   "metadata": {
    "id": "Q5gCU6tj0JS3"
   },
   "source": [
    "이전에 x_train을 3개나 구현했던 것과 다르게 이번에는 x_train 하나에 모든 샘플을 전부 선언하였습니다. \n",
    "\n",
    "다시 말해 (5 x 3) 행렬 X을 선언한 것입니다.\n",
    "\n",
    "x_train과 y_train의 크기(shape)를 출력해보겠습니다."
   ]
  },
  {
   "cell_type": "code",
   "execution_count": 32,
   "metadata": {
    "colab": {
     "base_uri": "https://localhost:8080/"
    },
    "id": "9ToAo9Nj0Lji",
    "outputId": "5622cade-efc6-429a-afa9-1692e6ad0968"
   },
   "outputs": [
    {
     "name": "stdout",
     "output_type": "stream",
     "text": [
      "torch.Size([5, 3])\n",
      "torch.Size([5, 1])\n"
     ]
    }
   ],
   "source": [
    "print(x_train.shape)\n",
    "print(y_train.shape)"
   ]
  },
  {
   "cell_type": "markdown",
   "metadata": {
    "id": "Z0sBNyxT0PFO"
   },
   "source": [
    "각각 (5 × 3) 행렬과 (5 × 1) 행렬(또는 벡터)의 크기를 가집니다.\n",
    "\n",
    "이제 가중치 $W$와 편향 $b$를 선언합니다."
   ]
  },
  {
   "cell_type": "code",
   "execution_count": 33,
   "metadata": {
    "id": "hbW2ZxBr0S-k"
   },
   "outputs": [],
   "source": [
    "# 가중치와 편향 선언\n",
    "W = torch.zeros((3, 1), requires_grad=True)\n",
    "b = torch.zeros(1, requires_grad=True)"
   ]
  },
  {
   "cell_type": "markdown",
   "metadata": {
    "id": "caYhT0nl0VF4"
   },
   "source": [
    "여기서 주목할 점은 가중치 $W$의 크기가 (3 × 1) 벡터라는 점입니다. \n",
    "\n",
    "행렬의 곱셈이 성립되려면 곱셈의 좌측에 있는 행렬의 열의 크기와 우측에 있는 행렬의 행의 크기가 일치해야 합니다. \n",
    "\n",
    "현재 X_train의 행렬의 크기는 (5 × 3)이며, W 벡터의 크기는 (3 × 1)이므로 두 행렬과 벡터는 행렬곱이 가능합니다. \n",
    "\n",
    "행렬곱으로 가설을 선언하면 아래와 같습니다.\n"
   ]
  },
  {
   "cell_type": "code",
   "execution_count": 34,
   "metadata": {
    "id": "zxJOnR3C0boA"
   },
   "outputs": [],
   "source": [
    "hypothesis = x_train.matmul(W) + b"
   ]
  },
  {
   "cell_type": "markdown",
   "metadata": {
    "id": "6XugnE5x0dFS"
   },
   "source": [
    "가설을 행렬곱으로 간단히 정의하였습니다. \n",
    "\n",
    "이는 앞서 x_train과 $w$의 곱셈이 이루어지는 각 항을 전부 기재하여 가설을 선언했던 것과 대비됩니다. \n",
    "\n",
    "이 경우, 사용자가 독립 변수 $x$의 수를 후에 추가적으로 늘리거나 줄이더라도 위의 가설 선언 코드를 수정할 필요가 없습니다. \n",
    "\n",
    "이제 해야할 일은 비용 함수와 옵티마이저를 정의하고, 정해진 에포크만큼 훈련을 진행하는 일입니다. \n",
    "\n",
    "이를 반영한 전체 코드는 다음과 같습니다.\n",
    "\n"
   ]
  },
  {
   "cell_type": "code",
   "execution_count": 35,
   "metadata": {
    "colab": {
     "base_uri": "https://localhost:8080/"
    },
    "id": "W5OMEYie0j39",
    "outputId": "dfb4164b-0460-4901-ce92-992313fb9abe"
   },
   "outputs": [
    {
     "name": "stdout",
     "output_type": "stream",
     "text": [
      "Epoch    0/20 hypothesis: tensor([0., 0., 0., 0., 0.]) Cost: 29661.800781\n",
      "Epoch    1/20 hypothesis: tensor([67.2578, 80.8397, 79.6523, 86.7394, 61.6605]) Cost: 9298.520508\n",
      "Epoch    2/20 hypothesis: tensor([104.9128, 126.0990, 124.2466, 135.3015,  96.1821]) Cost: 2915.712402\n",
      "Epoch    3/20 hypothesis: tensor([125.9942, 151.4381, 149.2133, 162.4896, 115.5097]) Cost: 915.040527\n",
      "Epoch    4/20 hypothesis: tensor([137.7967, 165.6247, 163.1911, 177.7112, 126.3307]) Cost: 287.936096\n",
      "Epoch    5/20 hypothesis: tensor([144.4044, 173.5674, 171.0168, 186.2332, 132.3891]) Cost: 91.371063\n",
      "Epoch    6/20 hypothesis: tensor([148.1035, 178.0143, 175.3980, 191.0042, 135.7812]) Cost: 29.758249\n",
      "Epoch    7/20 hypothesis: tensor([150.1744, 180.5042, 177.8509, 193.6753, 137.6805]) Cost: 10.445267\n",
      "Epoch    8/20 hypothesis: tensor([151.3336, 181.8983, 179.2240, 195.1707, 138.7440]) Cost: 4.391237\n",
      "Epoch    9/20 hypothesis: tensor([151.9824, 182.6789, 179.9928, 196.0079, 139.3396]) Cost: 2.493121\n",
      "Epoch   10/20 hypothesis: tensor([152.3454, 183.1161, 180.4231, 196.4765, 139.6732]) Cost: 1.897688\n",
      "Epoch   11/20 hypothesis: tensor([152.5485, 183.3609, 180.6640, 196.7389, 139.8602]) Cost: 1.710552\n",
      "Epoch   12/20 hypothesis: tensor([152.6620, 183.4982, 180.7988, 196.8857, 139.9651]) Cost: 1.651416\n",
      "Epoch   13/20 hypothesis: tensor([152.7253, 183.5752, 180.8742, 196.9678, 140.0240]) Cost: 1.632369\n",
      "Epoch   14/20 hypothesis: tensor([152.7606, 183.6184, 180.9164, 197.0138, 140.0571]) Cost: 1.625924\n",
      "Epoch   15/20 hypothesis: tensor([152.7802, 183.6427, 180.9399, 197.0395, 140.0759]) Cost: 1.623420\n",
      "Epoch   16/20 hypothesis: tensor([152.7909, 183.6565, 180.9530, 197.0538, 140.0865]) Cost: 1.622152\n",
      "Epoch   17/20 hypothesis: tensor([152.7968, 183.6643, 180.9603, 197.0618, 140.0927]) Cost: 1.621262\n",
      "Epoch   18/20 hypothesis: tensor([152.7999, 183.6688, 180.9644, 197.0661, 140.0963]) Cost: 1.620501\n",
      "Epoch   19/20 hypothesis: tensor([152.8014, 183.6715, 180.9665, 197.0686, 140.0985]) Cost: 1.619757\n",
      "Epoch   20/20 hypothesis: tensor([152.8020, 183.6731, 180.9677, 197.0699, 140.0999]) Cost: 1.619046\n"
     ]
    }
   ],
   "source": [
    "x_train  =  torch.FloatTensor([[73,  80,  75], \n",
    "                               [93,  88,  93], \n",
    "                               [89,  91,  90], \n",
    "                               [96,  98,  100],   \n",
    "                               [73,  66,  70]])  \n",
    "y_train  =  torch.FloatTensor([[152],  \n",
    "                               [185],  \n",
    "                               [180],  \n",
    "                               [196],  \n",
    "                               [142]])\n",
    "\n",
    "# 모델 초기화\n",
    "W = torch.zeros((3, 1), requires_grad=True)\n",
    "b = torch.zeros(1, requires_grad=True)\n",
    "\n",
    "# optimizer 설정\n",
    "optimizer = optim.SGD([W, b], lr=1e-5)\n",
    "\n",
    "nb_epochs = 20\n",
    "for epoch in range(nb_epochs + 1):\n",
    "\n",
    "    # H(x) 계산\n",
    "    # 편향 b는 브로드 캐스팅되어 각 샘플에 더해집니다.\n",
    "    hypothesis = x_train.matmul(W) + b\n",
    "\n",
    "    # cost 계산\n",
    "    cost = torch.mean((hypothesis - y_train) ** 2)\n",
    "\n",
    "    # cost로 H(x) 개선\n",
    "    optimizer.zero_grad()\n",
    "    cost.backward()\n",
    "    optimizer.step()\n",
    "\n",
    "    # 100번마다 로그 출력\n",
    "    print('Epoch {:4d}/{} hypothesis: {} Cost: {:.6f}'.format(\n",
    "        epoch, nb_epochs, hypothesis.squeeze().detach(), cost.item()\n",
    "    ))\n"
   ]
  },
  {
   "cell_type": "markdown",
   "metadata": {
    "id": "xfP39ey8d0wa"
   },
   "source": [
    "## 2.4 nn.Module로 구현하는 선형 회귀"
   ]
  },
  {
   "cell_type": "markdown",
   "metadata": {
    "id": "NPz1l8Igd0wb"
   },
   "source": [
    "이전 챕터까지는 선형 회귀를 좀 더 직접적으로 이해하기 위해 가설, 비용 함수를 직접 정의해서 선형 회귀 모델을 구현했습니다. \n",
    "\n",
    "이번에는 파이토치에서 이미 구현되어져 제공되고 있는 함수들을 불러오는 것으로 더 쉽게 선형 회귀 모델을 구현해보겠습니다.\n",
    "\n",
    "예를 들어 파이토치에서는 선형 회귀 모델이 nn.Linear()라는 함수로, 또 평균 제곱오차가 nn.functional.mse_loss()라는 함수로 구현되어져 있습니다. \n",
    "\n",
    "아래는 이번 실습에서 사용할 두 함수의 사용 예제를 간단히 보여줍니다."
   ]
  },
  {
   "cell_type": "code",
   "execution_count": 36,
   "metadata": {
    "colab": {
     "base_uri": "https://localhost:8080/",
     "height": 190
    },
    "id": "it2X-8Zv03zH",
    "outputId": "d6881539-f68d-43cd-dfd7-bbb18a0d9599"
   },
   "outputs": [
    {
     "ename": "NameError",
     "evalue": "ignored",
     "output_type": "error",
     "traceback": [
      "\u001b[0;31m---------------------------------------------------------------------------\u001b[0m",
      "\u001b[0;31mNameError\u001b[0m                                 Traceback (most recent call last)",
      "\u001b[0;32m<ipython-input-36-571d3385dd8d>\u001b[0m in \u001b[0;36m<module>\u001b[0;34m()\u001b[0m\n\u001b[1;32m      1\u001b[0m \u001b[0;32mimport\u001b[0m \u001b[0mtorch\u001b[0m\u001b[0;34m.\u001b[0m\u001b[0mnn\u001b[0m \u001b[0;32mas\u001b[0m \u001b[0mnn\u001b[0m\u001b[0;34m\u001b[0m\u001b[0;34m\u001b[0m\u001b[0m\n\u001b[0;32m----> 2\u001b[0;31m \u001b[0mmodel\u001b[0m \u001b[0;34m=\u001b[0m \u001b[0mnn\u001b[0m\u001b[0;34m.\u001b[0m\u001b[0mLinear\u001b[0m\u001b[0;34m(\u001b[0m\u001b[0minput_dim\u001b[0m\u001b[0;34m,\u001b[0m \u001b[0moutput_dim\u001b[0m\u001b[0;34m)\u001b[0m\u001b[0;34m\u001b[0m\u001b[0;34m\u001b[0m\u001b[0m\n\u001b[0m",
      "\u001b[0;31mNameError\u001b[0m: name 'input_dim' is not defined"
     ]
    }
   ],
   "source": [
    "import torch.nn as nn\n",
    "model = nn.Linear(input_dim, output_dim)"
   ]
  },
  {
   "cell_type": "code",
   "execution_count": 37,
   "metadata": {
    "colab": {
     "base_uri": "https://localhost:8080/",
     "height": 190
    },
    "id": "KJxTOxFB1A5x",
    "outputId": "3f833075-19ea-4700-8b3c-a607fab75288"
   },
   "outputs": [
    {
     "ename": "NameError",
     "evalue": "ignored",
     "output_type": "error",
     "traceback": [
      "\u001b[0;31m---------------------------------------------------------------------------\u001b[0m",
      "\u001b[0;31mNameError\u001b[0m                                 Traceback (most recent call last)",
      "\u001b[0;32m<ipython-input-37-81e4d6c260bc>\u001b[0m in \u001b[0;36m<module>\u001b[0;34m()\u001b[0m\n\u001b[1;32m      1\u001b[0m \u001b[0;32mimport\u001b[0m \u001b[0mtorch\u001b[0m\u001b[0;34m.\u001b[0m\u001b[0mnn\u001b[0m\u001b[0;34m.\u001b[0m\u001b[0mfunctional\u001b[0m \u001b[0;32mas\u001b[0m \u001b[0mF\u001b[0m\u001b[0;34m\u001b[0m\u001b[0;34m\u001b[0m\u001b[0m\n\u001b[0;32m----> 2\u001b[0;31m \u001b[0mcost\u001b[0m \u001b[0;34m=\u001b[0m \u001b[0mF\u001b[0m\u001b[0;34m.\u001b[0m\u001b[0mmse_loss\u001b[0m\u001b[0;34m(\u001b[0m\u001b[0mprediction\u001b[0m\u001b[0;34m,\u001b[0m \u001b[0my_train\u001b[0m\u001b[0;34m)\u001b[0m\u001b[0;34m\u001b[0m\u001b[0;34m\u001b[0m\u001b[0m\n\u001b[0m",
      "\u001b[0;31mNameError\u001b[0m: name 'prediction' is not defined"
     ]
    }
   ],
   "source": [
    "import torch.nn.functional as F\n",
    "cost = F.mse_loss(prediction, y_train)"
   ]
  },
  {
   "cell_type": "markdown",
   "metadata": {
    "id": "AUMylG3N1DGj"
   },
   "source": [
    "### 2.4.1 단순 선형 회귀 구현하기\n"
   ]
  },
  {
   "cell_type": "code",
   "execution_count": 38,
   "metadata": {
    "colab": {
     "base_uri": "https://localhost:8080/"
    },
    "id": "TzPdDLM51I7-",
    "outputId": "289a1947-a8cf-41fc-ebb1-5703a6e90790"
   },
   "outputs": [
    {
     "data": {
      "text/plain": [
       "<torch._C.Generator at 0x7f62f95e7c60>"
      ]
     },
     "execution_count": 38,
     "metadata": {
      "tags": []
     },
     "output_type": "execute_result"
    }
   ],
   "source": [
    "#우선 필요한 도구들을 임포트합니다.\n",
    "\n",
    "import torch\n",
    "import torch.nn as nn\n",
    "import torch.nn.functional as F\n",
    "torch.manual_seed(1)"
   ]
  },
  {
   "cell_type": "markdown",
   "metadata": {
    "id": "J1jIMcll1MLg"
   },
   "source": [
    "이제 데이터를 선언합니다. \n",
    "\n",
    "아래 데이터는 $y=2x$를 가정된 상태에서 만들어진 데이터로 우리는 이미 정답이 $W=2, b=0$임을 알고 있는 사태입니다. \n",
    "\n",
    "모델이 이 두 $W$와 $b$의 값을 제대로 찾아내도록 하는 것이 목표입니다.\n",
    "\n"
   ]
  },
  {
   "cell_type": "code",
   "execution_count": 39,
   "metadata": {
    "id": "KRY_Qk4Q1aDh"
   },
   "outputs": [],
   "source": [
    "# 데이터\n",
    "x_train = torch.FloatTensor([[1], \n",
    "                             [2], \n",
    "                             [3]])\n",
    "y_train = torch.FloatTensor([[2], \n",
    "                             [4], \n",
    "                             [6]])\n"
   ]
  },
  {
   "cell_type": "markdown",
   "metadata": {
    "id": "8-a7J07I1eU7"
   },
   "source": [
    "데이터를 정의하였으니 이제 선형 회귀 모델을 구현할 차례입니다.\n",
    "\n",
    "nn.Linear()는 입력의 차원, 출력의 차원을 인수로 받습니다.\n",
    "\n"
   ]
  },
  {
   "cell_type": "code",
   "execution_count": 40,
   "metadata": {
    "id": "L7YoC-H61gyJ"
   },
   "outputs": [],
   "source": [
    "# 모델을 선언 및 초기화. 단순 선형 회귀이므로 input_dim=1, output_dim=1.\n",
    "model = nn.Linear(1,1)"
   ]
  },
  {
   "cell_type": "markdown",
   "metadata": {
    "id": "9WwdLIO81kqD"
   },
   "source": [
    "위 torch.nn.Linear 인자로 1, 1을 사용하였습니다. \n",
    "\n",
    "하나의 입력 $x$에 대해서 하나의 출력 $y$을 가지므로, 입력 차원과 출력 차원 모두 1을 인수로 사용하였습니다. \n",
    "\n",
    "model에는 가중치 $W$와 편향 $b$가 저장되어져 있습니다. \n",
    "\n",
    "이 값은 model.parameters()라는 함수를 사용하여 불러올 수 있는데, 한 번 출력해보겠습니다."
   ]
  },
  {
   "cell_type": "code",
   "execution_count": 41,
   "metadata": {
    "colab": {
     "base_uri": "https://localhost:8080/"
    },
    "id": "zXTKtMBv1rIn",
    "outputId": "027bbfa3-3fd6-4f15-f0d6-1e336bff3dcb"
   },
   "outputs": [
    {
     "name": "stdout",
     "output_type": "stream",
     "text": [
      "[Parameter containing:\n",
      "tensor([[0.5153]], requires_grad=True), Parameter containing:\n",
      "tensor([-0.4414], requires_grad=True)]\n"
     ]
    }
   ],
   "source": [
    "print(list(model.parameters()))"
   ]
  },
  {
   "cell_type": "markdown",
   "metadata": {
    "id": "ir2-3LzG1uEk"
   },
   "source": [
    "2개의 값이 출력되는데 첫번째 값이 $W$고, 두번째 값이 $b$에 해당됩니다. \n",
    "\n",
    "두 값 모두 현재는 랜덤 초기화가 되어져 있습니다. \n",
    "\n",
    "그리고 두 값 모두 학습의 대상이므로 requires_grad=True가 되어져 있는 것을 볼 수 있습니다.\n",
    "\n",
    "이제 옵티마이저를 정의합니다. \n",
    "\n",
    "model.parameters()를 사용하여 $W$와 $b$를 전달합니다.\n",
    "\n",
    "학습률(learning rate)은 0.01로 정합니다."
   ]
  },
  {
   "cell_type": "code",
   "execution_count": 42,
   "metadata": {
    "id": "qX0_PYDu1298"
   },
   "outputs": [],
   "source": [
    "# optimizer 설정. 경사 하강법 SGD를 사용하고 learning rate를 의미하는 lr은 0.01\n",
    "optimizer = torch.optim.SGD(model.parameters(), lr=0.01) "
   ]
  },
  {
   "cell_type": "code",
   "execution_count": 43,
   "metadata": {
    "colab": {
     "base_uri": "https://localhost:8080/"
    },
    "id": "c9ccBqzz15f4",
    "outputId": "d19cfa2c-1e2d-4c3f-a70c-2e2ef05f6086"
   },
   "outputs": [
    {
     "name": "stdout",
     "output_type": "stream",
     "text": [
      "Epoch    0/2000 Cost: 13.103541\n",
      "Epoch  100/2000 Cost: 0.002791\n",
      "Epoch  200/2000 Cost: 0.001724\n",
      "Epoch  300/2000 Cost: 0.001066\n",
      "Epoch  400/2000 Cost: 0.000658\n",
      "Epoch  500/2000 Cost: 0.000407\n",
      "Epoch  600/2000 Cost: 0.000251\n",
      "Epoch  700/2000 Cost: 0.000155\n",
      "Epoch  800/2000 Cost: 0.000096\n",
      "Epoch  900/2000 Cost: 0.000059\n",
      "Epoch 1000/2000 Cost: 0.000037\n",
      "Epoch 1100/2000 Cost: 0.000023\n",
      "Epoch 1200/2000 Cost: 0.000014\n",
      "Epoch 1300/2000 Cost: 0.000009\n",
      "Epoch 1400/2000 Cost: 0.000005\n",
      "Epoch 1500/2000 Cost: 0.000003\n",
      "Epoch 1600/2000 Cost: 0.000002\n",
      "Epoch 1700/2000 Cost: 0.000001\n",
      "Epoch 1800/2000 Cost: 0.000001\n",
      "Epoch 1900/2000 Cost: 0.000000\n",
      "Epoch 2000/2000 Cost: 0.000000\n"
     ]
    }
   ],
   "source": [
    "# 전체 훈련 데이터에 대해 경사 하강법을 2,000회 반복\n",
    "nb_epochs = 2000\n",
    "for epoch in range(nb_epochs+1):\n",
    "\n",
    "    # H(x) 계산\n",
    "    prediction = model(x_train)\n",
    "\n",
    "    # cost 계산\n",
    "    cost = F.mse_loss(prediction, y_train) # <== 파이토치에서 제공하는 평균 제곱 오차 함수\n",
    "\n",
    "    # cost로 H(x) 개선하는 부분\n",
    "    # gradient를 0으로 초기화\n",
    "    optimizer.zero_grad()\n",
    "    # 비용 함수를 미분하여 gradient 계산\n",
    "    cost.backward() # backward 연산\n",
    "    # W와 b를 업데이트\n",
    "    optimizer.step()\n",
    "\n",
    "    if epoch % 100 == 0:\n",
    "    # 100번마다 로그 출력\n",
    "      print('Epoch {:4d}/{} Cost: {:.6f}'.format(\n",
    "          epoch, nb_epochs, cost.item()\n",
    "      ))"
   ]
  },
  {
   "cell_type": "markdown",
   "metadata": {
    "id": "631D7R_s18fe"
   },
   "source": [
    "학습이 완료되었습니다. \n",
    "\n",
    "Cost의 값이 매우 작습니다. \n",
    "\n",
    "$W$와 $b$의 값도 최적화가 되었는지 확인해봅시다.\n",
    "\n",
    "$x$에 임의의 값 4를 넣어 모델이 예측하는 $y$의 값을 확인해보겠습니다."
   ]
  },
  {
   "cell_type": "code",
   "execution_count": 44,
   "metadata": {
    "colab": {
     "base_uri": "https://localhost:8080/"
    },
    "id": "L7MQB2rf2Cb1",
    "outputId": "91297a7e-6c88-43ef-8bea-6019d92818bb"
   },
   "outputs": [
    {
     "name": "stdout",
     "output_type": "stream",
     "text": [
      "훈련 후 입력이 4일 때의 예측값 : tensor([[7.9989]], grad_fn=<AddmmBackward>)\n"
     ]
    }
   ],
   "source": [
    "# 임의의 입력 4를 선언\n",
    "new_var =  torch.FloatTensor([[4.0]]) \n",
    "# 입력한 값 4에 대해서 예측값 y를 리턴받아서 pred_y에 저장\n",
    "pred_y = model(new_var) # forward 연산\n",
    "# y = 2x 이므로 입력이 4라면 y가 8에 가까운 값이 나와야 제대로 학습이 된 것\n",
    "print(\"훈련 후 입력이 4일 때의 예측값 :\", pred_y) "
   ]
  },
  {
   "cell_type": "markdown",
   "metadata": {
    "id": "Wx58Bk6l2FY7"
   },
   "source": [
    "사실 이 문제의 정답은 $y=2x$가 정답이므로 $y$값이 8에 가까우면 $W$와 $b$의 값이 어느정도 최적화가 된 것으로 볼 수 있습니다. \n",
    "\n",
    "실제로 예측된 $y$값은 7.9989로 8에 매우 가깝습니다.\n",
    "\n",
    "이제 학습 후의 $W$와 $b$의 값을 출력해보겠습니다.\n"
   ]
  },
  {
   "cell_type": "code",
   "execution_count": 45,
   "metadata": {
    "colab": {
     "base_uri": "https://localhost:8080/"
    },
    "id": "mWR0tS-52Cg5",
    "outputId": "42fa086d-cce9-4f86-c54a-a4a2cdea52bf"
   },
   "outputs": [
    {
     "name": "stdout",
     "output_type": "stream",
     "text": [
      "[Parameter containing:\n",
      "tensor([[1.9994]], requires_grad=True), Parameter containing:\n",
      "tensor([0.0014], requires_grad=True)]\n"
     ]
    }
   ],
   "source": [
    "print(list(model.parameters()))"
   ]
  },
  {
   "cell_type": "markdown",
   "metadata": {
    "id": "w0k3hllr2Ot8"
   },
   "source": [
    "$W$의 값이 2에 가깝고, $b$의 값이 0에 가까운 것을 볼 수 있습니다.\n",
    "\n",
    "$H(x)$ 식에 입력 $x$로부터 예측된 $y$를 얻는 것을 forward 연산이라고 합니다.\n",
    "\n",
    "학습 전, prediction = model(x_train)은 x_train으로부터 예측값을 리턴하므로 forward 연산입니다.\n",
    "\n",
    "학습 후, pred_y = model(new_var)는 임의의 값 new_var로부터 예측값을 리턴하므로 forward 연산입니다.\n",
    "\n",
    "학습 과정에서 비용 함수를 미분하여 기울기를 구하는 것을 backward 연산이라고 합니다.\n",
    "\n",
    "cost.backward()는 비용 함수로부터 기울기를 구하라는 의미이며 backward 연산입니다.\n"
   ]
  },
  {
   "cell_type": "markdown",
   "metadata": {
    "id": "3KPWeKUT2ZXi"
   },
   "source": [
    "### 2.4.2 다중 선형 회귀 구현하기"
   ]
  },
  {
   "cell_type": "markdown",
   "metadata": {
    "id": "bCIocFfe2cKP"
   },
   "source": [
    "이제 nn.Linear()와 nn.functional.mse_loss()로 다중 선형 회귀를 구현해봅시다.\n",
    "\n",
    " 사실 코드 자체는 달라지는 건 거의 없는데, nn.Linear()의 인자값과 학습률(learning rate)만 조절해주었습니다."
   ]
  },
  {
   "cell_type": "code",
   "execution_count": 46,
   "metadata": {
    "colab": {
     "base_uri": "https://localhost:8080/"
    },
    "id": "aGZvYs0C2fcq",
    "outputId": "25f2f4a5-f993-48f6-edf5-36ff86d5c6dd"
   },
   "outputs": [
    {
     "data": {
      "text/plain": [
       "<torch._C.Generator at 0x7f62f95e7c60>"
      ]
     },
     "execution_count": 46,
     "metadata": {
      "tags": []
     },
     "output_type": "execute_result"
    }
   ],
   "source": [
    "import torch\n",
    "import torch.nn as nn\n",
    "import torch.nn.functional as F\n",
    "torch.manual_seed(1)"
   ]
  },
  {
   "cell_type": "markdown",
   "metadata": {
    "id": "-e6l9QMY2gRN"
   },
   "source": [
    "이제 데이터를 선언해줍니다. \n",
    "\n",
    "여기서는 3개의 $x$로부터 하나의 $y$를 예측하는 문제입니다.\n",
    "\n",
    "즉, 가설 수식은 $H(x)=w1x1+w2x2+w3x3+b$입니다.\n",
    "\n"
   ]
  },
  {
   "cell_type": "code",
   "execution_count": 47,
   "metadata": {
    "id": "6xKLcCkc2oVU"
   },
   "outputs": [],
   "source": [
    "# 데이터\n",
    "x_train = torch.FloatTensor([[73, 80, 75],\n",
    "                             [93, 88, 93],\n",
    "                             [89, 91, 90],\n",
    "                             [96, 98, 100],\n",
    "                             [73, 66, 70]])\n",
    "y_train = torch.FloatTensor([[152], \n",
    "                             [185], \n",
    "                             [180], \n",
    "                             [196], \n",
    "                             [142]])\n"
   ]
  },
  {
   "cell_type": "markdown",
   "metadata": {
    "id": "Gj5lglGY2slN"
   },
   "source": [
    "데이터를 정의하였으니 이제 선형 회귀 모델을 구현할 차례입니다. \n",
    "\n",
    "nn.Linear()는 입력의 차원, 출력의 차원을 인수로 받습니다.\n"
   ]
  },
  {
   "cell_type": "code",
   "execution_count": 48,
   "metadata": {
    "id": "sNdtBa5u2vqI"
   },
   "outputs": [],
   "source": [
    "# 모델을 선언 및 초기화. 다중 선형 회귀이므로 input_dim=3, output_dim=1.\n",
    "model = nn.Linear(3,1)"
   ]
  },
  {
   "cell_type": "markdown",
   "metadata": {
    "id": "zBh28QfP2ziW"
   },
   "source": [
    "위 torch.nn.Linear 인자로 3, 1을 사용하였습니다. \n",
    "\n",
    "3개의 입력 $x$에 대해서 하나의 출력 $y$을 가지므로, 입력 차원은 3, 출력 차원은 1을 인수로 사용하였습니다. \n",
    "\n",
    "model에는 3개의 가중치 $w$와 편향 $b$가 저장되어져 있습니다. \n",
    "\n",
    "이 값은 model.parameters()라는 함수를 사용하여 불러올 수 있는데, 한 번 출력해보겠습니다.\n",
    "\n"
   ]
  },
  {
   "cell_type": "code",
   "execution_count": 49,
   "metadata": {
    "colab": {
     "base_uri": "https://localhost:8080/"
    },
    "id": "xbOOUF9G26Se",
    "outputId": "de8a542d-a732-4093-8db1-de2b6cfa6c0d"
   },
   "outputs": [
    {
     "name": "stdout",
     "output_type": "stream",
     "text": [
      "[Parameter containing:\n",
      "tensor([[ 0.2975, -0.2548, -0.1119]], requires_grad=True), Parameter containing:\n",
      "tensor([0.2710], requires_grad=True)]\n"
     ]
    }
   ],
   "source": [
    "print(list(model.parameters()))"
   ]
  },
  {
   "cell_type": "markdown",
   "metadata": {
    "id": "wePUch3u27NI"
   },
   "source": [
    "첫번째 출력되는 것이 3개의 $w$고, 두번째 출력되는 것이 $b$에 해당됩니다. \n",
    "\n",
    "두 값 모두 현재는 랜덤 초기화가 되어져 있습니다. \n",
    "\n",
    "그리고 두 출력 결과 모두 학습의 대상이므로 requires_grad=True가 되어져 있는 것을 볼 수 있습니다.\n",
    "\n",
    "이제 옵티마이저를 정의합니다.\n",
    "\n",
    " model.parameters()를 사용하여 3개의 $w와 b$를 전달합니다. \n",
    " \n",
    " 학습률(learning rate)은 0.00001로 정합니다. \n",
    " \n",
    " 파이썬 코드로는 1e-5로도 표기합니다. \n",
    " \n",
    " 0.01로 하지 않는 이유는 기울기가 발산하기 때문입니다. \n",
    " \n",
    " 궁금하다면 해보시기 바랍니다.\n",
    "\n",
    " ![](https://wikidocs.net/images/page/21670/%EA%B8%B0%EC%9A%B8%EA%B8%B0%EB%B0%9C%EC%82%B0.PNG)\n",
    "\n",
    " 위의 그림은 앞서 배웠던 내용으로, 학습률(learning rate)이 모델의 필요한 크기보다 높을 때, 기울기가 발산하는 현상을 보여줍니다."
   ]
  },
  {
   "cell_type": "code",
   "execution_count": 50,
   "metadata": {
    "id": "UhprzWlI3GRG"
   },
   "outputs": [],
   "source": [
    "optimizer = torch.optim.SGD(model.parameters(), lr=1e-5) "
   ]
  },
  {
   "cell_type": "code",
   "execution_count": 51,
   "metadata": {
    "colab": {
     "base_uri": "https://localhost:8080/"
    },
    "id": "sjCbPnDl3Lqf",
    "outputId": "cae5e8d6-1e1e-4dd0-c72f-5897134d738f"
   },
   "outputs": [
    {
     "name": "stdout",
     "output_type": "stream",
     "text": [
      "Epoch    0/2000 Cost: 31667.597656\n",
      "Epoch  100/2000 Cost: 0.225993\n",
      "Epoch  200/2000 Cost: 0.223911\n",
      "Epoch  300/2000 Cost: 0.221941\n",
      "Epoch  400/2000 Cost: 0.220059\n",
      "Epoch  500/2000 Cost: 0.218271\n",
      "Epoch  600/2000 Cost: 0.216575\n",
      "Epoch  700/2000 Cost: 0.214950\n",
      "Epoch  800/2000 Cost: 0.213413\n",
      "Epoch  900/2000 Cost: 0.211952\n",
      "Epoch 1000/2000 Cost: 0.210560\n",
      "Epoch 1100/2000 Cost: 0.209232\n",
      "Epoch 1200/2000 Cost: 0.207967\n",
      "Epoch 1300/2000 Cost: 0.206761\n",
      "Epoch 1400/2000 Cost: 0.205619\n",
      "Epoch 1500/2000 Cost: 0.204522\n",
      "Epoch 1600/2000 Cost: 0.203484\n",
      "Epoch 1700/2000 Cost: 0.202485\n",
      "Epoch 1800/2000 Cost: 0.201542\n",
      "Epoch 1900/2000 Cost: 0.200635\n",
      "Epoch 2000/2000 Cost: 0.199769\n"
     ]
    }
   ],
   "source": [
    "#이하 코드는 단순 선형 회귀를 구현했을 때와 동일합니다.\n",
    "\n",
    "nb_epochs = 2000\n",
    "for epoch in range(nb_epochs+1):\n",
    "\n",
    "    # H(x) 계산\n",
    "    prediction = model(x_train)\n",
    "    # model(x_train)은 model.forward(x_train)와 동일함.\n",
    "\n",
    "    # cost 계산\n",
    "    cost = F.mse_loss(prediction, y_train) # <== 파이토치에서 제공하는 평균 제곱 오차 함수\n",
    "\n",
    "    # cost로 H(x) 개선하는 부분\n",
    "    # gradient를 0으로 초기화\n",
    "    optimizer.zero_grad()\n",
    "    # 비용 함수를 미분하여 gradient 계산\n",
    "    cost.backward()\n",
    "    # W와 b를 업데이트\n",
    "    optimizer.step()\n",
    "\n",
    "    if epoch % 100 == 0:\n",
    "    # 100번마다 로그 출력\n",
    "      print('Epoch {:4d}/{} Cost: {:.6f}'.format(\n",
    "          epoch, nb_epochs, cost.item()\n",
    "      ))"
   ]
  },
  {
   "cell_type": "markdown",
   "metadata": {
    "id": "qnOL_Q743Q0p"
   },
   "source": [
    "학습이 완료되었습니다. \n",
    "\n",
    "Cost의 값이 매우 작습니다. \n",
    "\n",
    "3개의 $w와 b$의 값도 최적화가 되었는지 확인해봅시다.\n",
    "\n",
    "$x$에 임의의 입력 [73, 80, 75]를 넣어 모델이 예측하는 $y$의 값을 확인해보겠습니다."
   ]
  },
  {
   "cell_type": "code",
   "execution_count": 52,
   "metadata": {
    "colab": {
     "base_uri": "https://localhost:8080/"
    },
    "id": "0J8Grhez3XUb",
    "outputId": "8f90319c-5814-4a09-d5a5-799d5b85ca1d"
   },
   "outputs": [
    {
     "name": "stdout",
     "output_type": "stream",
     "text": [
      "훈련 후 입력이 73, 80, 75일 때의 예측값 : tensor([[151.2305]], grad_fn=<AddmmBackward>)\n"
     ]
    }
   ],
   "source": [
    "# 임의의 입력 [73, 80, 75]를 선언\n",
    "new_var =  torch.FloatTensor([[73, 80, 75]]) \n",
    "# 입력한 값 [73, 80, 75]에 대해서 예측값 y를 리턴받아서 pred_y에 저장\n",
    "pred_y = model(new_var) \n",
    "print(\"훈련 후 입력이 73, 80, 75일 때의 예측값 :\", pred_y) "
   ]
  },
  {
   "cell_type": "markdown",
   "metadata": {
    "id": "ykb5GnW93aDK"
   },
   "source": [
    "사실 3개의 값 73, 80, 75는 훈련 데이터로 사용되었던 값입니다. \n",
    "\n",
    "당시 $y$의 값은 152였는데, 현재 예측값이 151이 나온 것으로 보아 어느정도는 3개의 $w$와 $b$의 값이 최적화 된것으로 보입니다. \n",
    "\n",
    "이제 학습 후의 3개의 $w$와 $b$의 값을 출력해보겠습니다.\n",
    "\n"
   ]
  },
  {
   "cell_type": "code",
   "execution_count": 53,
   "metadata": {
    "colab": {
     "base_uri": "https://localhost:8080/"
    },
    "id": "fpncgK7f3hJA",
    "outputId": "3ddb1f44-6c6f-4830-db02-d491916a5493"
   },
   "outputs": [
    {
     "name": "stdout",
     "output_type": "stream",
     "text": [
      "[Parameter containing:\n",
      "tensor([[0.9778, 0.4539, 0.5768]], requires_grad=True), Parameter containing:\n",
      "tensor([0.2802], requires_grad=True)]\n"
     ]
    }
   ],
   "source": [
    "print(list(model.parameters()))"
   ]
  },
  {
   "cell_type": "markdown",
   "metadata": {
    "id": "2OkJicoVd0wi"
   },
   "source": [
    "## 2.5 클래스로 파이토치 모델 구현하기"
   ]
  },
  {
   "cell_type": "markdown",
   "metadata": {
    "id": "U68AVi163xAp"
   },
   "source": [
    "파이토치의 대부분의 구현체들은 대부분 모델을 생성할 때 클래스(Class)를 사용하고 있습니다. \n",
    "\n",
    "앞서 배운 선형 회귀를 클래스로 구현해보겠습니다. \n",
    "\n",
    "앞서 구현한 코드와 다른 점은 오직 클래스로 모델을 구현했다는 점입니다."
   ]
  },
  {
   "cell_type": "markdown",
   "metadata": {
    "id": "fw86oV8J5EeT"
   },
   "source": [
    "\n",
    "### 2.5.1 모델을 클래스로 구현하기"
   ]
  },
  {
   "cell_type": "markdown",
   "metadata": {
    "id": "sZg5dyMY5H99"
   },
   "source": [
    "\n",
    "앞서 단순 선형 회귀 모델은 다음과 같이 구현했었습니다."
   ]
  },
  {
   "cell_type": "code",
   "execution_count": 54,
   "metadata": {
    "id": "4HwYfRgx343a"
   },
   "outputs": [],
   "source": [
    "# 모델을 선언 및 초기화. 단순 선형 회귀이므로 input_dim=1, output_dim=1.\n",
    "model = nn.Linear(1,1)"
   ]
  },
  {
   "cell_type": "markdown",
   "metadata": {
    "id": "-KOSPd0Yd0wj"
   },
   "source": [
    "이를 클래스로 구현하면 다음과 같습니다."
   ]
  },
  {
   "cell_type": "code",
   "execution_count": 55,
   "metadata": {
    "id": "EIbraUu2370K"
   },
   "outputs": [],
   "source": [
    "class LinearRegressionModel(nn.Module): # torch.nn.Module을 상속받는 파이썬 클래스\n",
    "    def __init__(self): #\n",
    "        super().__init__()\n",
    "        self.linear = nn.Linear(1, 1) # 단순 선형 회귀이므로 input_dim=1, output_dim=1.\n",
    "\n",
    "    def forward(self, x):\n",
    "        return self.linear(x)\n",
    "\n",
    "model = LinearRegressionModel()"
   ]
  },
  {
   "cell_type": "markdown",
   "metadata": {
    "id": "i4JQZJu_4CnI"
   },
   "source": [
    "위와 같은 클래스를 사용한 모델 구현 형식은 대부분의 파이토치 구현체에서 사용하고 있는 방식으로 반드시 숙지할 필요가 있습니다.\n",
    "\n",
    "클래스(class) 형태의 모델은 nn.Module 을 상속받습니다. \n",
    "\n",
    "그리고 __init__()에서 모델의 구조와 동적을 정의하는 생성자를 정의합니다.\n",
    "\n",
    " 이는 파이썬에서 객체가 갖는 속성값을 초기화하는 역할로, 객체가 생성될 때 자동으호 호출됩니다. \n",
    " \n",
    " super() 함수를 부르면 여기서 만든 클래스는 nn.Module 클래스의 속성들을 가지고 초기화 됩니다. \n",
    " \n",
    " foward() 함수는 모델이 학습데이터를 입력받아서 forward 연산을 진행시키는 함수입니다. \n",
    " \n",
    " 이 forward() 함수는 model 객체를 데이터와 함께 호출하면 자동으로 실행이됩니다. \n",
    " \n",
    " 예를 들어 model이란 이름의 객체를 생성 후, model(입력 데이터)와 같은 형식으로 객체를 호출하면 자동으로 forward 연산이 수행됩니다.\n",
    "\n",
    "* $H(x)$ 식에 입력 $x$로부터 예측된 $y$를 얻는 것을 forward 연산이라고 합니다.\n",
    "\n",
    "앞서 다중 선형 회귀 모델은 다음과 같이 구현했었습니다."
   ]
  },
  {
   "cell_type": "code",
   "execution_count": 56,
   "metadata": {
    "id": "YnUeCqwJ4R4B"
   },
   "outputs": [],
   "source": [
    "# 모델을 선언 및 초기화. 다중 선형 회귀이므로 input_dim=3, output_dim=1.\n",
    "model = nn.Linear(3,1)"
   ]
  },
  {
   "cell_type": "markdown",
   "metadata": {
    "id": "sxwmRw2s4SqC"
   },
   "source": [
    "이를 클래스로 구현하면 다음과 같습니다."
   ]
  },
  {
   "cell_type": "code",
   "execution_count": 57,
   "metadata": {
    "id": "OHk8D4Jd4UO4"
   },
   "outputs": [],
   "source": [
    "class MultivariateLinearRegressionModel(nn.Module):\n",
    "    def __init__(self):\n",
    "        super().__init__()\n",
    "        self.linear = nn.Linear(3, 1) # 다중 선형 회귀이므로 input_dim=3, output_dim=1.\n",
    "\n",
    "    def forward(self, x):\n",
    "        return self.linear(x)\n",
    "        \n",
    "model = MultivariateLinearRegressionModel()\n"
   ]
  },
  {
   "cell_type": "markdown",
   "metadata": {
    "id": "hyYs4n7K5N-g"
   },
   "source": [
    "### 2.5.2 단순 선형 회귀 클래스로 구현하기\n"
   ]
  },
  {
   "cell_type": "markdown",
   "metadata": {
    "id": "VpkZqJZp4YYQ"
   },
   "source": [
    "이제 모델을 클래스로 구현한 코드를 보겠습니다. \n",
    "\n",
    "달라진 점은 모델을 클래스로 구현했다는 점 뿐입니다. \n",
    "\n",
    "다른 코드는 전부 동일합니다.\n",
    "\n"
   ]
  },
  {
   "cell_type": "code",
   "execution_count": 58,
   "metadata": {
    "colab": {
     "base_uri": "https://localhost:8080/"
    },
    "id": "D9CZHG3O4dYj",
    "outputId": "fc5dc118-dbd4-4bda-df18-29601ec7cc33"
   },
   "outputs": [
    {
     "name": "stdout",
     "output_type": "stream",
     "text": [
      "Epoch    0/2000 Cost: 13.103541\n",
      "Epoch  100/2000 Cost: 0.002791\n",
      "Epoch  200/2000 Cost: 0.001724\n",
      "Epoch  300/2000 Cost: 0.001066\n",
      "Epoch  400/2000 Cost: 0.000658\n",
      "Epoch  500/2000 Cost: 0.000407\n",
      "Epoch  600/2000 Cost: 0.000251\n",
      "Epoch  700/2000 Cost: 0.000155\n",
      "Epoch  800/2000 Cost: 0.000096\n",
      "Epoch  900/2000 Cost: 0.000059\n",
      "Epoch 1000/2000 Cost: 0.000037\n",
      "Epoch 1100/2000 Cost: 0.000023\n",
      "Epoch 1200/2000 Cost: 0.000014\n",
      "Epoch 1300/2000 Cost: 0.000009\n",
      "Epoch 1400/2000 Cost: 0.000005\n",
      "Epoch 1500/2000 Cost: 0.000003\n",
      "Epoch 1600/2000 Cost: 0.000002\n",
      "Epoch 1700/2000 Cost: 0.000001\n",
      "Epoch 1800/2000 Cost: 0.000001\n",
      "Epoch 1900/2000 Cost: 0.000000\n",
      "Epoch 2000/2000 Cost: 0.000000\n"
     ]
    }
   ],
   "source": [
    "import torch\n",
    "import torch.nn as nn\n",
    "import torch.nn.functional as F\n",
    "torch.manual_seed(1)\n",
    "\n",
    "# 데이터\n",
    "x_train = torch.FloatTensor([[1], \n",
    "                             [2], \n",
    "                             [3]])\n",
    "y_train = torch.FloatTensor([[2], \n",
    "                             [4], \n",
    "                             [6]])\n",
    "\n",
    "class LinearRegressionModel(nn.Module):\n",
    "    def __init__(self):\n",
    "        super().__init__()\n",
    "        self.linear = nn.Linear(1, 1)\n",
    "\n",
    "    def forward(self, x):\n",
    "        return self.linear(x)\n",
    "\n",
    "model = LinearRegressionModel()\n",
    "\n",
    "# optimizer 설정. 경사 하강법 SGD를 사용하고 learning rate를 의미하는 lr은 0.01\n",
    "optimizer = torch.optim.SGD(model.parameters(), lr=0.01) \n",
    "\n",
    "# 전체 훈련 데이터에 대해 경사 하강법을 2,000회 반복\n",
    "nb_epochs = 2000\n",
    "for epoch in range(nb_epochs+1):\n",
    "\n",
    "    # H(x) 계산\n",
    "    prediction = model(x_train)\n",
    "\n",
    "    # cost 계산\n",
    "    cost = F.mse_loss(prediction, y_train) # <== 파이토치에서 제공하는 평균 제곱 오차 함수\n",
    "\n",
    "    # cost로 H(x) 개선하는 부분\n",
    "    # gradient를 0으로 초기화\n",
    "    optimizer.zero_grad()\n",
    "    # 비용 함수를 미분하여 gradient 계산\n",
    "    cost.backward() # backward 연산\n",
    "    # W와 b를 업데이트\n",
    "    optimizer.step()\n",
    "\n",
    "    if epoch % 100 == 0:\n",
    "    # 100번마다 로그 출력\n",
    "      print('Epoch {:4d}/{} Cost: {:.6f}'.format(\n",
    "          epoch, nb_epochs, cost.item()\n",
    "      ))\n"
   ]
  },
  {
   "cell_type": "markdown",
   "metadata": {
    "id": "IJ1QhA3D5SsA"
   },
   "source": [
    "### 2.5.3 다중 선형 회귀 클래스로 구현하기"
   ]
  },
  {
   "cell_type": "markdown",
   "metadata": {
    "id": "J93lnWfv4l89"
   },
   "source": [
    "이제 모델을 클래스로 구현한 코드를 보겠습니다. \n",
    "\n",
    "달라진 점은 모델을 클래스로 구현했다는 점 뿐입니다. \n",
    "\n",
    "다른 코드는 전부 동일합니다."
   ]
  },
  {
   "cell_type": "code",
   "execution_count": 59,
   "metadata": {
    "colab": {
     "base_uri": "https://localhost:8080/"
    },
    "id": "G0EVDLXr4uHh",
    "outputId": "c86b6fd6-c556-4448-8558-369243782ba1"
   },
   "outputs": [
    {
     "name": "stdout",
     "output_type": "stream",
     "text": [
      "Epoch    0/2000 Cost: 31667.597656\n",
      "Epoch  100/2000 Cost: 0.225993\n",
      "Epoch  200/2000 Cost: 0.223911\n",
      "Epoch  300/2000 Cost: 0.221941\n",
      "Epoch  400/2000 Cost: 0.220059\n",
      "Epoch  500/2000 Cost: 0.218271\n",
      "Epoch  600/2000 Cost: 0.216575\n",
      "Epoch  700/2000 Cost: 0.214950\n",
      "Epoch  800/2000 Cost: 0.213413\n",
      "Epoch  900/2000 Cost: 0.211952\n",
      "Epoch 1000/2000 Cost: 0.210560\n",
      "Epoch 1100/2000 Cost: 0.209232\n",
      "Epoch 1200/2000 Cost: 0.207967\n",
      "Epoch 1300/2000 Cost: 0.206761\n",
      "Epoch 1400/2000 Cost: 0.205619\n",
      "Epoch 1500/2000 Cost: 0.204522\n",
      "Epoch 1600/2000 Cost: 0.203484\n",
      "Epoch 1700/2000 Cost: 0.202485\n",
      "Epoch 1800/2000 Cost: 0.201542\n",
      "Epoch 1900/2000 Cost: 0.200635\n",
      "Epoch 2000/2000 Cost: 0.199769\n"
     ]
    }
   ],
   "source": [
    "import torch\n",
    "import torch.nn as nn\n",
    "import torch.nn.functional as F\n",
    "torch.manual_seed(1)\n",
    "\n",
    "# 데이터\n",
    "x_train = torch.FloatTensor([[73, 80, 75],\n",
    "                             [93, 88, 93],\n",
    "                             [89, 91, 90],\n",
    "                             [96, 98, 100],\n",
    "                             [73, 66, 70]])\n",
    "y_train = torch.FloatTensor([[152], \n",
    "                             [185], \n",
    "                             [180], \n",
    "                             [196], \n",
    "                             [142]])\n",
    "\n",
    "class MultivariateLinearRegressionModel(nn.Module):\n",
    "    def __init__(self):\n",
    "        super().__init__()\n",
    "        self.linear = nn.Linear(3, 1) # 다중 선형 회귀이므로 input_dim=3, output_dim=1.\n",
    "\n",
    "    def forward(self, x):\n",
    "        return self.linear(x)\n",
    "\n",
    "model = MultivariateLinearRegressionModel()\n",
    "\n",
    "optimizer = torch.optim.SGD(model.parameters(), lr=1e-5) \n",
    "\n",
    "nb_epochs = 2000\n",
    "for epoch in range(nb_epochs+1):\n",
    "\n",
    "    # H(x) 계산\n",
    "    prediction = model(x_train)\n",
    "    # model(x_train)은 model.forward(x_train)와 동일함.\n",
    "\n",
    "    # cost 계산\n",
    "    cost = F.mse_loss(prediction, y_train) # <== 파이토치에서 제공하는 평균 제곱 오차 함수\n",
    "\n",
    "    # cost로 H(x) 개선하는 부분\n",
    "    # gradient를 0으로 초기화\n",
    "    optimizer.zero_grad()\n",
    "    # 비용 함수를 미분하여 gradient 계산\n",
    "    cost.backward()\n",
    "    # W와 b를 업데이트\n",
    "    optimizer.step()\n",
    "\n",
    "    if epoch % 100 == 0:\n",
    "    # 100번마다 로그 출력\n",
    "      print('Epoch {:4d}/{} Cost: {:.6f}'.format(\n",
    "          epoch, nb_epochs, cost.item()\n",
    "      ))"
   ]
  },
  {
   "cell_type": "markdown",
   "metadata": {
    "id": "V02YDOdxd0wj"
   },
   "source": [
    "## 2.6 미니 배치와 데이터 로드(Mini Batch and Data Load)"
   ]
  },
  {
   "cell_type": "markdown",
   "metadata": {
    "id": "kou_3usv5btB"
   },
   "source": [
    "이번 챕터에서 배우는 내용은 선형 회귀에 한정되는 내용은 아닙니다. \n",
    "\n",
    "이번 챕터에서는 데이터를 로드하는 방법과 미니 배치 경사 하강법(Minibatch Gradient Descent)에 대해서 학습합니다."
   ]
  },
  {
   "cell_type": "markdown",
   "metadata": {
    "id": "0NVPbY6qd0wk"
   },
   "source": [
    "### 2.6.1 미니 배치와 배치 크기(Mini Batch and Batch Size)"
   ]
  },
  {
   "cell_type": "markdown",
   "metadata": {
    "id": "kjMBHp5q5iTS"
   },
   "source": [
    "앞서 배운 다중 선형 회귀에서 사용했던 데이터를 상기해봅시다."
   ]
  },
  {
   "cell_type": "code",
   "execution_count": 60,
   "metadata": {
    "id": "l3p3gJeo5jcG"
   },
   "outputs": [],
   "source": [
    "x_train = torch.FloatTensor([[73, 80, 75],\n",
    "                             [93, 88, 93],\n",
    "                             [89, 91, 90],\n",
    "                             [96, 98, 100],\n",
    "                             [73, 66, 70]])\n",
    "y_train = torch.FloatTensor([[152], \n",
    "                             [185], \n",
    "                             [180], \n",
    "                             [196], \n",
    "                             [142]])"
   ]
  },
  {
   "cell_type": "markdown",
   "metadata": {
    "id": "GD8Ijd1vd0wl"
   },
   "source": [
    "위 데이터의 샘플의 개수는 5개입니다. \n",
    "\n",
    "전체 데이터를 하나의 행렬로 선언하여 전체 데이터에 대해서 경사 하강법을 수행하여 학습할 수 있습니다. \n",
    "\n",
    "그런데 위 데이터는 현업에서 다루게 되는 방대한 양의 데이터에 비하면 굉장히 적은 양입니다. \n",
    "\n",
    "만약, 데이터가 수십만개 이상이라면 전체 데이터에 대해서 경사 하강법을 수행하는 것은 매우 느릴 뿐만 아니라 많은 계산량이 필요합니다. \n",
    "\n",
    "정말 어쩌면 메모리의 한계로 계산이 불가능한 경우도 있을 수 있습니다.\n",
    "\n",
    "그렇기 때문에 전체 데이터를 더 작은 단위로 나누어서 해당 단위로 학습하는 개념이 나오게 되었습니다.\n",
    "\n",
    "이 단위를 미니 배치(Mini Batch)라고 합니다.\n",
    "\n",
    "![](https://camo.githubusercontent.com/2d645ca96027a2b35f7e29bc00144044fc8301fd/68747470733a2f2f77696b69646f63732e6e65742f696d616765732f706167652f35353538302f2545422541462542382545422538422538382545422542302542302545432542392539382e504e47)\n",
    "\n",
    "위의 그림은 전체 데이터를 미니 배치 단위로 나누는 것을 보여줍니다. \n",
    "\n",
    "미니 배치 학습을 하게되면 미니 배치만큼만 가져가서 미니 배치에 대한 대한 비용(cost)를 계산하고, 경사 하강법을 수행합니다. \n",
    "\n",
    "그리고 다음 미니 배치를 가져가서 경사 하강법을 수행하고 마지막 미니 배치까지 이를 반복합니다. \n",
    "\n",
    "이렇게 전체 데이터에 대한 학습이 1회 끝나면 1 에포크(Epoch)가 끝나게 됩니다.\n",
    "\n",
    "에포크(Epoch)는 전체 훈련 데이터가 학습에 한 번 사용된 주기를 말한다고 언급한 바 있습니다.\n",
    "\n",
    "미니 배치 학습에서는 미니 배치의 개수만큼 경사 하강법을 수행해야 전체 데이터가 한 번 전부 사용되어 1 에포크(Epoch)가 됩니다. \n",
    "\n",
    "미니 배치의 개수는 결국 미니 배치의 크기를 몇으로 하느냐에 따라서 달라지는데 미니 배치의 크기를 배치 크기(batch size)라고 합니다.\n",
    "\n",
    "전체 데이터에 대해서 한 번에 경사 하강법을 수행하는 방법을 '배치 경사 하강법'이라고 부릅니다. \n",
    "\n",
    "반면, 미니 배치 단위로 경사 하강법을 수행하는 방법을 '미니 배치 경사 하강법'이라고 부릅니다.\n",
    "\n",
    "배치 경사 하강법은 경사 하강법을 할 때, 전체 데이터를 사용하므로 가중치 값이 최적값에 수렴하는 과정이 매우 안정적이지만, 계산량이 너무 많이 듭니다. \n",
    "\n",
    "미니 배치 경사 하강법은 경사 하강법을 할 때, 전체 데이터의 일부만을 보고 수행하므로 최적값으로 수렴하는 과정에서 값이 조금 헤매기도 하지만 훈련 속도가 빠릅니다.\n",
    "\n",
    "배치 크기는 보통 2의 제곱수를 사용합니다. \n",
    "\n",
    "ex) 2, 4, 8, 16, 32, 64... 그 이유는 CPU와 GPU의 메모리가 2의 배수이므로 배치크기가 2의 제곱수일 경우에 데이터 송수신의 효율을 높일 수 있다고 합니다."
   ]
  },
  {
   "cell_type": "markdown",
   "metadata": {
    "id": "uXtcBVqed0wl"
   },
   "source": [
    "### 2.6.2 이터레이션(Iteration)"
   ]
  },
  {
   "cell_type": "markdown",
   "metadata": {
    "id": "1MJsLF-9d0wm"
   },
   "source": [
    "미니 배치와 배치 크기의 정의에 대해서 이해하였다면 이터레이션(iteration)을 정의할 수 있습니다.\n",
    "\n",
    "![](https://camo.githubusercontent.com/8fc6da3c8d343d521e7ae31d352e1ebaf2e4ca0e/68747470733a2f2f77696b69646f63732e6e65742f696d616765732f706167652f33363033332f6261746368616e6465706f6368697465726174696f6e2e504e47)\n",
    "\n",
    "위의 그림은 에포크와 배치 크기와 이터레이션의 관계를 보여줍니다. \n",
    "\n",
    "위의 그림의 예제를 통해 설명해보겠습니다.\n",
    "\n",
    "이터레이션은 한 번의 에포크 내에서 이루어지는 매개변수인 가중치 $W와 b$의 업데이트 횟수입니다. \n",
    "\n",
    "전체 데이터가 2,000일 때 배치 크기를 200으로 한다면 이터레이션의 수는 총 10개입니다. \n",
    "\n",
    "이는 한 번의 에포크 당 매개변수 업데이트가 10번 이루어짐을 의미합니다.\n",
    "\n",
    "이제 미니 배치 학습을 할 수 있도록 도와주는 파이토치의 도구들을 알아봅시다."
   ]
  },
  {
   "cell_type": "markdown",
   "metadata": {
    "id": "3ngs_XnAd0wn"
   },
   "source": [
    "### 2.6.3 데이터 로드하기(Data Load)"
   ]
  },
  {
   "cell_type": "markdown",
   "metadata": {
    "id": "tDb5TUaMd0wn"
   },
   "source": [
    "파이토치에서는 데이터를 좀 더 쉽게 다룰 수 있도록 유용한 도구로서 데이터셋(Dataset)과 데이터로더(DataLoader)를 제공합니다. \n",
    "\n",
    "이를 사용하면 미니 배치 학습, 데이터 셔플(shuffle), 병렬 처리까지 간단히 수행할 수 있습니다. \n",
    "\n",
    "기본적인 사용 방법은 Dataset을 정의하고, 이를 DataLoader에 전달하는 것입니다.\n",
    "\n",
    "Dataset을 커스텀하여 만들 수도 있지만 여기서는 텐서를 입력받아 Dataset의 형태로 변환해주는 TensorDataset을 사용해보겠습니다.\n",
    "\n",
    "실습을 위해 기본적으로 필요한 파이토치의 도구들을 임포트합니다."
   ]
  },
  {
   "cell_type": "code",
   "execution_count": 61,
   "metadata": {
    "ExecuteTime": {
     "end_time": "2020-04-06T10:20:49.519898Z",
     "start_time": "2020-04-06T10:20:49.515909Z"
    },
    "id": "MlEBNG87d0wo"
   },
   "outputs": [],
   "source": [
    "import torch\n",
    "import torch.nn as nn\n",
    "import torch.nn.functional as F\n",
    "\n",
    "# TensorDataset과 DataLoader를 임포트합니다.\n",
    "\n",
    "from torch.utils.data import TensorDataset # 텐서데이터셋\n",
    "from torch.utils.data import DataLoader # 데이터로더\n"
   ]
  },
  {
   "cell_type": "code",
   "execution_count": 62,
   "metadata": {
    "id": "Px5qdlNi6YbS"
   },
   "outputs": [],
   "source": [
    "#TensorDataset은 기본적으로 텐서를 입력으로 받습니다. 텐서 형태로 데이터를 정의합니다.\n",
    "\n",
    "x_train  =  torch.FloatTensor([[73,  80,  75], \n",
    "                               [93,  88,  93], \n",
    "                               [89,  91,  90], \n",
    "                               [96,  98,  100],   \n",
    "                               [73,  66,  70]])  \n",
    "y_train  =  torch.FloatTensor([[152],  \n",
    "                               [185],  \n",
    "                               [180],  \n",
    "                               [196],  \n",
    "                               [142]])\n",
    "# 이제 이를 TensorDataset의 입력으로 사용하고 dataset으로 저장합니다.\n",
    "\n",
    "dataset = TensorDataset(x_train, y_train)\n"
   ]
  },
  {
   "cell_type": "markdown",
   "metadata": {
    "id": "eoY-yiJ46e5z"
   },
   "source": [
    "파이토치의 데이터셋을 만들었다면 데이터로더를 사용 가능합니다. \n",
    "\n",
    "데이터로더는 기본적으로 2개의 인자를 입력받는다. \n",
    "\n",
    "하나는 데이터셋, 미니 배치의 크기입니다. \n",
    "\n",
    "이때 미니 배치의 크기는 통상적으로 2의 배수를 사용합니다. (ex) 64, 128, 256...) \n",
    "\n",
    "그리고 추가적으로 많이 사용되는 인자로 shuffle이 있습니다. \n",
    "\n",
    "shuffle=True를 선택하면 Epoch마다 데이터셋을 섞어서 데이터가 학습되는 순서를 바꿉니다.\n",
    "\n",
    "사람도 같은 문제지를 계속 풀면 어느 순간 문제의 순서에 익숙해질 수 있습니다. \n",
    "\n",
    "예를 들어 어떤 문제지의 12번 문제를 풀면서, '13번 문제가 뭔지는 기억은 안 나지만 어제 풀었던 기억으로 정답은 5번이었던 것 같은데' 하면서 문제 자체보단 순서에 익숙해질 수 있다는 것입니다. \n",
    "\n",
    "그럴 때 문제지를 풀 때마다 문제 순서를 랜덤으로 바꾸면 도움이 될 겁니다. \n",
    "\n",
    "마찬가지로 모델이 데이터셋의 순서에 익숙해지는 것을 방지하여 학습할 때는 이 옵션을 True를 주는 것을 권장합니다."
   ]
  },
  {
   "cell_type": "code",
   "execution_count": 63,
   "metadata": {
    "colab": {
     "base_uri": "https://localhost:8080/"
    },
    "id": "PTga8uli6pil",
    "outputId": "766ed387-6959-492a-f745-3de320d2ba01"
   },
   "outputs": [
    {
     "name": "stdout",
     "output_type": "stream",
     "text": [
      "Epoch    0/20 Batch 1/3 Cost: 37210.574219\n",
      "Epoch    0/20 Batch 2/3 Cost: 16463.394531\n",
      "Epoch    0/20 Batch 3/3 Cost: 2130.966309\n",
      "Epoch    1/20 Batch 1/3 Cost: 1196.248047\n",
      "Epoch    1/20 Batch 2/3 Cost: 607.885376\n",
      "Epoch    1/20 Batch 3/3 Cost: 302.890442\n",
      "Epoch    2/20 Batch 1/3 Cost: 45.500126\n",
      "Epoch    2/20 Batch 2/3 Cost: 19.989773\n",
      "Epoch    2/20 Batch 3/3 Cost: 0.266310\n",
      "Epoch    3/20 Batch 1/3 Cost: 3.424530\n",
      "Epoch    3/20 Batch 2/3 Cost: 38.331135\n",
      "Epoch    3/20 Batch 3/3 Cost: 5.501321\n",
      "Epoch    4/20 Batch 1/3 Cost: 1.433258\n",
      "Epoch    4/20 Batch 2/3 Cost: 28.980219\n",
      "Epoch    4/20 Batch 3/3 Cost: 23.308434\n",
      "Epoch    5/20 Batch 1/3 Cost: 10.520474\n",
      "Epoch    5/20 Batch 2/3 Cost: 13.878951\n",
      "Epoch    5/20 Batch 3/3 Cost: 18.593840\n",
      "Epoch    6/20 Batch 1/3 Cost: 29.622368\n",
      "Epoch    6/20 Batch 2/3 Cost: 8.460442\n",
      "Epoch    6/20 Batch 3/3 Cost: 12.447860\n",
      "Epoch    7/20 Batch 1/3 Cost: 15.158208\n",
      "Epoch    7/20 Batch 2/3 Cost: 15.029005\n",
      "Epoch    7/20 Batch 3/3 Cost: 16.188663\n",
      "Epoch    8/20 Batch 1/3 Cost: 22.005436\n",
      "Epoch    8/20 Batch 2/3 Cost: 10.459313\n",
      "Epoch    8/20 Batch 3/3 Cost: 3.193160\n",
      "Epoch    9/20 Batch 1/3 Cost: 5.326753\n",
      "Epoch    9/20 Batch 2/3 Cost: 34.206059\n",
      "Epoch    9/20 Batch 3/3 Cost: 6.489759\n",
      "Epoch   10/20 Batch 1/3 Cost: 14.927752\n",
      "Epoch   10/20 Batch 2/3 Cost: 10.264236\n",
      "Epoch   10/20 Batch 3/3 Cost: 22.840803\n",
      "Epoch   11/20 Batch 1/3 Cost: 9.285964\n",
      "Epoch   11/20 Batch 2/3 Cost: 14.182501\n",
      "Epoch   11/20 Batch 3/3 Cost: 25.182674\n",
      "Epoch   12/20 Batch 1/3 Cost: 12.642315\n",
      "Epoch   12/20 Batch 2/3 Cost: 8.240534\n",
      "Epoch   12/20 Batch 3/3 Cost: 23.208206\n",
      "Epoch   13/20 Batch 1/3 Cost: 5.351597\n",
      "Epoch   13/20 Batch 2/3 Cost: 33.863327\n",
      "Epoch   13/20 Batch 3/3 Cost: 6.484629\n",
      "Epoch   14/20 Batch 1/3 Cost: 14.822121\n",
      "Epoch   14/20 Batch 2/3 Cost: 7.782313\n",
      "Epoch   14/20 Batch 3/3 Cost: 18.253662\n",
      "Epoch   15/20 Batch 1/3 Cost: 0.237765\n",
      "Epoch   15/20 Batch 2/3 Cost: 16.368322\n",
      "Epoch   15/20 Batch 3/3 Cost: 30.391155\n",
      "Epoch   16/20 Batch 1/3 Cost: 7.286834\n",
      "Epoch   16/20 Batch 2/3 Cost: 19.645077\n",
      "Epoch   16/20 Batch 3/3 Cost: 7.765937\n",
      "Epoch   17/20 Batch 1/3 Cost: 23.057938\n",
      "Epoch   17/20 Batch 2/3 Cost: 18.047241\n",
      "Epoch   17/20 Batch 3/3 Cost: 1.990607\n",
      "Epoch   18/20 Batch 1/3 Cost: 15.271704\n",
      "Epoch   18/20 Batch 2/3 Cost: 1.486597\n",
      "Epoch   18/20 Batch 3/3 Cost: 33.744904\n",
      "Epoch   19/20 Batch 1/3 Cost: 11.688018\n",
      "Epoch   19/20 Batch 2/3 Cost: 18.650589\n",
      "Epoch   19/20 Batch 3/3 Cost: 16.152462\n",
      "Epoch   20/20 Batch 1/3 Cost: 12.638277\n",
      "Epoch   20/20 Batch 2/3 Cost: 7.614962\n",
      "Epoch   20/20 Batch 3/3 Cost: 35.864082\n"
     ]
    }
   ],
   "source": [
    "dataloader = DataLoader(dataset, batch_size=2, shuffle=True)\n",
    "#이제 모델과 옵티마이저를 설계합니다.\n",
    "\n",
    "model = nn.Linear(3,1)\n",
    "optimizer = torch.optim.SGD(model.parameters(), lr=1e-5) \n",
    "#이제 훈련을 진행합니다. \n",
    "#아래 코드에서는 batch_idx와 samples를 주석 처리했는데 어떤 식으로 훈련되고 있는지 궁금하다면 주석 처리를 해제하고 훈련시켜보시기 바랍니다.\n",
    "\n",
    "nb_epochs = 20\n",
    "for epoch in range(nb_epochs + 1):\n",
    "  for batch_idx, samples in enumerate(dataloader):\n",
    "    # print(batch_idx)\n",
    "    # print(samples)\n",
    "    x_train, y_train = samples\n",
    "    # H(x) 계산\n",
    "    prediction = model(x_train)\n",
    "\n",
    "    # cost 계산\n",
    "    cost = F.mse_loss(prediction, y_train)\n",
    "\n",
    "    # cost로 H(x) 계산\n",
    "    optimizer.zero_grad()\n",
    "    cost.backward()\n",
    "    optimizer.step()\n",
    "\n",
    "    print('Epoch {:4d}/{} Batch {}/{} Cost: {:.6f}'.format(\n",
    "        epoch, nb_epochs, batch_idx+1, len(dataloader),\n",
    "        cost.item()\n",
    "        ))\n"
   ]
  },
  {
   "cell_type": "code",
   "execution_count": 64,
   "metadata": {
    "colab": {
     "base_uri": "https://localhost:8080/"
    },
    "id": "erHKpXxi6wW_",
    "outputId": "c0c277c3-d604-4530-dcff-e241f4df2809"
   },
   "outputs": [
    {
     "name": "stdout",
     "output_type": "stream",
     "text": [
      "훈련 후 입력이 73, 80, 75일 때의 예측값 : tensor([[156.5337]], grad_fn=<AddmmBackward>)\n"
     ]
    }
   ],
   "source": [
    "#Cost의 값이 점차 작아집니다. \n",
    "#(사실 아직 에포크를 더 늘려서 훈련하면 Cost의 값이 더 작아질 여지가 있습니다. 에포크를 늘려서도 훈련해보세요.) \n",
    "#이제 모델의 입력으로 임의의 값을 넣어 예측값을 확인합니다.\n",
    "\n",
    "# 임의의 입력 [73, 80, 75]를 선언\n",
    "new_var =  torch.FloatTensor([[73, 80, 75]]) \n",
    "# 입력한 값 [73, 80, 75]에 대해서 예측값 y를 리턴받아서 pred_y에 저장\n",
    "pred_y = model(new_var) \n",
    "print(\"훈련 후 입력이 73, 80, 75일 때의 예측값 :\", pred_y) \n"
   ]
  },
  {
   "cell_type": "markdown",
   "metadata": {
    "id": "tFO1dw7kd0wz"
   },
   "source": [
    "## 2.7 커스텀 데이터셋(Custom Dataset)"
   ]
  },
  {
   "cell_type": "markdown",
   "metadata": {
    "id": "oXQxiIWm68Pu"
   },
   "source": [
    "앞 내용을 잠깐 복습해봅시다. \n",
    "\n",
    "파이토치에서는 데이터셋을 좀 더 쉽게 다룰 수 있도록 유용한 도구로서 torch.utils.data.Dataset과 torch.utils.data.DataLoader를 제공합니다. \n",
    "\n",
    "이를 사용하면 미니 배치 학습, 데이터 셔플(shuffle), 병렬 처리까지 간단히 수행할 수 있습니다. \n",
    "\n",
    "기본적인 사용 방법은 Dataset을 정의하고, 이를 DataLoader에 전달하는 것입니다.\n",
    "\n"
   ]
  },
  {
   "cell_type": "markdown",
   "metadata": {
    "id": "gZJPk2j67Ai8"
   },
   "source": [
    "### 2.7.1 커스텀 데이터셋(Custom Dataset)"
   ]
  },
  {
   "cell_type": "markdown",
   "metadata": {
    "id": "Y4h6akxL7DwZ"
   },
   "source": [
    "그런데 torch.utils.data.Dataset을 상속받아 직접 커스텀 데이터셋(Custom Dataset)을 만드는 경우도 있습니다. \n",
    "\n",
    "torch.utils.data.Dataset은 파이토치에서 데이터셋을 제공하는 추상 클래스입니다. \n",
    "\n",
    "Dataset을 상속받아 다음 메소드들을 오버라이드 하여 커스텀 데이터셋을 만들어보겠습니다.\n",
    "\n",
    "커스텀 데이터셋을 만들 때, 일단 가장 기본적인 뼈대는 아래와 같습니다. 여기서 필요한 기본적인 define은 3개입니다."
   ]
  },
  {
   "cell_type": "code",
   "execution_count": 65,
   "metadata": {
    "ExecuteTime": {
     "end_time": "2020-04-06T10:20:57.639194Z",
     "start_time": "2020-04-06T10:20:57.634218Z"
    },
    "id": "kY10zMAwd0wz"
   },
   "outputs": [],
   "source": [
    "class CustomDataset(torch.utils.data.Dataset):\n",
    "    # 데이터셋의 전처리를 해주는 부분\n",
    "    def __init__(self):\n",
    "        return\n",
    "    \n",
    "    # 데이터셋의 길이, 즉 총 샘플의 수를 적어주는 부분\n",
    "    def __len__(self):\n",
    "        return\n",
    "    \n",
    "    # 데이터셋에서 특정 1개의 샘플을 가져오는 함수\n",
    "    def __getitem__(self, idx):\n",
    "        return"
   ]
  },
  {
   "cell_type": "markdown",
   "metadata": {
    "id": "C1D-MNiZ7L1M"
   },
   "source": [
    "* len(dataset)을 했을 때 데이터셋의 크기를 리턴할 len\n",
    "\n",
    "* dataset[i]을 했을 때 i번째 샘플을 가져오도록 하는 인덱싱을 위한 get_item\n"
   ]
  },
  {
   "cell_type": "markdown",
   "metadata": {
    "id": "6-Zf_PCt7Qa3"
   },
   "source": [
    "### 2.7.2 커스텀 데이터셋(Custom Dataset)으로 선형 회귀 구현하기"
   ]
  },
  {
   "cell_type": "code",
   "execution_count": 66,
   "metadata": {
    "ExecuteTime": {
     "end_time": "2020-04-06T10:21:00.434745Z",
     "start_time": "2020-04-06T10:21:00.426742Z"
    },
    "colab": {
     "base_uri": "https://localhost:8080/"
    },
    "id": "pK-SlKtfd0w1",
    "outputId": "2efe6df0-97c1-4839-c448-fc27abe6377f"
   },
   "outputs": [
    {
     "name": "stdout",
     "output_type": "stream",
     "text": [
      "Epoch    0/20 Batch 1/3 Cost: 30629.378906\n",
      "Epoch    0/20 Batch 2/3 Cost: 7442.509766\n",
      "Epoch    0/20 Batch 3/3 Cost: 3760.326660\n",
      "Epoch    1/20 Batch 1/3 Cost: 554.051819\n",
      "Epoch    1/20 Batch 2/3 Cost: 461.916443\n",
      "Epoch    1/20 Batch 3/3 Cost: 62.399296\n",
      "Epoch    2/20 Batch 1/3 Cost: 24.052591\n",
      "Epoch    2/20 Batch 2/3 Cost: 7.999709\n",
      "Epoch    2/20 Batch 3/3 Cost: 2.095638\n",
      "Epoch    3/20 Batch 1/3 Cost: 0.030554\n",
      "Epoch    3/20 Batch 2/3 Cost: 2.218473\n",
      "Epoch    3/20 Batch 3/3 Cost: 0.229401\n",
      "Epoch    4/20 Batch 1/3 Cost: 0.586118\n",
      "Epoch    4/20 Batch 2/3 Cost: 0.785538\n",
      "Epoch    4/20 Batch 3/3 Cost: 0.137055\n",
      "Epoch    5/20 Batch 1/3 Cost: 0.929107\n",
      "Epoch    5/20 Batch 2/3 Cost: 0.873455\n",
      "Epoch    5/20 Batch 3/3 Cost: 0.074227\n",
      "Epoch    6/20 Batch 1/3 Cost: 0.303590\n",
      "Epoch    6/20 Batch 2/3 Cost: 0.373322\n",
      "Epoch    6/20 Batch 3/3 Cost: 1.822516\n",
      "Epoch    7/20 Batch 1/3 Cost: 1.119864\n",
      "Epoch    7/20 Batch 2/3 Cost: 0.118206\n",
      "Epoch    7/20 Batch 3/3 Cost: 0.273157\n",
      "Epoch    8/20 Batch 1/3 Cost: 1.015062\n",
      "Epoch    8/20 Batch 2/3 Cost: 0.075373\n",
      "Epoch    8/20 Batch 3/3 Cost: 0.393798\n",
      "Epoch    9/20 Batch 1/3 Cost: 0.749059\n",
      "Epoch    9/20 Batch 2/3 Cost: 0.626169\n",
      "Epoch    9/20 Batch 3/3 Cost: 0.064406\n",
      "Epoch   10/20 Batch 1/3 Cost: 0.648731\n",
      "Epoch   10/20 Batch 2/3 Cost: 0.042031\n",
      "Epoch   10/20 Batch 3/3 Cost: 1.408164\n",
      "Epoch   11/20 Batch 1/3 Cost: 1.136529\n",
      "Epoch   11/20 Batch 2/3 Cost: 0.236737\n",
      "Epoch   11/20 Batch 3/3 Cost: 1.070790\n",
      "Epoch   12/20 Batch 1/3 Cost: 0.482239\n",
      "Epoch   12/20 Batch 2/3 Cost: 1.042467\n",
      "Epoch   12/20 Batch 3/3 Cost: 0.212351\n",
      "Epoch   13/20 Batch 1/3 Cost: 0.225903\n",
      "Epoch   13/20 Batch 2/3 Cost: 0.368970\n",
      "Epoch   13/20 Batch 3/3 Cost: 1.765700\n",
      "Epoch   14/20 Batch 1/3 Cost: 0.549793\n",
      "Epoch   14/20 Batch 2/3 Cost: 0.905204\n",
      "Epoch   14/20 Batch 3/3 Cost: 0.004903\n",
      "Epoch   15/20 Batch 1/3 Cost: 0.057103\n",
      "Epoch   15/20 Batch 2/3 Cost: 1.028156\n",
      "Epoch   15/20 Batch 3/3 Cost: 0.348708\n",
      "Epoch   16/20 Batch 1/3 Cost: 0.824055\n",
      "Epoch   16/20 Batch 2/3 Cost: 0.262483\n",
      "Epoch   16/20 Batch 3/3 Cost: 1.089121\n",
      "Epoch   17/20 Batch 1/3 Cost: 0.291638\n",
      "Epoch   17/20 Batch 2/3 Cost: 1.048967\n",
      "Epoch   17/20 Batch 3/3 Cost: 1.247972\n",
      "Epoch   18/20 Batch 1/3 Cost: 0.425850\n",
      "Epoch   18/20 Batch 2/3 Cost: 1.209821\n",
      "Epoch   18/20 Batch 3/3 Cost: 0.346118\n",
      "Epoch   19/20 Batch 1/3 Cost: 0.207546\n",
      "Epoch   19/20 Batch 2/3 Cost: 0.699785\n",
      "Epoch   19/20 Batch 3/3 Cost: 1.467848\n",
      "Epoch   20/20 Batch 1/3 Cost: 1.101503\n",
      "Epoch   20/20 Batch 2/3 Cost: 0.657127\n",
      "Epoch   20/20 Batch 3/3 Cost: 0.185091\n"
     ]
    }
   ],
   "source": [
    "import torch\n",
    "import torch.nn.functional as F\n",
    "from torch.utils.data import Dataset\n",
    "from torch.utils.data import DataLoader\n",
    "\n",
    "# Dataset 상속\n",
    "class CustomDataset(Dataset): \n",
    "  def __init__(self):\n",
    "    self.x_data = [[73, 80, 75],\n",
    "                   [93, 88, 93],\n",
    "                   [89, 91, 90],\n",
    "                   [96, 98, 100],\n",
    "                   [73, 66, 70]]\n",
    "    self.y_data = [[152], [185], [180], [196], [142]]\n",
    "\n",
    "  # 총 데이터의 개수를 리턴\n",
    "  def __len__(self): \n",
    "    return len(self.x_data)\n",
    "\n",
    "  # 인덱스를 입력받아 그에 맵핑되는 입출력 데이터를 파이토치의 Tensor 형태로 리턴\n",
    "  def __getitem__(self, idx): \n",
    "    x = torch.FloatTensor(self.x_data[idx])\n",
    "    y = torch.FloatTensor(self.y_data[idx])\n",
    "    return x, y\n",
    "\n",
    "dataset = CustomDataset()\n",
    "dataloader = DataLoader(dataset, batch_size=2, shuffle=True)\n",
    "\n",
    "model = torch.nn.Linear(3,1)\n",
    "\n",
    "optimizer = torch.optim.SGD(model.parameters(), lr=1e-5) \n",
    "\n",
    "nb_epochs = 20\n",
    "for epoch in range(nb_epochs + 1):\n",
    "  for batch_idx, samples in enumerate(dataloader):\n",
    "    # print(batch_idx)\n",
    "    # print(samples)\n",
    "    x_train, y_train = samples\n",
    "    # H(x) 계산\n",
    "    prediction = model(x_train)\n",
    "\n",
    "    # cost 계산\n",
    "    cost = F.mse_loss(prediction, y_train)\n",
    "\n",
    "    # cost로 H(x) 계산\n",
    "    optimizer.zero_grad()\n",
    "    cost.backward()\n",
    "    optimizer.step()\n",
    "\n",
    "    print('Epoch {:4d}/{} Batch {}/{} Cost: {:.6f}'.format(\n",
    "        epoch, nb_epochs, batch_idx+1, len(dataloader),\n",
    "        cost.item()\n",
    "        ))\n"
   ]
  },
  {
   "cell_type": "code",
   "execution_count": 67,
   "metadata": {
    "colab": {
     "base_uri": "https://localhost:8080/"
    },
    "id": "JXr3M0hF7dKC",
    "outputId": "695cc878-6337-4a26-f265-cd16276070ee"
   },
   "outputs": [
    {
     "name": "stdout",
     "output_type": "stream",
     "text": [
      "훈련 후 입력이 73, 80, 75일 때의 예측값 : tensor([[152.2809]], grad_fn=<AddmmBackward>)\n"
     ]
    }
   ],
   "source": [
    "# 임의의 입력 [73, 80, 75]를 선언\n",
    "new_var =  torch.FloatTensor([[73, 80, 75]]) \n",
    "# 입력한 값 [73, 80, 75]에 대해서 예측값 y를 리턴받아서 pred_y에 저장\n",
    "pred_y = model(new_var) \n",
    "print(\"훈련 후 입력이 73, 80, 75일 때의 예측값 :\", pred_y) "
   ]
  },
  {
   "cell_type": "markdown",
   "metadata": {
    "id": "aIWAoxmZd0xA"
   },
   "source": [
    "## 2.8 활용"
   ]
  },
  {
   "cell_type": "markdown",
   "metadata": {
    "id": "3fPnQrKSd0xA"
   },
   "source": [
    "출처 : https://github.com/Namsik-Yoon/pytorch_basic/blob/master/2_1_%EC%84%A0%ED%98%95%ED%9A%8C%EA%B7%80_with_My_data.ipynb\n",
    "\n",
    "boston 데이터셋을 바탕으로 활용해보자"
   ]
  },
  {
   "cell_type": "code",
   "execution_count": 68,
   "metadata": {
    "ExecuteTime": {
     "end_time": "2020-04-06T10:21:10.232567Z",
     "start_time": "2020-04-06T10:21:09.242194Z"
    },
    "id": "k0VtNVipd0xA"
   },
   "outputs": [],
   "source": [
    "import pandas as pd\n",
    "from sklearn.datasets import load_boston"
   ]
  },
  {
   "cell_type": "code",
   "execution_count": 69,
   "metadata": {
    "ExecuteTime": {
     "end_time": "2020-04-06T10:21:10.998496Z",
     "start_time": "2020-04-06T10:21:10.986531Z"
    },
    "id": "TzdWsloXd0xE"
   },
   "outputs": [],
   "source": [
    "boston = load_boston()"
   ]
  },
  {
   "cell_type": "code",
   "execution_count": 70,
   "metadata": {
    "ExecuteTime": {
     "end_time": "2020-04-06T10:21:11.735525Z",
     "start_time": "2020-04-06T10:21:11.714597Z"
    },
    "colab": {
     "base_uri": "https://localhost:8080/",
     "height": 204
    },
    "id": "ZaUkP8qJd0xG",
    "outputId": "c6cba811-2b11-4f8d-c2b9-55cea1b268d5"
   },
   "outputs": [
    {
     "data": {
      "text/html": [
       "<div>\n",
       "<style scoped>\n",
       "    .dataframe tbody tr th:only-of-type {\n",
       "        vertical-align: middle;\n",
       "    }\n",
       "\n",
       "    .dataframe tbody tr th {\n",
       "        vertical-align: top;\n",
       "    }\n",
       "\n",
       "    .dataframe thead th {\n",
       "        text-align: right;\n",
       "    }\n",
       "</style>\n",
       "<table border=\"1\" class=\"dataframe\">\n",
       "  <thead>\n",
       "    <tr style=\"text-align: right;\">\n",
       "      <th></th>\n",
       "      <th>CRIM</th>\n",
       "      <th>ZN</th>\n",
       "      <th>INDUS</th>\n",
       "      <th>CHAS</th>\n",
       "      <th>NOX</th>\n",
       "      <th>RM</th>\n",
       "      <th>AGE</th>\n",
       "      <th>DIS</th>\n",
       "      <th>RAD</th>\n",
       "      <th>TAX</th>\n",
       "      <th>PTRATIO</th>\n",
       "      <th>B</th>\n",
       "      <th>LSTAT</th>\n",
       "    </tr>\n",
       "  </thead>\n",
       "  <tbody>\n",
       "    <tr>\n",
       "      <th>0</th>\n",
       "      <td>0.00632</td>\n",
       "      <td>18.0</td>\n",
       "      <td>2.31</td>\n",
       "      <td>0.0</td>\n",
       "      <td>0.538</td>\n",
       "      <td>6.575</td>\n",
       "      <td>65.2</td>\n",
       "      <td>4.0900</td>\n",
       "      <td>1.0</td>\n",
       "      <td>296.0</td>\n",
       "      <td>15.3</td>\n",
       "      <td>396.90</td>\n",
       "      <td>4.98</td>\n",
       "    </tr>\n",
       "    <tr>\n",
       "      <th>1</th>\n",
       "      <td>0.02731</td>\n",
       "      <td>0.0</td>\n",
       "      <td>7.07</td>\n",
       "      <td>0.0</td>\n",
       "      <td>0.469</td>\n",
       "      <td>6.421</td>\n",
       "      <td>78.9</td>\n",
       "      <td>4.9671</td>\n",
       "      <td>2.0</td>\n",
       "      <td>242.0</td>\n",
       "      <td>17.8</td>\n",
       "      <td>396.90</td>\n",
       "      <td>9.14</td>\n",
       "    </tr>\n",
       "    <tr>\n",
       "      <th>2</th>\n",
       "      <td>0.02729</td>\n",
       "      <td>0.0</td>\n",
       "      <td>7.07</td>\n",
       "      <td>0.0</td>\n",
       "      <td>0.469</td>\n",
       "      <td>7.185</td>\n",
       "      <td>61.1</td>\n",
       "      <td>4.9671</td>\n",
       "      <td>2.0</td>\n",
       "      <td>242.0</td>\n",
       "      <td>17.8</td>\n",
       "      <td>392.83</td>\n",
       "      <td>4.03</td>\n",
       "    </tr>\n",
       "    <tr>\n",
       "      <th>3</th>\n",
       "      <td>0.03237</td>\n",
       "      <td>0.0</td>\n",
       "      <td>2.18</td>\n",
       "      <td>0.0</td>\n",
       "      <td>0.458</td>\n",
       "      <td>6.998</td>\n",
       "      <td>45.8</td>\n",
       "      <td>6.0622</td>\n",
       "      <td>3.0</td>\n",
       "      <td>222.0</td>\n",
       "      <td>18.7</td>\n",
       "      <td>394.63</td>\n",
       "      <td>2.94</td>\n",
       "    </tr>\n",
       "    <tr>\n",
       "      <th>4</th>\n",
       "      <td>0.06905</td>\n",
       "      <td>0.0</td>\n",
       "      <td>2.18</td>\n",
       "      <td>0.0</td>\n",
       "      <td>0.458</td>\n",
       "      <td>7.147</td>\n",
       "      <td>54.2</td>\n",
       "      <td>6.0622</td>\n",
       "      <td>3.0</td>\n",
       "      <td>222.0</td>\n",
       "      <td>18.7</td>\n",
       "      <td>396.90</td>\n",
       "      <td>5.33</td>\n",
       "    </tr>\n",
       "  </tbody>\n",
       "</table>\n",
       "</div>"
      ],
      "text/plain": [
       "      CRIM    ZN  INDUS  CHAS    NOX  ...  RAD    TAX  PTRATIO       B  LSTAT\n",
       "0  0.00632  18.0   2.31   0.0  0.538  ...  1.0  296.0     15.3  396.90   4.98\n",
       "1  0.02731   0.0   7.07   0.0  0.469  ...  2.0  242.0     17.8  396.90   9.14\n",
       "2  0.02729   0.0   7.07   0.0  0.469  ...  2.0  242.0     17.8  392.83   4.03\n",
       "3  0.03237   0.0   2.18   0.0  0.458  ...  3.0  222.0     18.7  394.63   2.94\n",
       "4  0.06905   0.0   2.18   0.0  0.458  ...  3.0  222.0     18.7  396.90   5.33\n",
       "\n",
       "[5 rows x 13 columns]"
      ]
     },
     "execution_count": 70,
     "metadata": {
      "tags": []
     },
     "output_type": "execute_result"
    }
   ],
   "source": [
    "boston_df = pd.DataFrame(data=boston['data'], columns=boston['feature_names'])\n",
    "boston_df.head()"
   ]
  },
  {
   "cell_type": "markdown",
   "metadata": {
    "id": "OmZCAErvd0xJ"
   },
   "source": [
    "보스턴 주택 가격 데이터는 다음과 같이 구성되어 있다.\n",
    "\n",
    "1. 타겟 데이터\n",
    "\n",
    "1978 보스턴 주택 가격\n",
    "\n",
    "506개 타운의 주택 가격 중앙값 (단위 1,000 달러)"
   ]
  },
  {
   "cell_type": "markdown",
   "metadata": {
    "id": "6d-GQVrJd0xJ"
   },
   "source": [
    "2. 특징 데이터\n",
    "\n",
    "CRIM: 범죄율\n",
    "\n",
    "ZN: 25,000 평방피트를 초과 거주지역 비율\n",
    "\n",
    "INDUS: 비소매상업지역 면적 비율\n",
    "\n",
    "CHAS: 찰스강의 경계에 위치한 경우는 1, 아니면 0\n",
    "\n",
    "NOX: 일산화질소 농도\n",
    "\n",
    "RM: 주택당 방 수\n",
    "\n",
    "AGE: 1940년 이전에 건축된 주택의 비율\n",
    "\n",
    "DIS: 직업센터의 거리\n",
    "\n",
    "RAD: 방사형 고속도로까지의 거리\n",
    "\n",
    "TAX: 재산세율\n",
    "\n",
    "B: 인구 중 흑인 비율\n",
    "\n",
    "PTRATIO: 학생/교사 비율\n",
    "\n",
    "LSTAT: 인구 중 하위 계층 비율\n"
   ]
  },
  {
   "cell_type": "code",
   "execution_count": 71,
   "metadata": {
    "ExecuteTime": {
     "end_time": "2020-04-06T10:21:13.699272Z",
     "start_time": "2020-04-06T10:21:13.659368Z"
    },
    "colab": {
     "base_uri": "https://localhost:8080/",
     "height": 224
    },
    "id": "_ugstuCed0xK",
    "outputId": "000b04cd-b6de-4959-dc5f-2dc2dec1817b",
    "scrolled": true
   },
   "outputs": [
    {
     "data": {
      "text/html": [
       "<div>\n",
       "<style scoped>\n",
       "    .dataframe tbody tr th:only-of-type {\n",
       "        vertical-align: middle;\n",
       "    }\n",
       "\n",
       "    .dataframe tbody tr th {\n",
       "        vertical-align: top;\n",
       "    }\n",
       "\n",
       "    .dataframe thead th {\n",
       "        text-align: right;\n",
       "    }\n",
       "</style>\n",
       "<table border=\"1\" class=\"dataframe\">\n",
       "  <thead>\n",
       "    <tr style=\"text-align: right;\">\n",
       "      <th></th>\n",
       "      <th>CRIM</th>\n",
       "      <th>ZN</th>\n",
       "      <th>INDUS</th>\n",
       "      <th>CHAS</th>\n",
       "      <th>NOX</th>\n",
       "      <th>RM</th>\n",
       "      <th>AGE</th>\n",
       "      <th>DIS</th>\n",
       "      <th>RAD</th>\n",
       "      <th>TAX</th>\n",
       "      <th>PTRATIO</th>\n",
       "      <th>B</th>\n",
       "      <th>LSTAT</th>\n",
       "      <th>Price</th>\n",
       "    </tr>\n",
       "  </thead>\n",
       "  <tbody>\n",
       "    <tr>\n",
       "      <th>0</th>\n",
       "      <td>-0.419367</td>\n",
       "      <td>0.284548</td>\n",
       "      <td>-1.286636</td>\n",
       "      <td>-0.272329</td>\n",
       "      <td>-0.144075</td>\n",
       "      <td>0.413263</td>\n",
       "      <td>-0.119895</td>\n",
       "      <td>0.140075</td>\n",
       "      <td>-0.981871</td>\n",
       "      <td>-0.665949</td>\n",
       "      <td>-1.457558</td>\n",
       "      <td>0.440616</td>\n",
       "      <td>-1.074499</td>\n",
       "      <td>24.0</td>\n",
       "    </tr>\n",
       "    <tr>\n",
       "      <th>1</th>\n",
       "      <td>-0.416927</td>\n",
       "      <td>-0.487240</td>\n",
       "      <td>-0.592794</td>\n",
       "      <td>-0.272329</td>\n",
       "      <td>-0.739530</td>\n",
       "      <td>0.194082</td>\n",
       "      <td>0.366803</td>\n",
       "      <td>0.556609</td>\n",
       "      <td>-0.867024</td>\n",
       "      <td>-0.986353</td>\n",
       "      <td>-0.302794</td>\n",
       "      <td>0.440616</td>\n",
       "      <td>-0.491953</td>\n",
       "      <td>21.6</td>\n",
       "    </tr>\n",
       "    <tr>\n",
       "      <th>2</th>\n",
       "      <td>-0.416929</td>\n",
       "      <td>-0.487240</td>\n",
       "      <td>-0.592794</td>\n",
       "      <td>-0.272329</td>\n",
       "      <td>-0.739530</td>\n",
       "      <td>1.281446</td>\n",
       "      <td>-0.265549</td>\n",
       "      <td>0.556609</td>\n",
       "      <td>-0.867024</td>\n",
       "      <td>-0.986353</td>\n",
       "      <td>-0.302794</td>\n",
       "      <td>0.396035</td>\n",
       "      <td>-1.207532</td>\n",
       "      <td>34.7</td>\n",
       "    </tr>\n",
       "    <tr>\n",
       "      <th>3</th>\n",
       "      <td>-0.416338</td>\n",
       "      <td>-0.487240</td>\n",
       "      <td>-1.305586</td>\n",
       "      <td>-0.272329</td>\n",
       "      <td>-0.834458</td>\n",
       "      <td>1.015298</td>\n",
       "      <td>-0.809088</td>\n",
       "      <td>1.076671</td>\n",
       "      <td>-0.752178</td>\n",
       "      <td>-1.105022</td>\n",
       "      <td>0.112920</td>\n",
       "      <td>0.415751</td>\n",
       "      <td>-1.360171</td>\n",
       "      <td>33.4</td>\n",
       "    </tr>\n",
       "    <tr>\n",
       "      <th>4</th>\n",
       "      <td>-0.412074</td>\n",
       "      <td>-0.487240</td>\n",
       "      <td>-1.305586</td>\n",
       "      <td>-0.272329</td>\n",
       "      <td>-0.834458</td>\n",
       "      <td>1.227362</td>\n",
       "      <td>-0.510674</td>\n",
       "      <td>1.076671</td>\n",
       "      <td>-0.752178</td>\n",
       "      <td>-1.105022</td>\n",
       "      <td>0.112920</td>\n",
       "      <td>0.440616</td>\n",
       "      <td>-1.025487</td>\n",
       "      <td>36.2</td>\n",
       "    </tr>\n",
       "  </tbody>\n",
       "</table>\n",
       "</div>"
      ],
      "text/plain": [
       "       CRIM        ZN     INDUS      CHAS  ...   PTRATIO         B     LSTAT  Price\n",
       "0 -0.419367  0.284548 -1.286636 -0.272329  ... -1.457558  0.440616 -1.074499   24.0\n",
       "1 -0.416927 -0.487240 -0.592794 -0.272329  ... -0.302794  0.440616 -0.491953   21.6\n",
       "2 -0.416929 -0.487240 -0.592794 -0.272329  ... -0.302794  0.396035 -1.207532   34.7\n",
       "3 -0.416338 -0.487240 -1.305586 -0.272329  ...  0.112920  0.415751 -1.360171   33.4\n",
       "4 -0.412074 -0.487240 -1.305586 -0.272329  ...  0.112920  0.440616 -1.025487   36.2\n",
       "\n",
       "[5 rows x 14 columns]"
      ]
     },
     "execution_count": 71,
     "metadata": {
      "tags": []
     },
     "output_type": "execute_result"
    }
   ],
   "source": [
    "data = boston_df.apply(lambda x: (x - x.mean()) / x.std())\n",
    "data['Price'] = boston['target']\n",
    "data.head()"
   ]
  },
  {
   "cell_type": "code",
   "execution_count": 72,
   "metadata": {
    "ExecuteTime": {
     "end_time": "2020-04-06T10:21:15.665006Z",
     "start_time": "2020-04-06T10:21:15.659023Z"
    },
    "colab": {
     "base_uri": "https://localhost:8080/"
    },
    "id": "EtIAj6wed0xM",
    "outputId": "25ce5f6f-c0cd-43d7-b822-718b3b8850e9"
   },
   "outputs": [
    {
     "name": "stdout",
     "output_type": "stream",
     "text": [
      "(506, 13)\n",
      "(506, 1)\n"
     ]
    }
   ],
   "source": [
    "X = data.values[:,:-1] # 모두 가져오는데 마지막만 제외하고\n",
    "y = data.values[:,-1:] # 모두 가져오는데 마지막만 가져온다.\n",
    "print(X.shape)\n",
    "print(y.shape)"
   ]
  },
  {
   "cell_type": "code",
   "execution_count": 73,
   "metadata": {
    "ExecuteTime": {
     "end_time": "2020-04-06T10:21:16.985477Z",
     "start_time": "2020-04-06T10:21:16.980497Z"
    },
    "id": "EjTASmXzd0xO"
   },
   "outputs": [],
   "source": [
    "import torch\n",
    "import torch.nn as nn\n",
    "import torch.nn.functional as F\n",
    "import torch.optim as optim\n",
    "\n",
    "from torch.utils.data import Dataset\n",
    "from torch.utils.data import DataLoader"
   ]
  },
  {
   "cell_type": "code",
   "execution_count": 74,
   "metadata": {
    "ExecuteTime": {
     "end_time": "2020-04-06T10:21:17.912998Z",
     "start_time": "2020-04-06T10:21:17.907014Z"
    },
    "id": "NGq8tKTsd0xS"
   },
   "outputs": [],
   "source": [
    "class MyDataset(Dataset): \n",
    "    # 데이터셋의 전처리를 해주는 부분\n",
    "    def __init__(self):\n",
    "        self.x_data = torch.tensor(X,dtype=torch.float)\n",
    "        self.y_data = torch.tensor(y,dtype=torch.float)\n",
    "        \n",
    "    # 데이터셋의 길이, 즉 총 샘플의 수를 적어주는 부분\n",
    "    def __len__(self): \n",
    "        return len(self.x_data)\n",
    "\n",
    "    # 데이터셋에서 특정 1개의 샘플을 가져오는 함수\n",
    "    def __getitem__(self, idx): \n",
    "        x = self.x_data[idx]\n",
    "        y = self.y_data[idx]\n",
    "        return x, y\n"
   ]
  },
  {
   "cell_type": "code",
   "execution_count": 75,
   "metadata": {
    "ExecuteTime": {
     "end_time": "2020-04-06T10:21:19.406030Z",
     "start_time": "2020-04-06T10:21:19.402048Z"
    },
    "id": "E5DSfjFLd0xX"
   },
   "outputs": [],
   "source": [
    "dataset = MyDataset()"
   ]
  },
  {
   "cell_type": "code",
   "execution_count": 76,
   "metadata": {
    "ExecuteTime": {
     "end_time": "2020-04-06T10:21:20.199884Z",
     "start_time": "2020-04-06T10:21:20.193924Z"
    },
    "colab": {
     "base_uri": "https://localhost:8080/"
    },
    "id": "VfwjRql0d0xa",
    "outputId": "838eb504-513b-4140-e8f1-191e83152ece"
   },
   "outputs": [
    {
     "name": "stdout",
     "output_type": "stream",
     "text": [
      "404 102\n",
      "404 102\n"
     ]
    }
   ],
   "source": [
    "# train, validation set 나누기\n",
    "\n",
    "train_val_ratio = 0.8\n",
    "train_size = int(len(dataset) * train_val_ratio)\n",
    "val_size = len(dataset) - train_size\n",
    "print(train_size, val_size)\n",
    "\n",
    "#datset를 train_size와 val_size의 길이로 나눈다\n",
    "train_dataset,val_dataset = torch.utils.data.random_split(dataset,[train_size, val_size])\n",
    "print(len(train_dataset), len(val_dataset))\n"
   ]
  },
  {
   "cell_type": "code",
   "execution_count": 77,
   "metadata": {
    "ExecuteTime": {
     "end_time": "2020-04-06T10:21:20.895055Z",
     "start_time": "2020-04-06T10:21:20.891035Z"
    },
    "id": "abbskadHd0xc"
   },
   "outputs": [],
   "source": [
    "train_loader = DataLoader(dataset=train_dataset, batch_size=len(train_dataset), shuffle=True)\n",
    "val_loader = DataLoader(dataset=val_dataset, batch_size=len(val_dataset), shuffle=True)"
   ]
  },
  {
   "cell_type": "code",
   "execution_count": 78,
   "metadata": {
    "ExecuteTime": {
     "end_time": "2020-04-06T10:21:22.252436Z",
     "start_time": "2020-04-06T10:21:21.746749Z"
    },
    "id": "GZaorTBId0xe"
   },
   "outputs": [],
   "source": [
    "model = nn.Linear(13,1)\n",
    "optimizer = optim.SGD(model.parameters(), lr=0.05)\n",
    "\n",
    "nb_epochs = 30\n",
    "train_losses = []\n",
    "val_losses = []\n",
    "for epoch in range(nb_epochs + 1):\n",
    "    for samples in train_loader:\n",
    "        x_train, y_train = samples\n",
    "        \n",
    "        # H(x) 계산\n",
    "        prediction = model(x_train)\n",
    "\n",
    "        # cost 계산\n",
    "        cost = F.mse_loss(prediction, y_train)\n",
    "\n",
    "        # cost로 H(x) 계산\n",
    "        optimizer.zero_grad()\n",
    "        cost.backward()\n",
    "        optimizer.step()\n",
    "        train_losses.append(cost.item())\n",
    "\n",
    "        #print(f'Epoch {epoch}/{nb_epochs} Cost: {cost.item()}')\n",
    "        \n",
    "    for samples in val_loader:\n",
    "        x_test, y_test = samples\n",
    "        prediction = model(x_test)\n",
    "        cost = F.mse_loss(prediction, y_test)\n",
    "        val_losses.append(cost.item())\n",
    "        #print(f'Validation Cost : {cost.item()}')\n",
    "    #print('-'*50)"
   ]
  },
  {
   "cell_type": "code",
   "execution_count": 79,
   "metadata": {
    "ExecuteTime": {
     "end_time": "2020-04-06T10:21:23.624728Z",
     "start_time": "2020-04-06T10:21:23.210835Z"
    },
    "colab": {
     "base_uri": "https://localhost:8080/",
     "height": 265
    },
    "id": "VUfz5vlUd0xi",
    "outputId": "2f020cfb-715e-4cf6-e7e7-eb3533dd4904"
   },
   "outputs": [
    {
     "data": {
      "image/png": "[encoded data removed]",
      "text/plain": [
       "<Figure size 432x288 with 1 Axes>"
      ]
     },
     "metadata": {
      "needs_background": "light",
      "tags": []
     },
     "output_type": "display_data"
    }
   ],
   "source": [
    "import matplotlib.pyplot as plt\n",
    "plt.plot(train_losses,label='train')\n",
    "plt.plot(val_losses,label='val')\n",
    "plt.legend()\n",
    "plt.show()"
   ]
  },
  {
   "cell_type": "code",
   "execution_count": null,
   "metadata": {
    "id": "E5It-a5yd0xn"
   },
   "outputs": [],
   "source": []
  }
 ],
 "metadata": {
  "colab": {
   "collapsed_sections": [
    "0NVPbY6qd0wk",
    "uXtcBVqed0wl",
    "3ngs_XnAd0wn"
   ],
   "include_colab_link": true,
   "name": "2.선형회귀.ipynb",
   "provenance": [],
   "toc_visible": true
  },
  "hide_input": false,
  "kernelspec": {
   "display_name": "Python 3",
   "language": "python",
   "name": "python3"
  },
  "language_info": {
   "codemirror_mode": {
    "name": "ipython",
    "version": 3
   },
   "file_extension": ".py",
   "mimetype": "text/x-python",
   "name": "python",
   "nbconvert_exporter": "python",
   "pygments_lexer": "ipython3",
   "version": "3.8.5"
  },
  "toc": {
   "base_numbering": 1,
   "nav_menu": {},
   "number_sections": false,
   "sideBar": true,
   "skip_h1_title": false,
   "title_cell": "",
   "title_sidebar": "Contents",
   "toc_cell": true,
   "toc_position": {
    "height": "calc(100% - 180px)",
    "left": "10px",
    "top": "150px",
    "width": "304px"
   },
   "toc_section_display": true,
   "toc_window_display": true
  },
  "varInspector": {
   "cols": {
    "lenName": 16,
    "lenType": 16,
    "lenVar": 40
   },
   "kernels_config": {
    "python": {
     "delete_cmd_postfix": "",
     "delete_cmd_prefix": "del ",
     "library": "var_list.py",
     "varRefreshCmd": "print(var_dic_list())"
    },
    "r": {
     "delete_cmd_postfix": ") ",
     "delete_cmd_prefix": "rm(",
     "library": "var_list.r",
     "varRefreshCmd": "cat(var_dic_list()) "
    }
   },
   "types_to_exclude": [
    "module",
    "function",
    "builtin_function_or_method",
    "instance",
    "_Feature"
   ],
   "window_display": false
  }
 },
 "nbformat": 4,
 "nbformat_minor": 1
}
