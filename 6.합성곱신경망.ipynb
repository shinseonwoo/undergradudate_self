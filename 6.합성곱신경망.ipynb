{
 "cells": [
  {
   "cell_type": "markdown",
   "metadata": {
    "colab_type": "text",
    "id": "view-in-github"
   },
   "source": [
    "<a href=\"https://colab.research.google.com/github/Jung0Jin/Pytorch_study/blob/master/6.%ED%95%A9%EC%84%B1%EA%B3%B1%EC%8B%A0%EA%B2%BD%EB%A7%9D.ipynb\" target=\"_parent\"><img src=\"https://colab.research.google.com/assets/colab-badge.svg\" alt=\"Open In Colab\"/></a>"
   ]
  },
  {
   "cell_type": "markdown",
   "metadata": {
    "id": "0gf7ynBmRVMy"
   },
   "source": [
    "#6. 합성곱 신경망(Convolutional Neural Network)"
   ]
  },
  {
   "cell_type": "markdown",
   "metadata": {
    "id": "iVlfA2cyRcRW"
   },
   "source": [
    "출처 : https://github.com/Namsik-Yoon/pytorch_basic/blob/master/6.%20%ED%95%A9%EC%84%B1%EA%B3%B1%20%EC%8B%A0%EA%B2%BD%EB%A7%9D(Convolutional%20Neural%20Network).ipynb "
   ]
  },
  {
   "cell_type": "markdown",
   "metadata": {
    "id": "G2h2tffXwHNY"
   },
   "source": [
    "이번 챕터에서는 주로 이미지, 비전 분야에서 사용되는 (하지만 자연어 처리에서도 일부 사용되는) 합성곱 신경망(Convolutional Neural Network)에 대해 배운다.\n",
    "\n",
    "네모 형식으로 처리할 수 있으면 적용할 수 있다."
   ]
  },
  {
   "cell_type": "markdown",
   "metadata": {
    "id": "uhlorskjRitQ"
   },
   "source": [
    "##6.1 합성곱과 풀링(Convolution and Pooling)"
   ]
  },
  {
   "cell_type": "markdown",
   "metadata": {
    "id": "m_fH9LIURqTe"
   },
   "source": [
    "합성곱 신경망은 합성곱층(Convolution layer)과 풀링층(Pooling layer)으로 구성된다. 아래의 그림은 합성곱 신경망의 일반적인 예를 보여준다."
   ]
  },
  {
   "cell_type": "markdown",
   "metadata": {
    "id": "ZlcFAtH4R2Mf"
   },
   "source": [
    "![대체 텍스트](https://wikidocs.net/images/page/62306/convpooling.PNG)\n",
    "\n",
    "위의 그림에서 CONV는 합성곱 연산을 의미한다.\n",
    "\n",
    "RELU는 활성화 함수로 합성곱 연산의 결과가 활성화 함수 ReLU를 지난다.\n",
    "\n",
    "이 두 과정을 합성곱층이라고 한다.\n",
    "\n",
    "그 후에 POOL이라는 구간을 지난다. 이는 풀링 연산을 의미하여 풀링층이라고 한다."
   ]
  },
  {
   "cell_type": "markdown",
   "metadata": {
    "id": "Si2QDd_LSV6n"
   },
   "source": [
    "###6.1.1 합성곱 신경망의 대두"
   ]
  },
  {
   "cell_type": "markdown",
   "metadata": {
    "id": "RexTZ39EScU-"
   },
   "source": [
    "합성곱 신경망은 이미지 처리에 탁월한 성능을 보이는 신경망이다.\n",
    "\n",
    "이미지 처리를 하기 위해서 앞서 배운 다층 퍼셉트론을 사용할 수 있지만 한계가 있었다.\n",
    "\n",
    "아래의 그림은 알파벳 Y에 대한 손글씨 두 개를 2차원 텐서인 행렬로 표현한 것이다."
   ]
  },
  {
   "cell_type": "markdown",
   "metadata": {
    "id": "Eyh3enSxSuhX"
   },
   "source": [
    "![대체 텍스트](https://wikidocs.net/images/page/64066/conv0.png)\n",
    "\n",
    "사람이 보기에는 두 그림 모두 알파벳 Y로 손쉽게 판단이 가능하다.\n",
    "\n",
    "기계가 보기에는 각 픽셀마다 가진 값이 상이하므로 완전히 다른 값으로 인식한다.\n",
    "\n",
    "이미지는 위와 같이 같은 대상이라도 휘어지거나, 이동되거나, 방향이 뒤틀리는 등 다양한 변형이 존재한다.\n",
    "\n",
    "다층 퍼셉트론은 몇 가지 픽셀만 값이 달라져도 민감하게 예측에 영향을 받는다는 단점이 있다.\n",
    "\n",
    "위 손글씨를 다층 퍼셉트론으로 분류한다고 하면, 이미지를 1차원 텐서인 벡터로 변환하고 다층 퍼셉트론의 입력으로 사용한다.\n",
    "\n",
    "두 번째 손글씨를 다층 퍼셉트론으로 분류하기 위해 벡터로 바꾸면 다음과 같다."
   ]
  },
  {
   "cell_type": "markdown",
   "metadata": {
    "id": "CRD6yawlTRzh"
   },
   "source": [
    "![대체 텍스트](https://wikidocs.net/images/page/64066/conv1.png)\n",
    "\n",
    "1차원으로 변환된 결과는 사람이 보기에도 이게 원래 어떤 이미지였는지 알아보기가 어렵다.\n",
    "\n",
    "이는 기계도 마찬가지로 위와 같은 결과는 변환 전에 가지고 있던 공간적인 구조(spatial structure) 정보가 유실된 상태이다.\n",
    "\n",
    "여기서 공간적인 구조 정보라는 것은 거리가 가까운 어떤 픽셀들끼리는 연관이 있다거나, 어떤 픽셀들끼리는 값이 비슷하다거나 등의 정보를 말한다.\n",
    "\n",
    "결국 이미지의 공간적인 구조 정보를 보존하면서 학습할 수 있는 방법이 필요해졌고, 이를 위해 사용하는 것이 합성곱 신경망이다."
   ]
  },
  {
   "cell_type": "markdown",
   "metadata": {
    "id": "EMGH-BOlUw-v"
   },
   "source": [
    "###6.1.2 채널(Channel)"
   ]
  },
  {
   "cell_type": "markdown",
   "metadata": {
    "id": "GWbqOf4gU3fW"
   },
   "source": [
    "이미지는 (높이, 너비, 채널)이라는 3차원 텐서이다. \n",
    "\n",
    "높이는 이미지의 세로 방향 픽셀 수\n",
    "\n",
    "너비는 이미지의 가로 방향 픽셀 수\n",
    "\n",
    "채널은 색 성분으로 흑백이면 채널 수 1, RGB면 채널 수 3이다.\n",
    "\n",
    "각 픽셀은 0부터 255 사이의 값을 가진다.\n",
    "\n",
    "아래는 28 X 28 픽셀의 손글씨 데이터이다."
   ]
  },
  {
   "cell_type": "markdown",
   "metadata": {
    "id": "Q2VBvCPcgK5_"
   },
   "source": [
    "![대체 텍스트](https://wikidocs.net/images/page/64066/conv2.png)\n",
    "\n",
    "위 손글씨 데이터는 흑백 이미지므로 채널 수가 1임을 고려하면 (28 X 28 X 1)의 크기를 가지는 3차원 텐서다.\n",
    "\n",
    "컬러 이미지 였으면 채널 수가 3으로 (28 X 28 X 3) 이었을 것이다. "
   ]
  },
  {
   "cell_type": "markdown",
   "metadata": {
    "id": "NgTN099ugjEm"
   },
   "source": [
    "![대체 텍스트](https://wikidocs.net/images/page/64066/conv3.png)\n",
    "\n",
    "컬러 이미지는 적색(Red), 녹색(green), 청색(Blue) 채널로 수가 3개이다.\n",
    "\n",
    "채널은 때로는 깊이(depth)라고도 한다.\n",
    "\n",
    "이 경우 이미지는 (높이, 너비, 깊이)라는 3차원 텐서로 표현된다고 말할 수 있다."
   ]
  },
  {
   "cell_type": "markdown",
   "metadata": {
    "id": "JMHkDVtJwbdw"
   },
   "source": [
    "채널에 대한 정의를 확실히 해야한다.\n",
    "\n",
    "[[1, 0 ,1],\n",
    "\n",
    "[0, 1, 0]]\n",
    "\n",
    "이러면 2 X 3 -> 2차원\n",
    "\n",
    "[[[1, 0, 1],\n",
    "\n",
    "[0, 1, 0]]] \n",
    "\n",
    "이러면 2 X 3 X 1 -> 3차원, 채널이 1개니 흑백\n",
    "\n",
    "[[[1, 0, 1],\n",
    "\n",
    "[0, 1, 0]],\n",
    "\n",
    "[[1, 0, 1],\n",
    "\n",
    "[0, 1, 0]],\n",
    "\n",
    "[[1, 0, 1],\n",
    "\n",
    "[0, 1, 0]]]\n",
    "\n",
    "이러면 2 X 3 X 3 -> 3차원, 채널이 3개니 RGB"
   ]
  },
  {
   "cell_type": "markdown",
   "metadata": {
    "id": "HMmwXioRgz_g"
   },
   "source": [
    "###6.1.3 합성곱 연산(Convolution operation)"
   ]
  },
  {
   "cell_type": "markdown",
   "metadata": {
    "id": "FgbCqWFYg4hO"
   },
   "source": [
    "합성곱층은 합성곱 연산을 통해서 이미지의 특징을 추출하는 역할을 한다.\n",
    "\n",
    "합성곱은 영어로 컨볼루션이라고도 불린다.\n",
    "\n",
    "합성곱은 커널(kernel) 또는 필터(filter)라고도 불린다.\n",
    "\n",
    "합성곱은 $n$  X  $m$ 크기의 행렬로 높이(height)X너비(width) 크기의 이미지를 처음부터 끝까지 겹치며 훑는다.\n",
    "\n",
    "합성곱은 $n$ X $m$ 크기의 겹쳐지는 부분의 각 이미지와 합성곱(커널, 필터)의 원소의 값을 각각 곱해서 모두 더한다. 이때, 이미지의 가장 왼쪽 위부터 가장 오른쪽 까지 순차적으로 훑는다.\n",
    "\n",
    "합성곱(커널, 필터)은 일반적으로 3 X 3 또는 5 X 5를 사용한다.\n",
    "\n",
    "아래는 5 X 5의 이미지 행렬에 3 X 3 크기의 커널로 합성곱 연산을 수행하는 과정이다.\n",
    "\n",
    "한 번의 연산을 1 스텝(step)이라고 하였을 때, 합성곱 연산의 네번째 스텝까지 이미지와 식으로 표현해봤다."
   ]
  },
  {
   "cell_type": "markdown",
   "metadata": {
    "id": "BBBzwK3xiPPm"
   },
   "source": [
    "1) 첫번째 스텝\n",
    "\n",
    "![대체 텍스트](https://wikidocs.net/images/page/64066/conv4.png)\n",
    "\n",
    "(1×1) + (2×0) + (3×1) + (2×1) + (1×0) + (0×1) + (3×0) + (0×1) + (1×0) = 6"
   ]
  },
  {
   "cell_type": "markdown",
   "metadata": {
    "id": "o95-7cuhiQi_"
   },
   "source": [
    "2) 두번째 스텝\n",
    "\n",
    "![대체 텍스트](https://wikidocs.net/images/page/64066/conv5.png)\n",
    "\n",
    "(2×1) + (3×0) + (4×1) + (1×1) + (0×0) + (1×1) + (0×0) + (1×1) + (1×0) = 9"
   ]
  },
  {
   "cell_type": "markdown",
   "metadata": {
    "id": "hD7W9hXOiTBQ"
   },
   "source": [
    "3) 세번째 스텝\n",
    "\n",
    "![대체 텍스트](https://wikidocs.net/images/page/64066/conv6.png)\n",
    "\n",
    "(3×1) + (4×0) + (5×1) + (0×1) + (1×0) + (2×1) + (1×0) + (1×1) + (0×0) = 11"
   ]
  },
  {
   "cell_type": "markdown",
   "metadata": {
    "id": "CDDauMaFiVVO"
   },
   "source": [
    "4) 네번째 스텝\n",
    "\n",
    "![대체 텍스트](https://wikidocs.net/images/page/64066/conv7.png)\n",
    "\n",
    "(2×1) + (1×0) + (0×1) + (3×1) + (0×0) + (1×1) + (1×0) + (4×1) + (1×0) = 10\n"
   ]
  },
  {
   "cell_type": "markdown",
   "metadata": {
    "id": "KRH8Qw1PiY_o"
   },
   "source": [
    "위 연산을 총 9번의 스텝까지 마쳤다고 가정하였을 때, 최종 결과는 아래와 같다.\n",
    "\n",
    "![대체 텍스트](https://wikidocs.net/images/page/64066/conv8.png)"
   ]
  },
  {
   "cell_type": "markdown",
   "metadata": {
    "id": "9UKUWAnxicRV"
   },
   "source": [
    "위와 같이 입력으로부터 커널을 사용하여 합성곱 연산을 통해 나온 결과를 특성 맵(feature map)이라고 한다.\n",
    "\n",
    "위의 예제에서는 커널의 크기가 3 × 3이었지만, 커널의 크기는 사용자가 정할 수 있다. \n",
    "\n",
    "또한 커널의 이동 범위가 위의 예제에서는 한 칸이었지만, 이 또한 사용자가 정할 수 있다. 이러한 이동 범위를 스트라이드(stride)라고 합니다.\n",
    "\n",
    "아래의 예제는 스트라이드가 2일 경우에 5 × 5 이미지에 합성곱 연산을 수행하는 3 × 3 커널의 움직임을 보여준다. 최종적으로 2 × 2의 크기의 특성 맵을 얻는다.\n",
    "\n",
    "![대체 텍스트](https://wikidocs.net/images/page/64066/conv9.png)"
   ]
  },
  {
   "cell_type": "markdown",
   "metadata": {
    "id": "0VVBKb_lxG0q"
   },
   "source": [
    "이미지에서 인식하려는 부분이 언제나 중앙에 있지는 않는다.\n",
    "\n",
    "가장자리에 있을 수도 있으니 잘 인식하려면 패딩을 입혀준다."
   ]
  },
  {
   "cell_type": "markdown",
   "metadata": {
    "id": "hUNDD_p0oNRm"
   },
   "source": [
    "###6.1.4 패딩(Padding)"
   ]
  },
  {
   "cell_type": "markdown",
   "metadata": {
    "id": "kbTyE8YdoQtL"
   },
   "source": [
    "위의 예에서 5 X 5 이미지에 3 X 3의 커널로 합성곱 연산을 하였을 때, 스트라이드가 1일 경우에는 3 X 3의 특성 맵을 얻었다.\n",
    "\n",
    "이와 같이 합성곱 연산의 결과로 얻은 특성 맵은 입력보다 크기가 작아진다는 특징이 있다.\n",
    "\n",
    "만약, 합성곱 층을 여러 개 쌓으면 최종적으로 얻은 특성 맵은 초기 입력보다 매우 작아진 상태가 될 것이다.\n",
    "\n",
    "합성곱 연산 이후에도 특성 맵의 크기가 입력의 크기와 동일하게 유지되도록 하고 싶다면 패딩(padding)을 사용하면 된다."
   ]
  },
  {
   "cell_type": "markdown",
   "metadata": {
    "id": "HZSy-9swoniP"
   },
   "source": [
    "![대체 텍스트](https://wikidocs.net/images/page/64066/conv10.png)\n",
    "\n",
    "패딩은 (합성곱 연산을 하기 전에) 입력의 가장자리에 지정된 개수의 폭만큼 행과 열을 추가해주는 것을 말한다.\n",
    "\n",
    "좀 더 쉽게 설명하면 지정된 개수의 폭만큼 테두리를 추가한다.\n",
    "\n",
    "주로 값을 0으로 채우는 제로 패딩(zero padding)을 사용한다.\n",
    "\n",
    "위의 그림은 5 X 5 이미지에 1폭짜리 제로 패딩을 사용하여 위, 아래에 하나의 행을 좌, 우에 하나의 열을 추가한 모습을 보여준다.\n",
    "\n",
    "커널은 주로 3 X 3 또는 5 X 5를 사용하는데, 만약 스트라이드가 1이라고 하였을 때, 3 X 3크기의 커널을 사용한다면 1폭짜리 제로 패딩을 사용하고, 5 X 5크기의 커널을 사용한다면 2폭짜리 제로 패딩을 사용하면 입력과 특성 맵의 크기를 보존할 수 있다.\n",
    "\n",
    "왜냐하면, 5 X 5 크기의 이미지에 1폭짜리 제로 패딩을 하면 7 X 7 이미지가 되는데, 여기에 3 X 3의 커널을 사용하여 1 스트라이드로 합성곱을 한 후의 특성 맵은 기존의 입력 이미지의 크기와 같은 5 X 5가 되기 때문이다.\n",
    "\n",
    "다시 생각해보자. 7 X 7 크기의 이미지에 2폭짜리 제로 패딩을 하면 11 X 11 이미지가 되는데, 여기에 5 X 5의 커널을 사용하여 1 스트라이드로 합성곱을 한 후의 특성 맵은 기존의 입력 이미지의 크기와 같은 7 X 7가 된다."
   ]
  },
  {
   "cell_type": "markdown",
   "metadata": {
    "id": "2WmFyxTEp6fE"
   },
   "source": [
    "###6.1.5 가중치와 편향"
   ]
  },
  {
   "cell_type": "markdown",
   "metadata": {
    "id": "8ZKhozUWsYjB"
   },
   "source": [
    "1) 합성곱 신경망의 가중치\n",
    "\n",
    "다층 퍼셉트론으로 3 × 3 이미지를 처리한다고 가정해보자.\n",
    "\n",
    "우선 이미지를 1차원 텐서인 벡터로 만들면, 3 × 3 = 9가 되므로 입력층은 9개의 뉴런을 가진다. \n",
    "\n",
    "그리고 4개의 뉴런을 가지는 은닉층을 추가한다고 해보면 이는 아래의 그림과 같다.\n",
    "\n",
    "![대체 텍스트](https://wikidocs.net/images/page/64066/conv11.png)"
   ]
  },
  {
   "cell_type": "markdown",
   "metadata": {
    "id": "806SAne5sldJ"
   },
   "source": [
    "위에서 각 연결선은 가중치를 의미하므로, 위의 그림에서는 9 × 4 = 36개의 가중치를 갖는다. \n",
    "\n",
    "이제 비교를 위해 합성곱 신경망으로 3 × 3 이미지를 처리한다고 해보자. \n",
    "\n",
    "2 × 2 커널을 사용하고, 스트라이드는 1로 한다. (*는 합성곱 연산을 의미한다.)\n",
    "\n",
    "![대체 텍스트](https://wikidocs.net/images/page/64066/conv12.png)"
   ]
  },
  {
   "cell_type": "markdown",
   "metadata": {
    "id": "Mabs-lcps-ya"
   },
   "source": [
    "사실 합성곱 신경망에서 가중치는 커널 행렬의 원소들이다. \n",
    "\n",
    "이를 인공 신경망의 형태로 표현한다면 다음과 같이 표현할 수 있다.\n",
    "\n",
    "![대체 텍스트](https://wikidocs.net/images/page/64066/conv13.png)"
   ]
  },
  {
   "cell_type": "markdown",
   "metadata": {
    "id": "Kz3L8PNktQ2J"
   },
   "source": [
    "최종적으로 특성 맵을 얻기 위해서는 동일한 커널로 이미지 전체를 훑으며 합성곱 연산을 진행한다.\n",
    "\n",
    "결국 이미지 전체를 훑으면서 사용되는 가중치는 $w_0, w_1, w_2, w_3$ 4개 뿐이다.\n",
    "\n",
    "그리고 각 합성곱 연산마다 이미지의 모든 픽셀을 사용하는 것이 아니라, 커널과 맵핑되는 픽셀만을 입력으로 사용하는 것을 볼 수 있다. \n",
    "\n",
    "결국 합성곱 신경망은 다층 퍼셉트론을 사용할 때보다 훨씬 적은 수의 가중치를 사용하며 공간적 구조 정보를 보존한다는 특징이 있다.\n",
    "\n",
    "다층 퍼셉트론의 은닉층에서는 가중치 연산 후에 비선형성을 추가하기 위해서 활성화 함수를 통과시켰다. \n",
    "\n",
    "합성곱 신경망의 은닉층에서도 마찬가지다. \n",
    "\n",
    "합성곱 연산을 통해 얻은 특성 맵은 다층 퍼셉트론때와 마찬가지로 비선형성 추가를 위해서 활성화 함수를 지나게 된다. \n",
    "\n",
    "이때 렐루 함수나 렐루 함수의 변형들이 주로 사용된다. \n",
    "\n",
    "은닉층에서 렐루 함수가 주로 사용되는 이유는 앞서 활성화 함수 챕터에서 다뤘다.\n",
    "\n",
    "이와 같이 합성곱 연산을 통해서 특성 맵을 얻고, 활성화 함수를 지나는 연산을 하는 합성곱 신경망의 은닉층을 합성곱 신경망에서는 합성곱 층(convolution layer)이라고 한다.\n"
   ]
  },
  {
   "cell_type": "markdown",
   "metadata": {
    "id": "jwKZM4LouhKK"
   },
   "source": [
    "2) 합성곱 신경망의 편향\n",
    "\n",
    "![대체 텍스트](https://wikidocs.net/images/page/64066/conv14.png)\n",
    "\n",
    "합성곱 신경망에도 편향(bias)를 당연히 추가할 수 있다. \n",
    "\n",
    "만약, 편향을 사용한다면 커널을 적용한 뒤에 더해진다. \n",
    "\n",
    "편향은 하나의 값만 존재하며, 커널이 적용된 결과의 모든 원소에 더해진다."
   ]
  },
  {
   "cell_type": "markdown",
   "metadata": {
    "id": "kbihb9KxxYMf"
   },
   "source": [
    "###6.1.6 특성 맵의 크기 계산 방법"
   ]
  },
  {
   "cell_type": "markdown",
   "metadata": {
    "id": "mqSZ_FYXxeG6"
   },
   "source": [
    "입력의 크기\n",
    "\n",
    "커널의 크기\n",
    "\n",
    "스트라이드의 값만 알면 \n",
    "\n",
    "합성곱 연산의 결과인 특성 맵의 크기를 계산할 수 있다.\n",
    "\n",
    "\n",
    "\n",
    "*   $I_{h}$ : 입력의 높이\n",
    "\n",
    "*   $I_{w}$ : 입력의 너비\n",
    "\n",
    "*   $K_{h}$ : 커널의 높이\n",
    "\n",
    "*   $K_{w}$ : 커널의 너비\n",
    "\n",
    "*   $S$ : 스트라이드\n",
    "\n",
    "*   $O_{h}$ : 특성 맵의 높이\n",
    "\n",
    "*   $O_{w}$ : 특성 맵의 너비\n",
    "\n",
    "이에 따라 특성 맵의 높이와 너비는 다음과 같다.\n",
    "\n",
    "$O_{h} = floor(\\frac{I_{h} - K_{h}}{S}+1)$\n",
    "\n",
    "$O_{w} = floor(\\frac{I_{w} - K_{w}}{S}+1)$\n",
    "\n",
    "여기서 $floor$ 함수는 소수점 발생 시 소수점 이하를 버리는 역할을 한다. \n",
    "\n",
    "예를 들어 위의 첫번째 예제의 경우 5 × 5 크기의 이미지에 3 × 3 커널을 사용하고 스트라이드 1로 합성곱 연산을 했다.\n",
    "\n",
    "이 경우 특성 맵의 크기는 (5 - 3 + 1 ) × (5 - 3 + 1) = 3 × 3임을 알 수 있다. 이는 또한 총 9번의 스텝이 필요함을 의미하기도 한다.\n",
    "\n",
    "패딩의 폭을 P라고 하고, 패딩까지 고려한 식은 다음과 같다.\n",
    "\n",
    "$O_{h} = floor(\\frac{I_{h} - K_{h} + 2P}{S}+1)$\n",
    "\n",
    "$O_{w} = floor(\\frac{I_{w} - K_{w} + 2P}{S}+1)$"
   ]
  },
  {
   "cell_type": "markdown",
   "metadata": {
    "id": "0GkWEirXxufk"
   },
   "source": [
    "[[[1,1,1], [1,1,1], [1,1,1]],\n",
    "\n",
    " [[1,1,1], [1,1,1], [1,1,1]],\n",
    "\n",
    " [[1,1,1], [1,1,1], [1,1,1]]]\n",
    "\n",
    "3 X 3 이미지가 있다.\n",
    "\n",
    "패딩 하나를 해주면\n",
    "\n",
    "[[[0,0,0], [0,0,0], [0,0,0], [0,0,0], [0,0,0]],\n",
    "\n",
    " [[0,0,0], [1,1,1], [1,1,1], [1,1,1], [0,0,0]],\n",
    "\n",
    " [[0,0,0], [1,1,1], [1,1,1], [1,1,1], [0,0,0]],\n",
    "\n",
    " [[0,0,0], [1,1,1], [1,1,1], [1,1,1], [0,0,0]],\n",
    "\n",
    " [[0,0,0], [0,0,0], [0,0,0], [0,0,0], [0,0,0]]]"
   ]
  },
  {
   "cell_type": "markdown",
   "metadata": {
    "id": "Ao5jJ1LNx4PO"
   },
   "source": [
    "conv layer의 커널의 fliter 수는 input matrix의 filter의 수라고 할 수 있다."
   ]
  },
  {
   "cell_type": "markdown",
   "metadata": {
    "id": "Z5pGqrUDyJ7_"
   },
   "source": [
    "###6.1.7 다수의 채널을 가질 경우의 합성곱 연산(3차원 텐서의 합성곱 연산)"
   ]
  },
  {
   "cell_type": "markdown",
   "metadata": {
    "id": "VQR7laQOyRbj"
   },
   "source": [
    "지금까지는 채널(channel) 또는 깊이(depth)를 고려하지 않고, 2차원 텐서를 가정하고 설명했다. \n",
    "\n",
    "하지만 실제로 합성곱 연산의 입력은 '다수의 채널을 가진' 이미지 또는 이전 연산의 결과로 나온 특성 맵일 수 있다. \n",
    "\n",
    "만약, 다수의 채널을 가진 입력 데이터를 가지고 합성곱 연산을 한다고 하면 커널의 채널 수도 입력의 채널 수만큼 존재해야 한다. \n",
    "\n",
    "다시 말해 입력 데이터의 채널 수와 커널의 채널 수는 같아야 한다. \n",
    "\n",
    "채널 수가 같으므로 합성곱 연산을 채널마다 수행한다. \n",
    "\n",
    "그리고 그 결과를 모두 더하여 최종 특성 맵을 얻는다.\n",
    "\n",
    "![대체 텍스트](https://wikidocs.net/images/page/64066/conv15.png)"
   ]
  },
  {
   "cell_type": "markdown",
   "metadata": {
    "id": "DRyNUvG0yrbn"
   },
   "source": [
    "위 그림은 3개의 채널을 가진 입력 데이터와 3개의 채널을 가진 커널의 합성곱 연산을 보여준다. \n",
    "\n",
    "커널의 각 채널끼리의 크기는 같아야 한다. \n",
    "\n",
    "각 채널 간 합성곱 연산을 마치고, 그 결과를 모두 더해서 하나의 채널을 가지는 특성 맵을 만든다. \n",
    "\n",
    "주의할 점은 위의 연산에서 사용되는 커널은 3개의 커널이 아니라 3개의 채널을 가진 1개의 커널이라는 점이다.\n",
    "\n",
    "위 그림은 높이 3, 너비 3, 채널 3의 입력이 높이 2, 너비 2, 채널 3의 커널과 합성곱 연산을 하여 높이 2, 너비 2, 채널 1의 특성 맵을 얻는다는 의미다. \n",
    "\n",
    "합성곱 연산의 결과로 얻은 특성 맵의 채널 차원은 RGB 채널 등과 같은 컬러의 의미를 담고 있지는 않는다.\n",
    "\n",
    "이제 이 연산에서 각 차원을 변수로 두고 좀 더 일반화 시켜보겠다."
   ]
  },
  {
   "cell_type": "markdown",
   "metadata": {
    "id": "FDm5jSZDzUOJ"
   },
   "source": [
    "###6.1.8 3차원 텐서의 합성곱 연산"
   ]
  },
  {
   "cell_type": "markdown",
   "metadata": {
    "id": "wtOxQ-aFzXWD"
   },
   "source": [
    "*   $I_{h}$ : 입력의 높이\n",
    "\n",
    "*   $I_{w}$ : 입력의 너비\n",
    "\n",
    "*   $K_{h}$ : 커널의 높이\n",
    "\n",
    "*   $K_{w}$ : 커널의 너비\n",
    "\n",
    "*   $O_{h}$ : 특성 맵의 높이\n",
    "\n",
    "*   $O_{w}$ : 특성 맵의 너비\n",
    "\n",
    "*   $C_{i}$ : 입력 데이터의 채널\n",
    "\n",
    "*   $C_{o}$ : 특성 맵의 채널\n",
    "\n",
    "다음은 3차원 텐서의 합성곱 연산을 보여준다.\n",
    "\n",
    "![대체 텍스트](https://wikidocs.net/images/page/64066/conv16_final.png)"
   ]
  },
  {
   "cell_type": "markdown",
   "metadata": {
    "id": "rI6w9Ojwzb7f"
   },
   "source": [
    "높이 $I_h$, 너비 $I_w$, 채널 $C_i$의 입력 데이터는 동일한 채널 수 $C_i$를 가지는 높이 $K_h$, 너비 $K_w$의 커널과 합성곱 연산을 하여 높이 $O_h$, 너비 $O_w$, 채널 1의 특성 맵을 얻는다. \n",
    "\n",
    "그런데 하나의 입력에 여러 개의 커널을 사용하는 합성곱 연산을 할 수도 있다.\n",
    "\n",
    "합성곱 연산에서 다수의 커널을 사용할 경우, 특성 맵의 크기가 어떻게 바뀌는지 보자. \n",
    "\n",
    "다음은 $C_o$를 합성곱 연산에 사용하는 커널의 수라고 하였을 때의 합성곱 연산 과정을 보여준다.\n",
    "\n",
    "![대체 텍스트](https://wikidocs.net/images/page/64066/conv17_final_final.PNG)"
   ]
  },
  {
   "cell_type": "markdown",
   "metadata": {
    "id": "KKtQRUIOzd5G"
   },
   "source": [
    "합성곱 연산에서 다수의 커널을 사용할 경우, 사용한 커널 수는 합성곱 연산의 결과로 나오는 특성 맵의 채널 수가 된다.\n",
    "\n",
    "이를 이해했다면 커널의 크기와 입력 데이터의 채널 수 $C_i$와 특성 맵(출력 데이터)의 채널 수 $C_o$가 주어졌을 때, 가중치 매개변수의 총 개수를 구할 수 있다.\n",
    "\n",
    "가중치는 커널의 원소들이므로 하나의 커널의 하나의 채널은 $K_h$ × $K_w$개의 매개변수를 가지고 있다. \n",
    "\n",
    "그런데 합성곱 연산을 하려면 커널은 입력 데이터의 채널 수와 동일한 채널 수를 가져야 한다. \n",
    "\n",
    "이에 따라 하나의 커널이 가지는 매개변수의 수는 $K_h$ × $K_w$ × $C_i$다. \n",
    "\n",
    "그런데 이러한 커널이 총 $C_o$개가 있어야 하므로 가중치 매개변수의 총 수는 다음과 같다.\n",
    "\n",
    "가중치 매개변수의 총 수 : $K_h$ × $K_w$ × $C_i$ × $C_o$\n",
    "\n",
    "가중치 매개변수의 총 수 : 커널의 높이 × 커널의 너비 × 입력 데이터의 채널 × 합성곱 연산에 사용하는 커널의 수 "
   ]
  },
  {
   "cell_type": "markdown",
   "metadata": {
    "id": "KwLIBni2155g"
   },
   "source": [
    "###6.1.9 풀링(Pooling)"
   ]
  },
  {
   "cell_type": "markdown",
   "metadata": {
    "id": "Mt_uhRMA19Dd"
   },
   "source": [
    "일반적으로 합성곱 층(합성곱 연산 + 활성화 함수) 다음에는 풀링 층을 추가하는 것이 일반적이다. \n",
    "\n",
    "풀링 층에서는 특성 맵을 다운샘플링하여 특성 맵의 크기를 줄이는 풀링 연산이 이루어진다. \n",
    "\n",
    "풀링 연산에는 일반적으로 최대 풀링(max pooling)과 평균 풀링(average pooling)이 사용된다. \n",
    "\n",
    "우선 최대 풀링을 통해서 풀링 연산을 이해해보자.\n",
    "\n",
    "![대체 텍스트](https://wikidocs.net/images/page/62306/maxpooling.PNG)"
   ]
  },
  {
   "cell_type": "markdown",
   "metadata": {
    "id": "aESw8wjt2F67"
   },
   "source": [
    "풀링 연산에서도 합성곱 연산과 마찬가지로 커널과 스트라이드의 개념을 가진다.\n",
    "\n",
    "위의 그림은 스트라이드가 2일 때, 2 x 2 크기 커널로 맥스 풀링 연산을 했을 때 특성맵이 절반의 크기로 다운샘플링되는 것을 보여준다. \n",
    "\n",
    "맥스 풀링은 커널과 겹치는 영역 안에서 최대값을 추출하는 방식으로 다운샘플링한다.\n",
    "\n",
    "다른 풀링 기법인 평균 풀링은 최대값을 추출하는 것이 아니라 평균값을 추출하는 연산이 된다. \n",
    "\n",
    "풀링 연산은 커널과 스트라이드 개념이 존재한다는 점에서 합성곱 연산과 유사하지만, 합성곱 연산과의 차이점은 학습해야 할 가중치가 없으며 연산 후에 채널 수가 변하지 않는다는 점이다.\n",
    "\n",
    "풀링을 사용하면, 특성 맵의 크기가 줄어드므로 특성 맵의 가중치의 개수를 줄여준다."
   ]
  },
  {
   "cell_type": "markdown",
   "metadata": {
    "id": "DnOFoKiJ2Tz-"
   },
   "source": [
    "##6.2 CNN으로 MNIST 분류하기"
   ]
  },
  {
   "cell_type": "markdown",
   "metadata": {
    "id": "BG6-zX8r2XLf"
   },
   "source": [
    "###6.2.1 모델 이해하기"
   ]
  },
  {
   "cell_type": "markdown",
   "metadata": {
    "id": "qoUZ71k12Yq8"
   },
   "source": [
    "1) 첫번째 표기 방법\n",
    "\n",
    "합성곱(nn.Cov2d) + 활성화 함수(nn.ReLU)를 하나의 합성곱 층으로 보고, 맥스풀링(nn.MaxPoold2d)은 풀링 층으로 별도로 명명한다."
   ]
  },
  {
   "cell_type": "markdown",
   "metadata": {
    "id": "J7kZJ04c2mot"
   },
   "source": [
    "2) 두번째 표기 방법\n",
    "\n",
    "합성곱(nn.Cov2d) + 활성화 함수(nn.ReLU) + 맥스풀링(nn.MaxPoold2d)을 하나의 합성곱 층으로 본다.\n",
    "\n",
    "우리는 맥스풀링까지도 포함해서 하나의 합성곱 층으로 판단하는 두번째 표기 방법을 사용하겠다."
   ]
  },
  {
   "cell_type": "markdown",
   "metadata": {
    "id": "H92anr0Q294S"
   },
   "source": [
    "모델의 아키텍처는 총 3개의 층으로 구성된다.\n",
    "\n",
    "```\n",
    "# 1번 레이어 : 합성곱층(Convolutional layer)\n",
    "합성곱(in_channel = 1, out_channel = 32, kernel_size=3, stride=1, padding=1) + 활성화 함수 ReLU\n",
    "맥스풀링(kernel_size=2, stride=2))\n",
    "\n",
    "# 2번 레이어 : 합성곱층(Convolutional layer)\n",
    "합성곱(in_channel = 32, out_channel = 64, kernel_size=3, stride=1, padding=1) + 활성화 함수 ReLU\n",
    "맥스풀링(kernel_size=2, stride=2))\n",
    "\n",
    "# 3번 레이어 : 전결합층(Fully-Connected layer)\n",
    "특성맵을 펼친다. # batch_size × 7 × 7 × 64 → batch_size × 3136\n",
    "전결합층(뉴런 10개) + 활성화 함수 Softmax\n",
    "```\n",
    "\n",
    "이를 직접 구현해보며 이해해보자."
   ]
  },
  {
   "cell_type": "markdown",
   "metadata": {
    "id": "fjXNkhaz3Nrl"
   },
   "source": [
    "###6.2.2 모델 구현하기"
   ]
  },
  {
   "cell_type": "code",
   "execution_count": null,
   "metadata": {
    "id": "A1L_tq5CROla"
   },
   "outputs": [],
   "source": [
    "import torch\n",
    "import torch.nn as nn"
   ]
  },
  {
   "cell_type": "code",
   "execution_count": null,
   "metadata": {
    "colab": {
     "base_uri": "https://localhost:8080/"
    },
    "id": "i93vnbpp3STL",
    "outputId": "a44f7f6d-56f1-41c2-9a8a-e66e5ba0ac19"
   },
   "outputs": [
    {
     "name": "stdout",
     "output_type": "stream",
     "text": [
      "텐서의 크기 : torch.Size([1, 1, 28, 28])\n"
     ]
    }
   ],
   "source": [
    "# 배치 크기 × 채널 × 높이(height) × 너비(widht)의 크기의 텐서를 선언\n",
    "inputs = torch.Tensor(1, 1, 28, 28)\n",
    "print(f'텐서의 크기 : {inputs.shape}')"
   ]
  },
  {
   "cell_type": "code",
   "execution_count": null,
   "metadata": {
    "colab": {
     "base_uri": "https://localhost:8080/"
    },
    "id": "J_MJX4X93aDk",
    "outputId": "f32e603c-22e0-4d9f-f9e7-cd6890f5f6ed"
   },
   "outputs": [
    {
     "name": "stdout",
     "output_type": "stream",
     "text": [
      "Conv2d(1, 32, kernel_size=(3, 3), stride=(1, 1), padding=(1, 1))\n"
     ]
    }
   ],
   "source": [
    "conv1 = nn.Conv2d(1, 32, 3, padding=1) # 1채널 짜리를 입력받아서 32채널을 뽑아낸다. 커널 사이즈는 3이고 패딩은 1이다.\n",
    "print(conv1)"
   ]
  },
  {
   "cell_type": "code",
   "execution_count": null,
   "metadata": {
    "colab": {
     "base_uri": "https://localhost:8080/"
    },
    "id": "0kSA5Tky3edE",
    "outputId": "4b046275-6bd5-4621-910d-1170e4369a78"
   },
   "outputs": [
    {
     "name": "stdout",
     "output_type": "stream",
     "text": [
      "Conv2d(32, 64, kernel_size=(3, 3), stride=(1, 1), padding=(1, 1))\n"
     ]
    }
   ],
   "source": [
    "conv2 = nn.Conv2d(32, 64, kernel_size=3, padding=1) # 32채널 짜리를 입력받아서 64채널을 뽑아낸다. 커널 사이즈는 3이고 패딩은 1이다.\n",
    "print(conv2)"
   ]
  },
  {
   "cell_type": "code",
   "execution_count": null,
   "metadata": {
    "colab": {
     "base_uri": "https://localhost:8080/"
    },
    "id": "aRf-gDS73f9E",
    "outputId": "8a2df855-798b-4957-b13b-bdc5e89a319c"
   },
   "outputs": [
    {
     "name": "stdout",
     "output_type": "stream",
     "text": [
      "MaxPool2d(kernel_size=2, stride=2, padding=0, dilation=1, ceil_mode=False)\n"
     ]
    }
   ],
   "source": [
    "pool = nn.MaxPool2d(2) # 정수 하나를 인자로 넣으면 커널 사이즈와 스트라이드가 둘 다 해당값으로 지정된다.\n",
    "print(pool)"
   ]
  },
  {
   "cell_type": "code",
   "execution_count": null,
   "metadata": {
    "colab": {
     "base_uri": "https://localhost:8080/"
    },
    "id": "QhZsQzbl3hsM",
    "outputId": "d4b23346-2465-4963-db92-c65929fbea44"
   },
   "outputs": [
    {
     "name": "stdout",
     "output_type": "stream",
     "text": [
      "torch.Size([1, 32, 28, 28])\n"
     ]
    }
   ],
   "source": [
    "out = conv1(inputs) # 입력을 첫번째 합성곱 층으로 통과시킨 후의 텐서의 크기\n",
    "print(out.shape)"
   ]
  },
  {
   "cell_type": "markdown",
   "metadata": {
    "id": "lT2th5vR4JCU"
   },
   "source": [
    "1 채널이 32채널이 되었다.\n",
    "\n",
    "너비 28, 높이 28의 행렬이 보존되었다.\n",
    "\n",
    "이유는 3 X 3 커널을 사용하는데 패딩을 1폭으로 했기 때문이다."
   ]
  },
  {
   "cell_type": "code",
   "execution_count": null,
   "metadata": {
    "colab": {
     "base_uri": "https://localhost:8080/"
    },
    "id": "ylTjy80X4C95",
    "outputId": "33100b55-8bf3-45b7-f9f4-3fb4045e798d"
   },
   "outputs": [
    {
     "name": "stdout",
     "output_type": "stream",
     "text": [
      "torch.Size([1, 32, 14, 14])\n"
     ]
    }
   ],
   "source": [
    "out = pool(out) # 맥스풀링을 통과시킨 후 텐서의 크기\n",
    "print(out.shape)"
   ]
  },
  {
   "cell_type": "markdown",
   "metadata": {
    "id": "KGM1CPVb4deb"
   },
   "source": [
    "2 X 2 짜리 커널로 스트라이드 2씩 맥스풀링 했기 때문에 28 X 28행렬이 14 X 14가 되었다."
   ]
  },
  {
   "cell_type": "code",
   "execution_count": null,
   "metadata": {
    "colab": {
     "base_uri": "https://localhost:8080/"
    },
    "id": "ng5z9ZwF4Zpf",
    "outputId": "859d9bd6-397a-4a43-a82f-3a8a2c146b6c"
   },
   "outputs": [
    {
     "name": "stdout",
     "output_type": "stream",
     "text": [
      "torch.Size([1, 64, 14, 14])\n"
     ]
    }
   ],
   "source": [
    "out = conv2(out) # 두번째 합성곱 층으로 통과시킨 후의 텐서의 크기\n",
    "print(out.shape)"
   ]
  },
  {
   "cell_type": "markdown",
   "metadata": {
    "id": "wrcID8h86Wgb"
   },
   "source": [
    "32 채널이 64채널이 되었다.\n",
    "\n",
    "너비 14, 높이 14의 행렬이 보존되었다.\n",
    "\n",
    "이유는 3 X 3 커널을 사용하는데 패딩을 1폭으로 했기 때문이다."
   ]
  },
  {
   "cell_type": "code",
   "execution_count": null,
   "metadata": {
    "colab": {
     "base_uri": "https://localhost:8080/"
    },
    "id": "Dy1mrC6m6Sg2",
    "outputId": "de8a3210-1ee2-4202-b33c-fbd6132a7b18"
   },
   "outputs": [
    {
     "name": "stdout",
     "output_type": "stream",
     "text": [
      "torch.Size([1, 64, 7, 7])\n"
     ]
    }
   ],
   "source": [
    "out = pool(out) # 맥스풀링을 통과시킨 후 텐서의 크기\n",
    "print(out.shape) "
   ]
  },
  {
   "cell_type": "markdown",
   "metadata": {
    "id": "PbuHK4DR6_ID"
   },
   "source": [
    "이제 이 텐서를 펼칠건데 그 전에 .size(n)에 대해 살펴보자."
   ]
  },
  {
   "cell_type": "code",
   "execution_count": null,
   "metadata": {
    "colab": {
     "base_uri": "https://localhost:8080/"
    },
    "id": "D9GSXTlt6eLd",
    "outputId": "b4b08f73-f190-4c95-b72f-89b578a444e1"
   },
   "outputs": [
    {
     "name": "stdout",
     "output_type": "stream",
     "text": [
      "1\n",
      "64\n",
      "7\n",
      "7\n"
     ]
    }
   ],
   "source": [
    "print(out.size(0))\n",
    "print(out.size(1))\n",
    "print(out.size(2))\n",
    "print(out.size(3))"
   ]
  },
  {
   "cell_type": "code",
   "execution_count": null,
   "metadata": {
    "colab": {
     "base_uri": "https://localhost:8080/"
    },
    "id": "N7bNFCZE7DbT",
    "outputId": "30e20233-dd81-4e3b-cebe-bec03b068b5c"
   },
   "outputs": [
    {
     "name": "stdout",
     "output_type": "stream",
     "text": [
      "torch.Size([1, 3136])\n"
     ]
    }
   ],
   "source": [
    "# 첫번째 차원인 배치 차원은 그대로 두고 나머지는 펼쳐라\n",
    "out = out.view(out.size(0), -1)\n",
    "print(out.shape)"
   ]
  },
  {
   "cell_type": "markdown",
   "metadata": {
    "id": "Fcruz7vP7SYO"
   },
   "source": [
    "배치 차원을 제외하고 모두 하나의 차원으로 통합된 것을 볼 수 있다.\n",
    "\n",
    "이제 이 텐서를 전결합층(Fully-connected layer)에 통과시켜보자.\n",
    "\n",
    "출력층으로 10개의 뉴런을 배치하여 10개의 차원의 텐서로 변환한다."
   ]
  },
  {
   "cell_type": "code",
   "execution_count": null,
   "metadata": {
    "colab": {
     "base_uri": "https://localhost:8080/"
    },
    "id": "3xe3lLut7H4V",
    "outputId": "4d350463-3523-4141-af73-bf3314c840e3"
   },
   "outputs": [
    {
     "name": "stdout",
     "output_type": "stream",
     "text": [
      "torch.Size([1, 10])\n"
     ]
    }
   ],
   "source": [
    "fc = nn.Linear(3136, 10) # input_dim = 3,136, output_dim = 10\n",
    "out = fc(out)\n",
    "print(out.shape)"
   ]
  },
  {
   "cell_type": "markdown",
   "metadata": {
    "id": "18I1dgqF7tPT"
   },
   "source": [
    "###6.2.3 CNN으로 MNIST 분류하기"
   ]
  },
  {
   "cell_type": "code",
   "execution_count": null,
   "metadata": {
    "id": "59v_f4I37r6Y"
   },
   "outputs": [],
   "source": [
    "import torch\n",
    "import torch.nn as nn\n",
    "\n",
    "import torchvision.datasets as dsets\n",
    "import torchvision.transforms as transforms\n",
    "import torch.nn.init"
   ]
  },
  {
   "cell_type": "code",
   "execution_count": null,
   "metadata": {
    "colab": {
     "base_uri": "https://localhost:8080/"
    },
    "id": "jp3J0zau7zhK",
    "outputId": "e7a27ba6-0b09-42a0-dd6a-74d75bdd156b"
   },
   "outputs": [
    {
     "name": "stdout",
     "output_type": "stream",
     "text": [
      "cuda\n"
     ]
    }
   ],
   "source": [
    "device = 'cuda' if torch.cuda.is_available() else 'cpu'\n",
    "print(device)\n",
    "\n",
    "# 랜덤 시드 고정\n",
    "torch.manual_seed(777)\n",
    "\n",
    "# GPU 사용 가능일 경우 랜덤 시드 고정\n",
    "if device == 'cuda':\n",
    "    torch.cuda.manual_seed_all(777)"
   ]
  },
  {
   "cell_type": "code",
   "execution_count": null,
   "metadata": {
    "id": "2KPWdTbG70rK"
   },
   "outputs": [],
   "source": [
    "learning_rate = 0.001\n",
    "training_epochs = 15\n",
    "batch_size = 100"
   ]
  },
  {
   "cell_type": "code",
   "execution_count": null,
   "metadata": {
    "colab": {
     "base_uri": "https://localhost:8080/",
     "height": 381,
     "referenced_widgets": [
      "13e0dac641b84dcc92bb37b66bbc0daf",
      "8d78473bc8ae4c91a4b33246c6182707",
      "47daa132b6d04b94973936d75a1cbf22",
      "602f714057aa4fc7ab3140cc7f003e15",
      "fe865e5b449d43748f57c8094ec0c45f",
      "b0729fc5804b44c8822f22da0dc911a0",
      "7257cdb841184fffa374f05d6f6e6f36",
      "1eeb11d6a0eb4cdea2a9ec19fc8bc4a1",
      "e1c28cb441384dd08a4d8e82c8d828a4",
      "82091c065cc0400da3d1b63f2d259b5c",
      "e664b43c03a740be8aa257c2024c691e",
      "eb048bb2728941cdbfac0fc0779ad486",
      "239401e28531469483166af61faef70b",
      "e975e00e85fb4f8aa15713a0ac893099",
      "b7013dc076254bd99a63bbe0a6f955e8",
      "60f536605adb4e6c8b67211374689912",
      "901e24ef80054913ad5c2130b312bbe0",
      "f7dc491c59894d1e8182245e9595da9d",
      "31e269b9ce7e48d0968f1a86ac4ffa26",
      "0c18d05f67eb4d268b91bf51aa42ebfd",
      "236ffc9c74b84232881db875617fe074",
      "56405683806b4706a32c41bb4a48ba42",
      "237428f1b7bd4a989d6d6b9849e924a8",
      "03ca325106dc495ebcad2252ff8644e2",
      "1c37b309429c4aef85db85b1560937f6",
      "e8173f952f044d4e8c0d4ab8ae0d7c08",
      "eef4ab87085b4398b628e2a3b061297f",
      "97c00985659a4034bcc5d590f8973e3d",
      "2608c6c29c634ae182a9fb655ea4de44",
      "fd6eeb1703d544179fa4ccad73ead9dd",
      "34d52d16b1fc45d0ba12d941a57ae1cc",
      "4abfc9ef8b4840a1a3930c200255354a"
     ]
    },
    "id": "XmMXAvn58Cc7",
    "outputId": "e31a83f0-9acb-4c3e-b1ee-1141e8ec3956"
   },
   "outputs": [
    {
     "name": "stdout",
     "output_type": "stream",
     "text": [
      "Downloading http://yann.lecun.com/exdb/mnist/train-images-idx3-ubyte.gz to MNIST_data/MNIST/raw/train-images-idx3-ubyte.gz\n"
     ]
    },
    {
     "data": {
      "application/vnd.jupyter.widget-view+json": {
       "model_id": "13e0dac641b84dcc92bb37b66bbc0daf",
       "version_major": 2,
       "version_minor": 0
      },
      "text/plain": [
       "HBox(children=(FloatProgress(value=1.0, bar_style='info', max=1.0), HTML(value='')))"
      ]
     },
     "metadata": {
      "tags": []
     },
     "output_type": "display_data"
    },
    {
     "name": "stdout",
     "output_type": "stream",
     "text": [
      "Extracting MNIST_data/MNIST/raw/train-images-idx3-ubyte.gz to MNIST_data/MNIST/raw\n",
      "Downloading http://yann.lecun.com/exdb/mnist/train-labels-idx1-ubyte.gz to MNIST_data/MNIST/raw/train-labels-idx1-ubyte.gz\n"
     ]
    },
    {
     "data": {
      "application/vnd.jupyter.widget-view+json": {
       "model_id": "e1c28cb441384dd08a4d8e82c8d828a4",
       "version_major": 2,
       "version_minor": 0
      },
      "text/plain": [
       "HBox(children=(FloatProgress(value=1.0, bar_style='info', max=1.0), HTML(value='')))"
      ]
     },
     "metadata": {
      "tags": []
     },
     "output_type": "display_data"
    },
    {
     "name": "stdout",
     "output_type": "stream",
     "text": [
      "Extracting MNIST_data/MNIST/raw/train-labels-idx1-ubyte.gz to MNIST_data/MNIST/raw\n",
      "Downloading http://yann.lecun.com/exdb/mnist/t10k-images-idx3-ubyte.gz to MNIST_data/MNIST/raw/t10k-images-idx3-ubyte.gz\n"
     ]
    },
    {
     "data": {
      "application/vnd.jupyter.widget-view+json": {
       "model_id": "901e24ef80054913ad5c2130b312bbe0",
       "version_major": 2,
       "version_minor": 0
      },
      "text/plain": [
       "HBox(children=(FloatProgress(value=1.0, bar_style='info', max=1.0), HTML(value='')))"
      ]
     },
     "metadata": {
      "tags": []
     },
     "output_type": "display_data"
    },
    {
     "name": "stdout",
     "output_type": "stream",
     "text": [
      "Extracting MNIST_data/MNIST/raw/t10k-images-idx3-ubyte.gz to MNIST_data/MNIST/raw\n",
      "Downloading http://yann.lecun.com/exdb/mnist/t10k-labels-idx1-ubyte.gz to MNIST_data/MNIST/raw/t10k-labels-idx1-ubyte.gz\n"
     ]
    },
    {
     "data": {
      "application/vnd.jupyter.widget-view+json": {
       "model_id": "1c37b309429c4aef85db85b1560937f6",
       "version_major": 2,
       "version_minor": 0
      },
      "text/plain": [
       "HBox(children=(FloatProgress(value=1.0, bar_style='info', max=1.0), HTML(value='')))"
      ]
     },
     "metadata": {
      "tags": []
     },
     "output_type": "display_data"
    },
    {
     "name": "stdout",
     "output_type": "stream",
     "text": [
      "Extracting MNIST_data/MNIST/raw/t10k-labels-idx1-ubyte.gz to MNIST_data/MNIST/raw\n",
      "Processing...\n",
      "Done!\n"
     ]
    },
    {
     "name": "stderr",
     "output_type": "stream",
     "text": [
      "/usr/local/lib/python3.6/dist-packages/torchvision/datasets/mnist.py:480: UserWarning: The given NumPy array is not writeable, and PyTorch does not support non-writeable tensors. This means you can write to the underlying (supposedly non-writeable) NumPy array using the tensor. You may want to copy the array to protect its data or make it writeable before converting it to a tensor. This type of warning will be suppressed for the rest of this program. (Triggered internally at  /pytorch/torch/csrc/utils/tensor_numpy.cpp:141.)\n",
      "  return torch.from_numpy(parsed.astype(m[2], copy=False)).view(*s)\n"
     ]
    }
   ],
   "source": [
    "mnist_train = dsets.MNIST(root='MNIST_data/', # 다운로드 경로 지정\n",
    "                          train=True, # True를 지정하면 훈련 데이터로 다운로드\n",
    "                          transform=transforms.ToTensor(), # 텐서로 변환\n",
    "                          download=True)\n",
    "\n",
    "mnist_test = dsets.MNIST(root='MNIST_data/', # 다운로드 경로 지정\n",
    "                         train=False, # False를 지정하면 테스트 데이터로 다운로드\n",
    "                         transform=transforms.ToTensor(), # 텐서로 변환\n",
    "                         download=True)"
   ]
  },
  {
   "cell_type": "code",
   "execution_count": null,
   "metadata": {
    "id": "fMV96DPZ8DjC"
   },
   "outputs": [],
   "source": [
    "data_loader = torch.utils.data.DataLoader(dataset=mnist_train,\n",
    "                                          batch_size=batch_size,\n",
    "                                          shuffle=True,\n",
    "                                          drop_last=True)"
   ]
  },
  {
   "cell_type": "code",
   "execution_count": null,
   "metadata": {
    "id": "qMhi1Vnk8F6K"
   },
   "outputs": [],
   "source": [
    "class CNN(torch.nn.Module):\n",
    "  def __init__(self):\n",
    "    super(CNN, self).__init__()\n",
    "    # 첫번째층\n",
    "    # ImgIn shape=(?, 28, 28, 1)\n",
    "    #    Conv     -> (?, 28, 28, 32)\n",
    "    #    Pool     -> (?, 14, 14, 32)\n",
    "    self.layer1 = nn.Sequential(\n",
    "        nn.Conv2d(1, 32, kernel_size=3, stride=1, padding=1),\n",
    "        nn.ReLU(),\n",
    "        nn.MaxPool2d(kernel_size=2, stride=2))\n",
    "\n",
    "    # 두번째층\n",
    "    # ImgIn shape=(?, 14, 14, 32)\n",
    "    #    Conv      ->(?, 14, 14, 64)\n",
    "    #    Pool      ->(?, 7, 7, 64)\n",
    "    self.layer2 = nn.Sequential(\n",
    "        nn.Conv2d(32, 64, kernel_size=3, stride=1, padding=1),\n",
    "        nn.ReLU(),\n",
    "        nn.MaxPool2d(kernel_size=2, stride=2))\n",
    "\n",
    "    # 전결합층 7x7x64 inputs -> 10 outputs\n",
    "    self.fc = nn.Linear(7 * 7 * 64, 10, bias=True)\n",
    "\n",
    "    # 전결합층 한정으로 가중치 초기화\n",
    "    nn.init.xavier_uniform_(self.fc.weight)\n",
    "\n",
    "  def forward(self, x):\n",
    "    out = self.layer1(x)\n",
    "    out = self.layer2(out)\n",
    "    out = out.view(out.size(0), -1)   # 전결합층을 위해서 Flatten\n",
    "    out = self.fc(out)\n",
    "    return out"
   ]
  },
  {
   "cell_type": "code",
   "execution_count": null,
   "metadata": {
    "id": "E8mZSoFb_RmB"
   },
   "outputs": [],
   "source": [
    "# CNN 모델 정의\n",
    "model = CNN().to(device)"
   ]
  },
  {
   "cell_type": "code",
   "execution_count": null,
   "metadata": {
    "colab": {
     "base_uri": "https://localhost:8080/"
    },
    "id": "2yNPMOBZ_OsT",
    "outputId": "4fcc6465-48a5-41b2-ec18-47b30b8e2ae6"
   },
   "outputs": [
    {
     "name": "stdout",
     "output_type": "stream",
     "text": [
      "Model's state_dict:\n",
      "layer1.0.weight \n",
      " torch.Size([32, 1, 3, 3])\n",
      "layer1.0.bias \n",
      " torch.Size([32])\n",
      "layer2.0.weight \n",
      " torch.Size([64, 32, 3, 3])\n",
      "layer2.0.bias \n",
      " torch.Size([64])\n",
      "fc.weight \n",
      " torch.Size([10, 3136])\n",
      "fc.bias \n",
      " torch.Size([10])\n"
     ]
    }
   ],
   "source": [
    "# 모델의 state_dict 출력\n",
    "print(\"Model's state_dict:\")\n",
    "for param_tensor in model.state_dict():\n",
    "    print(param_tensor, \"\\n\", model.state_dict()[param_tensor].size())"
   ]
  },
  {
   "cell_type": "markdown",
   "metadata": {
    "id": "TKaJfOSe_pDp"
   },
   "source": [
    "가중치 매개변수의 총 수 : $K_h$ × $K_w$ × $C_i$ × $C_o$\n",
    "\n",
    "가중치 매개변수의 총 수 : 커널의 높이 × 커널의 너비 × 입력 데이터의 채널 × 합성곱 연산에 사용하는 커널의 수 "
   ]
  },
  {
   "cell_type": "code",
   "execution_count": null,
   "metadata": {
    "colab": {
     "base_uri": "https://localhost:8080/"
    },
    "id": "cb2O21a_8aYi",
    "outputId": "80b41851-0e6d-4dcc-ed31-726732f0a7b4"
   },
   "outputs": [
    {
     "data": {
      "text/plain": [
       "50186"
      ]
     },
     "execution_count": 37,
     "metadata": {
      "tags": []
     },
     "output_type": "execute_result"
    }
   ],
   "source": [
    "# 이 모델에서 파라미터는 총 몇개일까?\n",
    "(3*3*1*32)+32+(3*3*32*64)+64+(7*7*64*10)+10 #(가중치)+편향, 편향은 행렬 형식으로 있다."
   ]
  },
  {
   "cell_type": "code",
   "execution_count": null,
   "metadata": {
    "id": "Og1SDXZU8sOC"
   },
   "outputs": [],
   "source": [
    "criterion = nn.CrossEntropyLoss().to(device)    # 비용 함수에 소프트맥스 함수 포함되어져 있음.\n",
    "optimizer = torch.optim.Adam(model.parameters(), lr=learning_rate)"
   ]
  },
  {
   "cell_type": "code",
   "execution_count": null,
   "metadata": {
    "colab": {
     "base_uri": "https://localhost:8080/"
    },
    "id": "Q5aw1fVn8vCy",
    "outputId": "10878b94-fa6b-4f58-960a-80f17c711d87"
   },
   "outputs": [
    {
     "name": "stdout",
     "output_type": "stream",
     "text": [
      "총 배치의 수 : 600\n"
     ]
    }
   ],
   "source": [
    "total_batch = len(data_loader)\n",
    "print(f'총 배치의 수 : {total_batch}')"
   ]
  },
  {
   "cell_type": "markdown",
   "metadata": {
    "id": "3Abbpufo83wz"
   },
   "source": [
    "총 배치의 수는 600\n",
    "\n",
    "배치의 크기를 100으로 했으니\n",
    "\n",
    "훈련 데이터는 총 60,000개"
   ]
  },
  {
   "cell_type": "code",
   "execution_count": null,
   "metadata": {
    "colab": {
     "base_uri": "https://localhost:8080/"
    },
    "id": "I6DKm9Rm8wXS",
    "outputId": "d7201b1e-68f0-401d-cb2b-97a489206c3c"
   },
   "outputs": [
    {
     "name": "stdout",
     "output_type": "stream",
     "text": [
      "[Epoch: 1] cost = 0.22022053599357605\n",
      "[Epoch: 2] cost = 0.06096019223332405\n",
      "[Epoch: 3] cost = 0.04600740596652031\n",
      "[Epoch: 4] cost = 0.03662858530879021\n",
      "[Epoch: 5] cost = 0.029979649931192398\n",
      "[Epoch: 6] cost = 0.026283003389835358\n",
      "[Epoch: 7] cost = 0.020766211673617363\n",
      "[Epoch: 8] cost = 0.01851387321949005\n",
      "[Epoch: 9] cost = 0.015422184951603413\n",
      "[Epoch: 10] cost = 0.013315373100340366\n",
      "[Epoch: 11] cost = 0.011663203127682209\n",
      "[Epoch: 12] cost = 0.00917099229991436\n",
      "[Epoch: 13] cost = 0.008147390559315681\n",
      "[Epoch: 14] cost = 0.006496926303952932\n",
      "[Epoch: 15] cost = 0.006069057621061802\n"
     ]
    }
   ],
   "source": [
    "for epoch in range(training_epochs):\n",
    "  avg_cost = 0\n",
    "\n",
    "  for X, Y in data_loader: # 미니 배치 단위로 꺼내온다. X는 미니 배치, Y는 레이블.\n",
    "    # image is already size of (28x28), no reshape\n",
    "    # label is not one-hot encoded\n",
    "    X = X.to(device)\n",
    "    Y = Y.to(device)\n",
    "\n",
    "    optimizer.zero_grad()\n",
    "    hypothesis = model(X)\n",
    "    \n",
    "    cost = criterion(hypothesis, Y)\n",
    "    cost.backward()\n",
    "    optimizer.step()\n",
    "\n",
    "    avg_cost += cost / total_batch\n",
    "\n",
    "  print(f'[Epoch: {epoch+1}] cost = {avg_cost}')"
   ]
  },
  {
   "cell_type": "code",
   "execution_count": null,
   "metadata": {
    "colab": {
     "base_uri": "https://localhost:8080/"
    },
    "id": "DD1wtFnT9Ix5",
    "outputId": "6b6acb6c-895a-4f54-fca0-4805ca5ae56b"
   },
   "outputs": [
    {
     "name": "stdout",
     "output_type": "stream",
     "text": [
      "Accuracy: 0.9853000044822693\n"
     ]
    },
    {
     "name": "stderr",
     "output_type": "stream",
     "text": [
      "/usr/local/lib/python3.6/dist-packages/torchvision/datasets/mnist.py:63: UserWarning: test_data has been renamed data\n",
      "  warnings.warn(\"test_data has been renamed data\")\n",
      "/usr/local/lib/python3.6/dist-packages/torchvision/datasets/mnist.py:53: UserWarning: test_labels has been renamed targets\n",
      "  warnings.warn(\"test_labels has been renamed targets\")\n"
     ]
    }
   ],
   "source": [
    "# 학습을 진행하지 않을 것이므로 torch.no_grad()\n",
    "with torch.no_grad():\n",
    "  X_test = mnist_test.test_data.view(len(mnist_test), 1, 28, 28).float().to(device)\n",
    "  Y_test = mnist_test.test_labels.to(device)\n",
    "\n",
    "  prediction = model(X_test)\n",
    "  correct_prediction = torch.argmax(prediction, 1) == Y_test\n",
    "  accuracy = correct_prediction.float().mean()\n",
    "  print('Accuracy:', accuracy.item())"
   ]
  },
  {
   "cell_type": "markdown",
   "metadata": {
    "id": "3Vfv0m_JzLo4"
   },
   "source": [
    "##6.3 깊은 CNN으로 MNIST 분류하기"
   ]
  },
  {
   "cell_type": "markdown",
   "metadata": {
    "id": "PhnKb3VLzOvf"
   },
   "source": [
    "###6.3.1 모델 이해하기"
   ]
  },
  {
   "cell_type": "markdown",
   "metadata": {
    "id": "4JKicK4XzVYw"
   },
   "source": [
    "모델의 아키텍처는 총 5개의 층으로 구성된다.\n",
    "\n",
    "앞서 배운 챕터에서 1번 레이어와 2번 레이어는 동일하되, 새로운 합성곱층과 전결합층을 추가했다."
   ]
  },
  {
   "cell_type": "markdown",
   "metadata": {
    "id": "XeR5uwXVzeoc"
   },
   "source": [
    "```\n",
    "# 1번 레이어 : 합성곱층(Convolutional layer)\n",
    "합성곱(in_channel = 1, out_channel = 32, kernel_size=3, stride=1, padding=1) + 활성화 함수 ReLU\n",
    "맥스풀링(kernel_size=2, stride=2))\n",
    "\n",
    "# 2번 레이어 : 합성곱층(Convolutional layer)\n",
    "합성곱(in_channel = 32, out_channel = 64, kernel_size=3, stride=1, padding=1) + 활성화 함수 ReLU\n",
    "맥스풀링(kernel_size=2, stride=2))\n",
    "\n",
    "# 3번 레이어 : 합성곱층(Convolutional layer)\n",
    "합성곱(in_channel = 64, out_channel = 128, kernel_size=3, stride=1, padding=1) + 활성화 함수 ReLU\n",
    "맥스풀링(kernel_size=2, stride=2, padding=1))\n",
    "\n",
    "# 4번 레이어 : 전결합층(Fully-Connected layer)\n",
    "특성맵을 펼친다. # batch_size × 4 × 4 × 128 → batch_size × 2048\n",
    "전결합층(뉴런 625개) + 활성화 함수 ReLU\n",
    "\n",
    "# 5번 레이어 : 전결합층(Fully-Connected layer)\n",
    "전결합층(뉴런 10개) + 활성화 함수 Softmax\n",
    "```"
   ]
  },
  {
   "cell_type": "markdown",
   "metadata": {
    "id": "pXhqPB7bzgIg"
   },
   "source": [
    "###6.3.2 깊은 CNN으로 MNIST 분류하기"
   ]
  },
  {
   "cell_type": "code",
   "execution_count": null,
   "metadata": {
    "id": "8E9Fuc1LzJ6_"
   },
   "outputs": [],
   "source": [
    "import torch\n",
    "import torch.nn as nn\n",
    "\n",
    "import torchvision.datasets as dsets\n",
    "import torchvision.transforms as transforms\n",
    "import torch.nn.init"
   ]
  },
  {
   "cell_type": "code",
   "execution_count": null,
   "metadata": {
    "colab": {
     "base_uri": "https://localhost:8080/"
    },
    "id": "ZyTy2-QAzneF",
    "outputId": "faf28b87-d95b-4527-ac2d-1ad34c266d10"
   },
   "outputs": [
    {
     "name": "stdout",
     "output_type": "stream",
     "text": [
      "cuda\n"
     ]
    }
   ],
   "source": [
    "device = 'cuda' if torch.cuda.is_available() else 'cpu'\n",
    "print(device)\n",
    "\n",
    "# 랜덤 시드 고정\n",
    "torch.manual_seed(777)\n",
    "\n",
    "# GPU 사용 가능일 경우 랜덤 시드 고정\n",
    "if device == 'cuda':\n",
    "    torch.cuda.manual_seed_all(777)"
   ]
  },
  {
   "cell_type": "code",
   "execution_count": null,
   "metadata": {
    "id": "Tn8K3I_Bzpe-"
   },
   "outputs": [],
   "source": [
    "learning_rate = 0.001\n",
    "training_epochs = 15\n",
    "batch_size = 100"
   ]
  },
  {
   "cell_type": "code",
   "execution_count": null,
   "metadata": {
    "id": "bs5gL010ztDu"
   },
   "outputs": [],
   "source": [
    "mnist_train = dsets.MNIST(root='MNIST_data/', # 다운로드 경로 지정\n",
    "                          train=True, # True를 지정하면 훈련 데이터로 다운로드\n",
    "                          transform=transforms.ToTensor(), # 텐서로 변환\n",
    "                          download=True)\n",
    "\n",
    "mnist_test = dsets.MNIST(root='MNIST_data/', # 다운로드 경로 지정\n",
    "                         train=False, # False를 지정하면 테스트 데이터로 다운로드\n",
    "                         transform=transforms.ToTensor(), # 텐서로 변환\n",
    "                         download=True)"
   ]
  },
  {
   "cell_type": "code",
   "execution_count": null,
   "metadata": {
    "id": "oiirnKIjzuJm"
   },
   "outputs": [],
   "source": [
    "data_loader = torch.utils.data.DataLoader(dataset=mnist_train,\n",
    "                                          batch_size=batch_size,\n",
    "                                          shuffle=True,\n",
    "                                          drop_last=True)"
   ]
  },
  {
   "cell_type": "code",
   "execution_count": null,
   "metadata": {
    "id": "HnHCKecczvi-"
   },
   "outputs": [],
   "source": [
    "class CNN(torch.nn.Module):\n",
    "\n",
    "    def __init__(self):\n",
    "        super(CNN, self).__init__()\n",
    "        self.keep_prob = 0.5\n",
    "        # L1 ImgIn shape=(?, 28, 28, 1)\n",
    "        #    Conv     -> (?, 28, 28, 32)\n",
    "        #    Pool     -> (?, 14, 14, 32)\n",
    "        self.layer1 = torch.nn.Sequential(\n",
    "            torch.nn.Conv2d(1, 32, kernel_size=3, stride=1, padding=1),\n",
    "            torch.nn.ReLU(),\n",
    "            torch.nn.MaxPool2d(kernel_size=2, stride=2))\n",
    "        # L2 ImgIn shape=(?, 14, 14, 32)\n",
    "        #    Conv      ->(?, 14, 14, 64)\n",
    "        #    Pool      ->(?, 7, 7, 64)\n",
    "        self.layer2 = torch.nn.Sequential(\n",
    "            torch.nn.Conv2d(32, 64, kernel_size=3, stride=1, padding=1),\n",
    "            torch.nn.ReLU(),\n",
    "            torch.nn.MaxPool2d(kernel_size=2, stride=2))\n",
    "        # L3 ImgIn shape=(?, 7, 7, 64)\n",
    "        #    Conv      ->(?, 7, 7, 128)\n",
    "        #    Pool      ->(?, 4, 4, 128)\n",
    "        self.layer3 = torch.nn.Sequential(\n",
    "            torch.nn.Conv2d(64, 128, kernel_size=3, stride=1, padding=1),\n",
    "            torch.nn.ReLU(),\n",
    "            torch.nn.MaxPool2d(kernel_size=2, stride=2, padding=1))\n",
    "\n",
    "        # L4 FC 4x4x128 inputs -> 625 outputs\n",
    "        self.fc1 = torch.nn.Linear(4 * 4 * 128, 625, bias=True)\n",
    "        torch.nn.init.xavier_uniform_(self.fc1.weight)\n",
    "        self.layer4 = torch.nn.Sequential(\n",
    "            self.fc1,\n",
    "            torch.nn.ReLU(),\n",
    "            torch.nn.Dropout(p=1 - self.keep_prob))\n",
    "        # L5 Final FC 625 inputs -> 10 outputs\n",
    "        self.fc2 = torch.nn.Linear(625, 10, bias=True)\n",
    "        torch.nn.init.xavier_uniform_(self.fc2.weight)\n",
    "\n",
    "    def forward(self, x):\n",
    "        out = self.layer1(x)\n",
    "        out = self.layer2(out)\n",
    "        out = self.layer3(out)\n",
    "        out = out.view(out.size(0), -1)   # Flatten them for FC\n",
    "        out = self.layer4(out)\n",
    "        out = self.fc2(out)\n",
    "        return out"
   ]
  },
  {
   "cell_type": "code",
   "execution_count": null,
   "metadata": {
    "id": "RXGZpPZyzxzm"
   },
   "outputs": [],
   "source": [
    "# CNN 모델 정의\n",
    "model = CNN().to(device)"
   ]
  },
  {
   "cell_type": "code",
   "execution_count": null,
   "metadata": {
    "id": "qvzx_6YCzy6m"
   },
   "outputs": [],
   "source": [
    "Zcriterion = torch.nn.CrossEntropyLoss().to(device)    # 비용 함수에 소프트맥스 함수 포함되어져 있음.\n",
    "optimizer = torch.optim.Adam(model.parameters(), lr=learning_rate)"
   ]
  },
  {
   "cell_type": "code",
   "execution_count": null,
   "metadata": {
    "colab": {
     "base_uri": "https://localhost:8080/"
    },
    "id": "HWeBnsKLzz0X",
    "outputId": "7c8e38f0-688c-4b12-ed66-a51840a7b1e2"
   },
   "outputs": [
    {
     "name": "stdout",
     "output_type": "stream",
     "text": [
      "총 배치의 수 : 600\n"
     ]
    }
   ],
   "source": [
    "total_batch = len(data_loader)\n",
    "print('총 배치의 수 : {}'.format(total_batch))"
   ]
  },
  {
   "cell_type": "code",
   "execution_count": null,
   "metadata": {
    "colab": {
     "base_uri": "https://localhost:8080/"
    },
    "id": "0PT7NbUIz0vH",
    "outputId": "466a4e13-6501-4fa3-e71d-7975dce6f2f5"
   },
   "outputs": [
    {
     "name": "stdout",
     "output_type": "stream",
     "text": [
      "[Epoch:    1] cost = 0.19799155\n",
      "[Epoch:    2] cost = 0.0519222952\n",
      "[Epoch:    3] cost = 0.0387547091\n",
      "[Epoch:    4] cost = 0.0286028106\n",
      "[Epoch:    5] cost = 0.0238684341\n",
      "[Epoch:    6] cost = 0.0184270404\n",
      "[Epoch:    7] cost = 0.017369831\n",
      "[Epoch:    8] cost = 0.0159009397\n",
      "[Epoch:    9] cost = 0.0131241325\n",
      "[Epoch:   10] cost = 0.0126144178\n",
      "[Epoch:   11] cost = 0.0112081561\n",
      "[Epoch:   12] cost = 0.00959684141\n",
      "[Epoch:   13] cost = 0.00817485619\n",
      "[Epoch:   14] cost = 0.00865671318\n",
      "[Epoch:   15] cost = 0.00571198203\n"
     ]
    }
   ],
   "source": [
    "for epoch in range(training_epochs):\n",
    "    avg_cost = 0\n",
    "\n",
    "    for X, Y in data_loader: # 미니 배치 단위로 꺼내온다. X는 미니 배치, Y느 ㄴ레이블.\n",
    "        # image is already size of (28x28), no reshape\n",
    "        # label is not one-hot encoded\n",
    "        X = X.to(device)\n",
    "        Y = Y.to(device)\n",
    "\n",
    "        optimizer.zero_grad()\n",
    "        hypothesis = model(X)\n",
    "        cost = criterion(hypothesis, Y)\n",
    "        cost.backward()\n",
    "        optimizer.step()\n",
    "\n",
    "        avg_cost += cost / total_batch\n",
    "\n",
    "    print('[Epoch: {:>4}] cost = {:>.9}'.format(epoch + 1, avg_cost))"
   ]
  },
  {
   "cell_type": "code",
   "execution_count": null,
   "metadata": {
    "colab": {
     "base_uri": "https://localhost:8080/"
    },
    "id": "o6MmLE8jz1r_",
    "outputId": "fd773d13-9843-4d7b-f53c-817ae88cf221"
   },
   "outputs": [
    {
     "name": "stdout",
     "output_type": "stream",
     "text": [
      "Accuracy: 0.983299970626831\n"
     ]
    },
    {
     "name": "stderr",
     "output_type": "stream",
     "text": [
      "/usr/local/lib/python3.6/dist-packages/torchvision/datasets/mnist.py:63: UserWarning: test_data has been renamed data\n",
      "  warnings.warn(\"test_data has been renamed data\")\n",
      "/usr/local/lib/python3.6/dist-packages/torchvision/datasets/mnist.py:53: UserWarning: test_labels has been renamed targets\n",
      "  warnings.warn(\"test_labels has been renamed targets\")\n"
     ]
    }
   ],
   "source": [
    "# 학습을 진행하지 않을 것이므로 torch.no_grad()\n",
    "with torch.no_grad():\n",
    "    X_test = mnist_test.test_data.view(len(mnist_test), 1, 28, 28).float().to(device)\n",
    "    Y_test = mnist_test.test_labels.to(device)\n",
    "\n",
    "    prediction = model(X_test)\n",
    "    correct_prediction = torch.argmax(prediction, 1) == Y_test\n",
    "    accuracy = correct_prediction.float().mean()\n",
    "    print('Accuracy:', accuracy.item())"
   ]
  },
  {
   "cell_type": "markdown",
   "metadata": {
    "id": "BYpSajq30PEG"
   },
   "source": [
    "깊다고 다 좋은건 아닌 것 같다."
   ]
  },
  {
   "cell_type": "markdown",
   "metadata": {
    "id": "bly2HtKF0Avh"
   },
   "source": [
    "##6.4 활용"
   ]
  },
  {
   "cell_type": "markdown",
   "metadata": {
    "id": "XZBTGTfx02eB"
   },
   "source": [
    "###6.4.1 데이터 불러오기"
   ]
  },
  {
   "cell_type": "markdown",
   "metadata": {
    "id": "fL-0yDjE0R_e"
   },
   "source": [
    "cifar10 데이터를 바탕으로 CNN 모델 학습\n",
    "\n",
    "출처 : https://github.com/Namsik-Yoon/pytorch_basic/blob/master/6_1_%ED%95%A9%EC%84%B1%EA%B3%B1_%EC%8B%A0%EA%B2%BD%EB%A7%9D_with_My_data.ipynb"
   ]
  },
  {
   "cell_type": "code",
   "execution_count": null,
   "metadata": {
    "id": "0-Dj4W9Fz4gD"
   },
   "outputs": [],
   "source": [
    "import matplotlib.pyplot as plt\n",
    "\n",
    "import torch\n",
    "\n",
    "import torchvision\n",
    "import torchvision.datasets \n",
    "import torchvision.transforms as transforms"
   ]
  },
  {
   "cell_type": "code",
   "execution_count": null,
   "metadata": {
    "colab": {
     "base_uri": "https://localhost:8080/",
     "height": 85,
     "referenced_widgets": [
      "74d9bb7ddd8140a991f87aa9c5d0b9c1",
      "c64cdd89f66840f89f26253bbfe7a4b9",
      "ed947395b2994476bac69e6300bacbf4",
      "f835553fa8d146298d3ed08455fd19d6",
      "63b700728f8e4b6e976f4de50fa9166f",
      "e0a13926af4e4e8289596c74d7666ce4",
      "34f94bf6eae4411cb0a57a7cbbc69575",
      "d2f80f34557041c8b6c5e01033eea605"
     ]
    },
    "id": "r-WBBaj80ZLn",
    "outputId": "f41a67a6-bd8c-4a28-9e05-3c47e52d78eb"
   },
   "outputs": [
    {
     "name": "stdout",
     "output_type": "stream",
     "text": [
      "Downloading https://www.cs.toronto.edu/~kriz/cifar-10-python.tar.gz to data/cifar-10-python.tar.gz\n"
     ]
    },
    {
     "data": {
      "application/vnd.jupyter.widget-view+json": {
       "model_id": "74d9bb7ddd8140a991f87aa9c5d0b9c1",
       "version_major": 2,
       "version_minor": 0
      },
      "text/plain": [
       "HBox(children=(FloatProgress(value=1.0, bar_style='info', max=1.0), HTML(value='')))"
      ]
     },
     "metadata": {
      "tags": []
     },
     "output_type": "display_data"
    },
    {
     "name": "stdout",
     "output_type": "stream",
     "text": [
      "Extracting data/cifar-10-python.tar.gz to data/\n"
     ]
    }
   ],
   "source": [
    "cifar10_data = torchvision.datasets.CIFAR10('data/', download=True)"
   ]
  },
  {
   "cell_type": "code",
   "execution_count": null,
   "metadata": {
    "colab": {
     "base_uri": "https://localhost:8080/",
     "height": 35
    },
    "id": "12NB_H-E0Z_O",
    "outputId": "d1bdf8fc-fb05-4d00-84da-6dbbd6273f2d"
   },
   "outputs": [
    {
     "data": {
      "text/plain": [
       "(32, 32, 3)"
      ]
     },
     "execution_count": 50,
     "metadata": {
      "tags": []
     },
     "output_type": "execute_result"
    }
   ],
   "source": [
    "cifar10_data.data[0].shape"
   ]
  },
  {
   "cell_type": "code",
   "execution_count": null,
   "metadata": {
    "colab": {
     "base_uri": "https://localhost:8080/",
     "height": 223
    },
    "id": "JzpTe9Bp0b9O",
    "outputId": "6260e4ce-9851-493c-a237-31888249f8cc"
   },
   "outputs": [
    {
     "data": {
      "image/png": "[encoded data removed]",
      "text/plain": [
       "<Figure size 432x288 with 10 Axes>"
      ]
     },
     "metadata": {
      "needs_background": "light",
      "tags": []
     },
     "output_type": "display_data"
    }
   ],
   "source": [
    "images_and_labels = list(zip(cifar10_data.data, cifar10_data.targets))\n",
    "for index, (image, label) in enumerate(images_and_labels[:10]): # 10개의 샘플만 출력\n",
    "    plt.subplot(2, 5, index + 1)\n",
    "    plt.axis('off')\n",
    "    plt.imshow(image, cmap=plt.cm.gray_r, interpolation='nearest')\n",
    "    plt.title('sample: %i' % label)"
   ]
  },
  {
   "cell_type": "code",
   "execution_count": null,
   "metadata": {
    "colab": {
     "base_uri": "https://localhost:8080/",
     "height": 197
    },
    "id": "etpAn7FD0d2-",
    "outputId": "8ec214eb-e62e-4b21-cad1-d974ca39f2a7"
   },
   "outputs": [
    {
     "name": "stdout",
     "output_type": "stream",
     "text": [
      "0 번 인덱스 샘플의 레이블 :  6\n",
      "1 번 인덱스 샘플의 레이블 :  9\n",
      "2 번 인덱스 샘플의 레이블 :  9\n",
      "3 번 인덱스 샘플의 레이블 :  4\n",
      "4 번 인덱스 샘플의 레이블 :  1\n",
      "5 번 인덱스 샘플의 레이블 :  1\n",
      "6 번 인덱스 샘플의 레이블 :  2\n",
      "7 번 인덱스 샘플의 레이블 :  7\n",
      "8 번 인덱스 샘플의 레이블 :  8\n",
      "9 번 인덱스 샘플의 레이블 :  3\n"
     ]
    }
   ],
   "source": [
    "for i in range(10):\n",
    "  print(i,'번 인덱스 샘플의 레이블 : ',cifar10_data.targets[i])"
   ]
  },
  {
   "cell_type": "code",
   "execution_count": null,
   "metadata": {
    "colab": {
     "base_uri": "https://localhost:8080/",
     "height": 103,
     "referenced_widgets": [
      "5136bf12fdae4368b2bd35991a9ef7e1",
      "5f4da9f8023048aa97c5926b630703ff",
      "bbfba32e0890449e9a71991b9a1e8ddc",
      "6c41e73efafc43f8be251e9c8a1c0ecb",
      "38514969a4c44fae929c8e67800a0bd7",
      "04cadc3b3abd42b794ba5b2175743ac0",
      "7e0933fa90404d6f97b5487f30b8bff0",
      "229c7da445314a3d9668f804734beafa"
     ]
    },
    "id": "7i6hVX2L0fie",
    "outputId": "b1bc0e7a-5aa4-4b7f-9fde-4facd26cab73"
   },
   "outputs": [
    {
     "name": "stdout",
     "output_type": "stream",
     "text": [
      "Downloading https://www.cs.toronto.edu/~kriz/cifar-10-python.tar.gz to cifar10_data/cifar-10-python.tar.gz\n"
     ]
    },
    {
     "data": {
      "application/vnd.jupyter.widget-view+json": {
       "model_id": "5136bf12fdae4368b2bd35991a9ef7e1",
       "version_major": 2,
       "version_minor": 0
      },
      "text/plain": [
       "HBox(children=(FloatProgress(value=1.0, bar_style='info', max=1.0), HTML(value='')))"
      ]
     },
     "metadata": {
      "tags": []
     },
     "output_type": "display_data"
    },
    {
     "name": "stdout",
     "output_type": "stream",
     "text": [
      "Extracting cifar10_data/cifar-10-python.tar.gz to cifar10_data/\n",
      "Files already downloaded and verified\n"
     ]
    }
   ],
   "source": [
    "cifar10_train = torchvision.datasets.CIFAR10(root='cifar10_data/', # 다운로드 경로 지정\n",
    "                          train=True, # True를 지정하면 훈련 데이터로 다운로드\n",
    "                          transform=transforms.Compose([transforms.Resize(256),\n",
    "                                                             transforms.ColorJitter(),\n",
    "                                                             transforms.RandomCrop(224),\n",
    "                                                             transforms.RandomHorizontalFlip(),\n",
    "                                                             transforms.Resize(32),\n",
    "                                                             transforms.ToTensor(),\n",
    "                                                             transforms.Normalize([0.4914, 0.4822, 0.4465], [0.247, 0.243, 0.261])\n",
    "                               ]),\n",
    "                          download=True)\n",
    "\n",
    "cifar10_test = torchvision.datasets.CIFAR10(root='cifar10_data/', # 다운로드 경로 지정\n",
    "                         train=False, # False를 지정하면 테스트 데이터로 다운로드\n",
    "                         transform=transforms.Compose([transforms.Resize(256),\n",
    "                                                             transforms.ColorJitter(),\n",
    "                                                             transforms.RandomCrop(224),\n",
    "                                                             transforms.RandomHorizontalFlip(),\n",
    "                                                             transforms.Resize(32),\n",
    "                                                             transforms.ToTensor(),\n",
    "                                                             transforms.Normalize([0.4914, 0.4822, 0.4465], [0.247, 0.243, 0.261])\n",
    "                               ]),\n",
    "                         download=True)"
   ]
  },
  {
   "cell_type": "code",
   "execution_count": null,
   "metadata": {
    "colab": {
     "base_uri": "https://localhost:8080/",
     "height": 35
    },
    "id": "KOyB2Y2v0h4_",
    "outputId": "32d04219-c2a1-45f6-e00e-f4bf672ac2fb"
   },
   "outputs": [
    {
     "data": {
      "text/plain": [
       "torch.Size([3, 32, 32])"
      ]
     },
     "execution_count": 54,
     "metadata": {
      "tags": []
     },
     "output_type": "execute_result"
    }
   ],
   "source": [
    "cifar10_train[0][0].size()"
   ]
  },
  {
   "cell_type": "code",
   "execution_count": null,
   "metadata": {
    "colab": {
     "base_uri": "https://localhost:8080/",
     "height": 35
    },
    "id": "OFd-xFGD0jIP",
    "outputId": "d0d68385-f886-499c-f6fd-1e5488e634a5"
   },
   "outputs": [
    {
     "name": "stdout",
     "output_type": "stream",
     "text": [
      "cuda\n"
     ]
    }
   ],
   "source": [
    "device = 'cuda' if torch.cuda.is_available() else 'cpu'\n",
    "print(device)\n",
    "\n",
    "learning_rate = 0.001\n",
    "epochs = 10\n",
    "batch_size = 64"
   ]
  },
  {
   "cell_type": "code",
   "execution_count": null,
   "metadata": {
    "id": "HseXBWEb0nmW"
   },
   "outputs": [],
   "source": [
    "train_loader = torch.utils.data.DataLoader(dataset=cifar10_train,\n",
    "                                          batch_size=batch_size,\n",
    "                                          shuffle=True,\n",
    "                                          drop_last=True)\n",
    "\n",
    "test_loader = torch.utils.data.DataLoader(dataset=cifar10_test,\n",
    "                                          batch_size=len(cifar10_test))"
   ]
  },
  {
   "cell_type": "markdown",
   "metadata": {
    "id": "YQkU1m0y06j_"
   },
   "source": [
    "###6.4.2 모델 1"
   ]
  },
  {
   "cell_type": "code",
   "execution_count": null,
   "metadata": {
    "id": "sjLVRNKy0oqn"
   },
   "outputs": [],
   "source": [
    "class CNN(torch.nn.Module):\n",
    "\n",
    "    def __init__(self):\n",
    "        super(CNN, self).__init__()\n",
    "        self.layer1 = torch.nn.Sequential(\n",
    "            torch.nn.Conv2d(3, 32, kernel_size=3, stride=1, padding=1),\n",
    "            torch.nn.ReLU(),\n",
    "            torch.nn.MaxPool2d(kernel_size=2, stride=2))\n",
    "\n",
    "        self.layer2 = torch.nn.Sequential(\n",
    "            torch.nn.Conv2d(32, 64, kernel_size=3, stride=1, padding=1),\n",
    "            torch.nn.ReLU(),\n",
    "            torch.nn.MaxPool2d(kernel_size=2, stride=2))\n",
    "\n",
    "        # 전결합층 7x7x64 inputs -> 10 outputs\n",
    "        self.fc = torch.nn.Linear(8 * 8 * 64, 100, bias=True)\n",
    "\n",
    "        # 전결합층 한정으로 가중치 초기화\n",
    "        torch.nn.init.xavier_uniform_(self.fc.weight)\n",
    "\n",
    "    def forward(self, x):\n",
    "        out = self.layer1(x) # [batch_size, 3, 32, 32] -> [batch_size, 32, 32, 32] -> [batch_size, 32, 16, 16]\n",
    "        out = self.layer2(out) # [batch_size, 32, 16, 16] -> [batch_size, 64, 16, 16] -> [batch_size, 64, 8, 8]\n",
    "        out = out.view(out.size(0), -1)   # 전결합층을 위해서 Flatten\n",
    "        out = self.fc(out)\n",
    "        return out"
   ]
  },
  {
   "cell_type": "code",
   "execution_count": null,
   "metadata": {
    "id": "X0L7MRWx0qVP"
   },
   "outputs": [],
   "source": [
    "model = CNN().to(device)\n",
    "criterion = torch.nn.CrossEntropyLoss().to(device)    # 비용 함수에 소프트맥스 함수 포함되어져 있음.\n",
    "optimizer = torch.optim.Adam(model.parameters(), lr=learning_rate)"
   ]
  },
  {
   "cell_type": "code",
   "execution_count": null,
   "metadata": {
    "colab": {
     "base_uri": "https://localhost:8080/",
     "height": 35
    },
    "id": "w3tZDWSN0sjH",
    "outputId": "e46d5c2d-c9b1-448e-e86d-e4c1bc86f971"
   },
   "outputs": [
    {
     "name": "stdout",
     "output_type": "stream",
     "text": [
      "총 배치의 수 : 781\n"
     ]
    }
   ],
   "source": [
    "total_batch = len(train_loader)\n",
    "print('총 배치의 수 : {}'.format(total_batch))"
   ]
  },
  {
   "cell_type": "code",
   "execution_count": null,
   "metadata": {
    "colab": {
     "base_uri": "https://localhost:8080/",
     "height": 737
    },
    "id": "YmmtevEp0t2n",
    "outputId": "e6d02363-fe51-4f66-bbab-c39f2d8138a9"
   },
   "outputs": [
    {
     "name": "stdout",
     "output_type": "stream",
     "text": [
      "1 epoch train loss = 1.45745050907135\n",
      "1 epoch val loss = 1.207731008529663\n",
      "1 epoch accuracy = 0.5777999758720398\n",
      "--------------------------------------------------\n",
      "2 epoch train loss = 1.1388815641403198\n",
      "2 epoch val loss = 1.0927785634994507\n",
      "2 epoch accuracy = 0.6209999918937683\n",
      "--------------------------------------------------\n",
      "3 epoch train loss = 1.0314171314239502\n",
      "3 epoch val loss = 0.9909048676490784\n",
      "3 epoch accuracy = 0.6548999547958374\n",
      "--------------------------------------------------\n",
      "4 epoch train loss = 0.9726815223693848\n",
      "4 epoch val loss = 0.9772276282310486\n",
      "4 epoch accuracy = 0.6599000096321106\n",
      "--------------------------------------------------\n",
      "5 epoch train loss = 0.9303674101829529\n",
      "5 epoch val loss = 0.92942214012146\n",
      "5 epoch accuracy = 0.679099977016449\n",
      "--------------------------------------------------\n",
      "6 epoch train loss = 0.89520663022995\n",
      "6 epoch val loss = 0.9196981191635132\n",
      "6 epoch accuracy = 0.6818999648094177\n",
      "--------------------------------------------------\n",
      "7 epoch train loss = 0.8686659336090088\n",
      "7 epoch val loss = 0.89664626121521\n",
      "7 epoch accuracy = 0.6947999596595764\n",
      "--------------------------------------------------\n",
      "8 epoch train loss = 0.8485626578330994\n",
      "8 epoch val loss = 0.876029908657074\n",
      "8 epoch accuracy = 0.7010999917984009\n",
      "--------------------------------------------------\n",
      "9 epoch train loss = 0.8301592469215393\n",
      "9 epoch val loss = 0.8885902166366577\n",
      "9 epoch accuracy = 0.6926000118255615\n",
      "--------------------------------------------------\n",
      "10 epoch train loss = 0.8133926391601562\n",
      "10 epoch val loss = 0.8843494057655334\n",
      "10 epoch accuracy = 0.6965000033378601\n",
      "--------------------------------------------------\n"
     ]
    }
   ],
   "source": [
    "plot_list = {'train':[],'val':[],'accuracy':[]}\n",
    "\n",
    "for epoch in range(epochs):\n",
    "    model.train()\n",
    "    train_losses = []\n",
    "    for X, Y in train_loader: # 미니 배치 단위로 꺼내온다. X는 미니 배치, Y는 레이블.\n",
    "        # image is already size of (28x28), no reshape\n",
    "        # label is not one-hot encoded\n",
    "        X = X.to(device)\n",
    "        Y = Y.to(device)\n",
    "\n",
    "        optimizer.zero_grad()\n",
    "        hypothesis = model(X)\n",
    "        train_loss = criterion(hypothesis, Y)\n",
    "        train_loss.backward()\n",
    "        optimizer.step()\n",
    "\n",
    "        train_losses.append(train_loss.detach())\n",
    "    with torch.no_grad():\n",
    "        model.eval()\n",
    "        val_losses = []\n",
    "        for i,data in enumerate(test_loader):\n",
    "            inputs,targets = data[0].to(device), data[1].to(device)\n",
    "\n",
    "            outputs = model(inputs)\n",
    "            val_loss = criterion(outputs,targets)\n",
    "            val_losses.append(val_loss.detach())\n",
    "\n",
    "            prob,label = torch.exp(outputs).topk(1,dim=1)\n",
    "\n",
    "        correct = label.view(-1)==targets\n",
    "        val_accuracy = correct.float().mean()\n",
    "\n",
    "    print(f\"{epoch+1} epoch train loss = {sum(train_losses)/len(train_losses)}\")\n",
    "    print(f\"{epoch+1} epoch val loss = {sum(val_losses)/len(val_losses)}\")\n",
    "    print(f\"{epoch+1} epoch accuracy = {val_accuracy}\")\n",
    "    print('--------------------------------------------------')\n",
    "    plot_list['train'].append(sum(train_losses)/len(train_losses))\n",
    "    plot_list['val'].append(sum(val_losses)/len(val_losses))\n",
    "    plot_list['accuracy'].append(val_accuracy)"
   ]
  },
  {
   "cell_type": "markdown",
   "metadata": {
    "id": "qgwyObWS09wQ"
   },
   "source": [
    "###6.4.2 모델 2 (More Deeper)"
   ]
  },
  {
   "cell_type": "code",
   "execution_count": null,
   "metadata": {
    "id": "ZXM8twtD0zLf"
   },
   "outputs": [],
   "source": [
    "class My_CNN(torch.nn.Module):\n",
    "\n",
    "    def __init__(self):\n",
    "        super(My_CNN, self).__init__()\n",
    "        self.layer1 = torch.nn.Sequential(\n",
    "            torch.nn.Conv2d(3, 32, kernel_size=3, stride=1, padding=1),\n",
    "            torch.nn.ReLU(),\n",
    "            torch.nn.MaxPool2d(kernel_size=2, stride=2),\n",
    "            torch.nn.Conv2d(32, 32, kernel_size=3, stride=1, padding=1),\n",
    "            torch.nn.ReLU(),\n",
    "            torch.nn.Conv2d(32, 32, kernel_size=3, stride=1, padding=1),\n",
    "            torch.nn.ReLU(),\n",
    "            torch.nn.Conv2d(32, 32, kernel_size=3, stride=1, padding=1),\n",
    "            torch.nn.ReLU(),)\n",
    "\n",
    "        self.layer2 = torch.nn.Sequential(\n",
    "            torch.nn.Conv2d(32, 64, kernel_size=3, stride=1, padding=1),\n",
    "            torch.nn.ReLU(),\n",
    "            torch.nn.MaxPool2d(kernel_size=2, stride=2))\n",
    "\n",
    "        # 전결합층 7x7x64 inputs -> 10 outputs\n",
    "        self.fc = torch.nn.Linear(8 * 8 * 64, 100, bias=True)\n",
    "\n",
    "        # 전결합층 한정으로 가중치 초기화\n",
    "        torch.nn.init.xavier_uniform_(self.fc.weight)\n",
    "\n",
    "    def forward(self, x):\n",
    "        out = self.layer1(x) # [batch_size, 3, 32, 32] -> [batch_size, 32, 32, 32] -> [batch_size, 32, 16, 16]\n",
    "        out = self.layer2(out) # [batch_size, 32, 16, 16] -> [batch_size, 64, 16, 16] -> [batch_size, 64, 8, 8]\n",
    "        out = out.view(out.size(0), -1)   # 전결합층을 위해서 Flatten\n",
    "        out = self.fc(out)\n",
    "        return out"
   ]
  },
  {
   "cell_type": "code",
   "execution_count": null,
   "metadata": {
    "id": "-RX9XxTU1AdP"
   },
   "outputs": [],
   "source": [
    "model = My_CNN().to(device)\n",
    "criterion = torch.nn.CrossEntropyLoss().to(device)    # 비용 함수에 소프트맥스 함수 포함되어져 있음.\n",
    "optimizer = torch.optim.Adam(model.parameters(), lr=learning_rate)"
   ]
  },
  {
   "cell_type": "code",
   "execution_count": null,
   "metadata": {
    "colab": {
     "base_uri": "https://localhost:8080/",
     "height": 737
    },
    "id": "KbwriWCy1BpO",
    "outputId": "de5e04de-9d92-4a59-c81a-00d493717f97"
   },
   "outputs": [
    {
     "name": "stdout",
     "output_type": "stream",
     "text": [
      "1 epoch train loss = 1.6144968271255493\n",
      "1 epoch val loss = 1.3046554327011108\n",
      "1 epoch accuracy = 0.5411999821662903\n",
      "--------------------------------------------------\n",
      "2 epoch train loss = 1.2158347368240356\n",
      "2 epoch val loss = 1.0932791233062744\n",
      "2 epoch accuracy = 0.6154999732971191\n",
      "--------------------------------------------------\n",
      "3 epoch train loss = 1.0502241849899292\n",
      "3 epoch val loss = 0.9866474866867065\n",
      "3 epoch accuracy = 0.6586999893188477\n",
      "--------------------------------------------------\n",
      "4 epoch train loss = 0.9553911089897156\n",
      "4 epoch val loss = 0.9291877746582031\n",
      "4 epoch accuracy = 0.6796000003814697\n",
      "--------------------------------------------------\n",
      "5 epoch train loss = 0.8892860412597656\n",
      "5 epoch val loss = 0.9199531078338623\n",
      "5 epoch accuracy = 0.6780999898910522\n",
      "--------------------------------------------------\n",
      "6 epoch train loss = 0.8352537751197815\n",
      "6 epoch val loss = 0.8774507641792297\n",
      "6 epoch accuracy = 0.6969000101089478\n",
      "--------------------------------------------------\n",
      "7 epoch train loss = 0.8028993606567383\n",
      "7 epoch val loss = 0.8129240274429321\n",
      "7 epoch accuracy = 0.7210999727249146\n",
      "--------------------------------------------------\n",
      "8 epoch train loss = 0.7692794799804688\n",
      "8 epoch val loss = 0.8484217524528503\n",
      "8 epoch accuracy = 0.7077999711036682\n",
      "--------------------------------------------------\n",
      "9 epoch train loss = 0.7513170838356018\n",
      "9 epoch val loss = 0.8117154836654663\n",
      "9 epoch accuracy = 0.722599983215332\n",
      "--------------------------------------------------\n",
      "10 epoch train loss = 0.7243109941482544\n",
      "10 epoch val loss = 0.8051944971084595\n",
      "10 epoch accuracy = 0.7231000065803528\n",
      "--------------------------------------------------\n"
     ]
    }
   ],
   "source": [
    "plot_list = {'train':[],'val':[],'accuracy':[]}\n",
    "\n",
    "for epoch in range(epochs):\n",
    "    model.train()\n",
    "    train_losses = []\n",
    "    for X, Y in train_loader: # 미니 배치 단위로 꺼내온다. X는 미니 배치, Y는 레이블.\n",
    "        # image is already size of (28x28), no reshape\n",
    "        # label is not one-hot encoded\n",
    "        X = X.to(device)\n",
    "        Y = Y.to(device)\n",
    "\n",
    "        optimizer.zero_grad()\n",
    "        hypothesis = model(X)\n",
    "        train_loss = criterion(hypothesis, Y)\n",
    "        train_loss.backward()\n",
    "        optimizer.step()\n",
    "\n",
    "        train_losses.append(train_loss.detach())\n",
    "        \n",
    "    \n",
    "    with torch.no_grad():\n",
    "        model.eval()\n",
    "        val_losses = []\n",
    "        for i,data in enumerate(test_loader):\n",
    "            inputs,targets = data[0].to(device), data[1].to(device)\n",
    "\n",
    "            outputs = model(inputs)\n",
    "            val_loss = criterion(outputs,targets)\n",
    "            val_losses.append(val_loss.detach())\n",
    "\n",
    "            prob,label = torch.exp(outputs).topk(1,dim=1)\n",
    "\n",
    "        correct = label.view(-1)==targets\n",
    "        val_accuracy = correct.float().mean()\n",
    "\n",
    "\n",
    "    print(f\"{epoch+1} epoch train loss = {sum(train_losses)/len(train_losses)}\")\n",
    "    print(f\"{epoch+1} epoch val loss = {sum(val_losses)/len(val_losses)}\")\n",
    "    print(f\"{epoch+1} epoch accuracy = {val_accuracy}\")\n",
    "    print('--------------------------------------------------')\n",
    "    plot_list['train'].append(sum(train_losses)/len(train_losses))\n",
    "    plot_list['val'].append(sum(val_losses)/len(val_losses))\n",
    "    plot_list['accuracy'].append(val_accuracy)"
   ]
  },
  {
   "cell_type": "markdown",
   "metadata": {
    "id": "8HfyKF811E7I"
   },
   "source": [
    "### 모델 3 (Resnet Fine Tuning)"
   ]
  },
  {
   "cell_type": "code",
   "execution_count": null,
   "metadata": {
    "colab": {
     "base_uri": "https://localhost:8080/",
     "height": 105,
     "referenced_widgets": [
      "95b1a0e47cd44513a6699b1854321e32",
      "db87989286104473acc39d0fc5ab7272",
      "4ce517c49d274513bec9afa4ff414721",
      "c53244d6585f44048652c73802682857",
      "7974c71779fb4802a3e4d93694e0ce87",
      "f40f43aa64aa47c0a2d01bff09294ff2",
      "c9e55f4c2b484c289571ce1b93c559e9",
      "5ea7cd10cd524c30affefea69ac0ea4a"
     ]
    },
    "id": "KMy6W0681EB3",
    "outputId": "f54fc545-e088-4c95-e69a-48f33aded02b"
   },
   "outputs": [
    {
     "name": "stderr",
     "output_type": "stream",
     "text": [
      "Downloading: \"https://download.pytorch.org/models/resnet18-5c106cde.pth\" to /root/.cache/torch/checkpoints/resnet18-5c106cde.pth\n"
     ]
    },
    {
     "data": {
      "application/vnd.jupyter.widget-view+json": {
       "model_id": "95b1a0e47cd44513a6699b1854321e32",
       "version_major": 2,
       "version_minor": 0
      },
      "text/plain": [
       "HBox(children=(FloatProgress(value=0.0, max=46827520.0), HTML(value='')))"
      ]
     },
     "metadata": {
      "tags": []
     },
     "output_type": "display_data"
    },
    {
     "name": "stdout",
     "output_type": "stream",
     "text": [
      "\n"
     ]
    }
   ],
   "source": [
    "from torchvision import models\n",
    "import torch.nn as nn\n",
    "resnet = models.resnet18(pretrained=True)"
   ]
  },
  {
   "cell_type": "code",
   "execution_count": null,
   "metadata": {
    "colab": {
     "base_uri": "https://localhost:8080/",
     "height": 1000
    },
    "id": "Ubf0DXgi1Rme",
    "outputId": "1e15706b-4542-4f1e-d6f3-2f0a7994a41a"
   },
   "outputs": [
    {
     "name": "stdout",
     "output_type": "stream",
     "text": [
      "ResNet(\n",
      "  (conv1): Conv2d(3, 64, kernel_size=(7, 7), stride=(2, 2), padding=(3, 3), bias=False)\n",
      "  (bn1): BatchNorm2d(64, eps=1e-05, momentum=0.1, affine=True, track_running_stats=True)\n",
      "  (relu): ReLU(inplace=True)\n",
      "  (maxpool): MaxPool2d(kernel_size=3, stride=2, padding=1, dilation=1, ceil_mode=False)\n",
      "  (layer1): Sequential(\n",
      "    (0): BasicBlock(\n",
      "      (conv1): Conv2d(64, 64, kernel_size=(3, 3), stride=(1, 1), padding=(1, 1), bias=False)\n",
      "      (bn1): BatchNorm2d(64, eps=1e-05, momentum=0.1, affine=True, track_running_stats=True)\n",
      "      (relu): ReLU(inplace=True)\n",
      "      (conv2): Conv2d(64, 64, kernel_size=(3, 3), stride=(1, 1), padding=(1, 1), bias=False)\n",
      "      (bn2): BatchNorm2d(64, eps=1e-05, momentum=0.1, affine=True, track_running_stats=True)\n",
      "    )\n",
      "    (1): BasicBlock(\n",
      "      (conv1): Conv2d(64, 64, kernel_size=(3, 3), stride=(1, 1), padding=(1, 1), bias=False)\n",
      "      (bn1): BatchNorm2d(64, eps=1e-05, momentum=0.1, affine=True, track_running_stats=True)\n",
      "      (relu): ReLU(inplace=True)\n",
      "      (conv2): Conv2d(64, 64, kernel_size=(3, 3), stride=(1, 1), padding=(1, 1), bias=False)\n",
      "      (bn2): BatchNorm2d(64, eps=1e-05, momentum=0.1, affine=True, track_running_stats=True)\n",
      "    )\n",
      "  )\n",
      "  (layer2): Sequential(\n",
      "    (0): BasicBlock(\n",
      "      (conv1): Conv2d(64, 128, kernel_size=(3, 3), stride=(2, 2), padding=(1, 1), bias=False)\n",
      "      (bn1): BatchNorm2d(128, eps=1e-05, momentum=0.1, affine=True, track_running_stats=True)\n",
      "      (relu): ReLU(inplace=True)\n",
      "      (conv2): Conv2d(128, 128, kernel_size=(3, 3), stride=(1, 1), padding=(1, 1), bias=False)\n",
      "      (bn2): BatchNorm2d(128, eps=1e-05, momentum=0.1, affine=True, track_running_stats=True)\n",
      "      (downsample): Sequential(\n",
      "        (0): Conv2d(64, 128, kernel_size=(1, 1), stride=(2, 2), bias=False)\n",
      "        (1): BatchNorm2d(128, eps=1e-05, momentum=0.1, affine=True, track_running_stats=True)\n",
      "      )\n",
      "    )\n",
      "    (1): BasicBlock(\n",
      "      (conv1): Conv2d(128, 128, kernel_size=(3, 3), stride=(1, 1), padding=(1, 1), bias=False)\n",
      "      (bn1): BatchNorm2d(128, eps=1e-05, momentum=0.1, affine=True, track_running_stats=True)\n",
      "      (relu): ReLU(inplace=True)\n",
      "      (conv2): Conv2d(128, 128, kernel_size=(3, 3), stride=(1, 1), padding=(1, 1), bias=False)\n",
      "      (bn2): BatchNorm2d(128, eps=1e-05, momentum=0.1, affine=True, track_running_stats=True)\n",
      "    )\n",
      "  )\n",
      "  (layer3): Sequential(\n",
      "    (0): BasicBlock(\n",
      "      (conv1): Conv2d(128, 256, kernel_size=(3, 3), stride=(2, 2), padding=(1, 1), bias=False)\n",
      "      (bn1): BatchNorm2d(256, eps=1e-05, momentum=0.1, affine=True, track_running_stats=True)\n",
      "      (relu): ReLU(inplace=True)\n",
      "      (conv2): Conv2d(256, 256, kernel_size=(3, 3), stride=(1, 1), padding=(1, 1), bias=False)\n",
      "      (bn2): BatchNorm2d(256, eps=1e-05, momentum=0.1, affine=True, track_running_stats=True)\n",
      "      (downsample): Sequential(\n",
      "        (0): Conv2d(128, 256, kernel_size=(1, 1), stride=(2, 2), bias=False)\n",
      "        (1): BatchNorm2d(256, eps=1e-05, momentum=0.1, affine=True, track_running_stats=True)\n",
      "      )\n",
      "    )\n",
      "    (1): BasicBlock(\n",
      "      (conv1): Conv2d(256, 256, kernel_size=(3, 3), stride=(1, 1), padding=(1, 1), bias=False)\n",
      "      (bn1): BatchNorm2d(256, eps=1e-05, momentum=0.1, affine=True, track_running_stats=True)\n",
      "      (relu): ReLU(inplace=True)\n",
      "      (conv2): Conv2d(256, 256, kernel_size=(3, 3), stride=(1, 1), padding=(1, 1), bias=False)\n",
      "      (bn2): BatchNorm2d(256, eps=1e-05, momentum=0.1, affine=True, track_running_stats=True)\n",
      "    )\n",
      "  )\n",
      "  (layer4): Sequential(\n",
      "    (0): BasicBlock(\n",
      "      (conv1): Conv2d(256, 512, kernel_size=(3, 3), stride=(2, 2), padding=(1, 1), bias=False)\n",
      "      (bn1): BatchNorm2d(512, eps=1e-05, momentum=0.1, affine=True, track_running_stats=True)\n",
      "      (relu): ReLU(inplace=True)\n",
      "      (conv2): Conv2d(512, 512, kernel_size=(3, 3), stride=(1, 1), padding=(1, 1), bias=False)\n",
      "      (bn2): BatchNorm2d(512, eps=1e-05, momentum=0.1, affine=True, track_running_stats=True)\n",
      "      (downsample): Sequential(\n",
      "        (0): Conv2d(256, 512, kernel_size=(1, 1), stride=(2, 2), bias=False)\n",
      "        (1): BatchNorm2d(512, eps=1e-05, momentum=0.1, affine=True, track_running_stats=True)\n",
      "      )\n",
      "    )\n",
      "    (1): BasicBlock(\n",
      "      (conv1): Conv2d(512, 512, kernel_size=(3, 3), stride=(1, 1), padding=(1, 1), bias=False)\n",
      "      (bn1): BatchNorm2d(512, eps=1e-05, momentum=0.1, affine=True, track_running_stats=True)\n",
      "      (relu): ReLU(inplace=True)\n",
      "      (conv2): Conv2d(512, 512, kernel_size=(3, 3), stride=(1, 1), padding=(1, 1), bias=False)\n",
      "      (bn2): BatchNorm2d(512, eps=1e-05, momentum=0.1, affine=True, track_running_stats=True)\n",
      "    )\n",
      "  )\n",
      "  (avgpool): AdaptiveAvgPool2d(output_size=(1, 1))\n",
      "  (fc): Linear(in_features=512, out_features=1000, bias=True)\n",
      ")\n"
     ]
    }
   ],
   "source": [
    "print(resnet)"
   ]
  },
  {
   "cell_type": "code",
   "execution_count": null,
   "metadata": {
    "id": "yqyg2Bgw1Sfm"
   },
   "outputs": [],
   "source": [
    "resnet.fc.out_features = 10"
   ]
  },
  {
   "cell_type": "code",
   "execution_count": null,
   "metadata": {
    "colab": {
     "base_uri": "https://localhost:8080/",
     "height": 1000
    },
    "id": "koPvL3iu1T8u",
    "outputId": "e77b5037-2ee8-4acc-94ab-302887c393d9"
   },
   "outputs": [
    {
     "name": "stdout",
     "output_type": "stream",
     "text": [
      "ResNet(\n",
      "  (conv1): Conv2d(3, 64, kernel_size=(7, 7), stride=(2, 2), padding=(3, 3), bias=False)\n",
      "  (bn1): BatchNorm2d(64, eps=1e-05, momentum=0.1, affine=True, track_running_stats=True)\n",
      "  (relu): ReLU(inplace=True)\n",
      "  (maxpool): MaxPool2d(kernel_size=3, stride=2, padding=1, dilation=1, ceil_mode=False)\n",
      "  (layer1): Sequential(\n",
      "    (0): BasicBlock(\n",
      "      (conv1): Conv2d(64, 64, kernel_size=(3, 3), stride=(1, 1), padding=(1, 1), bias=False)\n",
      "      (bn1): BatchNorm2d(64, eps=1e-05, momentum=0.1, affine=True, track_running_stats=True)\n",
      "      (relu): ReLU(inplace=True)\n",
      "      (conv2): Conv2d(64, 64, kernel_size=(3, 3), stride=(1, 1), padding=(1, 1), bias=False)\n",
      "      (bn2): BatchNorm2d(64, eps=1e-05, momentum=0.1, affine=True, track_running_stats=True)\n",
      "    )\n",
      "    (1): BasicBlock(\n",
      "      (conv1): Conv2d(64, 64, kernel_size=(3, 3), stride=(1, 1), padding=(1, 1), bias=False)\n",
      "      (bn1): BatchNorm2d(64, eps=1e-05, momentum=0.1, affine=True, track_running_stats=True)\n",
      "      (relu): ReLU(inplace=True)\n",
      "      (conv2): Conv2d(64, 64, kernel_size=(3, 3), stride=(1, 1), padding=(1, 1), bias=False)\n",
      "      (bn2): BatchNorm2d(64, eps=1e-05, momentum=0.1, affine=True, track_running_stats=True)\n",
      "    )\n",
      "  )\n",
      "  (layer2): Sequential(\n",
      "    (0): BasicBlock(\n",
      "      (conv1): Conv2d(64, 128, kernel_size=(3, 3), stride=(2, 2), padding=(1, 1), bias=False)\n",
      "      (bn1): BatchNorm2d(128, eps=1e-05, momentum=0.1, affine=True, track_running_stats=True)\n",
      "      (relu): ReLU(inplace=True)\n",
      "      (conv2): Conv2d(128, 128, kernel_size=(3, 3), stride=(1, 1), padding=(1, 1), bias=False)\n",
      "      (bn2): BatchNorm2d(128, eps=1e-05, momentum=0.1, affine=True, track_running_stats=True)\n",
      "      (downsample): Sequential(\n",
      "        (0): Conv2d(64, 128, kernel_size=(1, 1), stride=(2, 2), bias=False)\n",
      "        (1): BatchNorm2d(128, eps=1e-05, momentum=0.1, affine=True, track_running_stats=True)\n",
      "      )\n",
      "    )\n",
      "    (1): BasicBlock(\n",
      "      (conv1): Conv2d(128, 128, kernel_size=(3, 3), stride=(1, 1), padding=(1, 1), bias=False)\n",
      "      (bn1): BatchNorm2d(128, eps=1e-05, momentum=0.1, affine=True, track_running_stats=True)\n",
      "      (relu): ReLU(inplace=True)\n",
      "      (conv2): Conv2d(128, 128, kernel_size=(3, 3), stride=(1, 1), padding=(1, 1), bias=False)\n",
      "      (bn2): BatchNorm2d(128, eps=1e-05, momentum=0.1, affine=True, track_running_stats=True)\n",
      "    )\n",
      "  )\n",
      "  (layer3): Sequential(\n",
      "    (0): BasicBlock(\n",
      "      (conv1): Conv2d(128, 256, kernel_size=(3, 3), stride=(2, 2), padding=(1, 1), bias=False)\n",
      "      (bn1): BatchNorm2d(256, eps=1e-05, momentum=0.1, affine=True, track_running_stats=True)\n",
      "      (relu): ReLU(inplace=True)\n",
      "      (conv2): Conv2d(256, 256, kernel_size=(3, 3), stride=(1, 1), padding=(1, 1), bias=False)\n",
      "      (bn2): BatchNorm2d(256, eps=1e-05, momentum=0.1, affine=True, track_running_stats=True)\n",
      "      (downsample): Sequential(\n",
      "        (0): Conv2d(128, 256, kernel_size=(1, 1), stride=(2, 2), bias=False)\n",
      "        (1): BatchNorm2d(256, eps=1e-05, momentum=0.1, affine=True, track_running_stats=True)\n",
      "      )\n",
      "    )\n",
      "    (1): BasicBlock(\n",
      "      (conv1): Conv2d(256, 256, kernel_size=(3, 3), stride=(1, 1), padding=(1, 1), bias=False)\n",
      "      (bn1): BatchNorm2d(256, eps=1e-05, momentum=0.1, affine=True, track_running_stats=True)\n",
      "      (relu): ReLU(inplace=True)\n",
      "      (conv2): Conv2d(256, 256, kernel_size=(3, 3), stride=(1, 1), padding=(1, 1), bias=False)\n",
      "      (bn2): BatchNorm2d(256, eps=1e-05, momentum=0.1, affine=True, track_running_stats=True)\n",
      "    )\n",
      "  )\n",
      "  (layer4): Sequential(\n",
      "    (0): BasicBlock(\n",
      "      (conv1): Conv2d(256, 512, kernel_size=(3, 3), stride=(2, 2), padding=(1, 1), bias=False)\n",
      "      (bn1): BatchNorm2d(512, eps=1e-05, momentum=0.1, affine=True, track_running_stats=True)\n",
      "      (relu): ReLU(inplace=True)\n",
      "      (conv2): Conv2d(512, 512, kernel_size=(3, 3), stride=(1, 1), padding=(1, 1), bias=False)\n",
      "      (bn2): BatchNorm2d(512, eps=1e-05, momentum=0.1, affine=True, track_running_stats=True)\n",
      "      (downsample): Sequential(\n",
      "        (0): Conv2d(256, 512, kernel_size=(1, 1), stride=(2, 2), bias=False)\n",
      "        (1): BatchNorm2d(512, eps=1e-05, momentum=0.1, affine=True, track_running_stats=True)\n",
      "      )\n",
      "    )\n",
      "    (1): BasicBlock(\n",
      "      (conv1): Conv2d(512, 512, kernel_size=(3, 3), stride=(1, 1), padding=(1, 1), bias=False)\n",
      "      (bn1): BatchNorm2d(512, eps=1e-05, momentum=0.1, affine=True, track_running_stats=True)\n",
      "      (relu): ReLU(inplace=True)\n",
      "      (conv2): Conv2d(512, 512, kernel_size=(3, 3), stride=(1, 1), padding=(1, 1), bias=False)\n",
      "      (bn2): BatchNorm2d(512, eps=1e-05, momentum=0.1, affine=True, track_running_stats=True)\n",
      "    )\n",
      "  )\n",
      "  (avgpool): AdaptiveAvgPool2d(output_size=(1, 1))\n",
      "  (fc): Linear(in_features=512, out_features=10, bias=True)\n",
      ")\n"
     ]
    }
   ],
   "source": [
    "print(resnet)"
   ]
  },
  {
   "cell_type": "code",
   "execution_count": null,
   "metadata": {
    "id": "XL0JQoGM1U4O"
   },
   "outputs": [],
   "source": [
    "model = resnet.to(device)\n",
    "criterion = torch.nn.CrossEntropyLoss().to(device)    # 비용 함수에 소프트맥스 함수 포함되어져 있음.\n",
    "optimizer = torch.optim.Adam(model.parameters(), lr=learning_rate)"
   ]
  },
  {
   "cell_type": "code",
   "execution_count": null,
   "metadata": {
    "colab": {
     "base_uri": "https://localhost:8080/",
     "height": 737
    },
    "id": "i53hUtqg1Wmu",
    "outputId": "397f4a10-65d5-442f-fa0c-cc27d946ccf5"
   },
   "outputs": [
    {
     "name": "stdout",
     "output_type": "stream",
     "text": [
      "1 epoch train loss = 1.0992671251296997\n",
      "1 epoch val loss = 0.7934638857841492\n",
      "1 epoch accuracy = 0.7211999893188477\n",
      "--------------------------------------------------\n",
      "2 epoch train loss = 0.7454693913459778\n",
      "2 epoch val loss = 0.7219944000244141\n",
      "2 epoch accuracy = 0.7577999830245972\n",
      "--------------------------------------------------\n",
      "3 epoch train loss = 0.6565535664558411\n",
      "3 epoch val loss = 0.6550021767616272\n",
      "3 epoch accuracy = 0.7754999995231628\n",
      "--------------------------------------------------\n",
      "4 epoch train loss = 0.5919867157936096\n",
      "4 epoch val loss = 0.7017496228218079\n",
      "4 epoch accuracy = 0.7566999793052673\n",
      "--------------------------------------------------\n",
      "5 epoch train loss = 0.5444292426109314\n",
      "5 epoch val loss = 0.5733613967895508\n",
      "5 epoch accuracy = 0.8047999739646912\n",
      "--------------------------------------------------\n",
      "6 epoch train loss = 0.5366145372390747\n",
      "6 epoch val loss = 0.5827420353889465\n",
      "6 epoch accuracy = 0.8009999990463257\n",
      "--------------------------------------------------\n",
      "7 epoch train loss = 0.48091092705726624\n",
      "7 epoch val loss = 0.5862798094749451\n",
      "7 epoch accuracy = 0.8039000034332275\n",
      "--------------------------------------------------\n",
      "8 epoch train loss = 0.45243439078330994\n",
      "8 epoch val loss = 0.6060457229614258\n",
      "8 epoch accuracy = 0.7976999878883362\n",
      "--------------------------------------------------\n",
      "9 epoch train loss = 0.42357131838798523\n",
      "9 epoch val loss = 0.5353462100028992\n",
      "9 epoch accuracy = 0.8161999583244324\n",
      "--------------------------------------------------\n",
      "10 epoch train loss = 0.4357566833496094\n",
      "10 epoch val loss = 0.6088768839836121\n",
      "10 epoch accuracy = 0.7900999784469604\n",
      "--------------------------------------------------\n"
     ]
    }
   ],
   "source": [
    "plot_list = {'train':[],'val':[],'accuracy':[]}\n",
    "\n",
    "for epoch in range(epochs):\n",
    "    model.train()\n",
    "    train_losses = []\n",
    "    for X, Y in train_loader: # 미니 배치 단위로 꺼내온다. X는 미니 배치, Y는 레이블.\n",
    "        # image is already size of (28x28), no reshape\n",
    "        # label is not one-hot encoded\n",
    "        X = X.to(device)\n",
    "        Y = Y.to(device)\n",
    "\n",
    "        optimizer.zero_grad()\n",
    "        hypothesis = model(X)\n",
    "        train_loss = criterion(hypothesis, Y)\n",
    "        train_loss.backward()\n",
    "        optimizer.step()\n",
    "\n",
    "        train_losses.append(train_loss.detach())\n",
    "    \n",
    "    model.eval()\n",
    "    val_losses = []\n",
    "    for i,data in enumerate(test_loader):\n",
    "        inputs,targets = data[0].to(device), data[1].to(device)\n",
    "\n",
    "        outputs = model(inputs)\n",
    "        val_loss = criterion(outputs,targets)\n",
    "        val_losses.append(val_loss.detach())\n",
    "\n",
    "        prob,label = torch.exp(outputs).topk(1,dim=1)\n",
    "\n",
    "    correct = label.view(-1)==targets\n",
    "    val_accuracy = correct.float().mean()\n",
    "\n",
    "    print(f\"{epoch+1} epoch train loss = {sum(train_losses)/len(train_losses)}\")\n",
    "    print(f\"{epoch+1} epoch val loss = {sum(val_losses)/len(val_losses)}\")\n",
    "    print(f\"{epoch+1} epoch accuracy = {val_accuracy}\")\n",
    "    print('--------------------------------------------------')\n",
    "    plot_list['train'].append(sum(train_losses)/len(train_losses))\n",
    "    plot_list['val'].append(sum(val_losses)/len(val_losses))\n",
    "    plot_list['accuracy'].append(val_accuracy)"
   ]
  },
  {
   "cell_type": "markdown",
   "metadata": {
    "id": "xUKa35Qmnju8"
   },
   "source": [
    "## 6.5 Residual Learning"
   ]
  },
  {
   "cell_type": "markdown",
   "metadata": {
    "id": "-6gjEPEtnqTL"
   },
   "source": [
    "이번 챕터에서는 2015년 [ILSVRC](https://bskyvision.com/425)에서 우승을 차지한 [ResNet](https://towardsdatascience.com/review-resnet-winner-of-ilsvrc-2015-image-classification-localization-detection-e39402bfa5d8)에 대해서 소개한다.\n",
    "\n",
    "![image.png](data:image/png;base64,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)\n"
   ]
  },
  {
   "cell_type": "markdown",
   "metadata": {
    "id": "HSAlECi7og6S"
   },
   "source": [
    "### 6.5.1 Introduction"
   ]
  },
  {
   "cell_type": "markdown",
   "metadata": {
    "id": "WdBFDOdOokQJ"
   },
   "source": [
    "ResNet은 2015년도 전에 소개된 VGGNet, GoogLeNet과 같은 모델들보다 훨씬 깊고 학습시키기도 더 쉬운 모델이라고 소개하고 있다.\n",
    "\n",
    "이전의 연구들로 모델의 layer가 너무 깊어질수록 오히려 성능이 떨어지는 현상이 생김을 밝혀냈다.\n",
    "\n",
    "![그림1.PNG](data:image/png;base64,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)"
   ]
  },
  {
   "cell_type": "markdown",
   "metadata": {
    "id": "WMoB8dHppIgM"
   },
   "source": [
    "위 그림은 20레이어 CNN Vs. 56레이어 CNN의 학습 및 테스트 error 그래프다.\n",
    "\n",
    "이 그래프에 의해 더 많은 계층의 네트워크는 더 많은 기능을 가질 수 있지만 error가 크게 나타남으로써 오버피팅에 의한 실패가 생길 수 있다는 것을 알 수 있다.\n",
    "\n",
    "또한, 더 깊은 네트워크가 수렴하기 시작하면 성능 저하 문제가 발생한다. 네트워크 깊이가 증가하면 포화도가 포화된 다음 빠르게 저하된다.\n",
    "\n",
    "훈련 정확도의 악화는 모든 시스템이 최적화하기 쉽지 않다는 것을 보여준다. 이는 gradient vanishing / exploding 문제 때문인 것으로 밝혀졌다.\n",
    "\n",
    "gradient vanishing이란 layer가 깊어질수록 미분을 점점 많이하기 때문에 backpropagation을 해도 앞 쪽 layer일수록 미분값이 작아져 그만큼 output에 영향을 끼치는 weight 정도가 작아지는 것을 말한다. 이러한 현상을 degradation이라 하고, 이는 overfitting과는 다른 문제인데, overfitting은 학습 데이터에 완벽하게 fitting시킨 탓에 테스트 성능에서는 안 좋은 결과를 보임을 뜻하고, 위와 같은 문제는 Degradation 문제로 training data에도 학습이 되지 않음을 뜻한다.\n",
    "\n",
    "따라서 이를 극복하기 위해 ResNet이 고안되었으며 현재 SOTA를 이루고 있는 모델들은 전부 ResNet의 Residual Learning 기법을 사용하고 있다. ResNet은 skip connection을 이용한 Residual Learning을 통해 layer가 깊어짐에 따른 gradient vanishing 문제를 해결하였다."
   ]
  },
  {
   "cell_type": "markdown",
   "metadata": {
    "id": "zZskyWHJqk88"
   },
   "source": [
    "### 6.5.2 Gradient Vanishing 문제 확인"
   ]
  },
  {
   "cell_type": "code",
   "execution_count": null,
   "metadata": {
    "id": "E6hIxHsn1X4m"
   },
   "outputs": [],
   "source": [
    "import torch\n",
    "import torchvision.datasets as dsets\n",
    "import torchvision.transforms as transforms\n",
    "import torch.nn.init"
   ]
  },
  {
   "cell_type": "code",
   "execution_count": null,
   "metadata": {
    "id": "pTkZzPfUqyUH"
   },
   "outputs": [],
   "source": [
    "device = 'cuda' if torch.cuda.is_available() else 'cpu'\n",
    "\n",
    "# 랜덤 시드 고정\n",
    "torch.manual_seed(777)\n",
    "\n",
    "# GPU 사용 가능일 경우 랜덤 시드 고정\n",
    "if device == 'cuda':\n",
    "  torch.cuda.manual_seed_all(777)"
   ]
  },
  {
   "cell_type": "code",
   "execution_count": null,
   "metadata": {
    "id": "PC1tcZX2rAD1"
   },
   "outputs": [],
   "source": [
    "learning_rate = 0.0005\n",
    "training_epochs = 50\n",
    "batch_size = 256"
   ]
  },
  {
   "cell_type": "code",
   "execution_count": null,
   "metadata": {
    "colab": {
     "base_uri": "https://localhost:8080/",
     "height": 103,
     "referenced_widgets": [
      "3efd23efb3924256bb4ab6e3ced13ef0",
      "3ea4c34c7224472c836586e3b19e6b5c",
      "3e5851efa17a4a5dae7c7c6ec6f1215c",
      "2e342a86fdc84def8aaf380176504d05",
      "60954eb7610e48019ec98467a7547a85",
      "3e70f98e16f14571b08a330c41d031c1",
      "ec61b87301b44bbf88fb0c7c90423445",
      "49266e2d3d744db8a7b9762b3f13bf6b"
     ]
    },
    "id": "Eet2XkglrGFc",
    "outputId": "85e978e2-080a-4ab0-ad7c-6e5f1fa88813"
   },
   "outputs": [
    {
     "name": "stdout",
     "output_type": "stream",
     "text": [
      "Downloading https://www.cs.toronto.edu/~kriz/cifar-10-python.tar.gz to cifar10/cifar-10-python.tar.gz\n"
     ]
    },
    {
     "data": {
      "application/vnd.jupyter.widget-view+json": {
       "model_id": "3efd23efb3924256bb4ab6e3ced13ef0",
       "version_major": 2,
       "version_minor": 0
      },
      "text/plain": [
       "HBox(children=(FloatProgress(value=1.0, bar_style='info', max=1.0), HTML(value='')))"
      ]
     },
     "metadata": {
      "tags": []
     },
     "output_type": "display_data"
    },
    {
     "name": "stdout",
     "output_type": "stream",
     "text": [
      "Extracting cifar10/cifar-10-python.tar.gz to cifar10/\n",
      "Files already downloaded and verified\n"
     ]
    }
   ],
   "source": [
    "cifar10_train = dsets.CIFAR10(root='cifar10/', # 다운로드 경로 지정\n",
    "                          train=True, # True를 지정하면 훈련 데이터로 다운로드\n",
    "                          transform=transforms.ToTensor(), # 텐서로 변환\n",
    "                          download=True)\n",
    "\n",
    "cifar10_test = dsets.CIFAR10(root='cifar10/', # 다운로드 경로 지정\n",
    "                         train=False, # False를 지정하면 테스트 데이터로 다운로드\n",
    "                         transform=transforms.ToTensor(), # 텐서로 변환\n",
    "                         download=True)"
   ]
  },
  {
   "cell_type": "code",
   "execution_count": null,
   "metadata": {
    "id": "S_3sPFQArHLk"
   },
   "outputs": [],
   "source": [
    "data_loader = torch.utils.data.DataLoader(dataset=cifar10_train,\n",
    "                                          batch_size=batch_size,\n",
    "                                          shuffle=True,\n",
    "                                          drop_last=True)"
   ]
  },
  {
   "cell_type": "code",
   "execution_count": null,
   "metadata": {
    "id": "YEaPDDFTrJAm"
   },
   "outputs": [],
   "source": [
    "class SHALLOW_CNN(torch.nn.Module):\n",
    "    def __init__(self):\n",
    "        super(SHALLOW_CNN, self).__init__()\n",
    "        self.layer1 = torch.nn.Sequential(\n",
    "            torch.nn.Conv2d(3, 32, kernel_size=3, stride=1, padding=1),\n",
    "            torch.nn.ReLU(),\n",
    "            torch.nn.MaxPool2d(kernel_size=2, stride=2))\n",
    "        self.layer2 = torch.nn.Sequential(\n",
    "            torch.nn.Conv2d(32, 64, kernel_size=3, stride=1, padding=1),\n",
    "            torch.nn.ReLU(),\n",
    "            torch.nn.MaxPool2d(kernel_size=2, stride=2))\n",
    "        self.fc = torch.nn.Linear(8 * 8 * 64, 10, bias=True)\n",
    "        torch.nn.init.xavier_uniform_(self.fc.weight)\n",
    "\n",
    "    def forward(self, x):\n",
    "        out = self.layer1(x)\n",
    "        out = self.layer2(out)\n",
    "        out = out.view(out.size(0), -1)   # 전결합층을 위해서 Flatten\n",
    "        out = self.fc(out)\n",
    "        return out"
   ]
  },
  {
   "cell_type": "code",
   "execution_count": null,
   "metadata": {
    "id": "kB079UM4rLaS"
   },
   "outputs": [],
   "source": [
    "class CNN(torch.nn.Module):\n",
    "\n",
    "    def __init__(self,num_layers):\n",
    "        super(CNN, self).__init__()\n",
    "        self.layer1 = torch.nn.Sequential(\n",
    "            torch.nn.Conv2d(3, 32, kernel_size=3, stride=1, padding=1),\n",
    "            torch.nn.ReLU(),\n",
    "            torch.nn.MaxPool2d(kernel_size=2, stride=2))\n",
    "        self.layer2 = torch.nn.Sequential(\n",
    "            torch.nn.Conv2d(32, 64, kernel_size=3, stride=1, padding=1),\n",
    "            torch.nn.ReLU(),\n",
    "            torch.nn.MaxPool2d(kernel_size=2, stride=2))\n",
    "        self.layer3 = torch.nn.Sequential(\n",
    "            torch.nn.Conv2d(64, 128, kernel_size=3, stride=1, padding=1),\n",
    "            torch.nn.ReLU(),\n",
    "            torch.nn.MaxPool2d(kernel_size=2, stride=2, padding=1))\n",
    "        self.layers = []\n",
    "        for _ in range(num_layers):\n",
    "            self.layers.append(torch.nn.Conv2d(128, 128, kernel_size=3, stride=1, padding=1))\n",
    "            self.layers.append(torch.nn.ReLU())\n",
    "        self.layers = torch.nn.Sequential(*self.layers)\n",
    "        \n",
    "        self.fc = torch.nn.Linear(5 * 5 * 128, 10)\n",
    "        torch.nn.init.xavier_uniform_(self.fc.weight)\n",
    "\n",
    "    def forward(self, x):\n",
    "        out = self.layer1(x)\n",
    "        out = self.layer2(out)\n",
    "        out = self.layer3(out)\n",
    "        out = self.layers(out)\n",
    "        out = out.view(out.size(0), -1)   # Flatten them for FC\n",
    "        out = self.fc(out)\n",
    "        return out"
   ]
  },
  {
   "cell_type": "code",
   "execution_count": null,
   "metadata": {
    "id": "oMuxq3sfrNBq"
   },
   "outputs": [],
   "source": [
    "# CNN 모델 정의\n",
    "shallow_model = CNN(4).to(device)\n",
    "deep_model = CNN(12).to(device)"
   ]
  },
  {
   "cell_type": "markdown",
   "metadata": {
    "id": "bBDrZJ7qrc-O"
   },
   "source": [
    "SHALLOW_MODEL"
   ]
  },
  {
   "cell_type": "code",
   "execution_count": null,
   "metadata": {
    "id": "urQ2_xxdrOXp"
   },
   "outputs": [],
   "source": [
    "criterion = torch.nn.CrossEntropyLoss().to(device)    # 비용 함수에 소프트맥스 함수 포함되어져 있음.\n",
    "optimizer = torch.optim.Adam(shallow_model.parameters(), lr=learning_rate)"
   ]
  },
  {
   "cell_type": "code",
   "execution_count": null,
   "metadata": {
    "colab": {
     "base_uri": "https://localhost:8080/"
    },
    "id": "RRdAXIZOrQe7",
    "outputId": "39be44ab-2d33-4e02-fd02-cb2bc937a9ad"
   },
   "outputs": [
    {
     "name": "stdout",
     "output_type": "stream",
     "text": [
      "총 배치의 수 : 195\n"
     ]
    }
   ],
   "source": [
    "total_batch = len(data_loader)\n",
    "print('총 배치의 수 : {}'.format(total_batch))"
   ]
  },
  {
   "cell_type": "code",
   "execution_count": null,
   "metadata": {
    "colab": {
     "base_uri": "https://localhost:8080/"
    },
    "id": "PuWw6bwtrRbD",
    "outputId": "efe9a938-3194-42a6-a371-e20097f2b696"
   },
   "outputs": [
    {
     "name": "stdout",
     "output_type": "stream",
     "text": [
      "[Epoch:    1] cost = 1.86384904\n",
      "[Epoch:   11] cost = 0.607445359\n",
      "[Epoch:   21] cost = 0.173946023\n",
      "[Epoch:   31] cost = 0.0768715888\n",
      "[Epoch:   41] cost = 0.0539374985\n"
     ]
    }
   ],
   "source": [
    "shallow_costs = []\n",
    "for epoch in range(training_epochs):\n",
    "    avg_cost = 0\n",
    "\n",
    "    for X, Y in data_loader: # 미니 배치 단위로 꺼내온다. X는 미니 배치, Y는 레이블.\n",
    "        # image is already size of (28x28), no reshape\n",
    "        # label is not one-hot encoded\n",
    "        X = X.to(device)\n",
    "        Y = Y.to(device)\n",
    "\n",
    "        optimizer.zero_grad()\n",
    "        hypothesis = shallow_model(X)\n",
    "        cost = criterion(hypothesis, Y)\n",
    "        cost.backward()\n",
    "        optimizer.step()\n",
    "\n",
    "        avg_cost += cost / total_batch\n",
    "    shallow_costs.append(avg_cost)\n",
    "    if epoch%10==0:\n",
    "        print('[Epoch: {:>4}] cost = {:>.9}'.format(epoch + 1, avg_cost))   "
   ]
  },
  {
   "cell_type": "markdown",
   "metadata": {
    "id": "oP-HohgXrfj1"
   },
   "source": [
    "DEEP_MODEL"
   ]
  },
  {
   "cell_type": "code",
   "execution_count": null,
   "metadata": {
    "id": "zvLFya6frSco"
   },
   "outputs": [],
   "source": [
    "criterion = torch.nn.CrossEntropyLoss().to(device)    # 비용 함수에 소프트맥스 함수 포함되어져 있음.\n",
    "optimizer = torch.optim.Adam(deep_model.parameters(), lr=learning_rate)"
   ]
  },
  {
   "cell_type": "code",
   "execution_count": null,
   "metadata": {
    "colab": {
     "base_uri": "https://localhost:8080/"
    },
    "id": "p8CZFks5raqH",
    "outputId": "a7c1b9db-12d7-462c-c4b0-0127883d3487"
   },
   "outputs": [
    {
     "name": "stdout",
     "output_type": "stream",
     "text": [
      "[Epoch:    1] cost = 2.2927866\n",
      "[Epoch:   11] cost = 0.73690027\n",
      "[Epoch:   21] cost = 0.321745396\n",
      "[Epoch:   31] cost = 0.137166381\n",
      "[Epoch:   41] cost = 0.0817246065\n"
     ]
    }
   ],
   "source": [
    "deep_costs = []\n",
    "for epoch in range(training_epochs):\n",
    "    avg_cost = 0\n",
    "\n",
    "    for X, Y in data_loader: # 미니 배치 단위로 꺼내온다. X는 미니 배치, Y는 레이블.\n",
    "        # image is already size of (28x28), no reshape\n",
    "        # label is not one-hot encoded\n",
    "        X = X.to(device)\n",
    "        Y = Y.to(device)\n",
    "\n",
    "        optimizer.zero_grad()\n",
    "        hypothesis = deep_model(X)\n",
    "        cost = criterion(hypothesis, Y)\n",
    "        cost.backward()\n",
    "        optimizer.step()\n",
    "\n",
    "        avg_cost += cost / total_batch\n",
    "    deep_costs.append(avg_cost)\n",
    "    if epoch%10==0:\n",
    "        print('[Epoch: {:>4}] cost = {:>.9}'.format(epoch + 1, avg_cost))  "
   ]
  },
  {
   "cell_type": "code",
   "execution_count": null,
   "metadata": {
    "colab": {
     "base_uri": "https://localhost:8080/",
     "height": 265
    },
    "id": "1XlVatydrmJe",
    "outputId": "061f0d79-f4cb-4fc9-d32c-7562339ea0a7"
   },
   "outputs": [
    {
     "data": {
      "image/png": "[encoded data removed]",
      "text/plain": [
       "<Figure size 432x288 with 1 Axes>"
      ]
     },
     "metadata": {
      "needs_background": "light",
      "tags": []
     },
     "output_type": "display_data"
    }
   ],
   "source": [
    "import matplotlib.pyplot as plt\n",
    "\n",
    "plt.plot(shallow_costs, label = \"shallow model\",c='r')\n",
    "plt.plot(deep_costs, label = \"deep model\",c='b')\n",
    "plt.legend()\n",
    "plt.show()"
   ]
  },
  {
   "cell_type": "markdown",
   "metadata": {
    "id": "N5jf255Yrosm"
   },
   "source": [
    "### 6.5.3 Residual Connection (Skip Connection)"
   ]
  },
  {
   "cell_type": "markdown",
   "metadata": {
    "id": "YCzhP5_NruaU"
   },
   "source": [
    "기존의 neural net의 학습 목적은 input(x)을 target(y)으로 mapping하는 함수 H(x)를 찾는 것이다.\n",
    "\n",
    "따라서 loss(H(x), y)를 최소화하는 방향으로 학습을 진행한다.\n",
    "\n",
    "![img.png](data:image/png;base64,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)"
   ]
  },
  {
   "cell_type": "markdown",
   "metadata": {
    "id": "SyJ6eX83r9OV"
   },
   "source": [
    "왼족은 \"Plane\" layer를 설명하는 그림이고, 오른쪽은 Residual Block을 설명하는 그림이다.\n",
    "\n",
    "두 구조의 차이점은 한 가지다. 동일한 연산을 하고 나서 input x를 더하는 것(Residual Block)과 더하지 않는 것(Plane layer)이다.\n",
    "\n",
    "단순하게 input x를 더하는 것만으로 레이어는 Direct로 학습하는 것 대신에, Skip Connection을 통해 각각의 Layer(Block)들이 작은 정보들을 추가적으로 학습하도록 한다. (= 각각의 레이어가 배워야 할 정보량을 축소)"
   ]
  },
  {
   "cell_type": "markdown",
   "metadata": {
    "id": "dttxLn4ssZxs"
   },
   "source": [
    "**Plane Layer**\n",
    "\n",
    "레이어의 아웃풋인 Feature vector를 y라고 할 때, $y = f(x) + x$ 이다. 여기에서의 y는 x가 그대로 보존되므로 기존에 학습한 정보를 보존하고, 거기에 추가적으로 학습하는 정보를 의미하게 된다.\n",
    "\n",
    "즉, Output에 이전 레이어에서 학습했던 정보를 연결함으로써 해당 층에서는 추가적으로 학습해야할 정보만을 Mapping, 학습하게 된다.\n",
    "\n",
    "이해가 어렵다면 이렇게 생각해보자.\n",
    "\n",
    "1) 오픈북이 불가능한 시험 2) 오픈북이 가능한 시험\n",
    "\n",
    "문제가 쉬우면 오픈북 유무가 중요하지 않지만, 문제가 어려워질수록 오픈북 유무가 중요하다.\n",
    "\n",
    "1)의 경우에는 시험의 범위가 많아질수록(=층이 깊어지고 한번에 학습할 Mapping이 많은 경우) 공부하기가 어렵다. 반면에 2)의 경우에는 이미 배웠던 내용(x)이 제공되기 때문에 추가적으로 학습해야 할 정보만을 공부할 것이다."
   ]
  },
  {
   "cell_type": "markdown",
   "metadata": {
    "id": "47rET5LDtoKz"
   },
   "source": [
    "### 6.5.4 Residual Connection with Bottle Neck Layer"
   ]
  },
  {
   "cell_type": "markdown",
   "metadata": {
    "id": "540cfgIauHjU"
   },
   "source": [
    "또한, ResNet은 Deep Network에서의 연산량을 줄이기 위해 GoogLeNet에서 사용했던 Bottle Neck Layer을 사용한 Residual Block을 사용한다.\n",
    "\n",
    "![캡처.PNG](data:image/png;base64,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)\n",
    "\n",
    "왼쪽은 Bottle Nect을 사용하지 않은 Residual Block이고 오른쪽은 Bottle Neck을 사용한 Residual Block이다.\n",
    "\n",
    "(ResNet50 이상에서는 Bottle Neck을 사용한 Block을 사용했다.)\n",
    "\n",
    "오른쪽 그림을 확인하면 input x의 Depth를 64로 축소한 후에 $f(x)$를 연산하고 마지막에 다시 256으로 높여주는 것을 확인할 수 있다."
   ]
  },
  {
   "cell_type": "markdown",
   "metadata": {
    "id": "-tnCxvMXutSL"
   },
   "source": [
    "### 6.5.5 Simple Implenet ResNet"
   ]
  },
  {
   "cell_type": "code",
   "execution_count": null,
   "metadata": {
    "id": "5fG60QS6rnmj"
   },
   "outputs": [],
   "source": [
    "# 3x3 convolution\n",
    "def conv3x3(in_channels, out_channels, stride=1):\n",
    "    return torch.nn.Conv2d(in_channels, out_channels, kernel_size=3, \n",
    "                     stride=stride, padding=1, bias=False)\n",
    "    \n",
    "# Residual block\n",
    "class ResidualBlock(torch.nn.Module):\n",
    "    def __init__(self, in_channels, out_channels, stride=1, downsample=None):\n",
    "        super(ResidualBlock, self).__init__()\n",
    "        self.conv1 = conv3x3(in_channels, out_channels, stride)\n",
    "        self.bn1 = torch.nn.BatchNorm2d(out_channels)\n",
    "        self.relu = torch.nn.ReLU(inplace=True)\n",
    "        self.conv2 = conv3x3(out_channels, out_channels)\n",
    "        self.bn2 = torch.nn.BatchNorm2d(out_channels)\n",
    "        self.downsample = downsample\n",
    "        \n",
    "    def forward(self, x):\n",
    "        residual = x\n",
    "        out = self.conv1(x)\n",
    "        out = self.bn1(out)\n",
    "        out = self.relu(out)\n",
    "        out = self.conv2(out)\n",
    "        out = self.bn2(out)\n",
    "        if self.downsample:\n",
    "            residual = self.downsample(x)\n",
    "        out += residual\n",
    "        out = self.relu(out)\n",
    "        return out\n",
    "\n",
    "# ResNet\n",
    "class ResNet(torch.nn.Module):\n",
    "    def __init__(self, block, layers, num_classes=10):\n",
    "        super(ResNet, self).__init__()\n",
    "        self.in_channels = 16\n",
    "        self.conv = conv3x3(3, 16)\n",
    "        self.bn = torch.nn.BatchNorm2d(16)\n",
    "        self.relu = torch.nn.ReLU(inplace=True)\n",
    "        self.layer1 = self.make_layer(block, 16, layers[0])\n",
    "        self.layer2 = self.make_layer(block, 32, layers[1], 2)\n",
    "        self.layer3 = self.make_layer(block, 64, layers[2], 2)\n",
    "        self.avg_pool = torch.nn.AvgPool2d(8)\n",
    "        self.fc = torch.nn.Linear(64, num_classes)\n",
    "        \n",
    "    def make_layer(self, block, out_channels, blocks, stride=1):\n",
    "        downsample = None\n",
    "        if (stride != 1) or (self.in_channels != out_channels):\n",
    "            downsample = torch.nn.Sequential(\n",
    "                conv3x3(self.in_channels, out_channels, stride=stride),\n",
    "                torch.nn.BatchNorm2d(out_channels))\n",
    "        layers = []\n",
    "        layers.append(block(self.in_channels, out_channels, stride, downsample))\n",
    "        self.in_channels = out_channels\n",
    "        for i in range(1, blocks):\n",
    "            layers.append(block(out_channels, out_channels))\n",
    "        return torch.nn.Sequential(*layers)\n",
    "    \n",
    "    def forward(self, x):\n",
    "        out = self.conv(x)\n",
    "        out = self.bn(out)\n",
    "        out = self.relu(out)\n",
    "        out = self.layer1(out)\n",
    "        out = self.layer2(out)\n",
    "        out = self.layer3(out)\n",
    "        out = self.avg_pool(out)\n",
    "        out = out.view(out.size(0), -1)\n",
    "        out = self.fc(out)\n",
    "        return out"
   ]
  },
  {
   "cell_type": "code",
   "execution_count": null,
   "metadata": {
    "id": "3vzwP_eGuyac"
   },
   "outputs": [],
   "source": [
    "model = ResNet(ResidualBlock, [2, 2, 2]).to(device)\n",
    "# Loss and optimizer\n",
    "criterion = torch.nn.CrossEntropyLoss()\n",
    "optimizer = torch.optim.Adam(model.parameters(), lr=learning_rate)"
   ]
  },
  {
   "cell_type": "code",
   "execution_count": null,
   "metadata": {
    "colab": {
     "base_uri": "https://localhost:8080/"
    },
    "id": "9wbrdrbyuzo8",
    "outputId": "5e601d26-0097-4961-e321-8105c0362cde"
   },
   "outputs": [
    {
     "name": "stdout",
     "output_type": "stream",
     "text": [
      "[Epoch:    1] cost = 1.51353848\n",
      "[Epoch:    6] cost = 0.662047446\n",
      "[Epoch:   11] cost = 0.40830943\n",
      "[Epoch:   16] cost = 0.2385934\n",
      "[Epoch:   21] cost = 0.131201029\n"
     ]
    }
   ],
   "source": [
    "resnet_costs = []\n",
    "for epoch in range(training_epochs):\n",
    "    avg_cost = 0\n",
    "\n",
    "    for X, Y in data_loader: # 미니 배치 단위로 꺼내온다. X는 미니 배치, Y는 레이블.\n",
    "        # image is already size of (28x28), no reshape\n",
    "        # label is not one-hot encoded\n",
    "        X = X.to(device)\n",
    "        Y = Y.to(device)\n",
    "\n",
    "        optimizer.zero_grad()\n",
    "        hypothesis = model(X)\n",
    "        cost = criterion(hypothesis, Y)\n",
    "        cost.backward()\n",
    "        optimizer.step()\n",
    "\n",
    "        avg_cost += cost / total_batch\n",
    "    resnet_costs.append(avg_cost)\n",
    "    if epoch%5==0:\n",
    "        print('[Epoch: {:>4}] cost = {:>.9}'.format(epoch + 1, avg_cost))"
   ]
  },
  {
   "cell_type": "code",
   "execution_count": null,
   "metadata": {
    "id": "12bdYyFGu15j"
   },
   "outputs": [],
   "source": []
  }
 ],
 "metadata": {
  "accelerator": "GPU",
  "colab": {
   "authorship_tag": "ABX9TyOVfviyMeDg3Xbshwn4hoO3",
   "collapsed_sections": [],
   "include_colab_link": true,
   "name": "6.합성곱신경망.ipynb",
   "provenance": [],
   "toc_visible": true
  },
  "kernelspec": {
   "display_name": "Python 3",
   "language": "python",
   "name": "python3"
  },
  "language_info": {
   "codemirror_mode": {
    "name": "ipython",
    "version": 3
   },
   "file_extension": ".py",
   "mimetype": "text/x-python",
   "name": "python",
   "nbconvert_exporter": "python",
   "pygments_lexer": "ipython3",
   "version": "3.8.5"
  },
  "widgets": {
   "application/vnd.jupyter.widget-state+json": {
    "03ca325106dc495ebcad2252ff8644e2": {
     "model_module": "@jupyter-widgets/base",
     "model_name": "LayoutModel",
     "state": {
      "_model_module": "@jupyter-widgets/base",
      "_model_module_version": "1.2.0",
      "_model_name": "LayoutModel",
      "_view_count": null,
      "_view_module": "@jupyter-widgets/base",
      "_view_module_version": "1.2.0",
      "_view_name": "LayoutView",
      "align_content": null,
      "align_items": null,
      "align_self": null,
      "border": null,
      "bottom": null,
      "display": null,
      "flex": null,
      "flex_flow": null,
      "grid_area": null,
      "grid_auto_columns": null,
      "grid_auto_flow": null,
      "grid_auto_rows": null,
      "grid_column": null,
      "grid_gap": null,
      "grid_row": null,
      "grid_template_areas": null,
      "grid_template_columns": null,
      "grid_template_rows": null,
      "height": null,
      "justify_content": null,
      "justify_items": null,
      "left": null,
      "margin": null,
      "max_height": null,
      "max_width": null,
      "min_height": null,
      "min_width": null,
      "object_fit": null,
      "object_position": null,
      "order": null,
      "overflow": null,
      "overflow_x": null,
      "overflow_y": null,
      "padding": null,
      "right": null,
      "top": null,
      "visibility": null,
      "width": null
     }
    },
    "04cadc3b3abd42b794ba5b2175743ac0": {
     "model_module": "@jupyter-widgets/base",
     "model_name": "LayoutModel",
     "state": {
      "_model_module": "@jupyter-widgets/base",
      "_model_module_version": "1.2.0",
      "_model_name": "LayoutModel",
      "_view_count": null,
      "_view_module": "@jupyter-widgets/base",
      "_view_module_version": "1.2.0",
      "_view_name": "LayoutView",
      "align_content": null,
      "align_items": null,
      "align_self": null,
      "border": null,
      "bottom": null,
      "display": null,
      "flex": null,
      "flex_flow": null,
      "grid_area": null,
      "grid_auto_columns": null,
      "grid_auto_flow": null,
      "grid_auto_rows": null,
      "grid_column": null,
      "grid_gap": null,
      "grid_row": null,
      "grid_template_areas": null,
      "grid_template_columns": null,
      "grid_template_rows": null,
      "height": null,
      "justify_content": null,
      "justify_items": null,
      "left": null,
      "margin": null,
      "max_height": null,
      "max_width": null,
      "min_height": null,
      "min_width": null,
      "object_fit": null,
      "object_position": null,
      "order": null,
      "overflow": null,
      "overflow_x": null,
      "overflow_y": null,
      "padding": null,
      "right": null,
      "top": null,
      "visibility": null,
      "width": null
     }
    },
    "0c18d05f67eb4d268b91bf51aa42ebfd": {
     "model_module": "@jupyter-widgets/controls",
     "model_name": "HTMLModel",
     "state": {
      "_dom_classes": [],
      "_model_module": "@jupyter-widgets/controls",
      "_model_module_version": "1.5.0",
      "_model_name": "HTMLModel",
      "_view_count": null,
      "_view_module": "@jupyter-widgets/controls",
      "_view_module_version": "1.5.0",
      "_view_name": "HTMLView",
      "description": "",
      "description_tooltip": null,
      "layout": "IPY_MODEL_03ca325106dc495ebcad2252ff8644e2",
      "placeholder": "​",
      "style": "IPY_MODEL_237428f1b7bd4a989d6d6b9849e924a8",
      "value": " 1654784/? [00:19&lt;00:00, 143880.48it/s]"
     }
    },
    "13e0dac641b84dcc92bb37b66bbc0daf": {
     "model_module": "@jupyter-widgets/controls",
     "model_name": "HBoxModel",
     "state": {
      "_dom_classes": [],
      "_model_module": "@jupyter-widgets/controls",
      "_model_module_version": "1.5.0",
      "_model_name": "HBoxModel",
      "_view_count": null,
      "_view_module": "@jupyter-widgets/controls",
      "_view_module_version": "1.5.0",
      "_view_name": "HBoxView",
      "box_style": "",
      "children": [
       "IPY_MODEL_47daa132b6d04b94973936d75a1cbf22",
       "IPY_MODEL_602f714057aa4fc7ab3140cc7f003e15"
      ],
      "layout": "IPY_MODEL_8d78473bc8ae4c91a4b33246c6182707"
     }
    },
    "1c37b309429c4aef85db85b1560937f6": {
     "model_module": "@jupyter-widgets/controls",
     "model_name": "HBoxModel",
     "state": {
      "_dom_classes": [],
      "_model_module": "@jupyter-widgets/controls",
      "_model_module_version": "1.5.0",
      "_model_name": "HBoxModel",
      "_view_count": null,
      "_view_module": "@jupyter-widgets/controls",
      "_view_module_version": "1.5.0",
      "_view_name": "HBoxView",
      "box_style": "",
      "children": [
       "IPY_MODEL_eef4ab87085b4398b628e2a3b061297f",
       "IPY_MODEL_97c00985659a4034bcc5d590f8973e3d"
      ],
      "layout": "IPY_MODEL_e8173f952f044d4e8c0d4ab8ae0d7c08"
     }
    },
    "1eeb11d6a0eb4cdea2a9ec19fc8bc4a1": {
     "model_module": "@jupyter-widgets/base",
     "model_name": "LayoutModel",
     "state": {
      "_model_module": "@jupyter-widgets/base",
      "_model_module_version": "1.2.0",
      "_model_name": "LayoutModel",
      "_view_count": null,
      "_view_module": "@jupyter-widgets/base",
      "_view_module_version": "1.2.0",
      "_view_name": "LayoutView",
      "align_content": null,
      "align_items": null,
      "align_self": null,
      "border": null,
      "bottom": null,
      "display": null,
      "flex": null,
      "flex_flow": null,
      "grid_area": null,
      "grid_auto_columns": null,
      "grid_auto_flow": null,
      "grid_auto_rows": null,
      "grid_column": null,
      "grid_gap": null,
      "grid_row": null,
      "grid_template_areas": null,
      "grid_template_columns": null,
      "grid_template_rows": null,
      "height": null,
      "justify_content": null,
      "justify_items": null,
      "left": null,
      "margin": null,
      "max_height": null,
      "max_width": null,
      "min_height": null,
      "min_width": null,
      "object_fit": null,
      "object_position": null,
      "order": null,
      "overflow": null,
      "overflow_x": null,
      "overflow_y": null,
      "padding": null,
      "right": null,
      "top": null,
      "visibility": null,
      "width": null
     }
    },
    "229c7da445314a3d9668f804734beafa": {
     "model_module": "@jupyter-widgets/base",
     "model_name": "LayoutModel",
     "state": {
      "_model_module": "@jupyter-widgets/base",
      "_model_module_version": "1.2.0",
      "_model_name": "LayoutModel",
      "_view_count": null,
      "_view_module": "@jupyter-widgets/base",
      "_view_module_version": "1.2.0",
      "_view_name": "LayoutView",
      "align_content": null,
      "align_items": null,
      "align_self": null,
      "border": null,
      "bottom": null,
      "display": null,
      "flex": null,
      "flex_flow": null,
      "grid_area": null,
      "grid_auto_columns": null,
      "grid_auto_flow": null,
      "grid_auto_rows": null,
      "grid_column": null,
      "grid_gap": null,
      "grid_row": null,
      "grid_template_areas": null,
      "grid_template_columns": null,
      "grid_template_rows": null,
      "height": null,
      "justify_content": null,
      "justify_items": null,
      "left": null,
      "margin": null,
      "max_height": null,
      "max_width": null,
      "min_height": null,
      "min_width": null,
      "object_fit": null,
      "object_position": null,
      "order": null,
      "overflow": null,
      "overflow_x": null,
      "overflow_y": null,
      "padding": null,
      "right": null,
      "top": null,
      "visibility": null,
      "width": null
     }
    },
    "236ffc9c74b84232881db875617fe074": {
     "model_module": "@jupyter-widgets/controls",
     "model_name": "ProgressStyleModel",
     "state": {
      "_model_module": "@jupyter-widgets/controls",
      "_model_module_version": "1.5.0",
      "_model_name": "ProgressStyleModel",
      "_view_count": null,
      "_view_module": "@jupyter-widgets/base",
      "_view_module_version": "1.2.0",
      "_view_name": "StyleView",
      "bar_color": null,
      "description_width": "initial"
     }
    },
    "237428f1b7bd4a989d6d6b9849e924a8": {
     "model_module": "@jupyter-widgets/controls",
     "model_name": "DescriptionStyleModel",
     "state": {
      "_model_module": "@jupyter-widgets/controls",
      "_model_module_version": "1.5.0",
      "_model_name": "DescriptionStyleModel",
      "_view_count": null,
      "_view_module": "@jupyter-widgets/base",
      "_view_module_version": "1.2.0",
      "_view_name": "StyleView",
      "description_width": ""
     }
    },
    "239401e28531469483166af61faef70b": {
     "model_module": "@jupyter-widgets/controls",
     "model_name": "ProgressStyleModel",
     "state": {
      "_model_module": "@jupyter-widgets/controls",
      "_model_module_version": "1.5.0",
      "_model_name": "ProgressStyleModel",
      "_view_count": null,
      "_view_module": "@jupyter-widgets/base",
      "_view_module_version": "1.2.0",
      "_view_name": "StyleView",
      "bar_color": null,
      "description_width": "initial"
     }
    },
    "2608c6c29c634ae182a9fb655ea4de44": {
     "model_module": "@jupyter-widgets/controls",
     "model_name": "ProgressStyleModel",
     "state": {
      "_model_module": "@jupyter-widgets/controls",
      "_model_module_version": "1.5.0",
      "_model_name": "ProgressStyleModel",
      "_view_count": null,
      "_view_module": "@jupyter-widgets/base",
      "_view_module_version": "1.2.0",
      "_view_name": "StyleView",
      "bar_color": null,
      "description_width": "initial"
     }
    },
    "2e342a86fdc84def8aaf380176504d05": {
     "model_module": "@jupyter-widgets/controls",
     "model_name": "HTMLModel",
     "state": {
      "_dom_classes": [],
      "_model_module": "@jupyter-widgets/controls",
      "_model_module_version": "1.5.0",
      "_model_name": "HTMLModel",
      "_view_count": null,
      "_view_module": "@jupyter-widgets/controls",
      "_view_module_version": "1.5.0",
      "_view_name": "HTMLView",
      "description": "",
      "description_tooltip": null,
      "layout": "IPY_MODEL_49266e2d3d744db8a7b9762b3f13bf6b",
      "placeholder": "​",
      "style": "IPY_MODEL_ec61b87301b44bbf88fb0c7c90423445",
      "value": " 170500096/? [00:15&lt;00:00, 54926842.23it/s]"
     }
    },
    "31e269b9ce7e48d0968f1a86ac4ffa26": {
     "model_module": "@jupyter-widgets/controls",
     "model_name": "FloatProgressModel",
     "state": {
      "_dom_classes": [],
      "_model_module": "@jupyter-widgets/controls",
      "_model_module_version": "1.5.0",
      "_model_name": "FloatProgressModel",
      "_view_count": null,
      "_view_module": "@jupyter-widgets/controls",
      "_view_module_version": "1.5.0",
      "_view_name": "ProgressView",
      "bar_style": "info",
      "description": "",
      "description_tooltip": null,
      "layout": "IPY_MODEL_56405683806b4706a32c41bb4a48ba42",
      "max": 1,
      "min": 0,
      "orientation": "horizontal",
      "style": "IPY_MODEL_236ffc9c74b84232881db875617fe074",
      "value": 1
     }
    },
    "34d52d16b1fc45d0ba12d941a57ae1cc": {
     "model_module": "@jupyter-widgets/controls",
     "model_name": "DescriptionStyleModel",
     "state": {
      "_model_module": "@jupyter-widgets/controls",
      "_model_module_version": "1.5.0",
      "_model_name": "DescriptionStyleModel",
      "_view_count": null,
      "_view_module": "@jupyter-widgets/base",
      "_view_module_version": "1.2.0",
      "_view_name": "StyleView",
      "description_width": ""
     }
    },
    "34f94bf6eae4411cb0a57a7cbbc69575": {
     "model_module": "@jupyter-widgets/controls",
     "model_name": "DescriptionStyleModel",
     "state": {
      "_model_module": "@jupyter-widgets/controls",
      "_model_module_version": "1.5.0",
      "_model_name": "DescriptionStyleModel",
      "_view_count": null,
      "_view_module": "@jupyter-widgets/base",
      "_view_module_version": "1.2.0",
      "_view_name": "StyleView",
      "description_width": ""
     }
    },
    "38514969a4c44fae929c8e67800a0bd7": {
     "model_module": "@jupyter-widgets/controls",
     "model_name": "ProgressStyleModel",
     "state": {
      "_model_module": "@jupyter-widgets/controls",
      "_model_module_version": "1.5.0",
      "_model_name": "ProgressStyleModel",
      "_view_count": null,
      "_view_module": "@jupyter-widgets/base",
      "_view_module_version": "1.2.0",
      "_view_name": "StyleView",
      "bar_color": null,
      "description_width": "initial"
     }
    },
    "3e5851efa17a4a5dae7c7c6ec6f1215c": {
     "model_module": "@jupyter-widgets/controls",
     "model_name": "FloatProgressModel",
     "state": {
      "_dom_classes": [],
      "_model_module": "@jupyter-widgets/controls",
      "_model_module_version": "1.5.0",
      "_model_name": "FloatProgressModel",
      "_view_count": null,
      "_view_module": "@jupyter-widgets/controls",
      "_view_module_version": "1.5.0",
      "_view_name": "ProgressView",
      "bar_style": "info",
      "description": "",
      "description_tooltip": null,
      "layout": "IPY_MODEL_3e70f98e16f14571b08a330c41d031c1",
      "max": 1,
      "min": 0,
      "orientation": "horizontal",
      "style": "IPY_MODEL_60954eb7610e48019ec98467a7547a85",
      "value": 1
     }
    },
    "3e70f98e16f14571b08a330c41d031c1": {
     "model_module": "@jupyter-widgets/base",
     "model_name": "LayoutModel",
     "state": {
      "_model_module": "@jupyter-widgets/base",
      "_model_module_version": "1.2.0",
      "_model_name": "LayoutModel",
      "_view_count": null,
      "_view_module": "@jupyter-widgets/base",
      "_view_module_version": "1.2.0",
      "_view_name": "LayoutView",
      "align_content": null,
      "align_items": null,
      "align_self": null,
      "border": null,
      "bottom": null,
      "display": null,
      "flex": null,
      "flex_flow": null,
      "grid_area": null,
      "grid_auto_columns": null,
      "grid_auto_flow": null,
      "grid_auto_rows": null,
      "grid_column": null,
      "grid_gap": null,
      "grid_row": null,
      "grid_template_areas": null,
      "grid_template_columns": null,
      "grid_template_rows": null,
      "height": null,
      "justify_content": null,
      "justify_items": null,
      "left": null,
      "margin": null,
      "max_height": null,
      "max_width": null,
      "min_height": null,
      "min_width": null,
      "object_fit": null,
      "object_position": null,
      "order": null,
      "overflow": null,
      "overflow_x": null,
      "overflow_y": null,
      "padding": null,
      "right": null,
      "top": null,
      "visibility": null,
      "width": null
     }
    },
    "3ea4c34c7224472c836586e3b19e6b5c": {
     "model_module": "@jupyter-widgets/base",
     "model_name": "LayoutModel",
     "state": {
      "_model_module": "@jupyter-widgets/base",
      "_model_module_version": "1.2.0",
      "_model_name": "LayoutModel",
      "_view_count": null,
      "_view_module": "@jupyter-widgets/base",
      "_view_module_version": "1.2.0",
      "_view_name": "LayoutView",
      "align_content": null,
      "align_items": null,
      "align_self": null,
      "border": null,
      "bottom": null,
      "display": null,
      "flex": null,
      "flex_flow": null,
      "grid_area": null,
      "grid_auto_columns": null,
      "grid_auto_flow": null,
      "grid_auto_rows": null,
      "grid_column": null,
      "grid_gap": null,
      "grid_row": null,
      "grid_template_areas": null,
      "grid_template_columns": null,
      "grid_template_rows": null,
      "height": null,
      "justify_content": null,
      "justify_items": null,
      "left": null,
      "margin": null,
      "max_height": null,
      "max_width": null,
      "min_height": null,
      "min_width": null,
      "object_fit": null,
      "object_position": null,
      "order": null,
      "overflow": null,
      "overflow_x": null,
      "overflow_y": null,
      "padding": null,
      "right": null,
      "top": null,
      "visibility": null,
      "width": null
     }
    },
    "3efd23efb3924256bb4ab6e3ced13ef0": {
     "model_module": "@jupyter-widgets/controls",
     "model_name": "HBoxModel",
     "state": {
      "_dom_classes": [],
      "_model_module": "@jupyter-widgets/controls",
      "_model_module_version": "1.5.0",
      "_model_name": "HBoxModel",
      "_view_count": null,
      "_view_module": "@jupyter-widgets/controls",
      "_view_module_version": "1.5.0",
      "_view_name": "HBoxView",
      "box_style": "",
      "children": [
       "IPY_MODEL_3e5851efa17a4a5dae7c7c6ec6f1215c",
       "IPY_MODEL_2e342a86fdc84def8aaf380176504d05"
      ],
      "layout": "IPY_MODEL_3ea4c34c7224472c836586e3b19e6b5c"
     }
    },
    "47daa132b6d04b94973936d75a1cbf22": {
     "model_module": "@jupyter-widgets/controls",
     "model_name": "FloatProgressModel",
     "state": {
      "_dom_classes": [],
      "_model_module": "@jupyter-widgets/controls",
      "_model_module_version": "1.5.0",
      "_model_name": "FloatProgressModel",
      "_view_count": null,
      "_view_module": "@jupyter-widgets/controls",
      "_view_module_version": "1.5.0",
      "_view_name": "ProgressView",
      "bar_style": "info",
      "description": "",
      "description_tooltip": null,
      "layout": "IPY_MODEL_b0729fc5804b44c8822f22da0dc911a0",
      "max": 1,
      "min": 0,
      "orientation": "horizontal",
      "style": "IPY_MODEL_fe865e5b449d43748f57c8094ec0c45f",
      "value": 1
     }
    },
    "49266e2d3d744db8a7b9762b3f13bf6b": {
     "model_module": "@jupyter-widgets/base",
     "model_name": "LayoutModel",
     "state": {
      "_model_module": "@jupyter-widgets/base",
      "_model_module_version": "1.2.0",
      "_model_name": "LayoutModel",
      "_view_count": null,
      "_view_module": "@jupyter-widgets/base",
      "_view_module_version": "1.2.0",
      "_view_name": "LayoutView",
      "align_content": null,
      "align_items": null,
      "align_self": null,
      "border": null,
      "bottom": null,
      "display": null,
      "flex": null,
      "flex_flow": null,
      "grid_area": null,
      "grid_auto_columns": null,
      "grid_auto_flow": null,
      "grid_auto_rows": null,
      "grid_column": null,
      "grid_gap": null,
      "grid_row": null,
      "grid_template_areas": null,
      "grid_template_columns": null,
      "grid_template_rows": null,
      "height": null,
      "justify_content": null,
      "justify_items": null,
      "left": null,
      "margin": null,
      "max_height": null,
      "max_width": null,
      "min_height": null,
      "min_width": null,
      "object_fit": null,
      "object_position": null,
      "order": null,
      "overflow": null,
      "overflow_x": null,
      "overflow_y": null,
      "padding": null,
      "right": null,
      "top": null,
      "visibility": null,
      "width": null
     }
    },
    "4abfc9ef8b4840a1a3930c200255354a": {
     "model_module": "@jupyter-widgets/base",
     "model_name": "LayoutModel",
     "state": {
      "_model_module": "@jupyter-widgets/base",
      "_model_module_version": "1.2.0",
      "_model_name": "LayoutModel",
      "_view_count": null,
      "_view_module": "@jupyter-widgets/base",
      "_view_module_version": "1.2.0",
      "_view_name": "LayoutView",
      "align_content": null,
      "align_items": null,
      "align_self": null,
      "border": null,
      "bottom": null,
      "display": null,
      "flex": null,
      "flex_flow": null,
      "grid_area": null,
      "grid_auto_columns": null,
      "grid_auto_flow": null,
      "grid_auto_rows": null,
      "grid_column": null,
      "grid_gap": null,
      "grid_row": null,
      "grid_template_areas": null,
      "grid_template_columns": null,
      "grid_template_rows": null,
      "height": null,
      "justify_content": null,
      "justify_items": null,
      "left": null,
      "margin": null,
      "max_height": null,
      "max_width": null,
      "min_height": null,
      "min_width": null,
      "object_fit": null,
      "object_position": null,
      "order": null,
      "overflow": null,
      "overflow_x": null,
      "overflow_y": null,
      "padding": null,
      "right": null,
      "top": null,
      "visibility": null,
      "width": null
     }
    },
    "4ce517c49d274513bec9afa4ff414721": {
     "model_module": "@jupyter-widgets/controls",
     "model_name": "FloatProgressModel",
     "state": {
      "_dom_classes": [],
      "_model_module": "@jupyter-widgets/controls",
      "_model_module_version": "1.5.0",
      "_model_name": "FloatProgressModel",
      "_view_count": null,
      "_view_module": "@jupyter-widgets/controls",
      "_view_module_version": "1.5.0",
      "_view_name": "ProgressView",
      "bar_style": "success",
      "description": "100%",
      "description_tooltip": null,
      "layout": "IPY_MODEL_f40f43aa64aa47c0a2d01bff09294ff2",
      "max": 46827520,
      "min": 0,
      "orientation": "horizontal",
      "style": "IPY_MODEL_7974c71779fb4802a3e4d93694e0ce87",
      "value": 46827520
     }
    },
    "5136bf12fdae4368b2bd35991a9ef7e1": {
     "model_module": "@jupyter-widgets/controls",
     "model_name": "HBoxModel",
     "state": {
      "_dom_classes": [],
      "_model_module": "@jupyter-widgets/controls",
      "_model_module_version": "1.5.0",
      "_model_name": "HBoxModel",
      "_view_count": null,
      "_view_module": "@jupyter-widgets/controls",
      "_view_module_version": "1.5.0",
      "_view_name": "HBoxView",
      "box_style": "",
      "children": [
       "IPY_MODEL_bbfba32e0890449e9a71991b9a1e8ddc",
       "IPY_MODEL_6c41e73efafc43f8be251e9c8a1c0ecb"
      ],
      "layout": "IPY_MODEL_5f4da9f8023048aa97c5926b630703ff"
     }
    },
    "56405683806b4706a32c41bb4a48ba42": {
     "model_module": "@jupyter-widgets/base",
     "model_name": "LayoutModel",
     "state": {
      "_model_module": "@jupyter-widgets/base",
      "_model_module_version": "1.2.0",
      "_model_name": "LayoutModel",
      "_view_count": null,
      "_view_module": "@jupyter-widgets/base",
      "_view_module_version": "1.2.0",
      "_view_name": "LayoutView",
      "align_content": null,
      "align_items": null,
      "align_self": null,
      "border": null,
      "bottom": null,
      "display": null,
      "flex": null,
      "flex_flow": null,
      "grid_area": null,
      "grid_auto_columns": null,
      "grid_auto_flow": null,
      "grid_auto_rows": null,
      "grid_column": null,
      "grid_gap": null,
      "grid_row": null,
      "grid_template_areas": null,
      "grid_template_columns": null,
      "grid_template_rows": null,
      "height": null,
      "justify_content": null,
      "justify_items": null,
      "left": null,
      "margin": null,
      "max_height": null,
      "max_width": null,
      "min_height": null,
      "min_width": null,
      "object_fit": null,
      "object_position": null,
      "order": null,
      "overflow": null,
      "overflow_x": null,
      "overflow_y": null,
      "padding": null,
      "right": null,
      "top": null,
      "visibility": null,
      "width": null
     }
    },
    "5ea7cd10cd524c30affefea69ac0ea4a": {
     "model_module": "@jupyter-widgets/base",
     "model_name": "LayoutModel",
     "state": {
      "_model_module": "@jupyter-widgets/base",
      "_model_module_version": "1.2.0",
      "_model_name": "LayoutModel",
      "_view_count": null,
      "_view_module": "@jupyter-widgets/base",
      "_view_module_version": "1.2.0",
      "_view_name": "LayoutView",
      "align_content": null,
      "align_items": null,
      "align_self": null,
      "border": null,
      "bottom": null,
      "display": null,
      "flex": null,
      "flex_flow": null,
      "grid_area": null,
      "grid_auto_columns": null,
      "grid_auto_flow": null,
      "grid_auto_rows": null,
      "grid_column": null,
      "grid_gap": null,
      "grid_row": null,
      "grid_template_areas": null,
      "grid_template_columns": null,
      "grid_template_rows": null,
      "height": null,
      "justify_content": null,
      "justify_items": null,
      "left": null,
      "margin": null,
      "max_height": null,
      "max_width": null,
      "min_height": null,
      "min_width": null,
      "object_fit": null,
      "object_position": null,
      "order": null,
      "overflow": null,
      "overflow_x": null,
      "overflow_y": null,
      "padding": null,
      "right": null,
      "top": null,
      "visibility": null,
      "width": null
     }
    },
    "5f4da9f8023048aa97c5926b630703ff": {
     "model_module": "@jupyter-widgets/base",
     "model_name": "LayoutModel",
     "state": {
      "_model_module": "@jupyter-widgets/base",
      "_model_module_version": "1.2.0",
      "_model_name": "LayoutModel",
      "_view_count": null,
      "_view_module": "@jupyter-widgets/base",
      "_view_module_version": "1.2.0",
      "_view_name": "LayoutView",
      "align_content": null,
      "align_items": null,
      "align_self": null,
      "border": null,
      "bottom": null,
      "display": null,
      "flex": null,
      "flex_flow": null,
      "grid_area": null,
      "grid_auto_columns": null,
      "grid_auto_flow": null,
      "grid_auto_rows": null,
      "grid_column": null,
      "grid_gap": null,
      "grid_row": null,
      "grid_template_areas": null,
      "grid_template_columns": null,
      "grid_template_rows": null,
      "height": null,
      "justify_content": null,
      "justify_items": null,
      "left": null,
      "margin": null,
      "max_height": null,
      "max_width": null,
      "min_height": null,
      "min_width": null,
      "object_fit": null,
      "object_position": null,
      "order": null,
      "overflow": null,
      "overflow_x": null,
      "overflow_y": null,
      "padding": null,
      "right": null,
      "top": null,
      "visibility": null,
      "width": null
     }
    },
    "602f714057aa4fc7ab3140cc7f003e15": {
     "model_module": "@jupyter-widgets/controls",
     "model_name": "HTMLModel",
     "state": {
      "_dom_classes": [],
      "_model_module": "@jupyter-widgets/controls",
      "_model_module_version": "1.5.0",
      "_model_name": "HTMLModel",
      "_view_count": null,
      "_view_module": "@jupyter-widgets/controls",
      "_view_module_version": "1.5.0",
      "_view_name": "HTMLView",
      "description": "",
      "description_tooltip": null,
      "layout": "IPY_MODEL_1eeb11d6a0eb4cdea2a9ec19fc8bc4a1",
      "placeholder": "​",
      "style": "IPY_MODEL_7257cdb841184fffa374f05d6f6e6f36",
      "value": " 9920512/? [00:20&lt;00:00, 26811196.66it/s]"
     }
    },
    "60954eb7610e48019ec98467a7547a85": {
     "model_module": "@jupyter-widgets/controls",
     "model_name": "ProgressStyleModel",
     "state": {
      "_model_module": "@jupyter-widgets/controls",
      "_model_module_version": "1.5.0",
      "_model_name": "ProgressStyleModel",
      "_view_count": null,
      "_view_module": "@jupyter-widgets/base",
      "_view_module_version": "1.2.0",
      "_view_name": "StyleView",
      "bar_color": null,
      "description_width": "initial"
     }
    },
    "60f536605adb4e6c8b67211374689912": {
     "model_module": "@jupyter-widgets/base",
     "model_name": "LayoutModel",
     "state": {
      "_model_module": "@jupyter-widgets/base",
      "_model_module_version": "1.2.0",
      "_model_name": "LayoutModel",
      "_view_count": null,
      "_view_module": "@jupyter-widgets/base",
      "_view_module_version": "1.2.0",
      "_view_name": "LayoutView",
      "align_content": null,
      "align_items": null,
      "align_self": null,
      "border": null,
      "bottom": null,
      "display": null,
      "flex": null,
      "flex_flow": null,
      "grid_area": null,
      "grid_auto_columns": null,
      "grid_auto_flow": null,
      "grid_auto_rows": null,
      "grid_column": null,
      "grid_gap": null,
      "grid_row": null,
      "grid_template_areas": null,
      "grid_template_columns": null,
      "grid_template_rows": null,
      "height": null,
      "justify_content": null,
      "justify_items": null,
      "left": null,
      "margin": null,
      "max_height": null,
      "max_width": null,
      "min_height": null,
      "min_width": null,
      "object_fit": null,
      "object_position": null,
      "order": null,
      "overflow": null,
      "overflow_x": null,
      "overflow_y": null,
      "padding": null,
      "right": null,
      "top": null,
      "visibility": null,
      "width": null
     }
    },
    "63b700728f8e4b6e976f4de50fa9166f": {
     "model_module": "@jupyter-widgets/controls",
     "model_name": "ProgressStyleModel",
     "state": {
      "_model_module": "@jupyter-widgets/controls",
      "_model_module_version": "1.5.0",
      "_model_name": "ProgressStyleModel",
      "_view_count": null,
      "_view_module": "@jupyter-widgets/base",
      "_view_module_version": "1.2.0",
      "_view_name": "StyleView",
      "bar_color": null,
      "description_width": "initial"
     }
    },
    "6c41e73efafc43f8be251e9c8a1c0ecb": {
     "model_module": "@jupyter-widgets/controls",
     "model_name": "HTMLModel",
     "state": {
      "_dom_classes": [],
      "_model_module": "@jupyter-widgets/controls",
      "_model_module_version": "1.5.0",
      "_model_name": "HTMLModel",
      "_view_count": null,
      "_view_module": "@jupyter-widgets/controls",
      "_view_module_version": "1.5.0",
      "_view_name": "HTMLView",
      "description": "",
      "description_tooltip": null,
      "layout": "IPY_MODEL_229c7da445314a3d9668f804734beafa",
      "placeholder": "​",
      "style": "IPY_MODEL_7e0933fa90404d6f97b5487f30b8bff0",
      "value": " 170500096/? [00:20&lt;00:00, 26520158.15it/s]"
     }
    },
    "7257cdb841184fffa374f05d6f6e6f36": {
     "model_module": "@jupyter-widgets/controls",
     "model_name": "DescriptionStyleModel",
     "state": {
      "_model_module": "@jupyter-widgets/controls",
      "_model_module_version": "1.5.0",
      "_model_name": "DescriptionStyleModel",
      "_view_count": null,
      "_view_module": "@jupyter-widgets/base",
      "_view_module_version": "1.2.0",
      "_view_name": "StyleView",
      "description_width": ""
     }
    },
    "74d9bb7ddd8140a991f87aa9c5d0b9c1": {
     "model_module": "@jupyter-widgets/controls",
     "model_name": "HBoxModel",
     "state": {
      "_dom_classes": [],
      "_model_module": "@jupyter-widgets/controls",
      "_model_module_version": "1.5.0",
      "_model_name": "HBoxModel",
      "_view_count": null,
      "_view_module": "@jupyter-widgets/controls",
      "_view_module_version": "1.5.0",
      "_view_name": "HBoxView",
      "box_style": "",
      "children": [
       "IPY_MODEL_ed947395b2994476bac69e6300bacbf4",
       "IPY_MODEL_f835553fa8d146298d3ed08455fd19d6"
      ],
      "layout": "IPY_MODEL_c64cdd89f66840f89f26253bbfe7a4b9"
     }
    },
    "7974c71779fb4802a3e4d93694e0ce87": {
     "model_module": "@jupyter-widgets/controls",
     "model_name": "ProgressStyleModel",
     "state": {
      "_model_module": "@jupyter-widgets/controls",
      "_model_module_version": "1.5.0",
      "_model_name": "ProgressStyleModel",
      "_view_count": null,
      "_view_module": "@jupyter-widgets/base",
      "_view_module_version": "1.2.0",
      "_view_name": "StyleView",
      "bar_color": null,
      "description_width": "initial"
     }
    },
    "7e0933fa90404d6f97b5487f30b8bff0": {
     "model_module": "@jupyter-widgets/controls",
     "model_name": "DescriptionStyleModel",
     "state": {
      "_model_module": "@jupyter-widgets/controls",
      "_model_module_version": "1.5.0",
      "_model_name": "DescriptionStyleModel",
      "_view_count": null,
      "_view_module": "@jupyter-widgets/base",
      "_view_module_version": "1.2.0",
      "_view_name": "StyleView",
      "description_width": ""
     }
    },
    "82091c065cc0400da3d1b63f2d259b5c": {
     "model_module": "@jupyter-widgets/base",
     "model_name": "LayoutModel",
     "state": {
      "_model_module": "@jupyter-widgets/base",
      "_model_module_version": "1.2.0",
      "_model_name": "LayoutModel",
      "_view_count": null,
      "_view_module": "@jupyter-widgets/base",
      "_view_module_version": "1.2.0",
      "_view_name": "LayoutView",
      "align_content": null,
      "align_items": null,
      "align_self": null,
      "border": null,
      "bottom": null,
      "display": null,
      "flex": null,
      "flex_flow": null,
      "grid_area": null,
      "grid_auto_columns": null,
      "grid_auto_flow": null,
      "grid_auto_rows": null,
      "grid_column": null,
      "grid_gap": null,
      "grid_row": null,
      "grid_template_areas": null,
      "grid_template_columns": null,
      "grid_template_rows": null,
      "height": null,
      "justify_content": null,
      "justify_items": null,
      "left": null,
      "margin": null,
      "max_height": null,
      "max_width": null,
      "min_height": null,
      "min_width": null,
      "object_fit": null,
      "object_position": null,
      "order": null,
      "overflow": null,
      "overflow_x": null,
      "overflow_y": null,
      "padding": null,
      "right": null,
      "top": null,
      "visibility": null,
      "width": null
     }
    },
    "8d78473bc8ae4c91a4b33246c6182707": {
     "model_module": "@jupyter-widgets/base",
     "model_name": "LayoutModel",
     "state": {
      "_model_module": "@jupyter-widgets/base",
      "_model_module_version": "1.2.0",
      "_model_name": "LayoutModel",
      "_view_count": null,
      "_view_module": "@jupyter-widgets/base",
      "_view_module_version": "1.2.0",
      "_view_name": "LayoutView",
      "align_content": null,
      "align_items": null,
      "align_self": null,
      "border": null,
      "bottom": null,
      "display": null,
      "flex": null,
      "flex_flow": null,
      "grid_area": null,
      "grid_auto_columns": null,
      "grid_auto_flow": null,
      "grid_auto_rows": null,
      "grid_column": null,
      "grid_gap": null,
      "grid_row": null,
      "grid_template_areas": null,
      "grid_template_columns": null,
      "grid_template_rows": null,
      "height": null,
      "justify_content": null,
      "justify_items": null,
      "left": null,
      "margin": null,
      "max_height": null,
      "max_width": null,
      "min_height": null,
      "min_width": null,
      "object_fit": null,
      "object_position": null,
      "order": null,
      "overflow": null,
      "overflow_x": null,
      "overflow_y": null,
      "padding": null,
      "right": null,
      "top": null,
      "visibility": null,
      "width": null
     }
    },
    "901e24ef80054913ad5c2130b312bbe0": {
     "model_module": "@jupyter-widgets/controls",
     "model_name": "HBoxModel",
     "state": {
      "_dom_classes": [],
      "_model_module": "@jupyter-widgets/controls",
      "_model_module_version": "1.5.0",
      "_model_name": "HBoxModel",
      "_view_count": null,
      "_view_module": "@jupyter-widgets/controls",
      "_view_module_version": "1.5.0",
      "_view_name": "HBoxView",
      "box_style": "",
      "children": [
       "IPY_MODEL_31e269b9ce7e48d0968f1a86ac4ffa26",
       "IPY_MODEL_0c18d05f67eb4d268b91bf51aa42ebfd"
      ],
      "layout": "IPY_MODEL_f7dc491c59894d1e8182245e9595da9d"
     }
    },
    "95b1a0e47cd44513a6699b1854321e32": {
     "model_module": "@jupyter-widgets/controls",
     "model_name": "HBoxModel",
     "state": {
      "_dom_classes": [],
      "_model_module": "@jupyter-widgets/controls",
      "_model_module_version": "1.5.0",
      "_model_name": "HBoxModel",
      "_view_count": null,
      "_view_module": "@jupyter-widgets/controls",
      "_view_module_version": "1.5.0",
      "_view_name": "HBoxView",
      "box_style": "",
      "children": [
       "IPY_MODEL_4ce517c49d274513bec9afa4ff414721",
       "IPY_MODEL_c53244d6585f44048652c73802682857"
      ],
      "layout": "IPY_MODEL_db87989286104473acc39d0fc5ab7272"
     }
    },
    "97c00985659a4034bcc5d590f8973e3d": {
     "model_module": "@jupyter-widgets/controls",
     "model_name": "HTMLModel",
     "state": {
      "_dom_classes": [],
      "_model_module": "@jupyter-widgets/controls",
      "_model_module_version": "1.5.0",
      "_model_name": "HTMLModel",
      "_view_count": null,
      "_view_module": "@jupyter-widgets/controls",
      "_view_module_version": "1.5.0",
      "_view_name": "HTMLView",
      "description": "",
      "description_tooltip": null,
      "layout": "IPY_MODEL_4abfc9ef8b4840a1a3930c200255354a",
      "placeholder": "​",
      "style": "IPY_MODEL_34d52d16b1fc45d0ba12d941a57ae1cc",
      "value": " 0/? [00:00&lt;?, ?it/s]"
     }
    },
    "b0729fc5804b44c8822f22da0dc911a0": {
     "model_module": "@jupyter-widgets/base",
     "model_name": "LayoutModel",
     "state": {
      "_model_module": "@jupyter-widgets/base",
      "_model_module_version": "1.2.0",
      "_model_name": "LayoutModel",
      "_view_count": null,
      "_view_module": "@jupyter-widgets/base",
      "_view_module_version": "1.2.0",
      "_view_name": "LayoutView",
      "align_content": null,
      "align_items": null,
      "align_self": null,
      "border": null,
      "bottom": null,
      "display": null,
      "flex": null,
      "flex_flow": null,
      "grid_area": null,
      "grid_auto_columns": null,
      "grid_auto_flow": null,
      "grid_auto_rows": null,
      "grid_column": null,
      "grid_gap": null,
      "grid_row": null,
      "grid_template_areas": null,
      "grid_template_columns": null,
      "grid_template_rows": null,
      "height": null,
      "justify_content": null,
      "justify_items": null,
      "left": null,
      "margin": null,
      "max_height": null,
      "max_width": null,
      "min_height": null,
      "min_width": null,
      "object_fit": null,
      "object_position": null,
      "order": null,
      "overflow": null,
      "overflow_x": null,
      "overflow_y": null,
      "padding": null,
      "right": null,
      "top": null,
      "visibility": null,
      "width": null
     }
    },
    "b7013dc076254bd99a63bbe0a6f955e8": {
     "model_module": "@jupyter-widgets/controls",
     "model_name": "DescriptionStyleModel",
     "state": {
      "_model_module": "@jupyter-widgets/controls",
      "_model_module_version": "1.5.0",
      "_model_name": "DescriptionStyleModel",
      "_view_count": null,
      "_view_module": "@jupyter-widgets/base",
      "_view_module_version": "1.2.0",
      "_view_name": "StyleView",
      "description_width": ""
     }
    },
    "bbfba32e0890449e9a71991b9a1e8ddc": {
     "model_module": "@jupyter-widgets/controls",
     "model_name": "FloatProgressModel",
     "state": {
      "_dom_classes": [],
      "_model_module": "@jupyter-widgets/controls",
      "_model_module_version": "1.5.0",
      "_model_name": "FloatProgressModel",
      "_view_count": null,
      "_view_module": "@jupyter-widgets/controls",
      "_view_module_version": "1.5.0",
      "_view_name": "ProgressView",
      "bar_style": "info",
      "description": "",
      "description_tooltip": null,
      "layout": "IPY_MODEL_04cadc3b3abd42b794ba5b2175743ac0",
      "max": 1,
      "min": 0,
      "orientation": "horizontal",
      "style": "IPY_MODEL_38514969a4c44fae929c8e67800a0bd7",
      "value": 1
     }
    },
    "c53244d6585f44048652c73802682857": {
     "model_module": "@jupyter-widgets/controls",
     "model_name": "HTMLModel",
     "state": {
      "_dom_classes": [],
      "_model_module": "@jupyter-widgets/controls",
      "_model_module_version": "1.5.0",
      "_model_name": "HTMLModel",
      "_view_count": null,
      "_view_module": "@jupyter-widgets/controls",
      "_view_module_version": "1.5.0",
      "_view_name": "HTMLView",
      "description": "",
      "description_tooltip": null,
      "layout": "IPY_MODEL_5ea7cd10cd524c30affefea69ac0ea4a",
      "placeholder": "​",
      "style": "IPY_MODEL_c9e55f4c2b484c289571ce1b93c559e9",
      "value": " 44.7M/44.7M [00:00&lt;00:00, 160MB/s]"
     }
    },
    "c64cdd89f66840f89f26253bbfe7a4b9": {
     "model_module": "@jupyter-widgets/base",
     "model_name": "LayoutModel",
     "state": {
      "_model_module": "@jupyter-widgets/base",
      "_model_module_version": "1.2.0",
      "_model_name": "LayoutModel",
      "_view_count": null,
      "_view_module": "@jupyter-widgets/base",
      "_view_module_version": "1.2.0",
      "_view_name": "LayoutView",
      "align_content": null,
      "align_items": null,
      "align_self": null,
      "border": null,
      "bottom": null,
      "display": null,
      "flex": null,
      "flex_flow": null,
      "grid_area": null,
      "grid_auto_columns": null,
      "grid_auto_flow": null,
      "grid_auto_rows": null,
      "grid_column": null,
      "grid_gap": null,
      "grid_row": null,
      "grid_template_areas": null,
      "grid_template_columns": null,
      "grid_template_rows": null,
      "height": null,
      "justify_content": null,
      "justify_items": null,
      "left": null,
      "margin": null,
      "max_height": null,
      "max_width": null,
      "min_height": null,
      "min_width": null,
      "object_fit": null,
      "object_position": null,
      "order": null,
      "overflow": null,
      "overflow_x": null,
      "overflow_y": null,
      "padding": null,
      "right": null,
      "top": null,
      "visibility": null,
      "width": null
     }
    },
    "c9e55f4c2b484c289571ce1b93c559e9": {
     "model_module": "@jupyter-widgets/controls",
     "model_name": "DescriptionStyleModel",
     "state": {
      "_model_module": "@jupyter-widgets/controls",
      "_model_module_version": "1.5.0",
      "_model_name": "DescriptionStyleModel",
      "_view_count": null,
      "_view_module": "@jupyter-widgets/base",
      "_view_module_version": "1.2.0",
      "_view_name": "StyleView",
      "description_width": ""
     }
    },
    "d2f80f34557041c8b6c5e01033eea605": {
     "model_module": "@jupyter-widgets/base",
     "model_name": "LayoutModel",
     "state": {
      "_model_module": "@jupyter-widgets/base",
      "_model_module_version": "1.2.0",
      "_model_name": "LayoutModel",
      "_view_count": null,
      "_view_module": "@jupyter-widgets/base",
      "_view_module_version": "1.2.0",
      "_view_name": "LayoutView",
      "align_content": null,
      "align_items": null,
      "align_self": null,
      "border": null,
      "bottom": null,
      "display": null,
      "flex": null,
      "flex_flow": null,
      "grid_area": null,
      "grid_auto_columns": null,
      "grid_auto_flow": null,
      "grid_auto_rows": null,
      "grid_column": null,
      "grid_gap": null,
      "grid_row": null,
      "grid_template_areas": null,
      "grid_template_columns": null,
      "grid_template_rows": null,
      "height": null,
      "justify_content": null,
      "justify_items": null,
      "left": null,
      "margin": null,
      "max_height": null,
      "max_width": null,
      "min_height": null,
      "min_width": null,
      "object_fit": null,
      "object_position": null,
      "order": null,
      "overflow": null,
      "overflow_x": null,
      "overflow_y": null,
      "padding": null,
      "right": null,
      "top": null,
      "visibility": null,
      "width": null
     }
    },
    "db87989286104473acc39d0fc5ab7272": {
     "model_module": "@jupyter-widgets/base",
     "model_name": "LayoutModel",
     "state": {
      "_model_module": "@jupyter-widgets/base",
      "_model_module_version": "1.2.0",
      "_model_name": "LayoutModel",
      "_view_count": null,
      "_view_module": "@jupyter-widgets/base",
      "_view_module_version": "1.2.0",
      "_view_name": "LayoutView",
      "align_content": null,
      "align_items": null,
      "align_self": null,
      "border": null,
      "bottom": null,
      "display": null,
      "flex": null,
      "flex_flow": null,
      "grid_area": null,
      "grid_auto_columns": null,
      "grid_auto_flow": null,
      "grid_auto_rows": null,
      "grid_column": null,
      "grid_gap": null,
      "grid_row": null,
      "grid_template_areas": null,
      "grid_template_columns": null,
      "grid_template_rows": null,
      "height": null,
      "justify_content": null,
      "justify_items": null,
      "left": null,
      "margin": null,
      "max_height": null,
      "max_width": null,
      "min_height": null,
      "min_width": null,
      "object_fit": null,
      "object_position": null,
      "order": null,
      "overflow": null,
      "overflow_x": null,
      "overflow_y": null,
      "padding": null,
      "right": null,
      "top": null,
      "visibility": null,
      "width": null
     }
    },
    "e0a13926af4e4e8289596c74d7666ce4": {
     "model_module": "@jupyter-widgets/base",
     "model_name": "LayoutModel",
     "state": {
      "_model_module": "@jupyter-widgets/base",
      "_model_module_version": "1.2.0",
      "_model_name": "LayoutModel",
      "_view_count": null,
      "_view_module": "@jupyter-widgets/base",
      "_view_module_version": "1.2.0",
      "_view_name": "LayoutView",
      "align_content": null,
      "align_items": null,
      "align_self": null,
      "border": null,
      "bottom": null,
      "display": null,
      "flex": null,
      "flex_flow": null,
      "grid_area": null,
      "grid_auto_columns": null,
      "grid_auto_flow": null,
      "grid_auto_rows": null,
      "grid_column": null,
      "grid_gap": null,
      "grid_row": null,
      "grid_template_areas": null,
      "grid_template_columns": null,
      "grid_template_rows": null,
      "height": null,
      "justify_content": null,
      "justify_items": null,
      "left": null,
      "margin": null,
      "max_height": null,
      "max_width": null,
      "min_height": null,
      "min_width": null,
      "object_fit": null,
      "object_position": null,
      "order": null,
      "overflow": null,
      "overflow_x": null,
      "overflow_y": null,
      "padding": null,
      "right": null,
      "top": null,
      "visibility": null,
      "width": null
     }
    },
    "e1c28cb441384dd08a4d8e82c8d828a4": {
     "model_module": "@jupyter-widgets/controls",
     "model_name": "HBoxModel",
     "state": {
      "_dom_classes": [],
      "_model_module": "@jupyter-widgets/controls",
      "_model_module_version": "1.5.0",
      "_model_name": "HBoxModel",
      "_view_count": null,
      "_view_module": "@jupyter-widgets/controls",
      "_view_module_version": "1.5.0",
      "_view_name": "HBoxView",
      "box_style": "",
      "children": [
       "IPY_MODEL_e664b43c03a740be8aa257c2024c691e",
       "IPY_MODEL_eb048bb2728941cdbfac0fc0779ad486"
      ],
      "layout": "IPY_MODEL_82091c065cc0400da3d1b63f2d259b5c"
     }
    },
    "e664b43c03a740be8aa257c2024c691e": {
     "model_module": "@jupyter-widgets/controls",
     "model_name": "FloatProgressModel",
     "state": {
      "_dom_classes": [],
      "_model_module": "@jupyter-widgets/controls",
      "_model_module_version": "1.5.0",
      "_model_name": "FloatProgressModel",
      "_view_count": null,
      "_view_module": "@jupyter-widgets/controls",
      "_view_module_version": "1.5.0",
      "_view_name": "ProgressView",
      "bar_style": "info",
      "description": "",
      "description_tooltip": null,
      "layout": "IPY_MODEL_e975e00e85fb4f8aa15713a0ac893099",
      "max": 1,
      "min": 0,
      "orientation": "horizontal",
      "style": "IPY_MODEL_239401e28531469483166af61faef70b",
      "value": 0
     }
    },
    "e8173f952f044d4e8c0d4ab8ae0d7c08": {
     "model_module": "@jupyter-widgets/base",
     "model_name": "LayoutModel",
     "state": {
      "_model_module": "@jupyter-widgets/base",
      "_model_module_version": "1.2.0",
      "_model_name": "LayoutModel",
      "_view_count": null,
      "_view_module": "@jupyter-widgets/base",
      "_view_module_version": "1.2.0",
      "_view_name": "LayoutView",
      "align_content": null,
      "align_items": null,
      "align_self": null,
      "border": null,
      "bottom": null,
      "display": null,
      "flex": null,
      "flex_flow": null,
      "grid_area": null,
      "grid_auto_columns": null,
      "grid_auto_flow": null,
      "grid_auto_rows": null,
      "grid_column": null,
      "grid_gap": null,
      "grid_row": null,
      "grid_template_areas": null,
      "grid_template_columns": null,
      "grid_template_rows": null,
      "height": null,
      "justify_content": null,
      "justify_items": null,
      "left": null,
      "margin": null,
      "max_height": null,
      "max_width": null,
      "min_height": null,
      "min_width": null,
      "object_fit": null,
      "object_position": null,
      "order": null,
      "overflow": null,
      "overflow_x": null,
      "overflow_y": null,
      "padding": null,
      "right": null,
      "top": null,
      "visibility": null,
      "width": null
     }
    },
    "e975e00e85fb4f8aa15713a0ac893099": {
     "model_module": "@jupyter-widgets/base",
     "model_name": "LayoutModel",
     "state": {
      "_model_module": "@jupyter-widgets/base",
      "_model_module_version": "1.2.0",
      "_model_name": "LayoutModel",
      "_view_count": null,
      "_view_module": "@jupyter-widgets/base",
      "_view_module_version": "1.2.0",
      "_view_name": "LayoutView",
      "align_content": null,
      "align_items": null,
      "align_self": null,
      "border": null,
      "bottom": null,
      "display": null,
      "flex": null,
      "flex_flow": null,
      "grid_area": null,
      "grid_auto_columns": null,
      "grid_auto_flow": null,
      "grid_auto_rows": null,
      "grid_column": null,
      "grid_gap": null,
      "grid_row": null,
      "grid_template_areas": null,
      "grid_template_columns": null,
      "grid_template_rows": null,
      "height": null,
      "justify_content": null,
      "justify_items": null,
      "left": null,
      "margin": null,
      "max_height": null,
      "max_width": null,
      "min_height": null,
      "min_width": null,
      "object_fit": null,
      "object_position": null,
      "order": null,
      "overflow": null,
      "overflow_x": null,
      "overflow_y": null,
      "padding": null,
      "right": null,
      "top": null,
      "visibility": null,
      "width": null
     }
    },
    "eb048bb2728941cdbfac0fc0779ad486": {
     "model_module": "@jupyter-widgets/controls",
     "model_name": "HTMLModel",
     "state": {
      "_dom_classes": [],
      "_model_module": "@jupyter-widgets/controls",
      "_model_module_version": "1.5.0",
      "_model_name": "HTMLModel",
      "_view_count": null,
      "_view_module": "@jupyter-widgets/controls",
      "_view_module_version": "1.5.0",
      "_view_name": "HTMLView",
      "description": "",
      "description_tooltip": null,
      "layout": "IPY_MODEL_60f536605adb4e6c8b67211374689912",
      "placeholder": "​",
      "style": "IPY_MODEL_b7013dc076254bd99a63bbe0a6f955e8",
      "value": " 0/? [00:00&lt;?, ?it/s]"
     }
    },
    "ec61b87301b44bbf88fb0c7c90423445": {
     "model_module": "@jupyter-widgets/controls",
     "model_name": "DescriptionStyleModel",
     "state": {
      "_model_module": "@jupyter-widgets/controls",
      "_model_module_version": "1.5.0",
      "_model_name": "DescriptionStyleModel",
      "_view_count": null,
      "_view_module": "@jupyter-widgets/base",
      "_view_module_version": "1.2.0",
      "_view_name": "StyleView",
      "description_width": ""
     }
    },
    "ed947395b2994476bac69e6300bacbf4": {
     "model_module": "@jupyter-widgets/controls",
     "model_name": "FloatProgressModel",
     "state": {
      "_dom_classes": [],
      "_model_module": "@jupyter-widgets/controls",
      "_model_module_version": "1.5.0",
      "_model_name": "FloatProgressModel",
      "_view_count": null,
      "_view_module": "@jupyter-widgets/controls",
      "_view_module_version": "1.5.0",
      "_view_name": "ProgressView",
      "bar_style": "info",
      "description": "",
      "description_tooltip": null,
      "layout": "IPY_MODEL_e0a13926af4e4e8289596c74d7666ce4",
      "max": 1,
      "min": 0,
      "orientation": "horizontal",
      "style": "IPY_MODEL_63b700728f8e4b6e976f4de50fa9166f",
      "value": 1
     }
    },
    "eef4ab87085b4398b628e2a3b061297f": {
     "model_module": "@jupyter-widgets/controls",
     "model_name": "FloatProgressModel",
     "state": {
      "_dom_classes": [],
      "_model_module": "@jupyter-widgets/controls",
      "_model_module_version": "1.5.0",
      "_model_name": "FloatProgressModel",
      "_view_count": null,
      "_view_module": "@jupyter-widgets/controls",
      "_view_module_version": "1.5.0",
      "_view_name": "ProgressView",
      "bar_style": "info",
      "description": "",
      "description_tooltip": null,
      "layout": "IPY_MODEL_fd6eeb1703d544179fa4ccad73ead9dd",
      "max": 1,
      "min": 0,
      "orientation": "horizontal",
      "style": "IPY_MODEL_2608c6c29c634ae182a9fb655ea4de44",
      "value": 0
     }
    },
    "f40f43aa64aa47c0a2d01bff09294ff2": {
     "model_module": "@jupyter-widgets/base",
     "model_name": "LayoutModel",
     "state": {
      "_model_module": "@jupyter-widgets/base",
      "_model_module_version": "1.2.0",
      "_model_name": "LayoutModel",
      "_view_count": null,
      "_view_module": "@jupyter-widgets/base",
      "_view_module_version": "1.2.0",
      "_view_name": "LayoutView",
      "align_content": null,
      "align_items": null,
      "align_self": null,
      "border": null,
      "bottom": null,
      "display": null,
      "flex": null,
      "flex_flow": null,
      "grid_area": null,
      "grid_auto_columns": null,
      "grid_auto_flow": null,
      "grid_auto_rows": null,
      "grid_column": null,
      "grid_gap": null,
      "grid_row": null,
      "grid_template_areas": null,
      "grid_template_columns": null,
      "grid_template_rows": null,
      "height": null,
      "justify_content": null,
      "justify_items": null,
      "left": null,
      "margin": null,
      "max_height": null,
      "max_width": null,
      "min_height": null,
      "min_width": null,
      "object_fit": null,
      "object_position": null,
      "order": null,
      "overflow": null,
      "overflow_x": null,
      "overflow_y": null,
      "padding": null,
      "right": null,
      "top": null,
      "visibility": null,
      "width": null
     }
    },
    "f7dc491c59894d1e8182245e9595da9d": {
     "model_module": "@jupyter-widgets/base",
     "model_name": "LayoutModel",
     "state": {
      "_model_module": "@jupyter-widgets/base",
      "_model_module_version": "1.2.0",
      "_model_name": "LayoutModel",
      "_view_count": null,
      "_view_module": "@jupyter-widgets/base",
      "_view_module_version": "1.2.0",
      "_view_name": "LayoutView",
      "align_content": null,
      "align_items": null,
      "align_self": null,
      "border": null,
      "bottom": null,
      "display": null,
      "flex": null,
      "flex_flow": null,
      "grid_area": null,
      "grid_auto_columns": null,
      "grid_auto_flow": null,
      "grid_auto_rows": null,
      "grid_column": null,
      "grid_gap": null,
      "grid_row": null,
      "grid_template_areas": null,
      "grid_template_columns": null,
      "grid_template_rows": null,
      "height": null,
      "justify_content": null,
      "justify_items": null,
      "left": null,
      "margin": null,
      "max_height": null,
      "max_width": null,
      "min_height": null,
      "min_width": null,
      "object_fit": null,
      "object_position": null,
      "order": null,
      "overflow": null,
      "overflow_x": null,
      "overflow_y": null,
      "padding": null,
      "right": null,
      "top": null,
      "visibility": null,
      "width": null
     }
    },
    "f835553fa8d146298d3ed08455fd19d6": {
     "model_module": "@jupyter-widgets/controls",
     "model_name": "HTMLModel",
     "state": {
      "_dom_classes": [],
      "_model_module": "@jupyter-widgets/controls",
      "_model_module_version": "1.5.0",
      "_model_name": "HTMLModel",
      "_view_count": null,
      "_view_module": "@jupyter-widgets/controls",
      "_view_module_version": "1.5.0",
      "_view_name": "HTMLView",
      "description": "",
      "description_tooltip": null,
      "layout": "IPY_MODEL_d2f80f34557041c8b6c5e01033eea605",
      "placeholder": "​",
      "style": "IPY_MODEL_34f94bf6eae4411cb0a57a7cbbc69575",
      "value": " 170500096/? [00:22&lt;00:00, 31284255.64it/s]"
     }
    },
    "fd6eeb1703d544179fa4ccad73ead9dd": {
     "model_module": "@jupyter-widgets/base",
     "model_name": "LayoutModel",
     "state": {
      "_model_module": "@jupyter-widgets/base",
      "_model_module_version": "1.2.0",
      "_model_name": "LayoutModel",
      "_view_count": null,
      "_view_module": "@jupyter-widgets/base",
      "_view_module_version": "1.2.0",
      "_view_name": "LayoutView",
      "align_content": null,
      "align_items": null,
      "align_self": null,
      "border": null,
      "bottom": null,
      "display": null,
      "flex": null,
      "flex_flow": null,
      "grid_area": null,
      "grid_auto_columns": null,
      "grid_auto_flow": null,
      "grid_auto_rows": null,
      "grid_column": null,
      "grid_gap": null,
      "grid_row": null,
      "grid_template_areas": null,
      "grid_template_columns": null,
      "grid_template_rows": null,
      "height": null,
      "justify_content": null,
      "justify_items": null,
      "left": null,
      "margin": null,
      "max_height": null,
      "max_width": null,
      "min_height": null,
      "min_width": null,
      "object_fit": null,
      "object_position": null,
      "order": null,
      "overflow": null,
      "overflow_x": null,
      "overflow_y": null,
      "padding": null,
      "right": null,
      "top": null,
      "visibility": null,
      "width": null
     }
    },
    "fe865e5b449d43748f57c8094ec0c45f": {
     "model_module": "@jupyter-widgets/controls",
     "model_name": "ProgressStyleModel",
     "state": {
      "_model_module": "@jupyter-widgets/controls",
      "_model_module_version": "1.5.0",
      "_model_name": "ProgressStyleModel",
      "_view_count": null,
      "_view_module": "@jupyter-widgets/base",
      "_view_module_version": "1.2.0",
      "_view_name": "StyleView",
      "bar_color": null,
      "description_width": "initial"
     }
    }
   }
  }
 },
 "nbformat": 4,
 "nbformat_minor": 1
}
