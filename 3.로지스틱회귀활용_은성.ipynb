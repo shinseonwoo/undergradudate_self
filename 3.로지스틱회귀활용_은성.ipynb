{
  "nbformat": 4,
  "nbformat_minor": 0,
  "metadata": {
    "colab": {
      "name": "3.로지스틱회귀활용_은성.ipynb",
      "provenance": [],
      "collapsed_sections": [],
      "toc_visible": true,
      "mount_file_id": "1wJnQ7Lzf4DTAadDJGAzDGbHsBJbywQmr",
      "authorship_tag": "ABX9TyM9Ds8M4B7ySMAiHvCMEl8I",
      "include_colab_link": true
    },
    "kernelspec": {
      "name": "python3",
      "display_name": "Python 3"
    }
  },
  "cells": [
    {
      "cell_type": "markdown",
      "metadata": {
        "id": "view-in-github",
        "colab_type": "text"
      },
      "source": [
        "<a href=\"https://colab.research.google.com/github/Jung0Jin/Pytorch_study/blob/master/3.%EB%A1%9C%EC%A7%80%EC%8A%A4%ED%8B%B1%ED%9A%8C%EA%B7%80%ED%99%9C%EC%9A%A9_%EC%9D%80%EC%84%B1.ipynb\" target=\"_parent\"><img src=\"https://colab.research.google.com/assets/colab-badge.svg\" alt=\"Open In Colab\"/></a>"
      ]
    },
    {
      "cell_type": "markdown",
      "metadata": {
        "id": "ESw-zMqc4DCv",
        "colab_type": "text"
      },
      "source": [
        "캐글 데이터로 연습해보자.\n",
        "\n",
        "출처 : https://www.kaggle.com/christianlillelund/passenger-list-for-the-estonia-ferry-disaster"
      ]
    },
    {
      "cell_type": "markdown",
      "metadata": {
        "id": "EuBSbjOP4ExY",
        "colab_type": "text"
      },
      "source": [
        "# Introduction"
      ]
    },
    {
      "cell_type": "markdown",
      "metadata": {
        "id": "S-SyQBOm4Grs",
        "colab_type": "text"
      },
      "source": [
        "On September 27 1994 the ferry Estonia set sail on a night voyage across the Baltic Sea from the port of Tallin in Estonia to Stockholm. She departed at 19.00 carrying 989 passengers and crew, as well as vehicles, and was due to dock at 09.30 the following morning, Tragically, the Estonia never arrived.\n",
        "\n",
        "The weather was typically stormy for the time of year but, like all the other scheduled ferries on that day, the Estonia set off as usual. At roughly 01:00 a worrying sound of screeching metal was heard, but an immediate inspection of the bow visor showed nothing untoward. The ship suddenly listed 15 minutes later and soon alarms were sounding, including the lifeboat alarm. Shortly afterwards the Estonia rolled drastically to starboard. Those who had reached the decks had a chance of survival but those who had not were doomed as the angled corridors had become death traps. A Mayday signal was sent but power failure meant the ship’s position was given imprecisely. The Estonia disappeared from the responding ships’ radar screens at about 01:50.\n",
        "\n",
        "The Marietta arrived at the scene at 02:12 and the first helicopter at 03:05. Of the 138 people rescued alive, one died later in hospital.\n",
        "\n",
        "Of the 310 people who had reached the decks, almost a third died of hypothermia. The final death toll was shockingly high – more than 850 people.\n",
        "\n",
        "An official inquiry found that failure of the locks on the bow visor, which broke away under the punishing waves, caused water to flood the car deck and quickly capsize the ship. The report also noted a lack of action, delay in sounding the alarm, lack of guidance from the bridge and a failure to light distress flares.\n",
        "\n",
        "The sinking of the Estonia was Europe’s worst postwar maritime disaster.\n",
        "\n",
        "Read more: https://en.wikipedia.org/wiki/MS_Estonia\n",
        "\n"
      ]
    },
    {
      "cell_type": "markdown",
      "metadata": {
        "id": "5hYPs5nO4IMq",
        "colab_type": "text"
      },
      "source": [
        "# Facts"
      ]
    },
    {
      "cell_type": "markdown",
      "metadata": {
        "id": "mVd8ngOC4Jlg",
        "colab_type": "text"
      },
      "source": [
        "When was the Sinking of the Estonia: September 28, 1994\n",
        "Where was the Sinking of the Estonia: Near the Turku Archipelago, in the Baltic Sea\n",
        "What was the Sinking of the Estonia death toll: 852 passengers and crew\n",
        "\n",
        "Interesting things to investigate about the data:\n",
        "\n",
        "Who's more likely to survive the sinking based on data?\n",
        "Is age an indicator for survival?\n",
        "Is gender an indicator for survival?\n",
        "Did the crew aboard have a higher chance of survival than passengers?\n",
        "Since the death toll is well above 80%, can you make a classifier that beats the baseline (all passengers died)?\n"
      ]
    },
    {
      "cell_type": "markdown",
      "metadata": {
        "id": "VIsZo94e4LRy",
        "colab_type": "text"
      },
      "source": [
        "# Data Dictionary"
      ]
    },
    {
      "cell_type": "markdown",
      "metadata": {
        "id": "ULYBdPzV4MqA",
        "colab_type": "text"
      },
      "source": [
        "|Variable|Definition|Key|\n",
        "|--------|----------|---|\n",
        "|Country|Country of origin||\t\n",
        "|Firstname|Firstname of passenger||\t\n",
        "|Lastname|Lastname of passenger||\t\n",
        "|Sex|Gender of passenger|M = Male, F = Female|\n",
        "|Age|Age of passenger at the time of sinking||\t\n",
        "|Category|The type of passenger|C = Crew, P = Passenger|\n",
        "|Survived|Survival|0 = No, 1 = Yes|\n"
      ]
    },
    {
      "cell_type": "markdown",
      "metadata": {
        "id": "uJjVPw4r4OTQ",
        "colab_type": "text"
      },
      "source": [
        "![](https://cdn.prod.www.spiegel.de/images/d0eed47d-0001-0005-0000-000001064832.gif)"
      ]
    },
    {
      "cell_type": "markdown",
      "metadata": {
        "id": "vX5i2MyB4PYq",
        "colab_type": "text"
      },
      "source": [
        "![](https://www.vragguiden.dk/ThumbImage.aspx?sid=108&width=710)"
      ]
    },
    {
      "cell_type": "markdown",
      "metadata": {
        "id": "F13hqtxd4Raq",
        "colab_type": "text"
      },
      "source": [
        "![](https://www.vragguiden.dk/wreckimages/113.jpg)"
      ]
    },
    {
      "cell_type": "code",
      "metadata": {
        "id": "9OkmY7Oo4AYR",
        "colab_type": "code",
        "colab": {}
      },
      "source": [
        "import pandas as pd\n",
        "import numpy as np\n",
        "\n",
        "import plotly\n",
        "import plotly.express as px\n",
        "import plotly.figure_factory as ff\n",
        "import seaborn as sns\n",
        "\n",
        "import matplotlib.pyplot as plt"
      ],
      "execution_count": 138,
      "outputs": []
    },
    {
      "cell_type": "code",
      "metadata": {
        "id": "CKQ5TrPH4Sxb",
        "colab_type": "code",
        "colab": {
          "base_uri": "https://localhost:8080/",
          "height": 213
        },
        "outputId": "ff17698d-5ffb-48ca-d294-12684e860a74"
      },
      "source": [
        "data = pd.read_csv('drive/My Drive/데이터/estonia-passenger-list.csv')\n",
        "print(len(data))\n",
        "data.head()"
      ],
      "execution_count": 139,
      "outputs": [
        {
          "output_type": "stream",
          "text": [
            "989\n"
          ],
          "name": "stdout"
        },
        {
          "output_type": "execute_result",
          "data": {
            "text/html": [
              "<div>\n",
              "<style scoped>\n",
              "    .dataframe tbody tr th:only-of-type {\n",
              "        vertical-align: middle;\n",
              "    }\n",
              "\n",
              "    .dataframe tbody tr th {\n",
              "        vertical-align: top;\n",
              "    }\n",
              "\n",
              "    .dataframe thead th {\n",
              "        text-align: right;\n",
              "    }\n",
              "</style>\n",
              "<table border=\"1\" class=\"dataframe\">\n",
              "  <thead>\n",
              "    <tr style=\"text-align: right;\">\n",
              "      <th></th>\n",
              "      <th>PassengerId</th>\n",
              "      <th>Country</th>\n",
              "      <th>Firstname</th>\n",
              "      <th>Lastname</th>\n",
              "      <th>Sex</th>\n",
              "      <th>Age</th>\n",
              "      <th>Category</th>\n",
              "      <th>Survived</th>\n",
              "    </tr>\n",
              "  </thead>\n",
              "  <tbody>\n",
              "    <tr>\n",
              "      <th>0</th>\n",
              "      <td>1</td>\n",
              "      <td>Sweden</td>\n",
              "      <td>ARVID KALLE</td>\n",
              "      <td>AADLI</td>\n",
              "      <td>M</td>\n",
              "      <td>62</td>\n",
              "      <td>P</td>\n",
              "      <td>0</td>\n",
              "    </tr>\n",
              "    <tr>\n",
              "      <th>1</th>\n",
              "      <td>2</td>\n",
              "      <td>Estonia</td>\n",
              "      <td>LEA</td>\n",
              "      <td>AALISTE</td>\n",
              "      <td>F</td>\n",
              "      <td>22</td>\n",
              "      <td>C</td>\n",
              "      <td>0</td>\n",
              "    </tr>\n",
              "    <tr>\n",
              "      <th>2</th>\n",
              "      <td>3</td>\n",
              "      <td>Estonia</td>\n",
              "      <td>AIRI</td>\n",
              "      <td>AAVASTE</td>\n",
              "      <td>F</td>\n",
              "      <td>21</td>\n",
              "      <td>C</td>\n",
              "      <td>0</td>\n",
              "    </tr>\n",
              "    <tr>\n",
              "      <th>3</th>\n",
              "      <td>4</td>\n",
              "      <td>Sweden</td>\n",
              "      <td>JURI</td>\n",
              "      <td>AAVIK</td>\n",
              "      <td>M</td>\n",
              "      <td>53</td>\n",
              "      <td>C</td>\n",
              "      <td>0</td>\n",
              "    </tr>\n",
              "    <tr>\n",
              "      <th>4</th>\n",
              "      <td>5</td>\n",
              "      <td>Sweden</td>\n",
              "      <td>BRITTA ELISABET</td>\n",
              "      <td>AHLSTROM</td>\n",
              "      <td>F</td>\n",
              "      <td>55</td>\n",
              "      <td>P</td>\n",
              "      <td>0</td>\n",
              "    </tr>\n",
              "  </tbody>\n",
              "</table>\n",
              "</div>"
            ],
            "text/plain": [
              "   PassengerId  Country        Firstname  Lastname Sex  Age Category  Survived\n",
              "0            1   Sweden      ARVID KALLE     AADLI   M   62        P         0\n",
              "1            2  Estonia              LEA   AALISTE   F   22        C         0\n",
              "2            3  Estonia             AIRI   AAVASTE   F   21        C         0\n",
              "3            4   Sweden             JURI     AAVIK   M   53        C         0\n",
              "4            5   Sweden  BRITTA ELISABET  AHLSTROM   F   55        P         0"
            ]
          },
          "metadata": {
            "tags": []
          },
          "execution_count": 139
        }
      ]
    },
    {
      "cell_type": "code",
      "metadata": {
        "id": "JFRtQHyN4m1q",
        "colab_type": "code",
        "colab": {
          "base_uri": "https://localhost:8080/",
          "height": 175
        },
        "outputId": "c59d132e-09fa-4510-e656-4638d0f8136b"
      },
      "source": [
        "data.isna().sum()"
      ],
      "execution_count": 140,
      "outputs": [
        {
          "output_type": "execute_result",
          "data": {
            "text/plain": [
              "PassengerId    0\n",
              "Country        0\n",
              "Firstname      0\n",
              "Lastname       0\n",
              "Sex            0\n",
              "Age            0\n",
              "Category       0\n",
              "Survived       0\n",
              "dtype: int64"
            ]
          },
          "metadata": {
            "tags": []
          },
          "execution_count": 140
        }
      ]
    },
    {
      "cell_type": "markdown",
      "metadata": {
        "id": "5qGS9B8K40N2",
        "colab_type": "text"
      },
      "source": [
        "# PassengerId column"
      ]
    },
    {
      "cell_type": "code",
      "metadata": {
        "id": "j_LZ4Fao4zQa",
        "colab_type": "code",
        "colab": {
          "base_uri": "https://localhost:8080/",
          "height": 195
        },
        "outputId": "718f331e-c3b1-40b9-e7f0-8d97808fda5d"
      },
      "source": [
        "data = data.drop(['PassengerId'], axis=1)\n",
        "data.head()"
      ],
      "execution_count": 141,
      "outputs": [
        {
          "output_type": "execute_result",
          "data": {
            "text/html": [
              "<div>\n",
              "<style scoped>\n",
              "    .dataframe tbody tr th:only-of-type {\n",
              "        vertical-align: middle;\n",
              "    }\n",
              "\n",
              "    .dataframe tbody tr th {\n",
              "        vertical-align: top;\n",
              "    }\n",
              "\n",
              "    .dataframe thead th {\n",
              "        text-align: right;\n",
              "    }\n",
              "</style>\n",
              "<table border=\"1\" class=\"dataframe\">\n",
              "  <thead>\n",
              "    <tr style=\"text-align: right;\">\n",
              "      <th></th>\n",
              "      <th>Country</th>\n",
              "      <th>Firstname</th>\n",
              "      <th>Lastname</th>\n",
              "      <th>Sex</th>\n",
              "      <th>Age</th>\n",
              "      <th>Category</th>\n",
              "      <th>Survived</th>\n",
              "    </tr>\n",
              "  </thead>\n",
              "  <tbody>\n",
              "    <tr>\n",
              "      <th>0</th>\n",
              "      <td>Sweden</td>\n",
              "      <td>ARVID KALLE</td>\n",
              "      <td>AADLI</td>\n",
              "      <td>M</td>\n",
              "      <td>62</td>\n",
              "      <td>P</td>\n",
              "      <td>0</td>\n",
              "    </tr>\n",
              "    <tr>\n",
              "      <th>1</th>\n",
              "      <td>Estonia</td>\n",
              "      <td>LEA</td>\n",
              "      <td>AALISTE</td>\n",
              "      <td>F</td>\n",
              "      <td>22</td>\n",
              "      <td>C</td>\n",
              "      <td>0</td>\n",
              "    </tr>\n",
              "    <tr>\n",
              "      <th>2</th>\n",
              "      <td>Estonia</td>\n",
              "      <td>AIRI</td>\n",
              "      <td>AAVASTE</td>\n",
              "      <td>F</td>\n",
              "      <td>21</td>\n",
              "      <td>C</td>\n",
              "      <td>0</td>\n",
              "    </tr>\n",
              "    <tr>\n",
              "      <th>3</th>\n",
              "      <td>Sweden</td>\n",
              "      <td>JURI</td>\n",
              "      <td>AAVIK</td>\n",
              "      <td>M</td>\n",
              "      <td>53</td>\n",
              "      <td>C</td>\n",
              "      <td>0</td>\n",
              "    </tr>\n",
              "    <tr>\n",
              "      <th>4</th>\n",
              "      <td>Sweden</td>\n",
              "      <td>BRITTA ELISABET</td>\n",
              "      <td>AHLSTROM</td>\n",
              "      <td>F</td>\n",
              "      <td>55</td>\n",
              "      <td>P</td>\n",
              "      <td>0</td>\n",
              "    </tr>\n",
              "  </tbody>\n",
              "</table>\n",
              "</div>"
            ],
            "text/plain": [
              "   Country        Firstname  Lastname Sex  Age Category  Survived\n",
              "0   Sweden      ARVID KALLE     AADLI   M   62        P         0\n",
              "1  Estonia              LEA   AALISTE   F   22        C         0\n",
              "2  Estonia             AIRI   AAVASTE   F   21        C         0\n",
              "3   Sweden             JURI     AAVIK   M   53        C         0\n",
              "4   Sweden  BRITTA ELISABET  AHLSTROM   F   55        P         0"
            ]
          },
          "metadata": {
            "tags": []
          },
          "execution_count": 141
        }
      ]
    },
    {
      "cell_type": "markdown",
      "metadata": {
        "id": "iHdzcmKX41_c",
        "colab_type": "text"
      },
      "source": [
        "# Country column"
      ]
    },
    {
      "cell_type": "code",
      "metadata": {
        "id": "79nK7DRb41KK",
        "colab_type": "code",
        "colab": {
          "base_uri": "https://localhost:8080/",
          "height": 316
        },
        "outputId": "ddb1e557-567a-47d2-b29c-c746f3214658"
      },
      "source": [
        "data['Country'].value_counts()"
      ],
      "execution_count": 142,
      "outputs": [
        {
          "output_type": "execute_result",
          "data": {
            "text/plain": [
              "Sweden           550\n",
              "Estonia          344\n",
              "Latvia            28\n",
              "Finland           16\n",
              "Russia            14\n",
              "Norway             9\n",
              "Germany            8\n",
              "Denmark            6\n",
              "Lithuania          4\n",
              "Netherlands        2\n",
              "Morocco            2\n",
              "Great Britain      2\n",
              "Canada             1\n",
              "France             1\n",
              "Nigeria            1\n",
              "Belarus            1\n",
              "Name: Country, dtype: int64"
            ]
          },
          "metadata": {
            "tags": []
          },
          "execution_count": 142
        }
      ]
    },
    {
      "cell_type": "code",
      "metadata": {
        "id": "C4iKFvet43CK",
        "colab_type": "code",
        "colab": {
          "base_uri": "https://localhost:8080/",
          "height": 542
        },
        "outputId": "d8180b20-f808-48ed-82eb-7a141deab8c1"
      },
      "source": [
        "country = data['Country'].value_counts().index.tolist()\n",
        "values = data['Country'].value_counts().tolist()\n",
        "\n",
        "labels={'x': 'Country', \n",
        "        'y': 'Passenger Count'}\n",
        "\n",
        "fig = px.bar(\n",
        "    x=country,\n",
        "    y=values,\n",
        "    title=\"Passengers by Country\",\n",
        "    labels=labels,\n",
        "    color=values)\n",
        "fig.show()"
      ],
      "execution_count": 143,
      "outputs": [
        {
          "output_type": "display_data",
          "data": {
            "text/html": [
              "<html>\n",
              "<head><meta charset=\"utf-8\" /></head>\n",
              "<body>\n",
              "    <div>\n",
              "            <script src=\"https://cdnjs.cloudflare.com/ajax/libs/mathjax/2.7.5/MathJax.js?config=TeX-AMS-MML_SVG\"></script><script type=\"text/javascript\">if (window.MathJax) {MathJax.Hub.Config({SVG: {font: \"STIX-Web\"}});}</script>\n",
              "                <script type=\"text/javascript\">window.PlotlyConfig = {MathJaxConfig: 'local'};</script>\n",
              "        <script src=\"https://cdn.plot.ly/plotly-latest.min.js\"></script>    \n",
              "            <div id=\"caa05dbe-a4b9-4342-bf82-1934c2ac4a32\" class=\"plotly-graph-div\" style=\"height:525px; width:100%;\"></div>\n",
              "            <script type=\"text/javascript\">\n",
              "                \n",
              "                    window.PLOTLYENV=window.PLOTLYENV || {};\n",
              "                    \n",
              "                if (document.getElementById(\"caa05dbe-a4b9-4342-bf82-1934c2ac4a32\")) {\n",
              "                    Plotly.newPlot(\n",
              "                        'caa05dbe-a4b9-4342-bf82-1934c2ac4a32',\n",
              "                        [{\"alignmentgroup\": \"True\", \"hoverlabel\": {\"namelength\": 0}, \"hovertemplate\": \"Country=%{x}<br>Passenger Count=%{y}<br>color=%{marker.color}\", \"legendgroup\": \"\", \"marker\": {\"color\": [550, 344, 28, 16, 14, 9, 8, 6, 4, 2, 2, 2, 1, 1, 1, 1], \"coloraxis\": \"coloraxis\"}, \"name\": \"\", \"offsetgroup\": \"\", \"orientation\": \"v\", \"showlegend\": false, \"textposition\": \"auto\", \"type\": \"bar\", \"x\": [\"Sweden\", \"Estonia\", \"Latvia\", \"Finland\", \"Russia\", \"Norway\", \"Germany\", \"Denmark\", \"Lithuania\", \"Netherlands\", \"Morocco\", \"Great Britain\", \"Canada\", \"France\", \"Nigeria\", \"Belarus\"], \"xaxis\": \"x\", \"y\": [550, 344, 28, 16, 14, 9, 8, 6, 4, 2, 2, 2, 1, 1, 1, 1], \"yaxis\": \"y\"}],\n",
              "                        {\"barmode\": \"relative\", \"coloraxis\": {\"colorbar\": {\"title\": {\"text\": \"color\"}}, \"colorscale\": [[0.0, \"#0d0887\"], [0.1111111111111111, \"#46039f\"], [0.2222222222222222, \"#7201a8\"], [0.3333333333333333, \"#9c179e\"], [0.4444444444444444, \"#bd3786\"], [0.5555555555555556, \"#d8576b\"], [0.6666666666666666, \"#ed7953\"], [0.7777777777777778, \"#fb9f3a\"], [0.8888888888888888, \"#fdca26\"], [1.0, \"#f0f921\"]]}, \"legend\": {\"tracegroupgap\": 0}, \"template\": {\"data\": {\"bar\": [{\"error_x\": {\"color\": \"#2a3f5f\"}, \"error_y\": {\"color\": \"#2a3f5f\"}, \"marker\": {\"line\": {\"color\": \"#E5ECF6\", \"width\": 0.5}}, \"type\": \"bar\"}], \"barpolar\": [{\"marker\": {\"line\": {\"color\": \"#E5ECF6\", \"width\": 0.5}}, \"type\": \"barpolar\"}], \"carpet\": [{\"aaxis\": {\"endlinecolor\": \"#2a3f5f\", \"gridcolor\": \"white\", \"linecolor\": \"white\", \"minorgridcolor\": \"white\", \"startlinecolor\": \"#2a3f5f\"}, \"baxis\": {\"endlinecolor\": \"#2a3f5f\", \"gridcolor\": \"white\", \"linecolor\": \"white\", \"minorgridcolor\": \"white\", \"startlinecolor\": \"#2a3f5f\"}, \"type\": \"carpet\"}], \"choropleth\": [{\"colorbar\": {\"outlinewidth\": 0, \"ticks\": \"\"}, \"type\": \"choropleth\"}], \"contour\": [{\"colorbar\": {\"outlinewidth\": 0, \"ticks\": \"\"}, \"colorscale\": [[0.0, \"#0d0887\"], [0.1111111111111111, \"#46039f\"], [0.2222222222222222, \"#7201a8\"], [0.3333333333333333, \"#9c179e\"], [0.4444444444444444, \"#bd3786\"], [0.5555555555555556, \"#d8576b\"], [0.6666666666666666, \"#ed7953\"], [0.7777777777777778, \"#fb9f3a\"], [0.8888888888888888, \"#fdca26\"], [1.0, \"#f0f921\"]], \"type\": \"contour\"}], \"contourcarpet\": [{\"colorbar\": {\"outlinewidth\": 0, \"ticks\": \"\"}, \"type\": \"contourcarpet\"}], \"heatmap\": [{\"colorbar\": {\"outlinewidth\": 0, \"ticks\": \"\"}, \"colorscale\": [[0.0, \"#0d0887\"], [0.1111111111111111, \"#46039f\"], [0.2222222222222222, \"#7201a8\"], [0.3333333333333333, \"#9c179e\"], [0.4444444444444444, \"#bd3786\"], [0.5555555555555556, \"#d8576b\"], [0.6666666666666666, \"#ed7953\"], [0.7777777777777778, \"#fb9f3a\"], [0.8888888888888888, \"#fdca26\"], [1.0, \"#f0f921\"]], \"type\": \"heatmap\"}], \"heatmapgl\": [{\"colorbar\": {\"outlinewidth\": 0, \"ticks\": \"\"}, \"colorscale\": [[0.0, \"#0d0887\"], [0.1111111111111111, \"#46039f\"], [0.2222222222222222, \"#7201a8\"], [0.3333333333333333, \"#9c179e\"], [0.4444444444444444, \"#bd3786\"], [0.5555555555555556, \"#d8576b\"], [0.6666666666666666, \"#ed7953\"], [0.7777777777777778, \"#fb9f3a\"], [0.8888888888888888, \"#fdca26\"], [1.0, \"#f0f921\"]], \"type\": \"heatmapgl\"}], \"histogram\": [{\"marker\": {\"colorbar\": {\"outlinewidth\": 0, \"ticks\": \"\"}}, \"type\": \"histogram\"}], \"histogram2d\": [{\"colorbar\": {\"outlinewidth\": 0, \"ticks\": \"\"}, \"colorscale\": [[0.0, \"#0d0887\"], [0.1111111111111111, \"#46039f\"], [0.2222222222222222, \"#7201a8\"], [0.3333333333333333, \"#9c179e\"], [0.4444444444444444, \"#bd3786\"], [0.5555555555555556, \"#d8576b\"], [0.6666666666666666, \"#ed7953\"], [0.7777777777777778, \"#fb9f3a\"], [0.8888888888888888, \"#fdca26\"], [1.0, \"#f0f921\"]], \"type\": \"histogram2d\"}], \"histogram2dcontour\": [{\"colorbar\": {\"outlinewidth\": 0, \"ticks\": \"\"}, \"colorscale\": [[0.0, \"#0d0887\"], [0.1111111111111111, \"#46039f\"], [0.2222222222222222, \"#7201a8\"], [0.3333333333333333, \"#9c179e\"], [0.4444444444444444, \"#bd3786\"], [0.5555555555555556, \"#d8576b\"], [0.6666666666666666, \"#ed7953\"], [0.7777777777777778, \"#fb9f3a\"], [0.8888888888888888, \"#fdca26\"], [1.0, \"#f0f921\"]], \"type\": \"histogram2dcontour\"}], \"mesh3d\": [{\"colorbar\": {\"outlinewidth\": 0, \"ticks\": \"\"}, \"type\": \"mesh3d\"}], \"parcoords\": [{\"line\": {\"colorbar\": {\"outlinewidth\": 0, \"ticks\": \"\"}}, \"type\": \"parcoords\"}], \"pie\": [{\"automargin\": true, \"type\": \"pie\"}], \"scatter\": [{\"marker\": {\"colorbar\": {\"outlinewidth\": 0, \"ticks\": \"\"}}, \"type\": \"scatter\"}], \"scatter3d\": [{\"line\": {\"colorbar\": {\"outlinewidth\": 0, \"ticks\": \"\"}}, \"marker\": {\"colorbar\": {\"outlinewidth\": 0, \"ticks\": \"\"}}, \"type\": \"scatter3d\"}], \"scattercarpet\": [{\"marker\": {\"colorbar\": {\"outlinewidth\": 0, \"ticks\": \"\"}}, \"type\": \"scattercarpet\"}], \"scattergeo\": [{\"marker\": {\"colorbar\": {\"outlinewidth\": 0, \"ticks\": \"\"}}, \"type\": \"scattergeo\"}], \"scattergl\": [{\"marker\": {\"colorbar\": {\"outlinewidth\": 0, \"ticks\": \"\"}}, \"type\": \"scattergl\"}], \"scattermapbox\": [{\"marker\": {\"colorbar\": {\"outlinewidth\": 0, \"ticks\": \"\"}}, \"type\": \"scattermapbox\"}], \"scatterpolar\": [{\"marker\": {\"colorbar\": {\"outlinewidth\": 0, \"ticks\": \"\"}}, \"type\": \"scatterpolar\"}], \"scatterpolargl\": [{\"marker\": {\"colorbar\": {\"outlinewidth\": 0, \"ticks\": \"\"}}, \"type\": \"scatterpolargl\"}], \"scatterternary\": [{\"marker\": {\"colorbar\": {\"outlinewidth\": 0, \"ticks\": \"\"}}, \"type\": \"scatterternary\"}], \"surface\": [{\"colorbar\": {\"outlinewidth\": 0, \"ticks\": \"\"}, \"colorscale\": [[0.0, \"#0d0887\"], [0.1111111111111111, \"#46039f\"], [0.2222222222222222, \"#7201a8\"], [0.3333333333333333, \"#9c179e\"], [0.4444444444444444, \"#bd3786\"], [0.5555555555555556, \"#d8576b\"], [0.6666666666666666, \"#ed7953\"], [0.7777777777777778, \"#fb9f3a\"], [0.8888888888888888, \"#fdca26\"], [1.0, \"#f0f921\"]], \"type\": \"surface\"}], \"table\": [{\"cells\": {\"fill\": {\"color\": \"#EBF0F8\"}, \"line\": {\"color\": \"white\"}}, \"header\": {\"fill\": {\"color\": \"#C8D4E3\"}, \"line\": {\"color\": \"white\"}}, \"type\": \"table\"}]}, \"layout\": {\"annotationdefaults\": {\"arrowcolor\": \"#2a3f5f\", \"arrowhead\": 0, \"arrowwidth\": 1}, \"coloraxis\": {\"colorbar\": {\"outlinewidth\": 0, \"ticks\": \"\"}}, \"colorscale\": {\"diverging\": [[0, \"#8e0152\"], [0.1, \"#c51b7d\"], [0.2, \"#de77ae\"], [0.3, \"#f1b6da\"], [0.4, \"#fde0ef\"], [0.5, \"#f7f7f7\"], [0.6, \"#e6f5d0\"], [0.7, \"#b8e186\"], [0.8, \"#7fbc41\"], [0.9, \"#4d9221\"], [1, \"#276419\"]], \"sequential\": [[0.0, \"#0d0887\"], [0.1111111111111111, \"#46039f\"], [0.2222222222222222, \"#7201a8\"], [0.3333333333333333, \"#9c179e\"], [0.4444444444444444, \"#bd3786\"], [0.5555555555555556, \"#d8576b\"], [0.6666666666666666, \"#ed7953\"], [0.7777777777777778, \"#fb9f3a\"], [0.8888888888888888, \"#fdca26\"], [1.0, \"#f0f921\"]], \"sequentialminus\": [[0.0, \"#0d0887\"], [0.1111111111111111, \"#46039f\"], [0.2222222222222222, \"#7201a8\"], [0.3333333333333333, \"#9c179e\"], [0.4444444444444444, \"#bd3786\"], [0.5555555555555556, \"#d8576b\"], [0.6666666666666666, \"#ed7953\"], [0.7777777777777778, \"#fb9f3a\"], [0.8888888888888888, \"#fdca26\"], [1.0, \"#f0f921\"]]}, \"colorway\": [\"#636efa\", \"#EF553B\", \"#00cc96\", \"#ab63fa\", \"#FFA15A\", \"#19d3f3\", \"#FF6692\", \"#B6E880\", \"#FF97FF\", \"#FECB52\"], \"font\": {\"color\": \"#2a3f5f\"}, \"geo\": {\"bgcolor\": \"white\", \"lakecolor\": \"white\", \"landcolor\": \"#E5ECF6\", \"showlakes\": true, \"showland\": true, \"subunitcolor\": \"white\"}, \"hoverlabel\": {\"align\": \"left\"}, \"hovermode\": \"closest\", \"mapbox\": {\"style\": \"light\"}, \"paper_bgcolor\": \"white\", \"plot_bgcolor\": \"#E5ECF6\", \"polar\": {\"angularaxis\": {\"gridcolor\": \"white\", \"linecolor\": \"white\", \"ticks\": \"\"}, \"bgcolor\": \"#E5ECF6\", \"radialaxis\": {\"gridcolor\": \"white\", \"linecolor\": \"white\", \"ticks\": \"\"}}, \"scene\": {\"xaxis\": {\"backgroundcolor\": \"#E5ECF6\", \"gridcolor\": \"white\", \"gridwidth\": 2, \"linecolor\": \"white\", \"showbackground\": true, \"ticks\": \"\", \"zerolinecolor\": \"white\"}, \"yaxis\": {\"backgroundcolor\": \"#E5ECF6\", \"gridcolor\": \"white\", \"gridwidth\": 2, \"linecolor\": \"white\", \"showbackground\": true, \"ticks\": \"\", \"zerolinecolor\": \"white\"}, \"zaxis\": {\"backgroundcolor\": \"#E5ECF6\", \"gridcolor\": \"white\", \"gridwidth\": 2, \"linecolor\": \"white\", \"showbackground\": true, \"ticks\": \"\", \"zerolinecolor\": \"white\"}}, \"shapedefaults\": {\"line\": {\"color\": \"#2a3f5f\"}}, \"ternary\": {\"aaxis\": {\"gridcolor\": \"white\", \"linecolor\": \"white\", \"ticks\": \"\"}, \"baxis\": {\"gridcolor\": \"white\", \"linecolor\": \"white\", \"ticks\": \"\"}, \"bgcolor\": \"#E5ECF6\", \"caxis\": {\"gridcolor\": \"white\", \"linecolor\": \"white\", \"ticks\": \"\"}}, \"title\": {\"x\": 0.05}, \"xaxis\": {\"automargin\": true, \"gridcolor\": \"white\", \"linecolor\": \"white\", \"ticks\": \"\", \"title\": {\"standoff\": 15}, \"zerolinecolor\": \"white\", \"zerolinewidth\": 2}, \"yaxis\": {\"automargin\": true, \"gridcolor\": \"white\", \"linecolor\": \"white\", \"ticks\": \"\", \"title\": {\"standoff\": 15}, \"zerolinecolor\": \"white\", \"zerolinewidth\": 2}}}, \"title\": {\"text\": \"Passengers by Country\"}, \"xaxis\": {\"anchor\": \"y\", \"domain\": [0.0, 1.0], \"title\": {\"text\": \"Country\"}}, \"yaxis\": {\"anchor\": \"x\", \"domain\": [0.0, 1.0], \"title\": {\"text\": \"Passenger Count\"}}},\n",
              "                        {\"responsive\": true}\n",
              "                    ).then(function(){\n",
              "                            \n",
              "var gd = document.getElementById('caa05dbe-a4b9-4342-bf82-1934c2ac4a32');\n",
              "var x = new MutationObserver(function (mutations, observer) {{\n",
              "        var display = window.getComputedStyle(gd).display;\n",
              "        if (!display || display === 'none') {{\n",
              "            console.log([gd, 'removed!']);\n",
              "            Plotly.purge(gd);\n",
              "            observer.disconnect();\n",
              "        }}\n",
              "}});\n",
              "\n",
              "// Listen for the removal of the full notebook cells\n",
              "var notebookContainer = gd.closest('#notebook-container');\n",
              "if (notebookContainer) {{\n",
              "    x.observe(notebookContainer, {childList: true});\n",
              "}}\n",
              "\n",
              "// Listen for the clearing of the current output cell\n",
              "var outputEl = gd.closest('.output');\n",
              "if (outputEl) {{\n",
              "    x.observe(outputEl, {childList: true});\n",
              "}}\n",
              "\n",
              "                        })\n",
              "                };\n",
              "                \n",
              "            </script>\n",
              "        </div>\n",
              "</body>\n",
              "</html>"
            ]
          },
          "metadata": {
            "tags": []
          }
        }
      ]
    },
    {
      "cell_type": "markdown",
      "metadata": {
        "id": "IptN9Vsm45qQ",
        "colab_type": "text"
      },
      "source": [
        "# Name column"
      ]
    },
    {
      "cell_type": "code",
      "metadata": {
        "id": "GRJEV9Bw43yq",
        "colab_type": "code",
        "colab": {
          "base_uri": "https://localhost:8080/",
          "height": 228
        },
        "outputId": "b549cf25-288f-4b3a-942c-7d71b90f268b"
      },
      "source": [
        "data['Lastname'].value_counts()"
      ],
      "execution_count": 144,
      "outputs": [
        {
          "output_type": "execute_result",
          "data": {
            "text/plain": [
              "ANDERSSON    15\n",
              "NILSSON      12\n",
              "ERIKSSON     11\n",
              "JOHANSSON     9\n",
              "KARLSSON      9\n",
              "             ..\n",
              "JOA           1\n",
              "OUN           1\n",
              "CALAMNIUS     1\n",
              "JIBREUS       1\n",
              "ROSMAN        1\n",
              "Name: Lastname, Length: 774, dtype: int64"
            ]
          },
          "metadata": {
            "tags": []
          },
          "execution_count": 144
        }
      ]
    },
    {
      "cell_type": "code",
      "metadata": {
        "id": "PzTgL6XS46rL",
        "colab_type": "code",
        "colab": {
          "base_uri": "https://localhost:8080/",
          "height": 210
        },
        "outputId": "1a9afb24-7690-49f1-eb50-c4abde5f85d1"
      },
      "source": [
        "data['Lastname'].value_counts()[:10]"
      ],
      "execution_count": 145,
      "outputs": [
        {
          "output_type": "execute_result",
          "data": {
            "text/plain": [
              "ANDERSSON     15\n",
              "NILSSON       12\n",
              "ERIKSSON      11\n",
              "JOHANSSON      9\n",
              "KARLSSON       9\n",
              "PERSSON        8\n",
              "GUSTAFSSON     8\n",
              "SVENSSON       8\n",
              "JONSSON        6\n",
              "PETTERSSON     6\n",
              "Name: Lastname, dtype: int64"
            ]
          },
          "metadata": {
            "tags": []
          },
          "execution_count": 145
        }
      ]
    },
    {
      "cell_type": "code",
      "metadata": {
        "id": "0FNDLsiE47YS",
        "colab_type": "code",
        "colab": {
          "base_uri": "https://localhost:8080/",
          "height": 542
        },
        "outputId": "1d58cebf-2ec5-4c88-ece2-7e0370191d40"
      },
      "source": [
        "name = data['Lastname'].value_counts().index.tolist()[:10]\n",
        "values = data['Lastname'].value_counts().tolist()[:10]\n",
        "\n",
        "labels={'x': 'Lastname', \n",
        "        'y': 'Passenger Count'}\n",
        "\n",
        "fig = px.bar(\n",
        "    x=name,\n",
        "    y=values,\n",
        "    title=\"10 Most Popular Last Names\",\n",
        "    labels=labels,\n",
        "    color=values)\n",
        "fig.show()"
      ],
      "execution_count": 146,
      "outputs": [
        {
          "output_type": "display_data",
          "data": {
            "text/html": [
              "<html>\n",
              "<head><meta charset=\"utf-8\" /></head>\n",
              "<body>\n",
              "    <div>\n",
              "            <script src=\"https://cdnjs.cloudflare.com/ajax/libs/mathjax/2.7.5/MathJax.js?config=TeX-AMS-MML_SVG\"></script><script type=\"text/javascript\">if (window.MathJax) {MathJax.Hub.Config({SVG: {font: \"STIX-Web\"}});}</script>\n",
              "                <script type=\"text/javascript\">window.PlotlyConfig = {MathJaxConfig: 'local'};</script>\n",
              "        <script src=\"https://cdn.plot.ly/plotly-latest.min.js\"></script>    \n",
              "            <div id=\"2c9288a9-52f7-408d-a385-dcc0ff8654bb\" class=\"plotly-graph-div\" style=\"height:525px; width:100%;\"></div>\n",
              "            <script type=\"text/javascript\">\n",
              "                \n",
              "                    window.PLOTLYENV=window.PLOTLYENV || {};\n",
              "                    \n",
              "                if (document.getElementById(\"2c9288a9-52f7-408d-a385-dcc0ff8654bb\")) {\n",
              "                    Plotly.newPlot(\n",
              "                        '2c9288a9-52f7-408d-a385-dcc0ff8654bb',\n",
              "                        [{\"alignmentgroup\": \"True\", \"hoverlabel\": {\"namelength\": 0}, \"hovertemplate\": \"Lastname=%{x}<br>Passenger Count=%{y}<br>color=%{marker.color}\", \"legendgroup\": \"\", \"marker\": {\"color\": [15, 12, 11, 9, 9, 8, 8, 8, 6, 6], \"coloraxis\": \"coloraxis\"}, \"name\": \"\", \"offsetgroup\": \"\", \"orientation\": \"v\", \"showlegend\": false, \"textposition\": \"auto\", \"type\": \"bar\", \"x\": [\"ANDERSSON\", \"NILSSON\", \"ERIKSSON\", \"JOHANSSON\", \"KARLSSON\", \"PERSSON\", \"GUSTAFSSON\", \"SVENSSON\", \"JONSSON\", \"PETTERSSON\"], \"xaxis\": \"x\", \"y\": [15, 12, 11, 9, 9, 8, 8, 8, 6, 6], \"yaxis\": \"y\"}],\n",
              "                        {\"barmode\": \"relative\", \"coloraxis\": {\"colorbar\": {\"title\": {\"text\": \"color\"}}, \"colorscale\": [[0.0, \"#0d0887\"], [0.1111111111111111, \"#46039f\"], [0.2222222222222222, \"#7201a8\"], [0.3333333333333333, \"#9c179e\"], [0.4444444444444444, \"#bd3786\"], [0.5555555555555556, \"#d8576b\"], [0.6666666666666666, \"#ed7953\"], [0.7777777777777778, \"#fb9f3a\"], [0.8888888888888888, \"#fdca26\"], [1.0, \"#f0f921\"]]}, \"legend\": {\"tracegroupgap\": 0}, \"template\": {\"data\": {\"bar\": [{\"error_x\": {\"color\": \"#2a3f5f\"}, \"error_y\": {\"color\": \"#2a3f5f\"}, \"marker\": {\"line\": {\"color\": \"#E5ECF6\", \"width\": 0.5}}, \"type\": \"bar\"}], \"barpolar\": [{\"marker\": {\"line\": {\"color\": \"#E5ECF6\", \"width\": 0.5}}, \"type\": \"barpolar\"}], \"carpet\": [{\"aaxis\": {\"endlinecolor\": \"#2a3f5f\", \"gridcolor\": \"white\", \"linecolor\": \"white\", \"minorgridcolor\": \"white\", \"startlinecolor\": \"#2a3f5f\"}, \"baxis\": {\"endlinecolor\": \"#2a3f5f\", \"gridcolor\": \"white\", \"linecolor\": \"white\", \"minorgridcolor\": \"white\", \"startlinecolor\": \"#2a3f5f\"}, \"type\": \"carpet\"}], \"choropleth\": [{\"colorbar\": {\"outlinewidth\": 0, \"ticks\": \"\"}, \"type\": \"choropleth\"}], \"contour\": [{\"colorbar\": {\"outlinewidth\": 0, \"ticks\": \"\"}, \"colorscale\": [[0.0, \"#0d0887\"], [0.1111111111111111, \"#46039f\"], [0.2222222222222222, \"#7201a8\"], [0.3333333333333333, \"#9c179e\"], [0.4444444444444444, \"#bd3786\"], [0.5555555555555556, \"#d8576b\"], [0.6666666666666666, \"#ed7953\"], [0.7777777777777778, \"#fb9f3a\"], [0.8888888888888888, \"#fdca26\"], [1.0, \"#f0f921\"]], \"type\": \"contour\"}], \"contourcarpet\": [{\"colorbar\": {\"outlinewidth\": 0, \"ticks\": \"\"}, \"type\": \"contourcarpet\"}], \"heatmap\": [{\"colorbar\": {\"outlinewidth\": 0, \"ticks\": \"\"}, \"colorscale\": [[0.0, \"#0d0887\"], [0.1111111111111111, \"#46039f\"], [0.2222222222222222, \"#7201a8\"], [0.3333333333333333, \"#9c179e\"], [0.4444444444444444, \"#bd3786\"], [0.5555555555555556, \"#d8576b\"], [0.6666666666666666, \"#ed7953\"], [0.7777777777777778, \"#fb9f3a\"], [0.8888888888888888, \"#fdca26\"], [1.0, \"#f0f921\"]], \"type\": \"heatmap\"}], \"heatmapgl\": [{\"colorbar\": {\"outlinewidth\": 0, \"ticks\": \"\"}, \"colorscale\": [[0.0, \"#0d0887\"], [0.1111111111111111, \"#46039f\"], [0.2222222222222222, \"#7201a8\"], [0.3333333333333333, \"#9c179e\"], [0.4444444444444444, \"#bd3786\"], [0.5555555555555556, \"#d8576b\"], [0.6666666666666666, \"#ed7953\"], [0.7777777777777778, \"#fb9f3a\"], [0.8888888888888888, \"#fdca26\"], [1.0, \"#f0f921\"]], \"type\": \"heatmapgl\"}], \"histogram\": [{\"marker\": {\"colorbar\": {\"outlinewidth\": 0, \"ticks\": \"\"}}, \"type\": \"histogram\"}], \"histogram2d\": [{\"colorbar\": {\"outlinewidth\": 0, \"ticks\": \"\"}, \"colorscale\": [[0.0, \"#0d0887\"], [0.1111111111111111, \"#46039f\"], [0.2222222222222222, \"#7201a8\"], [0.3333333333333333, \"#9c179e\"], [0.4444444444444444, \"#bd3786\"], [0.5555555555555556, \"#d8576b\"], [0.6666666666666666, \"#ed7953\"], [0.7777777777777778, \"#fb9f3a\"], [0.8888888888888888, \"#fdca26\"], [1.0, \"#f0f921\"]], \"type\": \"histogram2d\"}], \"histogram2dcontour\": [{\"colorbar\": {\"outlinewidth\": 0, \"ticks\": \"\"}, \"colorscale\": [[0.0, \"#0d0887\"], [0.1111111111111111, \"#46039f\"], [0.2222222222222222, \"#7201a8\"], [0.3333333333333333, \"#9c179e\"], [0.4444444444444444, \"#bd3786\"], [0.5555555555555556, \"#d8576b\"], [0.6666666666666666, \"#ed7953\"], [0.7777777777777778, \"#fb9f3a\"], [0.8888888888888888, \"#fdca26\"], [1.0, \"#f0f921\"]], \"type\": \"histogram2dcontour\"}], \"mesh3d\": [{\"colorbar\": {\"outlinewidth\": 0, \"ticks\": \"\"}, \"type\": \"mesh3d\"}], \"parcoords\": [{\"line\": {\"colorbar\": {\"outlinewidth\": 0, \"ticks\": \"\"}}, \"type\": \"parcoords\"}], \"pie\": [{\"automargin\": true, \"type\": \"pie\"}], \"scatter\": [{\"marker\": {\"colorbar\": {\"outlinewidth\": 0, \"ticks\": \"\"}}, \"type\": \"scatter\"}], \"scatter3d\": [{\"line\": {\"colorbar\": {\"outlinewidth\": 0, \"ticks\": \"\"}}, \"marker\": {\"colorbar\": {\"outlinewidth\": 0, \"ticks\": \"\"}}, \"type\": \"scatter3d\"}], \"scattercarpet\": [{\"marker\": {\"colorbar\": {\"outlinewidth\": 0, \"ticks\": \"\"}}, \"type\": \"scattercarpet\"}], \"scattergeo\": [{\"marker\": {\"colorbar\": {\"outlinewidth\": 0, \"ticks\": \"\"}}, \"type\": \"scattergeo\"}], \"scattergl\": [{\"marker\": {\"colorbar\": {\"outlinewidth\": 0, \"ticks\": \"\"}}, \"type\": \"scattergl\"}], \"scattermapbox\": [{\"marker\": {\"colorbar\": {\"outlinewidth\": 0, \"ticks\": \"\"}}, \"type\": \"scattermapbox\"}], \"scatterpolar\": [{\"marker\": {\"colorbar\": {\"outlinewidth\": 0, \"ticks\": \"\"}}, \"type\": \"scatterpolar\"}], \"scatterpolargl\": [{\"marker\": {\"colorbar\": {\"outlinewidth\": 0, \"ticks\": \"\"}}, \"type\": \"scatterpolargl\"}], \"scatterternary\": [{\"marker\": {\"colorbar\": {\"outlinewidth\": 0, \"ticks\": \"\"}}, \"type\": \"scatterternary\"}], \"surface\": [{\"colorbar\": {\"outlinewidth\": 0, \"ticks\": \"\"}, \"colorscale\": [[0.0, \"#0d0887\"], [0.1111111111111111, \"#46039f\"], [0.2222222222222222, \"#7201a8\"], [0.3333333333333333, \"#9c179e\"], [0.4444444444444444, \"#bd3786\"], [0.5555555555555556, \"#d8576b\"], [0.6666666666666666, \"#ed7953\"], [0.7777777777777778, \"#fb9f3a\"], [0.8888888888888888, \"#fdca26\"], [1.0, \"#f0f921\"]], \"type\": \"surface\"}], \"table\": [{\"cells\": {\"fill\": {\"color\": \"#EBF0F8\"}, \"line\": {\"color\": \"white\"}}, \"header\": {\"fill\": {\"color\": \"#C8D4E3\"}, \"line\": {\"color\": \"white\"}}, \"type\": \"table\"}]}, \"layout\": {\"annotationdefaults\": {\"arrowcolor\": \"#2a3f5f\", \"arrowhead\": 0, \"arrowwidth\": 1}, \"coloraxis\": {\"colorbar\": {\"outlinewidth\": 0, \"ticks\": \"\"}}, \"colorscale\": {\"diverging\": [[0, \"#8e0152\"], [0.1, \"#c51b7d\"], [0.2, \"#de77ae\"], [0.3, \"#f1b6da\"], [0.4, \"#fde0ef\"], [0.5, \"#f7f7f7\"], [0.6, \"#e6f5d0\"], [0.7, \"#b8e186\"], [0.8, \"#7fbc41\"], [0.9, \"#4d9221\"], [1, \"#276419\"]], \"sequential\": [[0.0, \"#0d0887\"], [0.1111111111111111, \"#46039f\"], [0.2222222222222222, \"#7201a8\"], [0.3333333333333333, \"#9c179e\"], [0.4444444444444444, \"#bd3786\"], [0.5555555555555556, \"#d8576b\"], [0.6666666666666666, \"#ed7953\"], [0.7777777777777778, \"#fb9f3a\"], [0.8888888888888888, \"#fdca26\"], [1.0, \"#f0f921\"]], \"sequentialminus\": [[0.0, \"#0d0887\"], [0.1111111111111111, \"#46039f\"], [0.2222222222222222, \"#7201a8\"], [0.3333333333333333, \"#9c179e\"], [0.4444444444444444, \"#bd3786\"], [0.5555555555555556, \"#d8576b\"], [0.6666666666666666, \"#ed7953\"], [0.7777777777777778, \"#fb9f3a\"], [0.8888888888888888, \"#fdca26\"], [1.0, \"#f0f921\"]]}, \"colorway\": [\"#636efa\", \"#EF553B\", \"#00cc96\", \"#ab63fa\", \"#FFA15A\", \"#19d3f3\", \"#FF6692\", \"#B6E880\", \"#FF97FF\", \"#FECB52\"], \"font\": {\"color\": \"#2a3f5f\"}, \"geo\": {\"bgcolor\": \"white\", \"lakecolor\": \"white\", \"landcolor\": \"#E5ECF6\", \"showlakes\": true, \"showland\": true, \"subunitcolor\": \"white\"}, \"hoverlabel\": {\"align\": \"left\"}, \"hovermode\": \"closest\", \"mapbox\": {\"style\": \"light\"}, \"paper_bgcolor\": \"white\", \"plot_bgcolor\": \"#E5ECF6\", \"polar\": {\"angularaxis\": {\"gridcolor\": \"white\", \"linecolor\": \"white\", \"ticks\": \"\"}, \"bgcolor\": \"#E5ECF6\", \"radialaxis\": {\"gridcolor\": \"white\", \"linecolor\": \"white\", \"ticks\": \"\"}}, \"scene\": {\"xaxis\": {\"backgroundcolor\": \"#E5ECF6\", \"gridcolor\": \"white\", \"gridwidth\": 2, \"linecolor\": \"white\", \"showbackground\": true, \"ticks\": \"\", \"zerolinecolor\": \"white\"}, \"yaxis\": {\"backgroundcolor\": \"#E5ECF6\", \"gridcolor\": \"white\", \"gridwidth\": 2, \"linecolor\": \"white\", \"showbackground\": true, \"ticks\": \"\", \"zerolinecolor\": \"white\"}, \"zaxis\": {\"backgroundcolor\": \"#E5ECF6\", \"gridcolor\": \"white\", \"gridwidth\": 2, \"linecolor\": \"white\", \"showbackground\": true, \"ticks\": \"\", \"zerolinecolor\": \"white\"}}, \"shapedefaults\": {\"line\": {\"color\": \"#2a3f5f\"}}, \"ternary\": {\"aaxis\": {\"gridcolor\": \"white\", \"linecolor\": \"white\", \"ticks\": \"\"}, \"baxis\": {\"gridcolor\": \"white\", \"linecolor\": \"white\", \"ticks\": \"\"}, \"bgcolor\": \"#E5ECF6\", \"caxis\": {\"gridcolor\": \"white\", \"linecolor\": \"white\", \"ticks\": \"\"}}, \"title\": {\"x\": 0.05}, \"xaxis\": {\"automargin\": true, \"gridcolor\": \"white\", \"linecolor\": \"white\", \"ticks\": \"\", \"title\": {\"standoff\": 15}, \"zerolinecolor\": \"white\", \"zerolinewidth\": 2}, \"yaxis\": {\"automargin\": true, \"gridcolor\": \"white\", \"linecolor\": \"white\", \"ticks\": \"\", \"title\": {\"standoff\": 15}, \"zerolinecolor\": \"white\", \"zerolinewidth\": 2}}}, \"title\": {\"text\": \"10 Most Popular Last Names\"}, \"xaxis\": {\"anchor\": \"y\", \"domain\": [0.0, 1.0], \"title\": {\"text\": \"Lastname\"}}, \"yaxis\": {\"anchor\": \"x\", \"domain\": [0.0, 1.0], \"title\": {\"text\": \"Passenger Count\"}}},\n",
              "                        {\"responsive\": true}\n",
              "                    ).then(function(){\n",
              "                            \n",
              "var gd = document.getElementById('2c9288a9-52f7-408d-a385-dcc0ff8654bb');\n",
              "var x = new MutationObserver(function (mutations, observer) {{\n",
              "        var display = window.getComputedStyle(gd).display;\n",
              "        if (!display || display === 'none') {{\n",
              "            console.log([gd, 'removed!']);\n",
              "            Plotly.purge(gd);\n",
              "            observer.disconnect();\n",
              "        }}\n",
              "}});\n",
              "\n",
              "// Listen for the removal of the full notebook cells\n",
              "var notebookContainer = gd.closest('#notebook-container');\n",
              "if (notebookContainer) {{\n",
              "    x.observe(notebookContainer, {childList: true});\n",
              "}}\n",
              "\n",
              "// Listen for the clearing of the current output cell\n",
              "var outputEl = gd.closest('.output');\n",
              "if (outputEl) {{\n",
              "    x.observe(outputEl, {childList: true});\n",
              "}}\n",
              "\n",
              "                        })\n",
              "                };\n",
              "                \n",
              "            </script>\n",
              "        </div>\n",
              "</body>\n",
              "</html>"
            ]
          },
          "metadata": {
            "tags": []
          }
        }
      ]
    },
    {
      "cell_type": "markdown",
      "metadata": {
        "id": "CrRX1feS49CI",
        "colab_type": "text"
      },
      "source": [
        "# Sex column"
      ]
    },
    {
      "cell_type": "code",
      "metadata": {
        "id": "AkvNw6KF48Dy",
        "colab_type": "code",
        "colab": {
          "base_uri": "https://localhost:8080/",
          "height": 34
        },
        "outputId": "97c0a643-c1dd-41c2-b735-4a40cef3fab6"
      },
      "source": [
        "data[data['Sex'] == 'M'].count().max()"
      ],
      "execution_count": 147,
      "outputs": [
        {
          "output_type": "execute_result",
          "data": {
            "text/plain": [
              "503"
            ]
          },
          "metadata": {
            "tags": []
          },
          "execution_count": 147
        }
      ]
    },
    {
      "cell_type": "code",
      "metadata": {
        "id": "-93XXgej4-Dq",
        "colab_type": "code",
        "colab": {
          "base_uri": "https://localhost:8080/",
          "height": 542
        },
        "outputId": "4dbb3d9f-0766-469e-fc2d-43ed9676c89a"
      },
      "source": [
        "sex = ['M', 'F']\n",
        "values = data[data['Sex'] == 'M'].count().max(), data[data['Sex'] == 'F'].count().max()\n",
        "\n",
        "labels={'x': 'Sex', \n",
        "        'y': 'Passenger Count'}\n",
        "\n",
        "fig = px.pie(\n",
        "    names=sex,\n",
        "    values=values,\n",
        "    title=\"Gender Distribution among Passengers\",\n",
        "    labels=labels,\n",
        "    color_discrete_sequence=['Blue', 'Red'])\n",
        "fig.show()\n",
        "\n",
        "# Age column"
      ],
      "execution_count": 148,
      "outputs": [
        {
          "output_type": "display_data",
          "data": {
            "text/html": [
              "<html>\n",
              "<head><meta charset=\"utf-8\" /></head>\n",
              "<body>\n",
              "    <div>\n",
              "            <script src=\"https://cdnjs.cloudflare.com/ajax/libs/mathjax/2.7.5/MathJax.js?config=TeX-AMS-MML_SVG\"></script><script type=\"text/javascript\">if (window.MathJax) {MathJax.Hub.Config({SVG: {font: \"STIX-Web\"}});}</script>\n",
              "                <script type=\"text/javascript\">window.PlotlyConfig = {MathJaxConfig: 'local'};</script>\n",
              "        <script src=\"https://cdn.plot.ly/plotly-latest.min.js\"></script>    \n",
              "            <div id=\"54d424b2-e55e-4cbb-9410-9b14f7f9dc07\" class=\"plotly-graph-div\" style=\"height:525px; width:100%;\"></div>\n",
              "            <script type=\"text/javascript\">\n",
              "                \n",
              "                    window.PLOTLYENV=window.PLOTLYENV || {};\n",
              "                    \n",
              "                if (document.getElementById(\"54d424b2-e55e-4cbb-9410-9b14f7f9dc07\")) {\n",
              "                    Plotly.newPlot(\n",
              "                        '54d424b2-e55e-4cbb-9410-9b14f7f9dc07',\n",
              "                        [{\"domain\": {\"x\": [0.0, 1.0], \"y\": [0.0, 1.0]}, \"hoverlabel\": {\"namelength\": 0}, \"hovertemplate\": \"label=%{label}<br>value=%{value}\", \"labels\": [\"M\", \"F\"], \"legendgroup\": \"\", \"name\": \"\", \"showlegend\": true, \"type\": \"pie\", \"values\": [503, 486]}],\n",
              "                        {\"legend\": {\"tracegroupgap\": 0}, \"piecolorway\": [\"Blue\", \"Red\"], \"template\": {\"data\": {\"bar\": [{\"error_x\": {\"color\": \"#2a3f5f\"}, \"error_y\": {\"color\": \"#2a3f5f\"}, \"marker\": {\"line\": {\"color\": \"#E5ECF6\", \"width\": 0.5}}, \"type\": \"bar\"}], \"barpolar\": [{\"marker\": {\"line\": {\"color\": \"#E5ECF6\", \"width\": 0.5}}, \"type\": \"barpolar\"}], \"carpet\": [{\"aaxis\": {\"endlinecolor\": \"#2a3f5f\", \"gridcolor\": \"white\", \"linecolor\": \"white\", \"minorgridcolor\": \"white\", \"startlinecolor\": \"#2a3f5f\"}, \"baxis\": {\"endlinecolor\": \"#2a3f5f\", \"gridcolor\": \"white\", \"linecolor\": \"white\", \"minorgridcolor\": \"white\", \"startlinecolor\": \"#2a3f5f\"}, \"type\": \"carpet\"}], \"choropleth\": [{\"colorbar\": {\"outlinewidth\": 0, \"ticks\": \"\"}, \"type\": \"choropleth\"}], \"contour\": [{\"colorbar\": {\"outlinewidth\": 0, \"ticks\": \"\"}, \"colorscale\": [[0.0, \"#0d0887\"], [0.1111111111111111, \"#46039f\"], [0.2222222222222222, \"#7201a8\"], [0.3333333333333333, \"#9c179e\"], [0.4444444444444444, \"#bd3786\"], [0.5555555555555556, \"#d8576b\"], [0.6666666666666666, \"#ed7953\"], [0.7777777777777778, \"#fb9f3a\"], [0.8888888888888888, \"#fdca26\"], [1.0, \"#f0f921\"]], \"type\": \"contour\"}], \"contourcarpet\": [{\"colorbar\": {\"outlinewidth\": 0, \"ticks\": \"\"}, \"type\": \"contourcarpet\"}], \"heatmap\": [{\"colorbar\": {\"outlinewidth\": 0, \"ticks\": \"\"}, \"colorscale\": [[0.0, \"#0d0887\"], [0.1111111111111111, \"#46039f\"], [0.2222222222222222, \"#7201a8\"], [0.3333333333333333, \"#9c179e\"], [0.4444444444444444, \"#bd3786\"], [0.5555555555555556, \"#d8576b\"], [0.6666666666666666, \"#ed7953\"], [0.7777777777777778, \"#fb9f3a\"], [0.8888888888888888, \"#fdca26\"], [1.0, \"#f0f921\"]], \"type\": \"heatmap\"}], \"heatmapgl\": [{\"colorbar\": {\"outlinewidth\": 0, \"ticks\": \"\"}, \"colorscale\": [[0.0, \"#0d0887\"], [0.1111111111111111, \"#46039f\"], [0.2222222222222222, \"#7201a8\"], [0.3333333333333333, \"#9c179e\"], [0.4444444444444444, \"#bd3786\"], [0.5555555555555556, \"#d8576b\"], [0.6666666666666666, \"#ed7953\"], [0.7777777777777778, \"#fb9f3a\"], [0.8888888888888888, \"#fdca26\"], [1.0, \"#f0f921\"]], \"type\": \"heatmapgl\"}], \"histogram\": [{\"marker\": {\"colorbar\": {\"outlinewidth\": 0, \"ticks\": \"\"}}, \"type\": \"histogram\"}], \"histogram2d\": [{\"colorbar\": {\"outlinewidth\": 0, \"ticks\": \"\"}, \"colorscale\": [[0.0, \"#0d0887\"], [0.1111111111111111, \"#46039f\"], [0.2222222222222222, \"#7201a8\"], [0.3333333333333333, \"#9c179e\"], [0.4444444444444444, \"#bd3786\"], [0.5555555555555556, \"#d8576b\"], [0.6666666666666666, \"#ed7953\"], [0.7777777777777778, \"#fb9f3a\"], [0.8888888888888888, \"#fdca26\"], [1.0, \"#f0f921\"]], \"type\": \"histogram2d\"}], \"histogram2dcontour\": [{\"colorbar\": {\"outlinewidth\": 0, \"ticks\": \"\"}, \"colorscale\": [[0.0, \"#0d0887\"], [0.1111111111111111, \"#46039f\"], [0.2222222222222222, \"#7201a8\"], [0.3333333333333333, \"#9c179e\"], [0.4444444444444444, \"#bd3786\"], [0.5555555555555556, \"#d8576b\"], [0.6666666666666666, \"#ed7953\"], [0.7777777777777778, \"#fb9f3a\"], [0.8888888888888888, \"#fdca26\"], [1.0, \"#f0f921\"]], \"type\": \"histogram2dcontour\"}], \"mesh3d\": [{\"colorbar\": {\"outlinewidth\": 0, \"ticks\": \"\"}, \"type\": \"mesh3d\"}], \"parcoords\": [{\"line\": {\"colorbar\": {\"outlinewidth\": 0, \"ticks\": \"\"}}, \"type\": \"parcoords\"}], \"pie\": [{\"automargin\": true, \"type\": \"pie\"}], \"scatter\": [{\"marker\": {\"colorbar\": {\"outlinewidth\": 0, \"ticks\": \"\"}}, \"type\": \"scatter\"}], \"scatter3d\": [{\"line\": {\"colorbar\": {\"outlinewidth\": 0, \"ticks\": \"\"}}, \"marker\": {\"colorbar\": {\"outlinewidth\": 0, \"ticks\": \"\"}}, \"type\": \"scatter3d\"}], \"scattercarpet\": [{\"marker\": {\"colorbar\": {\"outlinewidth\": 0, \"ticks\": \"\"}}, \"type\": \"scattercarpet\"}], \"scattergeo\": [{\"marker\": {\"colorbar\": {\"outlinewidth\": 0, \"ticks\": \"\"}}, \"type\": \"scattergeo\"}], \"scattergl\": [{\"marker\": {\"colorbar\": {\"outlinewidth\": 0, \"ticks\": \"\"}}, \"type\": \"scattergl\"}], \"scattermapbox\": [{\"marker\": {\"colorbar\": {\"outlinewidth\": 0, \"ticks\": \"\"}}, \"type\": \"scattermapbox\"}], \"scatterpolar\": [{\"marker\": {\"colorbar\": {\"outlinewidth\": 0, \"ticks\": \"\"}}, \"type\": \"scatterpolar\"}], \"scatterpolargl\": [{\"marker\": {\"colorbar\": {\"outlinewidth\": 0, \"ticks\": \"\"}}, \"type\": \"scatterpolargl\"}], \"scatterternary\": [{\"marker\": {\"colorbar\": {\"outlinewidth\": 0, \"ticks\": \"\"}}, \"type\": \"scatterternary\"}], \"surface\": [{\"colorbar\": {\"outlinewidth\": 0, \"ticks\": \"\"}, \"colorscale\": [[0.0, \"#0d0887\"], [0.1111111111111111, \"#46039f\"], [0.2222222222222222, \"#7201a8\"], [0.3333333333333333, \"#9c179e\"], [0.4444444444444444, \"#bd3786\"], [0.5555555555555556, \"#d8576b\"], [0.6666666666666666, \"#ed7953\"], [0.7777777777777778, \"#fb9f3a\"], [0.8888888888888888, \"#fdca26\"], [1.0, \"#f0f921\"]], \"type\": \"surface\"}], \"table\": [{\"cells\": {\"fill\": {\"color\": \"#EBF0F8\"}, \"line\": {\"color\": \"white\"}}, \"header\": {\"fill\": {\"color\": \"#C8D4E3\"}, \"line\": {\"color\": \"white\"}}, \"type\": \"table\"}]}, \"layout\": {\"annotationdefaults\": {\"arrowcolor\": \"#2a3f5f\", \"arrowhead\": 0, \"arrowwidth\": 1}, \"coloraxis\": {\"colorbar\": {\"outlinewidth\": 0, \"ticks\": \"\"}}, \"colorscale\": {\"diverging\": [[0, \"#8e0152\"], [0.1, \"#c51b7d\"], [0.2, \"#de77ae\"], [0.3, \"#f1b6da\"], [0.4, \"#fde0ef\"], [0.5, \"#f7f7f7\"], [0.6, \"#e6f5d0\"], [0.7, \"#b8e186\"], [0.8, \"#7fbc41\"], [0.9, \"#4d9221\"], [1, \"#276419\"]], \"sequential\": [[0.0, \"#0d0887\"], [0.1111111111111111, \"#46039f\"], [0.2222222222222222, \"#7201a8\"], [0.3333333333333333, \"#9c179e\"], [0.4444444444444444, \"#bd3786\"], [0.5555555555555556, \"#d8576b\"], [0.6666666666666666, \"#ed7953\"], [0.7777777777777778, \"#fb9f3a\"], [0.8888888888888888, \"#fdca26\"], [1.0, \"#f0f921\"]], \"sequentialminus\": [[0.0, \"#0d0887\"], [0.1111111111111111, \"#46039f\"], [0.2222222222222222, \"#7201a8\"], [0.3333333333333333, \"#9c179e\"], [0.4444444444444444, \"#bd3786\"], [0.5555555555555556, \"#d8576b\"], [0.6666666666666666, \"#ed7953\"], [0.7777777777777778, \"#fb9f3a\"], [0.8888888888888888, \"#fdca26\"], [1.0, \"#f0f921\"]]}, \"colorway\": [\"#636efa\", \"#EF553B\", \"#00cc96\", \"#ab63fa\", \"#FFA15A\", \"#19d3f3\", \"#FF6692\", \"#B6E880\", \"#FF97FF\", \"#FECB52\"], \"font\": {\"color\": \"#2a3f5f\"}, \"geo\": {\"bgcolor\": \"white\", \"lakecolor\": \"white\", \"landcolor\": \"#E5ECF6\", \"showlakes\": true, \"showland\": true, \"subunitcolor\": \"white\"}, \"hoverlabel\": {\"align\": \"left\"}, \"hovermode\": \"closest\", \"mapbox\": {\"style\": \"light\"}, \"paper_bgcolor\": \"white\", \"plot_bgcolor\": \"#E5ECF6\", \"polar\": {\"angularaxis\": {\"gridcolor\": \"white\", \"linecolor\": \"white\", \"ticks\": \"\"}, \"bgcolor\": \"#E5ECF6\", \"radialaxis\": {\"gridcolor\": \"white\", \"linecolor\": \"white\", \"ticks\": \"\"}}, \"scene\": {\"xaxis\": {\"backgroundcolor\": \"#E5ECF6\", \"gridcolor\": \"white\", \"gridwidth\": 2, \"linecolor\": \"white\", \"showbackground\": true, \"ticks\": \"\", \"zerolinecolor\": \"white\"}, \"yaxis\": {\"backgroundcolor\": \"#E5ECF6\", \"gridcolor\": \"white\", \"gridwidth\": 2, \"linecolor\": \"white\", \"showbackground\": true, \"ticks\": \"\", \"zerolinecolor\": \"white\"}, \"zaxis\": {\"backgroundcolor\": \"#E5ECF6\", \"gridcolor\": \"white\", \"gridwidth\": 2, \"linecolor\": \"white\", \"showbackground\": true, \"ticks\": \"\", \"zerolinecolor\": \"white\"}}, \"shapedefaults\": {\"line\": {\"color\": \"#2a3f5f\"}}, \"ternary\": {\"aaxis\": {\"gridcolor\": \"white\", \"linecolor\": \"white\", \"ticks\": \"\"}, \"baxis\": {\"gridcolor\": \"white\", \"linecolor\": \"white\", \"ticks\": \"\"}, \"bgcolor\": \"#E5ECF6\", \"caxis\": {\"gridcolor\": \"white\", \"linecolor\": \"white\", \"ticks\": \"\"}}, \"title\": {\"x\": 0.05}, \"xaxis\": {\"automargin\": true, \"gridcolor\": \"white\", \"linecolor\": \"white\", \"ticks\": \"\", \"title\": {\"standoff\": 15}, \"zerolinecolor\": \"white\", \"zerolinewidth\": 2}, \"yaxis\": {\"automargin\": true, \"gridcolor\": \"white\", \"linecolor\": \"white\", \"ticks\": \"\", \"title\": {\"standoff\": 15}, \"zerolinecolor\": \"white\", \"zerolinewidth\": 2}}}, \"title\": {\"text\": \"Gender Distribution among Passengers\"}},\n",
              "                        {\"responsive\": true}\n",
              "                    ).then(function(){\n",
              "                            \n",
              "var gd = document.getElementById('54d424b2-e55e-4cbb-9410-9b14f7f9dc07');\n",
              "var x = new MutationObserver(function (mutations, observer) {{\n",
              "        var display = window.getComputedStyle(gd).display;\n",
              "        if (!display || display === 'none') {{\n",
              "            console.log([gd, 'removed!']);\n",
              "            Plotly.purge(gd);\n",
              "            observer.disconnect();\n",
              "        }}\n",
              "}});\n",
              "\n",
              "// Listen for the removal of the full notebook cells\n",
              "var notebookContainer = gd.closest('#notebook-container');\n",
              "if (notebookContainer) {{\n",
              "    x.observe(notebookContainer, {childList: true});\n",
              "}}\n",
              "\n",
              "// Listen for the clearing of the current output cell\n",
              "var outputEl = gd.closest('.output');\n",
              "if (outputEl) {{\n",
              "    x.observe(outputEl, {childList: true});\n",
              "}}\n",
              "\n",
              "                        })\n",
              "                };\n",
              "                \n",
              "            </script>\n",
              "        </div>\n",
              "</body>\n",
              "</html>"
            ]
          },
          "metadata": {
            "tags": []
          }
        }
      ]
    },
    {
      "cell_type": "markdown",
      "metadata": {
        "id": "wZ-lhVtJ4_zi",
        "colab_type": "text"
      },
      "source": [
        "# Age column"
      ]
    },
    {
      "cell_type": "code",
      "metadata": {
        "id": "Svs5MrOy4-vK",
        "colab_type": "code",
        "colab": {
          "base_uri": "https://localhost:8080/",
          "height": 542
        },
        "outputId": "fdcb7d96-1c27-4fe5-8825-8fb801143efc"
      },
      "source": [
        "male_ages = data[data['Sex']=='M']['Age'].tolist()\n",
        "female_ages = data[data['Sex']=='F']['Age'].tolist()\n",
        "\n",
        "fig = ff.create_distplot(\n",
        "    hist_data=[male_ages, female_ages],\n",
        "    group_labels=['M', 'F'],\n",
        "    colors=['#1500ff', '#ff00e1'],\n",
        "    show_hist=False,\n",
        "    show_rug=False)\n",
        "\n",
        "fig.layout.update({'title':f'Age Distribution of both Genders<br>[Average Age: {np.mean(male_ages+female_ages):.2f} years]'})\n",
        "fig.show()"
      ],
      "execution_count": 149,
      "outputs": [
        {
          "output_type": "display_data",
          "data": {
            "text/html": [
              "<html>\n",
              "<head><meta charset=\"utf-8\" /></head>\n",
              "<body>\n",
              "    <div>\n",
              "            <script src=\"https://cdnjs.cloudflare.com/ajax/libs/mathjax/2.7.5/MathJax.js?config=TeX-AMS-MML_SVG\"></script><script type=\"text/javascript\">if (window.MathJax) {MathJax.Hub.Config({SVG: {font: \"STIX-Web\"}});}</script>\n",
              "                <script type=\"text/javascript\">window.PlotlyConfig = {MathJaxConfig: 'local'};</script>\n",
              "        <script src=\"https://cdn.plot.ly/plotly-latest.min.js\"></script>    \n",
              "            <div id=\"59a46517-07ed-4686-9423-b4527263e65a\" class=\"plotly-graph-div\" style=\"height:525px; width:100%;\"></div>\n",
              "            <script type=\"text/javascript\">\n",
              "                \n",
              "                    window.PLOTLYENV=window.PLOTLYENV || {};\n",
              "                    \n",
              "                if (document.getElementById(\"59a46517-07ed-4686-9423-b4527263e65a\")) {\n",
              "                    Plotly.newPlot(\n",
              "                        '59a46517-07ed-4686-9423-b4527263e65a',\n",
              "                        [{\"legendgroup\": \"M\", \"marker\": {\"color\": \"#1500ff\"}, \"mode\": \"lines\", \"name\": \"M\", \"showlegend\": true, \"type\": \"scatter\", \"x\": [4.0, 4.152, 4.304, 4.456, 4.608, 4.76, 4.912, 5.064, 5.216, 5.368, 5.52, 5.672, 5.824, 5.976, 6.128, 6.279999999999999, 6.432, 6.584, 6.736000000000001, 6.888, 7.04, 7.192, 7.343999999999999, 7.496, 7.648, 7.8, 7.952, 8.104, 8.256, 8.408000000000001, 8.559999999999999, 8.712, 8.864, 9.016, 9.168, 9.32, 9.472000000000001, 9.623999999999999, 9.776, 9.928, 10.08, 10.232, 10.384, 10.536, 10.687999999999999, 10.84, 10.992, 11.144, 11.296, 11.448, 11.6, 11.751999999999999, 11.904, 12.056, 12.208, 12.36, 12.512, 12.664, 12.816, 12.968, 13.12, 13.272, 13.424, 13.576, 13.728, 13.88, 14.032, 14.184, 14.336, 14.488, 14.64, 14.792, 14.944, 15.096, 15.248, 15.4, 15.552, 15.704, 15.856, 16.008, 16.16, 16.311999999999998, 16.464, 16.616, 16.768, 16.92, 17.072, 17.224, 17.375999999999998, 17.528, 17.68, 17.832, 17.984, 18.136, 18.288, 18.439999999999998, 18.592, 18.744, 18.896, 19.048000000000002, 19.2, 19.352, 19.503999999999998, 19.656, 19.808, 19.96, 20.112, 20.264, 20.416, 20.568, 20.72, 20.872, 21.024, 21.176, 21.328, 21.48, 21.632, 21.784, 21.936, 22.088, 22.24, 22.392, 22.544, 22.696, 22.848, 23.0, 23.152, 23.304, 23.456, 23.608, 23.76, 23.912, 24.064, 24.216, 24.368, 24.52, 24.672, 24.824, 24.976, 25.128, 25.28, 25.432, 25.584, 25.736, 25.888, 26.04, 26.192, 26.344, 26.496, 26.648, 26.8, 26.952, 27.104, 27.256, 27.408, 27.56, 27.712, 27.864, 28.016, 28.168, 28.32, 28.472, 28.624, 28.776, 28.928, 29.08, 29.232, 29.384, 29.536, 29.688, 29.84, 29.992, 30.144, 30.296, 30.448, 30.6, 30.752, 30.904, 31.056, 31.208, 31.36, 31.512, 31.664, 31.816, 31.968, 32.120000000000005, 32.272, 32.424, 32.576, 32.728, 32.879999999999995, 33.032, 33.184, 33.336, 33.488, 33.64, 33.792, 33.944, 34.096000000000004, 34.248000000000005, 34.4, 34.552, 34.704, 34.856, 35.007999999999996, 35.16, 35.312, 35.464, 35.616, 35.768, 35.92, 36.072, 36.224, 36.376, 36.528, 36.68, 36.832, 36.984, 37.136, 37.288, 37.44, 37.592, 37.744, 37.896, 38.048, 38.2, 38.352, 38.504, 38.656, 38.808, 38.96, 39.112, 39.264, 39.416, 39.568, 39.72, 39.872, 40.024, 40.176, 40.328, 40.48, 40.632, 40.784, 40.936, 41.088, 41.24, 41.392, 41.544, 41.696, 41.848, 42.0, 42.152, 42.304, 42.456, 42.608, 42.76, 42.912, 43.064, 43.216, 43.368, 43.52, 43.672, 43.824, 43.976, 44.128, 44.28, 44.432, 44.584, 44.736, 44.888, 45.04, 45.192, 45.344, 45.496, 45.648, 45.8, 45.952, 46.104, 46.256, 46.408, 46.56, 46.712, 46.864, 47.016, 47.168, 47.32, 47.472, 47.624, 47.776, 47.928, 48.08, 48.232, 48.384, 48.536, 48.688, 48.84, 48.992, 49.144, 49.296, 49.448, 49.6, 49.752, 49.904, 50.056, 50.208, 50.36, 50.512, 50.664, 50.816, 50.968, 51.12, 51.272, 51.424, 51.576, 51.728, 51.88, 52.032, 52.184, 52.336, 52.488, 52.64, 52.792, 52.944, 53.096, 53.248, 53.4, 53.552, 53.704, 53.856, 54.008, 54.16, 54.312, 54.464, 54.616, 54.768, 54.92, 55.072, 55.224, 55.376, 55.528, 55.68, 55.832, 55.984, 56.136, 56.288, 56.44, 56.592, 56.744, 56.896, 57.048, 57.2, 57.352, 57.504, 57.656, 57.808, 57.96, 58.112, 58.264, 58.416, 58.568, 58.72, 58.872, 59.024, 59.176, 59.328, 59.48, 59.632, 59.784, 59.936, 60.088, 60.24, 60.392, 60.544, 60.696, 60.848, 61.0, 61.152, 61.304, 61.456, 61.608, 61.76, 61.912, 62.064, 62.216, 62.368, 62.52, 62.672, 62.824, 62.976, 63.128, 63.28, 63.432, 63.584, 63.736, 63.888, 64.03999999999999, 64.19200000000001, 64.344, 64.49600000000001, 64.648, 64.8, 64.952, 65.104, 65.256, 65.408, 65.56, 65.712, 65.864, 66.01599999999999, 66.168, 66.32, 66.47200000000001, 66.624, 66.77600000000001, 66.928, 67.08, 67.232, 67.384, 67.536, 67.688, 67.84, 67.99199999999999, 68.144, 68.296, 68.448, 68.6, 68.752, 68.904, 69.056, 69.208, 69.36, 69.512, 69.664, 69.816, 69.968, 70.12, 70.272, 70.424, 70.576, 70.728, 70.88, 71.032, 71.184, 71.336, 71.488, 71.64, 71.792, 71.944, 72.096, 72.248, 72.4, 72.552, 72.704, 72.856, 73.008, 73.16, 73.312, 73.464, 73.616, 73.768, 73.92, 74.072, 74.224, 74.376, 74.528, 74.68, 74.832, 74.984, 75.136, 75.288, 75.44, 75.592, 75.744, 75.896, 76.048, 76.2, 76.352, 76.504, 76.656, 76.808, 76.96, 77.112, 77.264, 77.416, 77.568, 77.72, 77.872, 78.024, 78.176, 78.328, 78.48, 78.632, 78.784, 78.936, 79.088, 79.24, 79.392, 79.544, 79.696, 79.848], \"xaxis\": \"x\", \"y\": [0.0010073183089472101, 0.0010361905514280592, 0.0010656570285425165, 0.001095739447320024, 0.0011264613809446333, 0.001157848345766329, 0.0011899278750463773, 0.0012227295889031605, 0.0012562852599077672, 0.0012906288737629071, 0.0013257966844846664, 0.0013618272634944972, 0.0013987615420188637, 0.0014366428461864197, 0.001475516924207709, 0.0015154319650204577, 0.0015564386077848043, 0.0015985899416175453, 0.0016419414949629906, 0.0016865512140104312, 0.001732479429584986, 0.0017797888119596502, 0.0018285443130622232, 0.00187881309558142, 0.0019306644485120614, 0.0019841696887200823, 0.0020394020481540208, 0.00209643654638097, 0.002155349848181553, 0.002216220106000342, 0.0022791267871152114, 0.002344150485461331, 0.0024113727181225117, 0.0024808757065844927, 0.0025527421429309308, 0.0026270549412531234, 0.0027038969746385386, 0.0027833507982004645, 0.002865498358711069, 0.00295042069150237, 0.0030381976054034802, 0.0031289073565871407, 0.0032226263123036284, 0.003319428605584573, 0.003419385782102463, 0.0035225664404727585, 0.0036290358673836875, 0.0037388556690333167, 0.0038520834004431765, 0.003968772194302022, 0.004088970391071072, 0.004212721172152683, 0.00434006219798676, 0.004471025252992672, 0.004605635899318105, 0.00474391314138947, 0.004885869103280416, 0.005031508720925034, 0.005180829451200132, 0.005333820999885444, 0.005490465070482189, 0.005650735135827902, 0.005814596234389246, 0.005982004793044088, 0.006152908478079811, 0.006327246076036216, 0.006504947405909139, 0.006685933264105286, 0.006870115403399601, 0.007057396546995398, 0.007247670438624128, 0.007440821929447198, 0.00763672710233797, 0.007835253433928163, 0.008036259994601233, 0.008239597686406546, 0.0084451095186541, 0.00865263092073098, 0.008861990091459705, 0.00907300838409616, 0.009285500725842962, 0.009499276070533743, 0.009714137882927718, 0.009929884652842336, 0.010146310437147709, 0.010363205427450563, 0.010580356541109772, 0.010797548033051616, 0.011014562125692096, 0.011231179654127505, 0.011447180723624344, 0.011662345376326932, 0.011876454264006396, 0.012089289323600007, 0.012300634452234895, 0.012510276178396658, 0.012718004325891426, 0.012923612667259906, 0.013126899563334455, 0.013327668585684892, 0.01352572911877599, 0.01372089693875854, 0.01391299476593661, 0.014101852788095157, 0.014287309152033672, 0.014469210420832327, 0.014647411994575575, 0.01482177849247336, 0.01499218409455022, 0.015158512841316486, 0.015320658890090894, 0.015478526726909508, 0.01563203133322878, 0.015781098306909686, 0.015925663937252702, 0.01606567523413752, 0.01620108991160527, 0.016331876326501894, 0.01645801337307729, 0.01657949033470328, 0.016696306694133627, 0.016808471903976798, 0.0169160051192877, 0.01701893489440418, 0.01711729884635736, 0.017211143287369397, 0.01730052282911721, 0.017385499961584554, 0.01746614460944629, 0.017542533669027603, 0.017614750528955423, 0.01768288457767032, 0.01774703070099325, 0.017807288772943002, 0.017863763142977968, 0.017916562122788707, 0.01796579747569807, 0.018011583911632705, 0.018054038590515634, 0.0180932806367946, 0.018129430667667062, 0.018162610337391184, 0.0181929418998845, 0.01822054779161044, 0.018245550236538684, 0.018268070874741194, 0.018288230415953146, 0.018306148319189343, 0.018321942499264113, 0.01833572906081833, 0.018347622060213117, 0.018357733295408303, 0.01836617212370687, 0.018373045307016184, 0.01837845688405523, 0.0183825080687256, 0.0183852971736648, 0.018386919557814838, 0.018387467596668573, 0.018387030673702294, 0.01838569519136636, 0.018383544599887548, 0.018380659442037713, 0.0183771174119442, 0.01837299342595793, 0.01836835970355637, 0.018363285856239656, 0.018357838982379384, 0.01835208376600066, 0.018346082577517752, 0.018339895574502146, 0.018333580800637652, 0.018327194281109405, 0.01832079011278115, 0.018314420547636906, 0.018308136068097156, 0.0183019854529652, 0.018296015832914306, 0.018290272734589157, 0.018284800112564645, 0.01827964036857901, 0.018274834357635272, 0.018270421380743515, 0.018266439164254255, 0.018262923825909425, 0.018259909827909763, 0.018257429917464835, 0.018255515055452667, 0.0182541943339689, 0.018253494883689013, 0.01825344177210049, 0.018254057893783645, 0.01825536385402936, 0.01825737784717821, 0.018260115531147626, 0.018263589899681843, 0.018267811153911902, 0.018272786574850777, 0.01827852039847062, 0.018285013695015815, 0.018292264254196534, 0.018300266477883378, 0.018309011281884523, 0.01831848600833317, 0.018328674350145402, 0.018339556288927538, 0.01835110804761847, 0.018363302059046984, 0.01837610695146781, 0.018389487552013913, 0.018403404908867507, 0.018417816332809478, 0.018432675458657635, 0.01844793232694955, 0.018463533486066833, 0.01847942211483628, 0.018495538165480024, 0.01851181852662339, 0.01852819720590688, 0.018544605531588418, 0.018560972372365595, 0.018577224374495965, 0.01859328621514747, 0.01860908087077282, 0.01862452989917104, 0.01863955373377865, 0.018654071988621863, 0.018668003772261976, 0.01868126800897828, 0.018693783765358102, 0.018705470580402086, 0.018716248797205317, 0.018726039894241542, 0.018734766814259438, 0.018742354288796125, 0.01874872915632446, 0.018753820672077367, 0.01875756080763338, 0.018759884538403764, 0.01876073011723177, 0.01876003933239857, 0.018757757748427747, 0.018753834928189973, 0.018748224634931164, 0.018740885012979724, 0.018731778746030662, 0.018720873192055613, 0.018708140494046146, 0.018693557665962993, 0.018677106653433844, 0.018658774368916244, 0.018638552701218513, 0.018616438499448735, 0.018592433531638943, 0.01856654441846636, 0.018538782542665548, 0.01850916393489229, 0.018477709136961114, 0.018444443043532217, 0.018409394723468708, 0.01837259722222047, 0.01833408734671574, 0.01829390543435392, 0.01825209510779348, 0.01820870301731485, 0.01816377857261055, 0.01811737366591214, 0.0180695423884055, 0.018020340741912794, 0.01796982634783011, 0.017918058155305262, 0.01786509615061953, 0.017811001069701928, 0.01775583411565352, 0.017699656683094842, 0.017642530091070464, 0.017584515326153436, 0.017525672797288516, 0.01746606210379854, 0.01740574181785357, 0.017344769282569002, 0.0172832004267579, 0.017221089597215467, 0.017158489409261492, 0.017095450616110897, 0.01703202199748459, 0.016968250267714535, 0.016904180003438823, 0.01683985359082679, 0.016775311192121865, 0.016710590731141815, 0.01664572789723443, 0.01658075616705159, 0.016515706843378032, 0.016450609110133622, 0.016385490102560036, 0.01632037499150608, 0.01625528708064031, 0.01619024791534614, 0.01612527740199335, 0.01606039393623151, 0.01599561453891512, 0.015930954998247288, 0.0158664300167189, 0.01580205336142242, 0.01573783801633442, 0.01567379633518716, 0.015609940193587342, 0.01554628113908847, 0.015482830537981255, 0.015419599717633854, 0.015356600103288919, 0.015293843348307083, 0.015231341456935204, 0.015169106898771767, 0.015107152714199754, 0.015045492610158653, 0.014984141045730296, 0.014923113307117312, 0.014862425571696963, 0.014802094960935886, 0.014742139582051993, 0.01468257855840744, 0.014623432048710257, 0.014564721255191369, 0.01450646842100718, 0.014448696817195537, 0.014391430719583601, 0.014334695376109985, 0.014278516965079554, 0.014222922544917875, 0.014167939996032327, 0.01411359795541958, 0.014059925744682794, 0.01400695329213833, 0.013954711049699718, 0.01390322990522728, 0.013852541091025005, 0.013802676089152532, 0.013753666534200125, 0.013705544114148326, 0.013658340469902643, 0.013612087094057517, 0.013566815229403726, 0.01352255576764958, 0.013479339148780323, 0.013437195261431799, 0.013396153344604995, 0.013356241890998164, 0.013317488552183418, 0.013279920045805603, 0.013243562064933946, 0.013208439189651394, 0.013174574800923934, 0.013141990996752574, 0.01311070851057476, 0.013080746631850198, 0.013052123128738468, 0.013024854172753245, 0.012998954265260002, 0.012974436165671302, 0.012951310821186297, 0.012929587297918453, 0.012909272713258535, 0.012890372169327306, 0.012872888687385349, 0.012856823143084445, 0.012842174202466746, 0.012828938258643474, 0.01281710936911427, 0.012806679193720832, 0.01279763693326367, 0.012789969268848508, 0.012783660302068036, 0.01277869149616545, 0.012775041618367395, 0.012772686683615333, 0.012771599899965532, 0.012771751615967787, 0.012773109270371735, 0.012775637344546231, 0.012779297318031405, 0.012784047627674325, 0.01278984363082684, 0.012796637573108578, 0.012804378561257634, 0.012813012541607324, 0.012822482284737808, 0.012832727376857455, 0.012843684218469285, 0.012855286030873275, 0.012867462871045409, 0.01288014165541892, 0.012893246193072529, 0.012906697228804455, 0.012920412496539895, 0.012934306783483377, 0.012948292005386459, 0.012962277293255787, 0.012976169091776516, 0.01298987126967254, 0.013003285242167466, 0.013016310105649763, 0.013028842784582093, 0.013040778190629107, 0.013052009393910314, 0.013062427806215427, 0.013071923375949538, 0.01308038479450483, 0.013087699713684797, 0.013093754973736845, 0.013098436841479856, 0.013101631257945378, 0.013103224094885235, 0.013103101419434614, 0.013101149766158742, 0.01309725641565358, 0.013091309678816686, 0.013083199185854065, 0.013072816179042818, 0.013060053808227834, 0.013044807427994137, 0.013026974895424896, 0.013006456867328863, 0.012983157095800184, 0.01295698272095849, 0.012927844559707713, 0.01289565738934875, 0.012860340224883297, 0.012821816588854801, 0.012780014772586518, 0.012734868087696983, 0.01268631510679909, 0.01263429989232055, 0.012578772212420783, 0.012519687743021797, 0.012457008255018246, 0.012390701785784702, 0.012320742794155319, 0.012247112298112968, 0.01216979799449087, 0.01208879436005913, 0.012004102733442072, 0.011915731377388153, 0.01182369552099336, 0.011728017381560077, 0.011628726165856586, 0.01152585805062703, 0.011419456142287253, 0.011309570415828443, 0.011196257633036789, 0.01107958124022395, 0.010959611245748523, 0.010836424077693438, 0.010710102422147117, 0.010580735042617249, 0.010448416581184918, 0.010313247342082499, 0.010175333058451778, 0.010034784643107902, 0.009891717924200101, 0.00974625336672163, 0.009598515780877625, 0.009448634018371956, 0.009296740657720688, 0.009142971679741521, 0.008987466134404693, 0.0088303658002611, 0.008671814837688478, 0.008511959437214743, 0.008350947464190826, 0.008188928101092001, 0.008026051488727407, 0.007862468367632549, 0.007698329720908061, 0.007533786419751518, 0.0073689888729061345, 0.007204086681222161, 0.0070392282984934, 0.006874560699692337, 0.006710229057684273, 0.006546376429452348, 0.006383143452813587, 0.0062206680545489204, 0.006059085170810918, 0.00589852648060944, 0.00573912015310919, 0.005580990609404779, 0.0054242582993681045, 0.005269039494090401, 0.005115446094367886, 0.0049635854556050645, 0.004813560229435121, 0.0046654682222816565, 0.004519402271011361, 0.0043754501357535424, 0.004233694409889401, 0.004094212447143037, 0.003957076305636531, 0.0038223527087045345], \"yaxis\": \"y\"}, {\"legendgroup\": \"F\", \"marker\": {\"color\": \"#ff00e1\"}, \"mode\": \"lines\", \"name\": \"F\", \"showlegend\": true, \"type\": \"scatter\", \"x\": [0.0, 0.174, 0.348, 0.522, 0.696, 0.87, 1.044, 1.218, 1.392, 1.566, 1.74, 1.914, 2.088, 2.262, 2.436, 2.61, 2.784, 2.958, 3.132, 3.306, 3.48, 3.654, 3.828, 4.002, 4.176, 4.35, 4.524, 4.698, 4.872, 5.046, 5.22, 5.394, 5.568, 5.742, 5.916, 6.09, 6.264, 6.438, 6.612, 6.786, 6.96, 7.134, 7.308, 7.482, 7.656, 7.83, 8.004, 8.178, 8.352, 8.526, 8.7, 8.874, 9.048, 9.222, 9.396, 9.57, 9.744, 9.918, 10.092, 10.266, 10.44, 10.614, 10.788, 10.962, 11.136, 11.31, 11.484, 11.658, 11.832, 12.006, 12.18, 12.354, 12.528, 12.702, 12.876, 13.05, 13.224, 13.398, 13.572, 13.746, 13.92, 14.094, 14.268, 14.442, 14.616, 14.79, 14.964, 15.138, 15.312, 15.486, 15.66, 15.834, 16.008, 16.182, 16.356, 16.53, 16.704, 16.878, 17.052, 17.226, 17.4, 17.574, 17.748, 17.922, 18.096, 18.27, 18.444, 18.618, 18.792, 18.966, 19.14, 19.314, 19.488, 19.662, 19.836, 20.01, 20.184, 20.358, 20.532, 20.706, 20.88, 21.054, 21.228, 21.402, 21.576, 21.75, 21.924, 22.098, 22.272, 22.446, 22.62, 22.794, 22.968, 23.142, 23.316, 23.49, 23.664, 23.838, 24.012, 24.186, 24.36, 24.534, 24.708, 24.882, 25.056, 25.23, 25.404, 25.578, 25.752, 25.926, 26.1, 26.274, 26.448, 26.622, 26.796, 26.97, 27.144, 27.318, 27.492, 27.666, 27.84, 28.014, 28.188, 28.362, 28.536, 28.71, 28.884, 29.058, 29.232, 29.406, 29.58, 29.754, 29.928, 30.102, 30.276, 30.45, 30.624, 30.798, 30.972, 31.146, 31.32, 31.494, 31.668, 31.842, 32.016, 32.19, 32.364, 32.538, 32.712, 32.886, 33.06, 33.234, 33.408, 33.582, 33.756, 33.93, 34.104, 34.278, 34.452, 34.626, 34.8, 34.974, 35.148, 35.322, 35.496, 35.67, 35.844, 36.018, 36.192, 36.366, 36.54, 36.714, 36.888, 37.062, 37.236, 37.41, 37.584, 37.758, 37.932, 38.106, 38.28, 38.454, 38.628, 38.802, 38.976, 39.15, 39.324, 39.498, 39.672, 39.846, 40.02, 40.194, 40.368, 40.542, 40.716, 40.89, 41.064, 41.238, 41.412, 41.586, 41.76, 41.934, 42.108, 42.282, 42.456, 42.63, 42.804, 42.978, 43.152, 43.326, 43.5, 43.674, 43.848, 44.022, 44.196, 44.37, 44.544, 44.718, 44.892, 45.066, 45.24, 45.414, 45.588, 45.762, 45.936, 46.11, 46.284, 46.458, 46.632, 46.806, 46.98, 47.154, 47.328, 47.502, 47.676, 47.85, 48.024, 48.198, 48.372, 48.546, 48.72, 48.894, 49.068, 49.242, 49.416, 49.59, 49.764, 49.938, 50.112, 50.286, 50.46, 50.634, 50.808, 50.982, 51.156, 51.33, 51.504, 51.678, 51.852, 52.026, 52.2, 52.374, 52.548, 52.722, 52.896, 53.07, 53.244, 53.418, 53.592, 53.766, 53.94, 54.114, 54.288, 54.462, 54.636, 54.81, 54.984, 55.158, 55.332, 55.506, 55.68, 55.854, 56.028, 56.202, 56.376, 56.55, 56.724, 56.898, 57.072, 57.246, 57.42, 57.594, 57.768, 57.942, 58.116, 58.29, 58.464, 58.638, 58.812, 58.986, 59.16, 59.334, 59.508, 59.682, 59.856, 60.03, 60.204, 60.378, 60.552, 60.726, 60.9, 61.074, 61.248, 61.422, 61.596, 61.77, 61.944, 62.118, 62.292, 62.466, 62.64, 62.814, 62.988, 63.162, 63.336, 63.51, 63.684, 63.858, 64.032, 64.206, 64.38, 64.554, 64.728, 64.902, 65.076, 65.25, 65.424, 65.598, 65.772, 65.946, 66.12, 66.294, 66.468, 66.642, 66.816, 66.99, 67.164, 67.338, 67.512, 67.686, 67.86, 68.034, 68.208, 68.382, 68.556, 68.73, 68.904, 69.078, 69.252, 69.426, 69.6, 69.774, 69.948, 70.122, 70.296, 70.47, 70.644, 70.818, 70.992, 71.166, 71.34, 71.514, 71.688, 71.862, 72.036, 72.21, 72.384, 72.558, 72.732, 72.906, 73.08, 73.254, 73.428, 73.602, 73.776, 73.95, 74.124, 74.298, 74.472, 74.646, 74.82, 74.994, 75.168, 75.342, 75.516, 75.69, 75.864, 76.038, 76.212, 76.386, 76.56, 76.734, 76.908, 77.082, 77.256, 77.43, 77.604, 77.778, 77.952, 78.126, 78.3, 78.474, 78.648, 78.822, 78.996, 79.17, 79.344, 79.518, 79.692, 79.866, 80.04, 80.214, 80.388, 80.562, 80.736, 80.91, 81.084, 81.258, 81.432, 81.606, 81.78, 81.954, 82.128, 82.302, 82.476, 82.65, 82.824, 82.998, 83.172, 83.346, 83.52, 83.694, 83.868, 84.042, 84.216, 84.39, 84.564, 84.738, 84.912, 85.086, 85.26, 85.434, 85.608, 85.782, 85.956, 86.13, 86.304, 86.478, 86.652, 86.826], \"xaxis\": \"x\", \"y\": [0.00043419858388593174, 0.0004412101944924427, 0.0004479652855489053, 0.0004544614572414883, 0.00046069861047598264, 0.00046667909485665195, 0.0004724078535647735, 0.00047789256456833007, 0.00048314377760562616, 0.00048817504639766005, 0.0004930030555564772, 0.000497647741669077, 0.000502132408048409, 0.0005064838326542042, 0.0005107323686965385, 0.000514912037443874, 0.000519060612764564, 0.000523219696936334, 0.0005274347872619, 0.0005317553330305318, 0.0005362347823651578, 0.0005409306184923932, 0.0005459043849689992, 0.0005512216993927751, 0.0005569522551191597, 0.0005631698104971221, 0.0005699521651297715, 0.0005773811226568865, 0.0005855424395489405, 0.0005945257593956808, 0.0006044245321676373, 0.000615335917926791, 0.0006273606744637747, 0.0006406030283441219, 0.000655170528856184, 0.0006711738843689975, 0.0006887267806305116, 0.0007079456805659993, 0.0007289496051737435, 0.0007518598951611226, 0.000776799953019431, 0.0008038949653009065, 0.0008332716049368181, 0.0008650577135215021, 0.0008993819635842174, 0.000936373500978612, 0.0009761615676384579, 0.0010188751050780609, 0.0010646423391557339, 0.0011135903467687188, 0.001165844605307053, 0.0012215285258612234, 0.0012807629713530795, 0.0013436657609400483, 0.0014103511622276176, 0.001480929373013173, 0.0015555059944732893, 0.001634181497894922, 0.001717050687236451, 0.0018042021599851145, 0.0018957177689505065, 0.00199167208779762, 0.002092131883274567, 0.0021971555972274425, 0.0023067928416153865, 0.002421083909840479, 0.002540059307786996, 0.0026637393080216044, 0.002792133530636538, 0.0029252405542221195, 0.003063047560429251, 0.00320553001552719, 0.0033526513922744012, 0.00350436293530126, 0.0036606034730508057, 0.003821299279138769, 0.003986363985776167, 0.004155698551647865, 0.004329191286359254, 0.004506717933252605, 0.004688141812055431, 0.00487331402245912, 0.005062073709337401, 0.005254248389906267, 0.005449654342701178, 0.005648097057807917, 0.005849371747333683, 0.00605326391465059, 0.006259549980485576, 0.006467997963477124, 0.006678368212371118, 0.006890414186593003, 0.0071038832815131054, 0.00731851769432315, 0.00753405532606754, 0.007750230715027872, 0.007966775996346615, 0.008183421882500529, 0.008399898658999148, 0.0086159371894907, 0.00883126992431148, 0.009045631906415896, 0.00925876176857488, 0.009470402715731636, 0.009680303486457119, 0.009888219287550543, 0.010093912695988081, 0.01029715452262501, 0.01049772463231453, 0.010695412715404272, 0.010890019005918109, 0.011081354942116376, 0.011269243765550883, 0.011453521055188964, 0.01163403519366679, 0.011810647763243967, 0.011983233869562978, 0.012151682391863096, 0.012315896158854074, 0.012475792050015597, 0.012631301022646315, 0.012782368065539717, 0.012928952080703862, 0.013071025695064634, 0.01320857500459489, 0.013341599253785174, 0.013470110453814731, 0.013594132943191008, 0.013713702894993018, 0.013828867775182847, 0.013939685756730524, 0.014046225094533895, 0.014148563466301245, 0.01424678728470158, 0.01434099098617541, 0.014431276301833764, 0.014517751515862131, 0.01460053071678365, 0.01467973304682874, 0.014755481954505174, 0.014827904455269407, 0.014897130404965793, 0.0149632917904335, 0.015026522041381168, 0.01508695536730211, 0.015144726122855601, 0.015199968204770065, 0.015252814482944868, 0.015303396268037983, 0.015351842817431927, 0.015398280881078233, 0.01544283428833385, 0.015485623576522693, 0.015526765661591748, 0.015566373550883616, 0.015604556097718415, 0.01564141779717566, 0.015677058622188243, 0.015711573898808322, 0.0157450542192884, 0.015777585391424775, 0.01580924842245585, 0.015840119535674803, 0.015870270217821218, 0.015899767295243186, 0.015928673036782172, 0.01595704528131699, 0.015984937587908626, 0.016012399406520265, 0.016039476267330113, 0.016066209986718642, 0.016092638888084824, 0.0161187980357288, 0.016144719480124026, 0.016170432512993875, 0.01619596393069289, 0.016221338304477476, 0.016246578256328345, 0.016271704739052074, 0.016296737319445677, 0.016321694463350054, 0.01634659382144552, 0.016371452514653512, 0.016396287418006524, 0.016421115441827026, 0.01644595380902178, 0.01647082032724978, 0.016495733654659984, 0.01652071355782296, 0.01654578116040175, 0.016570959181020105, 0.01659627215869942, 0.016621746664147598, 0.016647411495100704, 0.016673297853842223, 0.01669943950496066, 0.016725872911356864, 0.01675263734648107, 0.01677977498077011, 0.01680733094026791, 0.016835353335456615, 0.016863893258393506, 0.016893004746352067, 0.016922744710299194, 0.01695317282670804, 0.016984351391406503, 0.01701634513439558, 0.017049220994838753, 0.01708304785571933, 0.017117896237990173, 0.017153837954390787, 0.017190945723483047, 0.017229292744849564, 0.01726895223680904, 0.017309996938421935, 0.0173524985779863, 0.017396527310647957, 0.017442151128172625, 0.01748943524433667, 0.017538441459790256, 0.017589227510618154, 0.017641846405175025, 0.01769634575408352, 0.017752767098565915, 0.017811145242517024, 0.0178715075939198, 0.01793387352134868, 0.017998253731398465, 0.01806464967291524, 0.018133052973886437, 0.018203444916771568, 0.01827579595792218, 0.01835006529654613, 0.01842620049842299, 0.01850413717927175, 0.018583798752314182, 0.018665096244165735, 0.018747928182731716, 0.018832180560281648, 0.018917726874338753, 0.01900442824844485, 0.019092133634257314, 0.019180680095811142, 0.019269893176131748, 0.019359587345731136, 0.019449566531859776, 0.019539624726727087, 0.019629546672252248, 0.019719108618272724, 0.01980807915051618, 0.01989622008405598, 0.019983287417407125, 0.020069032341901265, 0.020153202300495325, 0.02023554208973944, 0.020315794998243413, 0.020393703974655703, 0.02046901281789416, 0.020541467382160634, 0.02061081678911837, 0.02067681463952537, 0.020739220216594554, 0.0207977996733903, 0.020852327196675263, 0.020902586139787613, 0.020948370117351622, 0.02098948405491142, 0.02102574518691393, 0.02105698399685669, 0.021083045093856542, 0.021103788020373673, 0.021119087986346798, 0.021128836525549036, 0.021132942070554713, 0.02113133044331374, 0.021123945258949325, 0.021110748241028873, 0.02109171944719324, 0.021066857404667138, 0.021036179155800395, 0.020999720214405503, 0.020957534434254767, 0.020909693791671766, 0.0208562880846945, 0.020797424551798192, 0.020733227413635025, 0.020663837341676674, 0.020589410858028033, 0.020510119671015122, 0.020426149951433364, 0.020337701554573602, 0.02024498719332165, 0.020148231567753336, 0.020047670456716436, 0.01994354977691413, 0.01983612461497244, 0.01972565823789686, 0.019612421087201386, 0.01949668976182657, 0.01937874599476381, 0.01925887562806471, 0.0191373675906521, 0.019014512883058998, 0.018890603572917712, 0.01876593180469761, 0.018640788826864364, 0.01851546403930107, 0.01839024406350244, 0.01826541183773226, 0.01814124573902357, 0.018018018733608008, 0.01789599755708647, 0.017775441925402237, 0.017656603777454725, 0.017539726549994344, 0.01742504448527357, 0.017312781971794495, 0.017203152918388764, 0.017096360161792303, 0.016992594907836108, 0.01689203620635736, 0.016794850459949665, 0.016701190966705255, 0.01661119749715943, 0.01652499590572035, 0.01644269777695586, 0.016364400107204673, 0.016290185022081717, 0.016220119530550647, 0.016154255316335974, 0.016092628567540596, 0.016035259845414648, 0.015982153993288863, 0.015933300086732223, 0.01588867142602109, 0.01584822557200798, 0.015811904426455987, 0.015779634357850698, 0.01575132637362519, 0.015726876339620458, 0.015706165247469747, 0.015689059530426208, 0.015675411427962367, 0.01566505939925259, 0.015657828585408182, 0.01565353132007625, 0.015651967687735514, 0.015652926128734607, 0.01565618408981554, 0.015661508718564122, 0.015668657599919682, 0.015677379532574077, 0.0156874153427923, 0.015698498732900613, 0.01571035716141488, 0.015722712751528933, 0.01573528322444772, 0.015747782853841815, 0.015759923437517115, 0.015771415282240308, 0.01578196819753582, 0.01579129249418118, 0.015799099983066205, 0.015805104970057892, 0.015809025242517764, 0.015810583043160013, 0.015809506027007224, 0.01580552819730257, 0.015798390816366345, 0.01578784328753969, 0.015773644004538838, 0.015755561164743886, 0.015733373543168595, 0.015706871224092988, 0.015675856287593416, 0.01564014344846617, 0.015599560645311138, 0.015553949577819217, 0.015503166190584372, 0.015447081102043932, 0.015385579977426081, 0.01531856384486076, 0.015245949354077698, 0.015167668977378293, 0.015083671152821353, 0.014993920369807366, 0.014898397197478068, 0.014797098256572307, 0.014690036135587841, 0.014577239252298252, 0.014458751661859975, 0.014334632812918776, 0.014204957253287373, 0.014069814286915809, 0.013929307584017404, 0.013783554746338855, 0.013632686829685187, 0.013476847825914686, 0.013316194106723378, 0.013150893831624278, 0.012981126322614429, 0.012807081408093657, 0.01262895873866996, 0.01244696707754482, 0.012261323568227353, 0.012072252982373322, 0.011879986950585127, 0.011684763179044875, 0.011486824654878875, 0.011286418843174778, 0.011083796878584361, 0.01087921275445454, 0.010672922512425182, 0.010465183435426592, 0.010256253246988967, 0.010046389319752257, 0.009835847896026696, 0.009624883323211401, 0.009413747306818836, 0.009202688183789299, 0.0089919502187004, 0.00878177292538665, 0.00857239041638533, 0.00836403078251017, 0.008156915504731712, 0.007951258900406316, 0.007747267605748405, 0.007545140096281292, 0.00734506624683287, 0.007147226932461588, 0.006951793671508368, 0.006758928311771994, 0.0065687827605980555, 0.006381498759458132, 0.006197207703376728, 0.006016030505339606, 0.005838077505589012, 0.005663448425484859, 0.005492232365379988, 0.005324507845731902, 0.005160342890448717, 0.004999795151248989, 0.004842912071601152, 0.004689731088606787, 0.004540279870995301, 0.004394576591218097, 0.004252630229459832, 0.004114440907230799, 0.003980000248067483, 0.0038492917627467246, 0.0037222912563185154, 0.003598967254179194, 0.0034792814443458516, 0.0033631891330510723, 0.003250639710758063, 0.0031415771256972634, 0.0030359403620495154, 0.0029336639199441677, 0.002834678294506262, 0.002738910451270977, 0.0026462842953879516, 0.002556721132159194, 0.00247014011659281, 0.002386458689808296, 0.002305593000295296, 0.002227458308206954, 0.002151969371056429, 0.0020790408093820704, 0.0020085874511476362, 0.0019405246538504188, 0.0018747686035164844, 0.0018112365899698038, 0.0017498472579654738, 0.001690520833977818, 0.0016331793286271977, 0.0015777467149153093, 0.001524149082614347, 0.001472314769320464, 0.0014221744688344183, 0.001373661317671176, 0.0013267109606251814, 0.0012812615964273217, 0.0012372540046240764, 0.0011946315548873134, 0.0011533402000257701, 0.0011133284540158388, 0.0010745473564003666, 0.001036950424420478, 0.0010004935942471418, 0.0009651351526676832, 0.0009308356605580609, 0.0008975578694361473, 0.0008652666323448392, 0.0008339288102587275, 0.0008035131751445613, 0.0007739903107361468, 0.0007453325120088024, 0.0007175136842596029, 0.0006905092426174039, 0.0006642960127233489], \"yaxis\": \"y\"}],\n",
              "                        {\"barmode\": \"overlay\", \"hovermode\": \"closest\", \"legend\": {\"traceorder\": \"reversed\"}, \"template\": {\"data\": {\"bar\": [{\"error_x\": {\"color\": \"#2a3f5f\"}, \"error_y\": {\"color\": \"#2a3f5f\"}, \"marker\": {\"line\": {\"color\": \"#E5ECF6\", \"width\": 0.5}}, \"type\": \"bar\"}], \"barpolar\": [{\"marker\": {\"line\": {\"color\": \"#E5ECF6\", \"width\": 0.5}}, \"type\": \"barpolar\"}], \"carpet\": [{\"aaxis\": {\"endlinecolor\": \"#2a3f5f\", \"gridcolor\": \"white\", \"linecolor\": \"white\", \"minorgridcolor\": \"white\", \"startlinecolor\": \"#2a3f5f\"}, \"baxis\": {\"endlinecolor\": \"#2a3f5f\", \"gridcolor\": \"white\", \"linecolor\": \"white\", \"minorgridcolor\": \"white\", \"startlinecolor\": \"#2a3f5f\"}, \"type\": \"carpet\"}], \"choropleth\": [{\"colorbar\": {\"outlinewidth\": 0, \"ticks\": \"\"}, \"type\": \"choropleth\"}], \"contour\": [{\"colorbar\": {\"outlinewidth\": 0, \"ticks\": \"\"}, \"colorscale\": [[0.0, \"#0d0887\"], [0.1111111111111111, \"#46039f\"], [0.2222222222222222, \"#7201a8\"], [0.3333333333333333, \"#9c179e\"], [0.4444444444444444, \"#bd3786\"], [0.5555555555555556, \"#d8576b\"], [0.6666666666666666, \"#ed7953\"], [0.7777777777777778, \"#fb9f3a\"], [0.8888888888888888, \"#fdca26\"], [1.0, \"#f0f921\"]], \"type\": \"contour\"}], \"contourcarpet\": [{\"colorbar\": {\"outlinewidth\": 0, \"ticks\": \"\"}, \"type\": \"contourcarpet\"}], \"heatmap\": [{\"colorbar\": {\"outlinewidth\": 0, \"ticks\": \"\"}, \"colorscale\": [[0.0, \"#0d0887\"], [0.1111111111111111, \"#46039f\"], [0.2222222222222222, \"#7201a8\"], [0.3333333333333333, \"#9c179e\"], [0.4444444444444444, \"#bd3786\"], [0.5555555555555556, \"#d8576b\"], [0.6666666666666666, \"#ed7953\"], [0.7777777777777778, \"#fb9f3a\"], [0.8888888888888888, \"#fdca26\"], [1.0, \"#f0f921\"]], \"type\": \"heatmap\"}], \"heatmapgl\": [{\"colorbar\": {\"outlinewidth\": 0, \"ticks\": \"\"}, \"colorscale\": [[0.0, \"#0d0887\"], [0.1111111111111111, \"#46039f\"], [0.2222222222222222, \"#7201a8\"], [0.3333333333333333, \"#9c179e\"], [0.4444444444444444, \"#bd3786\"], [0.5555555555555556, \"#d8576b\"], [0.6666666666666666, \"#ed7953\"], [0.7777777777777778, \"#fb9f3a\"], [0.8888888888888888, \"#fdca26\"], [1.0, \"#f0f921\"]], \"type\": \"heatmapgl\"}], \"histogram\": [{\"marker\": {\"colorbar\": {\"outlinewidth\": 0, \"ticks\": \"\"}}, \"type\": \"histogram\"}], \"histogram2d\": [{\"colorbar\": {\"outlinewidth\": 0, \"ticks\": \"\"}, \"colorscale\": [[0.0, \"#0d0887\"], [0.1111111111111111, \"#46039f\"], [0.2222222222222222, \"#7201a8\"], [0.3333333333333333, \"#9c179e\"], [0.4444444444444444, \"#bd3786\"], [0.5555555555555556, \"#d8576b\"], [0.6666666666666666, \"#ed7953\"], [0.7777777777777778, \"#fb9f3a\"], [0.8888888888888888, \"#fdca26\"], [1.0, \"#f0f921\"]], \"type\": \"histogram2d\"}], \"histogram2dcontour\": [{\"colorbar\": {\"outlinewidth\": 0, \"ticks\": \"\"}, \"colorscale\": [[0.0, \"#0d0887\"], [0.1111111111111111, \"#46039f\"], [0.2222222222222222, \"#7201a8\"], [0.3333333333333333, \"#9c179e\"], [0.4444444444444444, \"#bd3786\"], [0.5555555555555556, \"#d8576b\"], [0.6666666666666666, \"#ed7953\"], [0.7777777777777778, \"#fb9f3a\"], [0.8888888888888888, \"#fdca26\"], [1.0, \"#f0f921\"]], \"type\": \"histogram2dcontour\"}], \"mesh3d\": [{\"colorbar\": {\"outlinewidth\": 0, \"ticks\": \"\"}, \"type\": \"mesh3d\"}], \"parcoords\": [{\"line\": {\"colorbar\": {\"outlinewidth\": 0, \"ticks\": \"\"}}, \"type\": \"parcoords\"}], \"pie\": [{\"automargin\": true, \"type\": \"pie\"}], \"scatter\": [{\"marker\": {\"colorbar\": {\"outlinewidth\": 0, \"ticks\": \"\"}}, \"type\": \"scatter\"}], \"scatter3d\": [{\"line\": {\"colorbar\": {\"outlinewidth\": 0, \"ticks\": \"\"}}, \"marker\": {\"colorbar\": {\"outlinewidth\": 0, \"ticks\": \"\"}}, \"type\": \"scatter3d\"}], \"scattercarpet\": [{\"marker\": {\"colorbar\": {\"outlinewidth\": 0, \"ticks\": \"\"}}, \"type\": \"scattercarpet\"}], \"scattergeo\": [{\"marker\": {\"colorbar\": {\"outlinewidth\": 0, \"ticks\": \"\"}}, \"type\": \"scattergeo\"}], \"scattergl\": [{\"marker\": {\"colorbar\": {\"outlinewidth\": 0, \"ticks\": \"\"}}, \"type\": \"scattergl\"}], \"scattermapbox\": [{\"marker\": {\"colorbar\": {\"outlinewidth\": 0, \"ticks\": \"\"}}, \"type\": \"scattermapbox\"}], \"scatterpolar\": [{\"marker\": {\"colorbar\": {\"outlinewidth\": 0, \"ticks\": \"\"}}, \"type\": \"scatterpolar\"}], \"scatterpolargl\": [{\"marker\": {\"colorbar\": {\"outlinewidth\": 0, \"ticks\": \"\"}}, \"type\": \"scatterpolargl\"}], \"scatterternary\": [{\"marker\": {\"colorbar\": {\"outlinewidth\": 0, \"ticks\": \"\"}}, \"type\": \"scatterternary\"}], \"surface\": [{\"colorbar\": {\"outlinewidth\": 0, \"ticks\": \"\"}, \"colorscale\": [[0.0, \"#0d0887\"], [0.1111111111111111, \"#46039f\"], [0.2222222222222222, \"#7201a8\"], [0.3333333333333333, \"#9c179e\"], [0.4444444444444444, \"#bd3786\"], [0.5555555555555556, \"#d8576b\"], [0.6666666666666666, \"#ed7953\"], [0.7777777777777778, \"#fb9f3a\"], [0.8888888888888888, \"#fdca26\"], [1.0, \"#f0f921\"]], \"type\": \"surface\"}], \"table\": [{\"cells\": {\"fill\": {\"color\": \"#EBF0F8\"}, \"line\": {\"color\": \"white\"}}, \"header\": {\"fill\": {\"color\": \"#C8D4E3\"}, \"line\": {\"color\": \"white\"}}, \"type\": \"table\"}]}, \"layout\": {\"annotationdefaults\": {\"arrowcolor\": \"#2a3f5f\", \"arrowhead\": 0, \"arrowwidth\": 1}, \"coloraxis\": {\"colorbar\": {\"outlinewidth\": 0, \"ticks\": \"\"}}, \"colorscale\": {\"diverging\": [[0, \"#8e0152\"], [0.1, \"#c51b7d\"], [0.2, \"#de77ae\"], [0.3, \"#f1b6da\"], [0.4, \"#fde0ef\"], [0.5, \"#f7f7f7\"], [0.6, \"#e6f5d0\"], [0.7, \"#b8e186\"], [0.8, \"#7fbc41\"], [0.9, \"#4d9221\"], [1, \"#276419\"]], \"sequential\": [[0.0, \"#0d0887\"], [0.1111111111111111, \"#46039f\"], [0.2222222222222222, \"#7201a8\"], [0.3333333333333333, \"#9c179e\"], [0.4444444444444444, \"#bd3786\"], [0.5555555555555556, \"#d8576b\"], [0.6666666666666666, \"#ed7953\"], [0.7777777777777778, \"#fb9f3a\"], [0.8888888888888888, \"#fdca26\"], [1.0, \"#f0f921\"]], \"sequentialminus\": [[0.0, \"#0d0887\"], [0.1111111111111111, \"#46039f\"], [0.2222222222222222, \"#7201a8\"], [0.3333333333333333, \"#9c179e\"], [0.4444444444444444, \"#bd3786\"], [0.5555555555555556, \"#d8576b\"], [0.6666666666666666, \"#ed7953\"], [0.7777777777777778, \"#fb9f3a\"], [0.8888888888888888, \"#fdca26\"], [1.0, \"#f0f921\"]]}, \"colorway\": [\"#636efa\", \"#EF553B\", \"#00cc96\", \"#ab63fa\", \"#FFA15A\", \"#19d3f3\", \"#FF6692\", \"#B6E880\", \"#FF97FF\", \"#FECB52\"], \"font\": {\"color\": \"#2a3f5f\"}, \"geo\": {\"bgcolor\": \"white\", \"lakecolor\": \"white\", \"landcolor\": \"#E5ECF6\", \"showlakes\": true, \"showland\": true, \"subunitcolor\": \"white\"}, \"hoverlabel\": {\"align\": \"left\"}, \"hovermode\": \"closest\", \"mapbox\": {\"style\": \"light\"}, \"paper_bgcolor\": \"white\", \"plot_bgcolor\": \"#E5ECF6\", \"polar\": {\"angularaxis\": {\"gridcolor\": \"white\", \"linecolor\": \"white\", \"ticks\": \"\"}, \"bgcolor\": \"#E5ECF6\", \"radialaxis\": {\"gridcolor\": \"white\", \"linecolor\": \"white\", \"ticks\": \"\"}}, \"scene\": {\"xaxis\": {\"backgroundcolor\": \"#E5ECF6\", \"gridcolor\": \"white\", \"gridwidth\": 2, \"linecolor\": \"white\", \"showbackground\": true, \"ticks\": \"\", \"zerolinecolor\": \"white\"}, \"yaxis\": {\"backgroundcolor\": \"#E5ECF6\", \"gridcolor\": \"white\", \"gridwidth\": 2, \"linecolor\": \"white\", \"showbackground\": true, \"ticks\": \"\", \"zerolinecolor\": \"white\"}, \"zaxis\": {\"backgroundcolor\": \"#E5ECF6\", \"gridcolor\": \"white\", \"gridwidth\": 2, \"linecolor\": \"white\", \"showbackground\": true, \"ticks\": \"\", \"zerolinecolor\": \"white\"}}, \"shapedefaults\": {\"line\": {\"color\": \"#2a3f5f\"}}, \"ternary\": {\"aaxis\": {\"gridcolor\": \"white\", \"linecolor\": \"white\", \"ticks\": \"\"}, \"baxis\": {\"gridcolor\": \"white\", \"linecolor\": \"white\", \"ticks\": \"\"}, \"bgcolor\": \"#E5ECF6\", \"caxis\": {\"gridcolor\": \"white\", \"linecolor\": \"white\", \"ticks\": \"\"}}, \"title\": {\"x\": 0.05}, \"xaxis\": {\"automargin\": true, \"gridcolor\": \"white\", \"linecolor\": \"white\", \"ticks\": \"\", \"title\": {\"standoff\": 15}, \"zerolinecolor\": \"white\", \"zerolinewidth\": 2}, \"yaxis\": {\"automargin\": true, \"gridcolor\": \"white\", \"linecolor\": \"white\", \"ticks\": \"\", \"title\": {\"standoff\": 15}, \"zerolinecolor\": \"white\", \"zerolinewidth\": 2}}}, \"title\": {\"text\": \"Age Distribution of both Genders<br>[Average Age: 44.58 years]\"}, \"xaxis\": {\"anchor\": \"y2\", \"domain\": [0.0, 1.0], \"zeroline\": false}, \"yaxis\": {\"anchor\": \"free\", \"domain\": [0.0, 1], \"position\": 0.0}},\n",
              "                        {\"responsive\": true}\n",
              "                    ).then(function(){\n",
              "                            \n",
              "var gd = document.getElementById('59a46517-07ed-4686-9423-b4527263e65a');\n",
              "var x = new MutationObserver(function (mutations, observer) {{\n",
              "        var display = window.getComputedStyle(gd).display;\n",
              "        if (!display || display === 'none') {{\n",
              "            console.log([gd, 'removed!']);\n",
              "            Plotly.purge(gd);\n",
              "            observer.disconnect();\n",
              "        }}\n",
              "}});\n",
              "\n",
              "// Listen for the removal of the full notebook cells\n",
              "var notebookContainer = gd.closest('#notebook-container');\n",
              "if (notebookContainer) {{\n",
              "    x.observe(notebookContainer, {childList: true});\n",
              "}}\n",
              "\n",
              "// Listen for the clearing of the current output cell\n",
              "var outputEl = gd.closest('.output');\n",
              "if (outputEl) {{\n",
              "    x.observe(outputEl, {childList: true});\n",
              "}}\n",
              "\n",
              "                        })\n",
              "                };\n",
              "                \n",
              "            </script>\n",
              "        </div>\n",
              "</body>\n",
              "</html>"
            ]
          },
          "metadata": {
            "tags": []
          }
        }
      ]
    },
    {
      "cell_type": "markdown",
      "metadata": {
        "id": "fTSGPSvc5Bpg",
        "colab_type": "text"
      },
      "source": [
        "# \tCategory column"
      ]
    },
    {
      "cell_type": "code",
      "metadata": {
        "id": "XkPNuv7v5AmC",
        "colab_type": "code",
        "colab": {
          "base_uri": "https://localhost:8080/",
          "height": 34
        },
        "outputId": "d26b9b54-834b-4c6a-81f7-8e8325a74246"
      },
      "source": [
        "data['Category'].unique()"
      ],
      "execution_count": 150,
      "outputs": [
        {
          "output_type": "execute_result",
          "data": {
            "text/plain": [
              "array(['P', 'C'], dtype=object)"
            ]
          },
          "metadata": {
            "tags": []
          },
          "execution_count": 150
        }
      ]
    },
    {
      "cell_type": "code",
      "metadata": {
        "id": "hc0xsVgJ5FEq",
        "colab_type": "code",
        "colab": {
          "base_uri": "https://localhost:8080/",
          "height": 542
        },
        "outputId": "8dc33f4a-1bb9-4fd5-cc84-252c49bdf9e6"
      },
      "source": [
        "names = ['Passengers', 'Crew Members']\n",
        "values = [data[data['Category']=='P'].count().max(), data[data['Category']=='C'].count().max()]\n",
        "\n",
        "fig = px.pie(\n",
        "    names=names,\n",
        "    values=values,\n",
        "    hole =0.5,\n",
        "    title = 'Crew members vs Passengers',\n",
        "    color_discrete_sequence=['Red', 'Blue']\n",
        ")\n",
        "fig.show()"
      ],
      "execution_count": 151,
      "outputs": [
        {
          "output_type": "display_data",
          "data": {
            "text/html": [
              "<html>\n",
              "<head><meta charset=\"utf-8\" /></head>\n",
              "<body>\n",
              "    <div>\n",
              "            <script src=\"https://cdnjs.cloudflare.com/ajax/libs/mathjax/2.7.5/MathJax.js?config=TeX-AMS-MML_SVG\"></script><script type=\"text/javascript\">if (window.MathJax) {MathJax.Hub.Config({SVG: {font: \"STIX-Web\"}});}</script>\n",
              "                <script type=\"text/javascript\">window.PlotlyConfig = {MathJaxConfig: 'local'};</script>\n",
              "        <script src=\"https://cdn.plot.ly/plotly-latest.min.js\"></script>    \n",
              "            <div id=\"fa79cea0-85f6-4b0b-9c12-bb9349846f19\" class=\"plotly-graph-div\" style=\"height:525px; width:100%;\"></div>\n",
              "            <script type=\"text/javascript\">\n",
              "                \n",
              "                    window.PLOTLYENV=window.PLOTLYENV || {};\n",
              "                    \n",
              "                if (document.getElementById(\"fa79cea0-85f6-4b0b-9c12-bb9349846f19\")) {\n",
              "                    Plotly.newPlot(\n",
              "                        'fa79cea0-85f6-4b0b-9c12-bb9349846f19',\n",
              "                        [{\"domain\": {\"x\": [0.0, 1.0], \"y\": [0.0, 1.0]}, \"hole\": 0.5, \"hoverlabel\": {\"namelength\": 0}, \"hovertemplate\": \"label=%{label}<br>value=%{value}\", \"labels\": [\"Passengers\", \"Crew Members\"], \"legendgroup\": \"\", \"name\": \"\", \"showlegend\": true, \"type\": \"pie\", \"values\": [796, 193]}],\n",
              "                        {\"legend\": {\"tracegroupgap\": 0}, \"piecolorway\": [\"Red\", \"Blue\"], \"template\": {\"data\": {\"bar\": [{\"error_x\": {\"color\": \"#2a3f5f\"}, \"error_y\": {\"color\": \"#2a3f5f\"}, \"marker\": {\"line\": {\"color\": \"#E5ECF6\", \"width\": 0.5}}, \"type\": \"bar\"}], \"barpolar\": [{\"marker\": {\"line\": {\"color\": \"#E5ECF6\", \"width\": 0.5}}, \"type\": \"barpolar\"}], \"carpet\": [{\"aaxis\": {\"endlinecolor\": \"#2a3f5f\", \"gridcolor\": \"white\", \"linecolor\": \"white\", \"minorgridcolor\": \"white\", \"startlinecolor\": \"#2a3f5f\"}, \"baxis\": {\"endlinecolor\": \"#2a3f5f\", \"gridcolor\": \"white\", \"linecolor\": \"white\", \"minorgridcolor\": \"white\", \"startlinecolor\": \"#2a3f5f\"}, \"type\": \"carpet\"}], \"choropleth\": [{\"colorbar\": {\"outlinewidth\": 0, \"ticks\": \"\"}, \"type\": \"choropleth\"}], \"contour\": [{\"colorbar\": {\"outlinewidth\": 0, \"ticks\": \"\"}, \"colorscale\": [[0.0, \"#0d0887\"], [0.1111111111111111, \"#46039f\"], [0.2222222222222222, \"#7201a8\"], [0.3333333333333333, \"#9c179e\"], [0.4444444444444444, \"#bd3786\"], [0.5555555555555556, \"#d8576b\"], [0.6666666666666666, \"#ed7953\"], [0.7777777777777778, \"#fb9f3a\"], [0.8888888888888888, \"#fdca26\"], [1.0, \"#f0f921\"]], \"type\": \"contour\"}], \"contourcarpet\": [{\"colorbar\": {\"outlinewidth\": 0, \"ticks\": \"\"}, \"type\": \"contourcarpet\"}], \"heatmap\": [{\"colorbar\": {\"outlinewidth\": 0, \"ticks\": \"\"}, \"colorscale\": [[0.0, \"#0d0887\"], [0.1111111111111111, \"#46039f\"], [0.2222222222222222, \"#7201a8\"], [0.3333333333333333, \"#9c179e\"], [0.4444444444444444, \"#bd3786\"], [0.5555555555555556, \"#d8576b\"], [0.6666666666666666, \"#ed7953\"], [0.7777777777777778, \"#fb9f3a\"], [0.8888888888888888, \"#fdca26\"], [1.0, \"#f0f921\"]], \"type\": \"heatmap\"}], \"heatmapgl\": [{\"colorbar\": {\"outlinewidth\": 0, \"ticks\": \"\"}, \"colorscale\": [[0.0, \"#0d0887\"], [0.1111111111111111, \"#46039f\"], [0.2222222222222222, \"#7201a8\"], [0.3333333333333333, \"#9c179e\"], [0.4444444444444444, \"#bd3786\"], [0.5555555555555556, \"#d8576b\"], [0.6666666666666666, \"#ed7953\"], [0.7777777777777778, \"#fb9f3a\"], [0.8888888888888888, \"#fdca26\"], [1.0, \"#f0f921\"]], \"type\": \"heatmapgl\"}], \"histogram\": [{\"marker\": {\"colorbar\": {\"outlinewidth\": 0, \"ticks\": \"\"}}, \"type\": \"histogram\"}], \"histogram2d\": [{\"colorbar\": {\"outlinewidth\": 0, \"ticks\": \"\"}, \"colorscale\": [[0.0, \"#0d0887\"], [0.1111111111111111, \"#46039f\"], [0.2222222222222222, \"#7201a8\"], [0.3333333333333333, \"#9c179e\"], [0.4444444444444444, \"#bd3786\"], [0.5555555555555556, \"#d8576b\"], [0.6666666666666666, \"#ed7953\"], [0.7777777777777778, \"#fb9f3a\"], [0.8888888888888888, \"#fdca26\"], [1.0, \"#f0f921\"]], \"type\": \"histogram2d\"}], \"histogram2dcontour\": [{\"colorbar\": {\"outlinewidth\": 0, \"ticks\": \"\"}, \"colorscale\": [[0.0, \"#0d0887\"], [0.1111111111111111, \"#46039f\"], [0.2222222222222222, \"#7201a8\"], [0.3333333333333333, \"#9c179e\"], [0.4444444444444444, \"#bd3786\"], [0.5555555555555556, \"#d8576b\"], [0.6666666666666666, \"#ed7953\"], [0.7777777777777778, \"#fb9f3a\"], [0.8888888888888888, \"#fdca26\"], [1.0, \"#f0f921\"]], \"type\": \"histogram2dcontour\"}], \"mesh3d\": [{\"colorbar\": {\"outlinewidth\": 0, \"ticks\": \"\"}, \"type\": \"mesh3d\"}], \"parcoords\": [{\"line\": {\"colorbar\": {\"outlinewidth\": 0, \"ticks\": \"\"}}, \"type\": \"parcoords\"}], \"pie\": [{\"automargin\": true, \"type\": \"pie\"}], \"scatter\": [{\"marker\": {\"colorbar\": {\"outlinewidth\": 0, \"ticks\": \"\"}}, \"type\": \"scatter\"}], \"scatter3d\": [{\"line\": {\"colorbar\": {\"outlinewidth\": 0, \"ticks\": \"\"}}, \"marker\": {\"colorbar\": {\"outlinewidth\": 0, \"ticks\": \"\"}}, \"type\": \"scatter3d\"}], \"scattercarpet\": [{\"marker\": {\"colorbar\": {\"outlinewidth\": 0, \"ticks\": \"\"}}, \"type\": \"scattercarpet\"}], \"scattergeo\": [{\"marker\": {\"colorbar\": {\"outlinewidth\": 0, \"ticks\": \"\"}}, \"type\": \"scattergeo\"}], \"scattergl\": [{\"marker\": {\"colorbar\": {\"outlinewidth\": 0, \"ticks\": \"\"}}, \"type\": \"scattergl\"}], \"scattermapbox\": [{\"marker\": {\"colorbar\": {\"outlinewidth\": 0, \"ticks\": \"\"}}, \"type\": \"scattermapbox\"}], \"scatterpolar\": [{\"marker\": {\"colorbar\": {\"outlinewidth\": 0, \"ticks\": \"\"}}, \"type\": \"scatterpolar\"}], \"scatterpolargl\": [{\"marker\": {\"colorbar\": {\"outlinewidth\": 0, \"ticks\": \"\"}}, \"type\": \"scatterpolargl\"}], \"scatterternary\": [{\"marker\": {\"colorbar\": {\"outlinewidth\": 0, \"ticks\": \"\"}}, \"type\": \"scatterternary\"}], \"surface\": [{\"colorbar\": {\"outlinewidth\": 0, \"ticks\": \"\"}, \"colorscale\": [[0.0, \"#0d0887\"], [0.1111111111111111, \"#46039f\"], [0.2222222222222222, \"#7201a8\"], [0.3333333333333333, \"#9c179e\"], [0.4444444444444444, \"#bd3786\"], [0.5555555555555556, \"#d8576b\"], [0.6666666666666666, \"#ed7953\"], [0.7777777777777778, \"#fb9f3a\"], [0.8888888888888888, \"#fdca26\"], [1.0, \"#f0f921\"]], \"type\": \"surface\"}], \"table\": [{\"cells\": {\"fill\": {\"color\": \"#EBF0F8\"}, \"line\": {\"color\": \"white\"}}, \"header\": {\"fill\": {\"color\": \"#C8D4E3\"}, \"line\": {\"color\": \"white\"}}, \"type\": \"table\"}]}, \"layout\": {\"annotationdefaults\": {\"arrowcolor\": \"#2a3f5f\", \"arrowhead\": 0, \"arrowwidth\": 1}, \"coloraxis\": {\"colorbar\": {\"outlinewidth\": 0, \"ticks\": \"\"}}, \"colorscale\": {\"diverging\": [[0, \"#8e0152\"], [0.1, \"#c51b7d\"], [0.2, \"#de77ae\"], [0.3, \"#f1b6da\"], [0.4, \"#fde0ef\"], [0.5, \"#f7f7f7\"], [0.6, \"#e6f5d0\"], [0.7, \"#b8e186\"], [0.8, \"#7fbc41\"], [0.9, \"#4d9221\"], [1, \"#276419\"]], \"sequential\": [[0.0, \"#0d0887\"], [0.1111111111111111, \"#46039f\"], [0.2222222222222222, \"#7201a8\"], [0.3333333333333333, \"#9c179e\"], [0.4444444444444444, \"#bd3786\"], [0.5555555555555556, \"#d8576b\"], [0.6666666666666666, \"#ed7953\"], [0.7777777777777778, \"#fb9f3a\"], [0.8888888888888888, \"#fdca26\"], [1.0, \"#f0f921\"]], \"sequentialminus\": [[0.0, \"#0d0887\"], [0.1111111111111111, \"#46039f\"], [0.2222222222222222, \"#7201a8\"], [0.3333333333333333, \"#9c179e\"], [0.4444444444444444, \"#bd3786\"], [0.5555555555555556, \"#d8576b\"], [0.6666666666666666, \"#ed7953\"], [0.7777777777777778, \"#fb9f3a\"], [0.8888888888888888, \"#fdca26\"], [1.0, \"#f0f921\"]]}, \"colorway\": [\"#636efa\", \"#EF553B\", \"#00cc96\", \"#ab63fa\", \"#FFA15A\", \"#19d3f3\", \"#FF6692\", \"#B6E880\", \"#FF97FF\", \"#FECB52\"], \"font\": {\"color\": \"#2a3f5f\"}, \"geo\": {\"bgcolor\": \"white\", \"lakecolor\": \"white\", \"landcolor\": \"#E5ECF6\", \"showlakes\": true, \"showland\": true, \"subunitcolor\": \"white\"}, \"hoverlabel\": {\"align\": \"left\"}, \"hovermode\": \"closest\", \"mapbox\": {\"style\": \"light\"}, \"paper_bgcolor\": \"white\", \"plot_bgcolor\": \"#E5ECF6\", \"polar\": {\"angularaxis\": {\"gridcolor\": \"white\", \"linecolor\": \"white\", \"ticks\": \"\"}, \"bgcolor\": \"#E5ECF6\", \"radialaxis\": {\"gridcolor\": \"white\", \"linecolor\": \"white\", \"ticks\": \"\"}}, \"scene\": {\"xaxis\": {\"backgroundcolor\": \"#E5ECF6\", \"gridcolor\": \"white\", \"gridwidth\": 2, \"linecolor\": \"white\", \"showbackground\": true, \"ticks\": \"\", \"zerolinecolor\": \"white\"}, \"yaxis\": {\"backgroundcolor\": \"#E5ECF6\", \"gridcolor\": \"white\", \"gridwidth\": 2, \"linecolor\": \"white\", \"showbackground\": true, \"ticks\": \"\", \"zerolinecolor\": \"white\"}, \"zaxis\": {\"backgroundcolor\": \"#E5ECF6\", \"gridcolor\": \"white\", \"gridwidth\": 2, \"linecolor\": \"white\", \"showbackground\": true, \"ticks\": \"\", \"zerolinecolor\": \"white\"}}, \"shapedefaults\": {\"line\": {\"color\": \"#2a3f5f\"}}, \"ternary\": {\"aaxis\": {\"gridcolor\": \"white\", \"linecolor\": \"white\", \"ticks\": \"\"}, \"baxis\": {\"gridcolor\": \"white\", \"linecolor\": \"white\", \"ticks\": \"\"}, \"bgcolor\": \"#E5ECF6\", \"caxis\": {\"gridcolor\": \"white\", \"linecolor\": \"white\", \"ticks\": \"\"}}, \"title\": {\"x\": 0.05}, \"xaxis\": {\"automargin\": true, \"gridcolor\": \"white\", \"linecolor\": \"white\", \"ticks\": \"\", \"title\": {\"standoff\": 15}, \"zerolinecolor\": \"white\", \"zerolinewidth\": 2}, \"yaxis\": {\"automargin\": true, \"gridcolor\": \"white\", \"linecolor\": \"white\", \"ticks\": \"\", \"title\": {\"standoff\": 15}, \"zerolinecolor\": \"white\", \"zerolinewidth\": 2}}}, \"title\": {\"text\": \"Crew members vs Passengers\"}},\n",
              "                        {\"responsive\": true}\n",
              "                    ).then(function(){\n",
              "                            \n",
              "var gd = document.getElementById('fa79cea0-85f6-4b0b-9c12-bb9349846f19');\n",
              "var x = new MutationObserver(function (mutations, observer) {{\n",
              "        var display = window.getComputedStyle(gd).display;\n",
              "        if (!display || display === 'none') {{\n",
              "            console.log([gd, 'removed!']);\n",
              "            Plotly.purge(gd);\n",
              "            observer.disconnect();\n",
              "        }}\n",
              "}});\n",
              "\n",
              "// Listen for the removal of the full notebook cells\n",
              "var notebookContainer = gd.closest('#notebook-container');\n",
              "if (notebookContainer) {{\n",
              "    x.observe(notebookContainer, {childList: true});\n",
              "}}\n",
              "\n",
              "// Listen for the clearing of the current output cell\n",
              "var outputEl = gd.closest('.output');\n",
              "if (outputEl) {{\n",
              "    x.observe(outputEl, {childList: true});\n",
              "}}\n",
              "\n",
              "                        })\n",
              "                };\n",
              "                \n",
              "            </script>\n",
              "        </div>\n",
              "</body>\n",
              "</html>"
            ]
          },
          "metadata": {
            "tags": []
          }
        }
      ]
    },
    {
      "cell_type": "markdown",
      "metadata": {
        "id": "kqPR5FU_5G39",
        "colab_type": "text"
      },
      "source": [
        "# Survived column"
      ]
    },
    {
      "cell_type": "code",
      "metadata": {
        "id": "JAlpyeG65FqK",
        "colab_type": "code",
        "colab": {
          "base_uri": "https://localhost:8080/",
          "height": 542
        },
        "outputId": "75ef6e87-d7c7-4773-db36-8141d4638680"
      },
      "source": [
        "values = [data[data['Survived']==0].count().max(), data[data['Survived']==1].count().max()]\n",
        "names = ['Dead', 'Survived']\n",
        "\n",
        "fig = px.pie(\n",
        "    names = names,\n",
        "    values=values,\n",
        "    hole=0.5,\n",
        "    title='How many Survived?',\n",
        "    color_discrete_sequence=['Black', 'Green']\n",
        ")\n",
        "fig.show()"
      ],
      "execution_count": 152,
      "outputs": [
        {
          "output_type": "display_data",
          "data": {
            "text/html": [
              "<html>\n",
              "<head><meta charset=\"utf-8\" /></head>\n",
              "<body>\n",
              "    <div>\n",
              "            <script src=\"https://cdnjs.cloudflare.com/ajax/libs/mathjax/2.7.5/MathJax.js?config=TeX-AMS-MML_SVG\"></script><script type=\"text/javascript\">if (window.MathJax) {MathJax.Hub.Config({SVG: {font: \"STIX-Web\"}});}</script>\n",
              "                <script type=\"text/javascript\">window.PlotlyConfig = {MathJaxConfig: 'local'};</script>\n",
              "        <script src=\"https://cdn.plot.ly/plotly-latest.min.js\"></script>    \n",
              "            <div id=\"85cb19b3-a7c6-4cb2-84f5-b6a2c4bb1926\" class=\"plotly-graph-div\" style=\"height:525px; width:100%;\"></div>\n",
              "            <script type=\"text/javascript\">\n",
              "                \n",
              "                    window.PLOTLYENV=window.PLOTLYENV || {};\n",
              "                    \n",
              "                if (document.getElementById(\"85cb19b3-a7c6-4cb2-84f5-b6a2c4bb1926\")) {\n",
              "                    Plotly.newPlot(\n",
              "                        '85cb19b3-a7c6-4cb2-84f5-b6a2c4bb1926',\n",
              "                        [{\"domain\": {\"x\": [0.0, 1.0], \"y\": [0.0, 1.0]}, \"hole\": 0.5, \"hoverlabel\": {\"namelength\": 0}, \"hovertemplate\": \"label=%{label}<br>value=%{value}\", \"labels\": [\"Dead\", \"Survived\"], \"legendgroup\": \"\", \"name\": \"\", \"showlegend\": true, \"type\": \"pie\", \"values\": [852, 137]}],\n",
              "                        {\"legend\": {\"tracegroupgap\": 0}, \"piecolorway\": [\"Black\", \"Green\"], \"template\": {\"data\": {\"bar\": [{\"error_x\": {\"color\": \"#2a3f5f\"}, \"error_y\": {\"color\": \"#2a3f5f\"}, \"marker\": {\"line\": {\"color\": \"#E5ECF6\", \"width\": 0.5}}, \"type\": \"bar\"}], \"barpolar\": [{\"marker\": {\"line\": {\"color\": \"#E5ECF6\", \"width\": 0.5}}, \"type\": \"barpolar\"}], \"carpet\": [{\"aaxis\": {\"endlinecolor\": \"#2a3f5f\", \"gridcolor\": \"white\", \"linecolor\": \"white\", \"minorgridcolor\": \"white\", \"startlinecolor\": \"#2a3f5f\"}, \"baxis\": {\"endlinecolor\": \"#2a3f5f\", \"gridcolor\": \"white\", \"linecolor\": \"white\", \"minorgridcolor\": \"white\", \"startlinecolor\": \"#2a3f5f\"}, \"type\": \"carpet\"}], \"choropleth\": [{\"colorbar\": {\"outlinewidth\": 0, \"ticks\": \"\"}, \"type\": \"choropleth\"}], \"contour\": [{\"colorbar\": {\"outlinewidth\": 0, \"ticks\": \"\"}, \"colorscale\": [[0.0, \"#0d0887\"], [0.1111111111111111, \"#46039f\"], [0.2222222222222222, \"#7201a8\"], [0.3333333333333333, \"#9c179e\"], [0.4444444444444444, \"#bd3786\"], [0.5555555555555556, \"#d8576b\"], [0.6666666666666666, \"#ed7953\"], [0.7777777777777778, \"#fb9f3a\"], [0.8888888888888888, \"#fdca26\"], [1.0, \"#f0f921\"]], \"type\": \"contour\"}], \"contourcarpet\": [{\"colorbar\": {\"outlinewidth\": 0, \"ticks\": \"\"}, \"type\": \"contourcarpet\"}], \"heatmap\": [{\"colorbar\": {\"outlinewidth\": 0, \"ticks\": \"\"}, \"colorscale\": [[0.0, \"#0d0887\"], [0.1111111111111111, \"#46039f\"], [0.2222222222222222, \"#7201a8\"], [0.3333333333333333, \"#9c179e\"], [0.4444444444444444, \"#bd3786\"], [0.5555555555555556, \"#d8576b\"], [0.6666666666666666, \"#ed7953\"], [0.7777777777777778, \"#fb9f3a\"], [0.8888888888888888, \"#fdca26\"], [1.0, \"#f0f921\"]], \"type\": \"heatmap\"}], \"heatmapgl\": [{\"colorbar\": {\"outlinewidth\": 0, \"ticks\": \"\"}, \"colorscale\": [[0.0, \"#0d0887\"], [0.1111111111111111, \"#46039f\"], [0.2222222222222222, \"#7201a8\"], [0.3333333333333333, \"#9c179e\"], [0.4444444444444444, \"#bd3786\"], [0.5555555555555556, \"#d8576b\"], [0.6666666666666666, \"#ed7953\"], [0.7777777777777778, \"#fb9f3a\"], [0.8888888888888888, \"#fdca26\"], [1.0, \"#f0f921\"]], \"type\": \"heatmapgl\"}], \"histogram\": [{\"marker\": {\"colorbar\": {\"outlinewidth\": 0, \"ticks\": \"\"}}, \"type\": \"histogram\"}], \"histogram2d\": [{\"colorbar\": {\"outlinewidth\": 0, \"ticks\": \"\"}, \"colorscale\": [[0.0, \"#0d0887\"], [0.1111111111111111, \"#46039f\"], [0.2222222222222222, \"#7201a8\"], [0.3333333333333333, \"#9c179e\"], [0.4444444444444444, \"#bd3786\"], [0.5555555555555556, \"#d8576b\"], [0.6666666666666666, \"#ed7953\"], [0.7777777777777778, \"#fb9f3a\"], [0.8888888888888888, \"#fdca26\"], [1.0, \"#f0f921\"]], \"type\": \"histogram2d\"}], \"histogram2dcontour\": [{\"colorbar\": {\"outlinewidth\": 0, \"ticks\": \"\"}, \"colorscale\": [[0.0, \"#0d0887\"], [0.1111111111111111, \"#46039f\"], [0.2222222222222222, \"#7201a8\"], [0.3333333333333333, \"#9c179e\"], [0.4444444444444444, \"#bd3786\"], [0.5555555555555556, \"#d8576b\"], [0.6666666666666666, \"#ed7953\"], [0.7777777777777778, \"#fb9f3a\"], [0.8888888888888888, \"#fdca26\"], [1.0, \"#f0f921\"]], \"type\": \"histogram2dcontour\"}], \"mesh3d\": [{\"colorbar\": {\"outlinewidth\": 0, \"ticks\": \"\"}, \"type\": \"mesh3d\"}], \"parcoords\": [{\"line\": {\"colorbar\": {\"outlinewidth\": 0, \"ticks\": \"\"}}, \"type\": \"parcoords\"}], \"pie\": [{\"automargin\": true, \"type\": \"pie\"}], \"scatter\": [{\"marker\": {\"colorbar\": {\"outlinewidth\": 0, \"ticks\": \"\"}}, \"type\": \"scatter\"}], \"scatter3d\": [{\"line\": {\"colorbar\": {\"outlinewidth\": 0, \"ticks\": \"\"}}, \"marker\": {\"colorbar\": {\"outlinewidth\": 0, \"ticks\": \"\"}}, \"type\": \"scatter3d\"}], \"scattercarpet\": [{\"marker\": {\"colorbar\": {\"outlinewidth\": 0, \"ticks\": \"\"}}, \"type\": \"scattercarpet\"}], \"scattergeo\": [{\"marker\": {\"colorbar\": {\"outlinewidth\": 0, \"ticks\": \"\"}}, \"type\": \"scattergeo\"}], \"scattergl\": [{\"marker\": {\"colorbar\": {\"outlinewidth\": 0, \"ticks\": \"\"}}, \"type\": \"scattergl\"}], \"scattermapbox\": [{\"marker\": {\"colorbar\": {\"outlinewidth\": 0, \"ticks\": \"\"}}, \"type\": \"scattermapbox\"}], \"scatterpolar\": [{\"marker\": {\"colorbar\": {\"outlinewidth\": 0, \"ticks\": \"\"}}, \"type\": \"scatterpolar\"}], \"scatterpolargl\": [{\"marker\": {\"colorbar\": {\"outlinewidth\": 0, \"ticks\": \"\"}}, \"type\": \"scatterpolargl\"}], \"scatterternary\": [{\"marker\": {\"colorbar\": {\"outlinewidth\": 0, \"ticks\": \"\"}}, \"type\": \"scatterternary\"}], \"surface\": [{\"colorbar\": {\"outlinewidth\": 0, \"ticks\": \"\"}, \"colorscale\": [[0.0, \"#0d0887\"], [0.1111111111111111, \"#46039f\"], [0.2222222222222222, \"#7201a8\"], [0.3333333333333333, \"#9c179e\"], [0.4444444444444444, \"#bd3786\"], [0.5555555555555556, \"#d8576b\"], [0.6666666666666666, \"#ed7953\"], [0.7777777777777778, \"#fb9f3a\"], [0.8888888888888888, \"#fdca26\"], [1.0, \"#f0f921\"]], \"type\": \"surface\"}], \"table\": [{\"cells\": {\"fill\": {\"color\": \"#EBF0F8\"}, \"line\": {\"color\": \"white\"}}, \"header\": {\"fill\": {\"color\": \"#C8D4E3\"}, \"line\": {\"color\": \"white\"}}, \"type\": \"table\"}]}, \"layout\": {\"annotationdefaults\": {\"arrowcolor\": \"#2a3f5f\", \"arrowhead\": 0, \"arrowwidth\": 1}, \"coloraxis\": {\"colorbar\": {\"outlinewidth\": 0, \"ticks\": \"\"}}, \"colorscale\": {\"diverging\": [[0, \"#8e0152\"], [0.1, \"#c51b7d\"], [0.2, \"#de77ae\"], [0.3, \"#f1b6da\"], [0.4, \"#fde0ef\"], [0.5, \"#f7f7f7\"], [0.6, \"#e6f5d0\"], [0.7, \"#b8e186\"], [0.8, \"#7fbc41\"], [0.9, \"#4d9221\"], [1, \"#276419\"]], \"sequential\": [[0.0, \"#0d0887\"], [0.1111111111111111, \"#46039f\"], [0.2222222222222222, \"#7201a8\"], [0.3333333333333333, \"#9c179e\"], [0.4444444444444444, \"#bd3786\"], [0.5555555555555556, \"#d8576b\"], [0.6666666666666666, \"#ed7953\"], [0.7777777777777778, \"#fb9f3a\"], [0.8888888888888888, \"#fdca26\"], [1.0, \"#f0f921\"]], \"sequentialminus\": [[0.0, \"#0d0887\"], [0.1111111111111111, \"#46039f\"], [0.2222222222222222, \"#7201a8\"], [0.3333333333333333, \"#9c179e\"], [0.4444444444444444, \"#bd3786\"], [0.5555555555555556, \"#d8576b\"], [0.6666666666666666, \"#ed7953\"], [0.7777777777777778, \"#fb9f3a\"], [0.8888888888888888, \"#fdca26\"], [1.0, \"#f0f921\"]]}, \"colorway\": [\"#636efa\", \"#EF553B\", \"#00cc96\", \"#ab63fa\", \"#FFA15A\", \"#19d3f3\", \"#FF6692\", \"#B6E880\", \"#FF97FF\", \"#FECB52\"], \"font\": {\"color\": \"#2a3f5f\"}, \"geo\": {\"bgcolor\": \"white\", \"lakecolor\": \"white\", \"landcolor\": \"#E5ECF6\", \"showlakes\": true, \"showland\": true, \"subunitcolor\": \"white\"}, \"hoverlabel\": {\"align\": \"left\"}, \"hovermode\": \"closest\", \"mapbox\": {\"style\": \"light\"}, \"paper_bgcolor\": \"white\", \"plot_bgcolor\": \"#E5ECF6\", \"polar\": {\"angularaxis\": {\"gridcolor\": \"white\", \"linecolor\": \"white\", \"ticks\": \"\"}, \"bgcolor\": \"#E5ECF6\", \"radialaxis\": {\"gridcolor\": \"white\", \"linecolor\": \"white\", \"ticks\": \"\"}}, \"scene\": {\"xaxis\": {\"backgroundcolor\": \"#E5ECF6\", \"gridcolor\": \"white\", \"gridwidth\": 2, \"linecolor\": \"white\", \"showbackground\": true, \"ticks\": \"\", \"zerolinecolor\": \"white\"}, \"yaxis\": {\"backgroundcolor\": \"#E5ECF6\", \"gridcolor\": \"white\", \"gridwidth\": 2, \"linecolor\": \"white\", \"showbackground\": true, \"ticks\": \"\", \"zerolinecolor\": \"white\"}, \"zaxis\": {\"backgroundcolor\": \"#E5ECF6\", \"gridcolor\": \"white\", \"gridwidth\": 2, \"linecolor\": \"white\", \"showbackground\": true, \"ticks\": \"\", \"zerolinecolor\": \"white\"}}, \"shapedefaults\": {\"line\": {\"color\": \"#2a3f5f\"}}, \"ternary\": {\"aaxis\": {\"gridcolor\": \"white\", \"linecolor\": \"white\", \"ticks\": \"\"}, \"baxis\": {\"gridcolor\": \"white\", \"linecolor\": \"white\", \"ticks\": \"\"}, \"bgcolor\": \"#E5ECF6\", \"caxis\": {\"gridcolor\": \"white\", \"linecolor\": \"white\", \"ticks\": \"\"}}, \"title\": {\"x\": 0.05}, \"xaxis\": {\"automargin\": true, \"gridcolor\": \"white\", \"linecolor\": \"white\", \"ticks\": \"\", \"title\": {\"standoff\": 15}, \"zerolinecolor\": \"white\", \"zerolinewidth\": 2}, \"yaxis\": {\"automargin\": true, \"gridcolor\": \"white\", \"linecolor\": \"white\", \"ticks\": \"\", \"title\": {\"standoff\": 15}, \"zerolinecolor\": \"white\", \"zerolinewidth\": 2}}}, \"title\": {\"text\": \"How many Survived?\"}},\n",
              "                        {\"responsive\": true}\n",
              "                    ).then(function(){\n",
              "                            \n",
              "var gd = document.getElementById('85cb19b3-a7c6-4cb2-84f5-b6a2c4bb1926');\n",
              "var x = new MutationObserver(function (mutations, observer) {{\n",
              "        var display = window.getComputedStyle(gd).display;\n",
              "        if (!display || display === 'none') {{\n",
              "            console.log([gd, 'removed!']);\n",
              "            Plotly.purge(gd);\n",
              "            observer.disconnect();\n",
              "        }}\n",
              "}});\n",
              "\n",
              "// Listen for the removal of the full notebook cells\n",
              "var notebookContainer = gd.closest('#notebook-container');\n",
              "if (notebookContainer) {{\n",
              "    x.observe(notebookContainer, {childList: true});\n",
              "}}\n",
              "\n",
              "// Listen for the clearing of the current output cell\n",
              "var outputEl = gd.closest('.output');\n",
              "if (outputEl) {{\n",
              "    x.observe(outputEl, {childList: true});\n",
              "}}\n",
              "\n",
              "                        })\n",
              "                };\n",
              "                \n",
              "            </script>\n",
              "        </div>\n",
              "</body>\n",
              "</html>"
            ]
          },
          "metadata": {
            "tags": []
          }
        }
      ]
    },
    {
      "cell_type": "markdown",
      "metadata": {
        "id": "-m0Tz85Y5J_I",
        "colab_type": "text"
      },
      "source": [
        "여기까지 했는데 은성이가 한 것을 봐버렸다. EDA를 더 하면 겹칠 것 같아서 은성이 링크를 남기고\n",
        "\n",
        "Survived를 맞추는 분류 문제를 구성할 경우. 비율이 86.1 : 13.9 로 Imbalanced data가 예상된다.\n",
        "\n",
        "난 Highly-imbalanced data에 대해서 서술해보겠다.\n",
        "\n",
        "은성이 코드 : https://erin-study.tistory.com/2\n",
        "\n",
        "Highly-imbalanced data : https://datascienceschool.net/view-notebook/c1a8dad913f74811ae8eef5d3bedc0c3/"
      ]
    },
    {
      "cell_type": "markdown",
      "metadata": {
        "id": "aS6DQkWA5LUe",
        "colab_type": "text"
      },
      "source": [
        "# 비대칭 데이터 문제"
      ]
    },
    {
      "cell_type": "markdown",
      "metadata": {
        "id": "kb4qNs4S5ODW",
        "colab_type": "text"
      },
      "source": [
        "데이터 클래스 비율이 너무 차이가 나면(highly-imbalanced data) 단순히 우세한 클래스를 택하는 모형의 정확도가 높아지므로 모형의 성능판별이 어려워진다. 즉, 정확도(accuracy)가 높아도 데이터 갯수가 적은 클래스의 재현율(recall-rate)이 급격히 작아지는 현상이 발생할 수 있다.\n",
        "\n",
        "이렇게 각 클래스에 속한 데이터의 갯수의 차이에 의해 발생하는 문제들을 비대칭 데이터 문제(imbalanced data problem)이라고 한다.\n",
        "\n",
        "일단 비대칭 데이터라는 것을 생각 안하고 해보자."
      ]
    },
    {
      "cell_type": "code",
      "metadata": {
        "id": "KftZV8A95HzC",
        "colab_type": "code",
        "colab": {}
      },
      "source": [
        "import torch\n",
        "import torch.nn as nn\n",
        "import torch.nn.functional as F\n",
        "import torch.optim as optim\n",
        "import random"
      ],
      "execution_count": 153,
      "outputs": []
    },
    {
      "cell_type": "code",
      "metadata": {
        "id": "OFdiP8Yc5Mea",
        "colab_type": "code",
        "colab": {}
      },
      "source": [
        "from torch.utils.data import Dataset\n",
        "from torch.utils.data import DataLoader"
      ],
      "execution_count": 154,
      "outputs": []
    },
    {
      "cell_type": "code",
      "metadata": {
        "id": "6nBdeFGo5iRB",
        "colab_type": "code",
        "colab": {
          "base_uri": "https://localhost:8080/",
          "height": 34
        },
        "outputId": "0b5da975-d48b-4d88-c167-1c9ceaa01173"
      },
      "source": [
        "torch.manual_seed(1)"
      ],
      "execution_count": 155,
      "outputs": [
        {
          "output_type": "execute_result",
          "data": {
            "text/plain": [
              "<torch._C.Generator at 0x7f2f31b6e630>"
            ]
          },
          "metadata": {
            "tags": []
          },
          "execution_count": 155
        }
      ]
    },
    {
      "cell_type": "markdown",
      "metadata": {
        "id": "cl6tpfLeLGol",
        "colab_type": "text"
      },
      "source": [
        "Age_band라는 새로운 변수에 Age변수를 그룹화하여 값을 넣는다.\n",
        "\n",
        " \n",
        "\n",
        "▶ Age 변수는 int변수이지만 다른 변수에 비해 값이 두드러지므로 10대별로 구간을 나눈다."
      ]
    },
    {
      "cell_type": "code",
      "metadata": {
        "id": "h6dNPU-VK_qj",
        "colab_type": "code",
        "colab": {
          "base_uri": "https://localhost:8080/",
          "height": 195
        },
        "outputId": "71a71dcf-6abb-4965-d5a8-7c01c04bcc84"
      },
      "source": [
        "# 0세~19세의 빈도수가 낮아 총 10대라고 포함\n",
        "\n",
        "data['Age_band'] = 0\n",
        "data.loc[(data['Age']<=19), 'Age_band'] = 0\n",
        "data.loc[(data['Age']>19)&(data['Age']<=29), 'Age_band'] = 1\n",
        "data.loc[(data['Age']>29)&(data['Age']<=39), 'Age_band'] = 2\n",
        "data.loc[(data['Age']>39)&(data['Age']<=49), 'Age_band'] = 3\n",
        "data.loc[(data['Age']>49)&(data['Age']<=59), 'Age_band'] = 4\n",
        "data.loc[(data['Age']>59)&(data['Age']<=69), 'Age_band'] = 5\n",
        "data.loc[(data['Age']>69)&(data['Age']<=79), 'Age_band'] = 6\n",
        "data.loc[(data['Age']>79)&(data['Age']<=89), 'Age_band'] = 7\n",
        "\n",
        "data.head()"
      ],
      "execution_count": 156,
      "outputs": [
        {
          "output_type": "execute_result",
          "data": {
            "text/html": [
              "<div>\n",
              "<style scoped>\n",
              "    .dataframe tbody tr th:only-of-type {\n",
              "        vertical-align: middle;\n",
              "    }\n",
              "\n",
              "    .dataframe tbody tr th {\n",
              "        vertical-align: top;\n",
              "    }\n",
              "\n",
              "    .dataframe thead th {\n",
              "        text-align: right;\n",
              "    }\n",
              "</style>\n",
              "<table border=\"1\" class=\"dataframe\">\n",
              "  <thead>\n",
              "    <tr style=\"text-align: right;\">\n",
              "      <th></th>\n",
              "      <th>Country</th>\n",
              "      <th>Firstname</th>\n",
              "      <th>Lastname</th>\n",
              "      <th>Sex</th>\n",
              "      <th>Age</th>\n",
              "      <th>Category</th>\n",
              "      <th>Survived</th>\n",
              "      <th>Age_band</th>\n",
              "    </tr>\n",
              "  </thead>\n",
              "  <tbody>\n",
              "    <tr>\n",
              "      <th>0</th>\n",
              "      <td>Sweden</td>\n",
              "      <td>ARVID KALLE</td>\n",
              "      <td>AADLI</td>\n",
              "      <td>M</td>\n",
              "      <td>62</td>\n",
              "      <td>P</td>\n",
              "      <td>0</td>\n",
              "      <td>5</td>\n",
              "    </tr>\n",
              "    <tr>\n",
              "      <th>1</th>\n",
              "      <td>Estonia</td>\n",
              "      <td>LEA</td>\n",
              "      <td>AALISTE</td>\n",
              "      <td>F</td>\n",
              "      <td>22</td>\n",
              "      <td>C</td>\n",
              "      <td>0</td>\n",
              "      <td>1</td>\n",
              "    </tr>\n",
              "    <tr>\n",
              "      <th>2</th>\n",
              "      <td>Estonia</td>\n",
              "      <td>AIRI</td>\n",
              "      <td>AAVASTE</td>\n",
              "      <td>F</td>\n",
              "      <td>21</td>\n",
              "      <td>C</td>\n",
              "      <td>0</td>\n",
              "      <td>1</td>\n",
              "    </tr>\n",
              "    <tr>\n",
              "      <th>3</th>\n",
              "      <td>Sweden</td>\n",
              "      <td>JURI</td>\n",
              "      <td>AAVIK</td>\n",
              "      <td>M</td>\n",
              "      <td>53</td>\n",
              "      <td>C</td>\n",
              "      <td>0</td>\n",
              "      <td>4</td>\n",
              "    </tr>\n",
              "    <tr>\n",
              "      <th>4</th>\n",
              "      <td>Sweden</td>\n",
              "      <td>BRITTA ELISABET</td>\n",
              "      <td>AHLSTROM</td>\n",
              "      <td>F</td>\n",
              "      <td>55</td>\n",
              "      <td>P</td>\n",
              "      <td>0</td>\n",
              "      <td>4</td>\n",
              "    </tr>\n",
              "  </tbody>\n",
              "</table>\n",
              "</div>"
            ],
            "text/plain": [
              "   Country        Firstname  Lastname Sex  Age Category  Survived  Age_band\n",
              "0   Sweden      ARVID KALLE     AADLI   M   62        P         0         5\n",
              "1  Estonia              LEA   AALISTE   F   22        C         0         1\n",
              "2  Estonia             AIRI   AAVASTE   F   21        C         0         1\n",
              "3   Sweden             JURI     AAVIK   M   53        C         0         4\n",
              "4   Sweden  BRITTA ELISABET  AHLSTROM   F   55        P         0         4"
            ]
          },
          "metadata": {
            "tags": []
          },
          "execution_count": 156
        }
      ]
    },
    {
      "cell_type": "markdown",
      "metadata": {
        "id": "m4JKFJ8PLJjE",
        "colab_type": "text"
      },
      "source": [
        "Country_band라는 새로운 변수에 Country변수를 그룹화하여 값을 넣는다.\n",
        "\n",
        " \n",
        "\n",
        "▶ Country 변수는 상위 2개의 나라가 약 90%를 차지하므로 그 외의 나라는 others로 간주하여 다른 클래스로 분류한다."
      ]
    },
    {
      "cell_type": "code",
      "metadata": {
        "id": "MFgmLXNILBIx",
        "colab_type": "code",
        "colab": {
          "base_uri": "https://localhost:8080/",
          "height": 195
        },
        "outputId": "ceed6d21-02bc-4f6b-a2dd-93663c0f6897"
      },
      "source": [
        "for i in range(len(data['Country'])):\n",
        "  if data.loc[i, 'Country'] == 'Sweden':\n",
        "    data.loc[i, 'Country_band'] = 0\n",
        "  elif data.loc[i, 'Country'] == 'Estonia':\n",
        "    data.loc[i, 'Country_band'] = 1\n",
        "  else:\n",
        "    data.loc[i, 'Country_band'] = 2\n",
        "\n",
        "data.head()"
      ],
      "execution_count": 157,
      "outputs": [
        {
          "output_type": "execute_result",
          "data": {
            "text/html": [
              "<div>\n",
              "<style scoped>\n",
              "    .dataframe tbody tr th:only-of-type {\n",
              "        vertical-align: middle;\n",
              "    }\n",
              "\n",
              "    .dataframe tbody tr th {\n",
              "        vertical-align: top;\n",
              "    }\n",
              "\n",
              "    .dataframe thead th {\n",
              "        text-align: right;\n",
              "    }\n",
              "</style>\n",
              "<table border=\"1\" class=\"dataframe\">\n",
              "  <thead>\n",
              "    <tr style=\"text-align: right;\">\n",
              "      <th></th>\n",
              "      <th>Country</th>\n",
              "      <th>Firstname</th>\n",
              "      <th>Lastname</th>\n",
              "      <th>Sex</th>\n",
              "      <th>Age</th>\n",
              "      <th>Category</th>\n",
              "      <th>Survived</th>\n",
              "      <th>Age_band</th>\n",
              "      <th>Country_band</th>\n",
              "    </tr>\n",
              "  </thead>\n",
              "  <tbody>\n",
              "    <tr>\n",
              "      <th>0</th>\n",
              "      <td>Sweden</td>\n",
              "      <td>ARVID KALLE</td>\n",
              "      <td>AADLI</td>\n",
              "      <td>M</td>\n",
              "      <td>62</td>\n",
              "      <td>P</td>\n",
              "      <td>0</td>\n",
              "      <td>5</td>\n",
              "      <td>0.0</td>\n",
              "    </tr>\n",
              "    <tr>\n",
              "      <th>1</th>\n",
              "      <td>Estonia</td>\n",
              "      <td>LEA</td>\n",
              "      <td>AALISTE</td>\n",
              "      <td>F</td>\n",
              "      <td>22</td>\n",
              "      <td>C</td>\n",
              "      <td>0</td>\n",
              "      <td>1</td>\n",
              "      <td>1.0</td>\n",
              "    </tr>\n",
              "    <tr>\n",
              "      <th>2</th>\n",
              "      <td>Estonia</td>\n",
              "      <td>AIRI</td>\n",
              "      <td>AAVASTE</td>\n",
              "      <td>F</td>\n",
              "      <td>21</td>\n",
              "      <td>C</td>\n",
              "      <td>0</td>\n",
              "      <td>1</td>\n",
              "      <td>1.0</td>\n",
              "    </tr>\n",
              "    <tr>\n",
              "      <th>3</th>\n",
              "      <td>Sweden</td>\n",
              "      <td>JURI</td>\n",
              "      <td>AAVIK</td>\n",
              "      <td>M</td>\n",
              "      <td>53</td>\n",
              "      <td>C</td>\n",
              "      <td>0</td>\n",
              "      <td>4</td>\n",
              "      <td>0.0</td>\n",
              "    </tr>\n",
              "    <tr>\n",
              "      <th>4</th>\n",
              "      <td>Sweden</td>\n",
              "      <td>BRITTA ELISABET</td>\n",
              "      <td>AHLSTROM</td>\n",
              "      <td>F</td>\n",
              "      <td>55</td>\n",
              "      <td>P</td>\n",
              "      <td>0</td>\n",
              "      <td>4</td>\n",
              "      <td>0.0</td>\n",
              "    </tr>\n",
              "  </tbody>\n",
              "</table>\n",
              "</div>"
            ],
            "text/plain": [
              "   Country        Firstname  Lastname  ... Survived  Age_band Country_band\n",
              "0   Sweden      ARVID KALLE     AADLI  ...        0         5          0.0\n",
              "1  Estonia              LEA   AALISTE  ...        0         1          1.0\n",
              "2  Estonia             AIRI   AAVASTE  ...        0         1          1.0\n",
              "3   Sweden             JURI     AAVIK  ...        0         4          0.0\n",
              "4   Sweden  BRITTA ELISABET  AHLSTROM  ...        0         4          0.0\n",
              "\n",
              "[5 rows x 9 columns]"
            ]
          },
          "metadata": {
            "tags": []
          },
          "execution_count": 157
        }
      ]
    },
    {
      "cell_type": "code",
      "metadata": {
        "id": "qUxIezS0Mzfj",
        "colab_type": "code",
        "colab": {
          "base_uri": "https://localhost:8080/",
          "height": 195
        },
        "outputId": "5ae8e9c8-3486-4f0e-e22b-c020b0dbe144"
      },
      "source": [
        "data['Sex'] = pd.get_dummies(data['Sex'], drop_first=True)\n",
        "data.head()"
      ],
      "execution_count": 158,
      "outputs": [
        {
          "output_type": "execute_result",
          "data": {
            "text/html": [
              "<div>\n",
              "<style scoped>\n",
              "    .dataframe tbody tr th:only-of-type {\n",
              "        vertical-align: middle;\n",
              "    }\n",
              "\n",
              "    .dataframe tbody tr th {\n",
              "        vertical-align: top;\n",
              "    }\n",
              "\n",
              "    .dataframe thead th {\n",
              "        text-align: right;\n",
              "    }\n",
              "</style>\n",
              "<table border=\"1\" class=\"dataframe\">\n",
              "  <thead>\n",
              "    <tr style=\"text-align: right;\">\n",
              "      <th></th>\n",
              "      <th>Country</th>\n",
              "      <th>Firstname</th>\n",
              "      <th>Lastname</th>\n",
              "      <th>Sex</th>\n",
              "      <th>Age</th>\n",
              "      <th>Category</th>\n",
              "      <th>Survived</th>\n",
              "      <th>Age_band</th>\n",
              "      <th>Country_band</th>\n",
              "    </tr>\n",
              "  </thead>\n",
              "  <tbody>\n",
              "    <tr>\n",
              "      <th>0</th>\n",
              "      <td>Sweden</td>\n",
              "      <td>ARVID KALLE</td>\n",
              "      <td>AADLI</td>\n",
              "      <td>1</td>\n",
              "      <td>62</td>\n",
              "      <td>P</td>\n",
              "      <td>0</td>\n",
              "      <td>5</td>\n",
              "      <td>0.0</td>\n",
              "    </tr>\n",
              "    <tr>\n",
              "      <th>1</th>\n",
              "      <td>Estonia</td>\n",
              "      <td>LEA</td>\n",
              "      <td>AALISTE</td>\n",
              "      <td>0</td>\n",
              "      <td>22</td>\n",
              "      <td>C</td>\n",
              "      <td>0</td>\n",
              "      <td>1</td>\n",
              "      <td>1.0</td>\n",
              "    </tr>\n",
              "    <tr>\n",
              "      <th>2</th>\n",
              "      <td>Estonia</td>\n",
              "      <td>AIRI</td>\n",
              "      <td>AAVASTE</td>\n",
              "      <td>0</td>\n",
              "      <td>21</td>\n",
              "      <td>C</td>\n",
              "      <td>0</td>\n",
              "      <td>1</td>\n",
              "      <td>1.0</td>\n",
              "    </tr>\n",
              "    <tr>\n",
              "      <th>3</th>\n",
              "      <td>Sweden</td>\n",
              "      <td>JURI</td>\n",
              "      <td>AAVIK</td>\n",
              "      <td>1</td>\n",
              "      <td>53</td>\n",
              "      <td>C</td>\n",
              "      <td>0</td>\n",
              "      <td>4</td>\n",
              "      <td>0.0</td>\n",
              "    </tr>\n",
              "    <tr>\n",
              "      <th>4</th>\n",
              "      <td>Sweden</td>\n",
              "      <td>BRITTA ELISABET</td>\n",
              "      <td>AHLSTROM</td>\n",
              "      <td>0</td>\n",
              "      <td>55</td>\n",
              "      <td>P</td>\n",
              "      <td>0</td>\n",
              "      <td>4</td>\n",
              "      <td>0.0</td>\n",
              "    </tr>\n",
              "  </tbody>\n",
              "</table>\n",
              "</div>"
            ],
            "text/plain": [
              "   Country        Firstname  Lastname  ...  Survived  Age_band Country_band\n",
              "0   Sweden      ARVID KALLE     AADLI  ...         0         5          0.0\n",
              "1  Estonia              LEA   AALISTE  ...         0         1          1.0\n",
              "2  Estonia             AIRI   AAVASTE  ...         0         1          1.0\n",
              "3   Sweden             JURI     AAVIK  ...         0         4          0.0\n",
              "4   Sweden  BRITTA ELISABET  AHLSTROM  ...         0         4          0.0\n",
              "\n",
              "[5 rows x 9 columns]"
            ]
          },
          "metadata": {
            "tags": []
          },
          "execution_count": 158
        }
      ]
    },
    {
      "cell_type": "code",
      "metadata": {
        "id": "VEWZael25jd6",
        "colab_type": "code",
        "colab": {
          "base_uri": "https://localhost:8080/",
          "height": 34
        },
        "outputId": "aea816c0-72e9-4ee9-def8-9dd702246b05"
      },
      "source": [
        "x = data[['Sex', 'Age_band', 'Country_band']].values\n",
        "y = data[['Survived']].values\n",
        "\n",
        "print(x.shape, y.shape)"
      ],
      "execution_count": 159,
      "outputs": [
        {
          "output_type": "stream",
          "text": [
            "(989, 3) (989, 1)\n"
          ],
          "name": "stdout"
        }
      ]
    },
    {
      "cell_type": "code",
      "metadata": {
        "id": "4eXo5gVtK5M9",
        "colab_type": "code",
        "colab": {}
      },
      "source": [
        "class MyDataset(Dataset):\n",
        "  # 데이터셋의 전처리를 해주는 부분\n",
        "  def __init__(self):\n",
        "    self.x_data = torch.FloatTensor(x)\n",
        "    self.y_data = torch.FloatTensor(y)\n",
        "    \n",
        "  # 데이터셋의 길이, 즉 총 샘플의 수를 적어주는 부분\n",
        "  def __len__(self):\n",
        "    return len(self.x_data)\n",
        "  \n",
        "  # 데이터셋에서 특정 1개의 샘플을 가져오는 함수\n",
        "  def __getitem__(self, idx):\n",
        "    x = self.x_data[idx]\n",
        "    y = self.y_data[idx]\n",
        "    return x, y"
      ],
      "execution_count": 160,
      "outputs": []
    },
    {
      "cell_type": "code",
      "metadata": {
        "id": "oV2DA5h4N_0k",
        "colab_type": "code",
        "colab": {}
      },
      "source": [
        "dataset = MyDataset()"
      ],
      "execution_count": 161,
      "outputs": []
    },
    {
      "cell_type": "code",
      "metadata": {
        "id": "bWbzvqqjOD0x",
        "colab_type": "code",
        "colab": {
          "base_uri": "https://localhost:8080/",
          "height": 52
        },
        "outputId": "b83985e9-738a-4571-d0ce-71eb7353e6d5"
      },
      "source": [
        "train_val_ratio = 0.8\n",
        "train_size = int(len(dataset) * train_val_ratio)\n",
        "val_size = len(dataset) - train_size\n",
        "print(train_size, val_size)\n",
        "\n",
        "train_dataset, val_dataset = torch.utils.data.random_split(dataset, [train_size, val_size])\n",
        "print(len(train_dataset), len(val_dataset))"
      ],
      "execution_count": 162,
      "outputs": [
        {
          "output_type": "stream",
          "text": [
            "791 198\n",
            "791 198\n"
          ],
          "name": "stdout"
        }
      ]
    },
    {
      "cell_type": "code",
      "metadata": {
        "id": "T7s1Oi3sOGcx",
        "colab_type": "code",
        "colab": {}
      },
      "source": [
        "train_loader = DataLoader(dataset=train_dataset, batch_size=len(train_dataset), shuffle=True)\n",
        "val_loader = DataLoader(dataset=val_dataset, batch_size=len(val_dataset), shuffle=True)"
      ],
      "execution_count": 163,
      "outputs": []
    },
    {
      "cell_type": "code",
      "metadata": {
        "id": "D7mACVKNOcJp",
        "colab_type": "code",
        "colab": {}
      },
      "source": [
        "class BinaryClassifier(nn.Module):\n",
        "\n",
        "  def __init__(self):\n",
        "    super().__init__()\n",
        "    self.linear = nn.Linear(3, 1)\n",
        "    self.sigmoid = nn.Sigmoid()\n",
        "\n",
        "  def forward(self, x):\n",
        "    return self.sigmoid(self.linear(x))"
      ],
      "execution_count": 164,
      "outputs": []
    },
    {
      "cell_type": "code",
      "metadata": {
        "id": "7QH05z7nO6RZ",
        "colab_type": "code",
        "colab": {}
      },
      "source": [
        "model = BinaryClassifier()"
      ],
      "execution_count": 165,
      "outputs": []
    },
    {
      "cell_type": "code",
      "metadata": {
        "id": "FkZpnxguO764",
        "colab_type": "code",
        "colab": {}
      },
      "source": [
        "optimizer = optim.SGD(model.parameters(), lr=0.005)"
      ],
      "execution_count": 166,
      "outputs": []
    },
    {
      "cell_type": "code",
      "metadata": {
        "id": "5XChE-hcO9Uw",
        "colab_type": "code",
        "colab": {
          "base_uri": "https://localhost:8080/",
          "height": 809
        },
        "outputId": "e24cc79d-35ef-430c-ac62-714fe8b0fc74"
      },
      "source": [
        "nb_epochs = 200\n",
        "\n",
        "train_losses = []\n",
        "val_losses = []\n",
        "\n",
        "for epoch in range(nb_epochs + 1):\n",
        "  for x_train, y_train in train_loader:\n",
        "\n",
        "    # H(x) 계산\n",
        "    train_hypothesis = model(x_train)\n",
        " \n",
        "    # cost 계산\n",
        "    cost = F.binary_cross_entropy(train_hypothesis, y_train)\n",
        "\n",
        "    # cost로 H(x) 개선\n",
        "    optimizer.zero_grad()\n",
        "    cost.backward()\n",
        "    optimizer.step()\n",
        "    train_losses.append(cost.item())\n",
        "\n",
        "    if epoch % (nb_epochs/10) == 0:\n",
        "      print(f'Epoch : {epoch}/{nb_epochs}')\n",
        "      print(f'Trin Cost : {cost.item()}')\n",
        "    \n",
        "  for x_val, y_val in val_loader:\n",
        "    val_hypothesis = model(x_val)\n",
        "    cost = F.binary_cross_entropy(val_hypothesis, y_val)\n",
        "    val_losses.append(cost.item())\n",
        "    if epoch % (nb_epochs/10) == 0:\n",
        "      print(f'Validation Cost : {cost.item()}')\n",
        "      print('-'*50)\n",
        "\n",
        "val_prediction = val_hypothesis >= torch.FloatTensor([0.5])\n",
        "val_correct_prediction = val_prediction.float() == y_val\n",
        "val_accuracy = val_correct_prediction.sum().item() / len(val_correct_prediction)\n",
        "print(f'Validation Accuracy : {val_accuracy * 100}%')\n",
        "      \n"
      ],
      "execution_count": 167,
      "outputs": [
        {
          "output_type": "stream",
          "text": [
            "Epoch : 0/200\n",
            "Trin Cost : 0.5131803154945374\n",
            "Validation Cost : 0.5174912810325623\n",
            "--------------------------------------------------\n",
            "Epoch : 20/200\n",
            "Trin Cost : 0.48114529252052307\n",
            "Validation Cost : 0.49034640192985535\n",
            "--------------------------------------------------\n",
            "Epoch : 40/200\n",
            "Trin Cost : 0.45990994572639465\n",
            "Validation Cost : 0.47293350100517273\n",
            "--------------------------------------------------\n",
            "Epoch : 60/200\n",
            "Trin Cost : 0.4451746940612793\n",
            "Validation Cost : 0.46128129959106445\n",
            "--------------------------------------------------\n",
            "Epoch : 80/200\n",
            "Trin Cost : 0.4345739781856537\n",
            "Validation Cost : 0.45322781801223755\n",
            "--------------------------------------------------\n",
            "Epoch : 100/200\n",
            "Trin Cost : 0.4267234802246094\n",
            "Validation Cost : 0.4475208520889282\n",
            "--------------------------------------------------\n",
            "Epoch : 120/200\n",
            "Trin Cost : 0.42076927423477173\n",
            "Validation Cost : 0.4433972239494324\n",
            "--------------------------------------------------\n",
            "Epoch : 140/200\n",
            "Trin Cost : 0.4161621928215027\n",
            "Validation Cost : 0.44037139415740967\n",
            "--------------------------------------------------\n",
            "Epoch : 160/200\n",
            "Trin Cost : 0.4125351905822754\n",
            "Validation Cost : 0.43812325596809387\n",
            "--------------------------------------------------\n",
            "Epoch : 180/200\n",
            "Trin Cost : 0.40963661670684814\n",
            "Validation Cost : 0.4364360570907593\n",
            "--------------------------------------------------\n",
            "Epoch : 200/200\n",
            "Trin Cost : 0.407288134098053\n",
            "Validation Cost : 0.43515893816947937\n",
            "--------------------------------------------------\n",
            "Validation Accuracy : 81.81818181818183%\n"
          ],
          "name": "stdout"
        }
      ]
    },
    {
      "cell_type": "code",
      "metadata": {
        "id": "i-HC10SMPqc5",
        "colab_type": "code",
        "colab": {
          "base_uri": "https://localhost:8080/",
          "height": 265
        },
        "outputId": "bb8b06a1-b472-40bb-8a95-8d56b4930f6b"
      },
      "source": [
        "plt.plot(train_losses, label='train')\n",
        "plt.plot(val_losses, label='val')\n",
        "plt.legend()\n",
        "plt.show()"
      ],
      "execution_count": 168,
      "outputs": [
        {
          "output_type": "display_data",
          "data": {
            "image/png": "[encoded data removed]",
            "text/plain": [
              "<Figure size 432x288 with 1 Axes>"
            ]
          },
          "metadata": {
            "tags": [],
            "needs_background": "light"
          }
        }
      ]
    },
    {
      "cell_type": "markdown",
      "metadata": {
        "id": "riMdkKizIUjT",
        "colab_type": "text"
      },
      "source": [
        "여기까지가 비대칭 데이터를 고려하지 않고 풀어본 문제다.\n",
        "\n",
        "아래는 label 값이 Survived의 비율을 나타낸다."
      ]
    },
    {
      "cell_type": "code",
      "metadata": {
        "id": "RQpUULKJRvlv",
        "colab_type": "code",
        "colab": {
          "base_uri": "https://localhost:8080/",
          "height": 70
        },
        "outputId": "8c8b2314-c66c-42cd-9955-4b5c4463cbff"
      },
      "source": [
        "data['Survived'].value_counts()"
      ],
      "execution_count": 169,
      "outputs": [
        {
          "output_type": "execute_result",
          "data": {
            "text/plain": [
              "0    852\n",
              "1    137\n",
              "Name: Survived, dtype: int64"
            ]
          },
          "metadata": {
            "tags": []
          },
          "execution_count": 169
        }
      ]
    },
    {
      "cell_type": "code",
      "metadata": {
        "id": "GqBdCrbjI1wf",
        "colab_type": "code",
        "colab": {
          "base_uri": "https://localhost:8080/",
          "height": 295
        },
        "outputId": "95823b33-5b2b-4f19-8329-296253c7fd93"
      },
      "source": [
        "f, ax = plt.subplots(1, 2)\n",
        "data['Survived'].value_counts().plot.pie(explode=[0, 0.1],\n",
        "                                         autopct='%1.1f%%', \n",
        "                                         shadow=True, ax=ax[0])\n",
        "ax[0].set_title('Survived')\n",
        "ax[0].set_ylabel('')\n",
        "\n",
        "sns.countplot('Survived', data=data, ax=ax[1])\n",
        "ax[1].set_title('Survived')\n",
        "plt.show()"
      ],
      "execution_count": 170,
      "outputs": [
        {
          "output_type": "display_data",
          "data": {
            "image/png": "[encoded data removed]",
            "text/plain": [
              "<Figure size 432x288 with 2 Axes>"
            ]
          },
          "metadata": {
            "tags": [],
            "needs_background": "light"
          }
        }
      ]
    },
    {
      "cell_type": "markdown",
      "metadata": {
        "id": "NggnUgdjJWWK",
        "colab_type": "text"
      },
      "source": [
        "죽은 사람이 86%, 산 사람이 14%기 때문에, 이 모델은 다 죽었다고 해도 86%의 정확도를 가질 수 있다."
      ]
    },
    {
      "cell_type": "markdown",
      "metadata": {
        "id": "P5Tfs4XAJ-IM",
        "colab_type": "text"
      },
      "source": [
        "# 비대칭 데이터 해결 방법"
      ]
    },
    {
      "cell_type": "markdown",
      "metadata": {
        "id": "b3y3lzz9KDRF",
        "colab_type": "text"
      },
      "source": [
        "비대칭 데이터는 다수 클래스 데이터에서 일부만 사용하는 언더 샘플링이나 소수 클래스 데이터를 증가시키는 오버 샘플링을 사용하여 데이터 비율을 맞추면 정밀도(precision)가 향상된다.\n",
        "\n",
        "* 오버샘플링(Over-Sampling)\n",
        "* 언더샘플링(Under-Sampling)\n",
        "* 복합샘플링(Combining Over-and Under-Sampling)\n"
      ]
    },
    {
      "cell_type": "code",
      "metadata": {
        "id": "7Nzz6hPRMmar",
        "colab_type": "code",
        "colab": {
          "base_uri": "https://localhost:8080/",
          "height": 34
        },
        "outputId": "858776a1-06cd-43aa-df82-19833f48d773"
      },
      "source": [
        "x = data[['Sex', 'Age_band', 'Country_band']].values\n",
        "y = data[['Survived']].values\n",
        "\n",
        "print(x.shape, y.shape)"
      ],
      "execution_count": 202,
      "outputs": [
        {
          "output_type": "stream",
          "text": [
            "(989, 3) (989, 1)\n"
          ],
          "name": "stdout"
        }
      ]
    },
    {
      "cell_type": "code",
      "metadata": {
        "id": "aKHu2BVzORu0",
        "colab_type": "code",
        "colab": {
          "base_uri": "https://localhost:8080/",
          "height": 34
        },
        "outputId": "ace1483a-b4dd-4069-e99a-b77a4601092b"
      },
      "source": [
        "print(f'산 사람 : {np.count_nonzero(y)} 죽은 사람 : {len(y)-np.count_nonzero(y)}')"
      ],
      "execution_count": 203,
      "outputs": [
        {
          "output_type": "stream",
          "text": [
            "산 사람 : 137 죽은 사람 : 852\n"
          ],
          "name": "stdout"
        }
      ]
    },
    {
      "cell_type": "code",
      "metadata": {
        "id": "Y7RFNuVYM3W-",
        "colab_type": "code",
        "colab": {}
      },
      "source": [
        "from imblearn.under_sampling import * # 언더샘플링\n",
        "from imblearn.over_sampling import * # 오버샘플링\n",
        "from imblearn.combine import * # 복합샘플링"
      ],
      "execution_count": 204,
      "outputs": []
    },
    {
      "cell_type": "markdown",
      "metadata": {
        "id": "hr-x5SmVRpD3",
        "colab_type": "text"
      },
      "source": [
        "# Ramdom Under-Sampler"
      ]
    },
    {
      "cell_type": "markdown",
      "metadata": {
        "id": "QkSF661gRtmr",
        "colab_type": "text"
      },
      "source": [
        "무작위로 데이터를 없애는 단순 샘플링"
      ]
    },
    {
      "cell_type": "markdown",
      "metadata": {
        "id": "DRM-BxrFRwvE",
        "colab_type": "text"
      },
      "source": [
        "![](data:image/png;base64,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)"
      ]
    },
    {
      "cell_type": "code",
      "metadata": {
        "id": "3Y--pSXEJAOi",
        "colab_type": "code",
        "colab": {
          "base_uri": "https://localhost:8080/",
          "height": 105
        },
        "outputId": "993f8b1f-2531-45a9-9acb-e1e3bbc1e406"
      },
      "source": [
        "x, y = RandomUnderSampler(random_state=0).fit_sample(x, y)\n",
        "print(x.shape, y.shape)"
      ],
      "execution_count": 205,
      "outputs": [
        {
          "output_type": "stream",
          "text": [
            "(274, 3) (274, 1)\n"
          ],
          "name": "stdout"
        },
        {
          "output_type": "stream",
          "text": [
            "/usr/local/lib/python3.6/dist-packages/sklearn/utils/deprecation.py:87: FutureWarning:\n",
            "\n",
            "Function safe_indexing is deprecated; safe_indexing is deprecated in version 0.22 and will be removed in version 0.24.\n",
            "\n"
          ],
          "name": "stderr"
        }
      ]
    },
    {
      "cell_type": "code",
      "metadata": {
        "id": "VHmOrk4lMyvx",
        "colab_type": "code",
        "colab": {
          "base_uri": "https://localhost:8080/",
          "height": 34
        },
        "outputId": "c47461b6-afe0-450a-c865-088bb496606f"
      },
      "source": [
        "print(f'산 사람 : {np.count_nonzero(y)} 죽은 사람 : {len(y)-np.count_nonzero(y)}')"
      ],
      "execution_count": 206,
      "outputs": [
        {
          "output_type": "stream",
          "text": [
            "산 사람 : 137 죽은 사람 : 137\n"
          ],
          "name": "stdout"
        }
      ]
    },
    {
      "cell_type": "code",
      "metadata": {
        "id": "5sVgWf4SO7ir",
        "colab_type": "code",
        "colab": {}
      },
      "source": [
        "class MyDataset(Dataset):\n",
        "  # 데이터셋의 전처리를 해주는 부분\n",
        "  def __init__(self):\n",
        "    self.x_data = torch.FloatTensor(x)\n",
        "    self.y_data = torch.FloatTensor(y)\n",
        "    \n",
        "  # 데이터셋의 길이, 즉 총 샘플의 수를 적어주는 부분\n",
        "  def __len__(self):\n",
        "    return len(self.x_data)\n",
        "  \n",
        "  # 데이터셋에서 특정 1개의 샘플을 가져오는 함수\n",
        "  def __getitem__(self, idx):\n",
        "    x = self.x_data[idx]\n",
        "    y = self.y_data[idx]\n",
        "    return x, y"
      ],
      "execution_count": 207,
      "outputs": []
    },
    {
      "cell_type": "code",
      "metadata": {
        "id": "iq95gz6uPP1z",
        "colab_type": "code",
        "colab": {}
      },
      "source": [
        "dataset = MyDataset()"
      ],
      "execution_count": 208,
      "outputs": []
    },
    {
      "cell_type": "code",
      "metadata": {
        "id": "p4co-wAYPSQR",
        "colab_type": "code",
        "colab": {
          "base_uri": "https://localhost:8080/",
          "height": 52
        },
        "outputId": "809ae212-363f-43b0-be55-9691bc8a922f"
      },
      "source": [
        "train_val_ratio = 0.8\n",
        "train_size = int(len(dataset) * train_val_ratio)\n",
        "val_size = len(dataset) - train_size\n",
        "print(train_size, val_size)\n",
        "\n",
        "train_dataset, val_dataset = torch.utils.data.random_split(dataset, [train_size, val_size])\n",
        "print(len(train_dataset), len(val_dataset))"
      ],
      "execution_count": 209,
      "outputs": [
        {
          "output_type": "stream",
          "text": [
            "219 55\n",
            "219 55\n"
          ],
          "name": "stdout"
        }
      ]
    },
    {
      "cell_type": "code",
      "metadata": {
        "id": "7tto4rXMPUy0",
        "colab_type": "code",
        "colab": {}
      },
      "source": [
        "train_loader = DataLoader(dataset=train_dataset, batch_size=len(train_dataset), shuffle=True)\n",
        "val_loader = DataLoader(dataset=val_dataset, batch_size=len(val_dataset), shuffle=True)"
      ],
      "execution_count": 210,
      "outputs": []
    },
    {
      "cell_type": "code",
      "metadata": {
        "id": "zoe-GMEUPXTP",
        "colab_type": "code",
        "colab": {}
      },
      "source": [
        "class BinaryClassifier(nn.Module):\n",
        "\n",
        "  def __init__(self):\n",
        "    super().__init__()\n",
        "    self.linear = nn.Linear(3, 1)\n",
        "    self.sigmoid = nn.Sigmoid()\n",
        "\n",
        "  def forward(self, x):\n",
        "    return self.sigmoid(self.linear(x))"
      ],
      "execution_count": 211,
      "outputs": []
    },
    {
      "cell_type": "code",
      "metadata": {
        "id": "58r9IAo3PZ_k",
        "colab_type": "code",
        "colab": {}
      },
      "source": [
        "model = BinaryClassifier()"
      ],
      "execution_count": 212,
      "outputs": []
    },
    {
      "cell_type": "code",
      "metadata": {
        "id": "p1_xi-GEPcfI",
        "colab_type": "code",
        "colab": {}
      },
      "source": [
        "optimizer = optim.SGD(model.parameters(), lr=0.005)"
      ],
      "execution_count": 213,
      "outputs": []
    },
    {
      "cell_type": "code",
      "metadata": {
        "id": "lrbOo8UiPe6q",
        "colab_type": "code",
        "colab": {
          "base_uri": "https://localhost:8080/",
          "height": 809
        },
        "outputId": "6d527361-573b-46a8-db47-fae1628bf7bc"
      },
      "source": [
        "nb_epochs = 200\n",
        "\n",
        "train_losses = []\n",
        "val_losses = []\n",
        "\n",
        "for epoch in range(nb_epochs + 1):\n",
        "  for x_train, y_train in train_loader:\n",
        "\n",
        "    # H(x) 계산\n",
        "    train_hypothesis = model(x_train)\n",
        " \n",
        "    # cost 계산\n",
        "    cost = F.binary_cross_entropy(train_hypothesis, y_train)\n",
        "\n",
        "    # cost로 H(x) 개선\n",
        "    optimizer.zero_grad()\n",
        "    cost.backward()\n",
        "    optimizer.step()\n",
        "    train_losses.append(cost.item())\n",
        "\n",
        "    if epoch % (nb_epochs/10) == 0:\n",
        "      print(f'Epoch : {epoch}/{nb_epochs}')\n",
        "      print(f'Trin Cost : {cost.item()}')\n",
        "    \n",
        "  for x_val, y_val in val_loader:\n",
        "    val_hypothesis = model(x_val)\n",
        "    cost = F.binary_cross_entropy(val_hypothesis, y_val)\n",
        "    val_losses.append(cost.item())\n",
        "    if epoch % (nb_epochs/10) == 0:\n",
        "      print(f'Validation Cost : {cost.item()}')\n",
        "      print('-'*50)\n",
        "\n",
        "val_prediction = val_hypothesis >= torch.FloatTensor([0.5])\n",
        "val_correct_prediction = val_prediction.float() == y_val\n",
        "val_accuracy = val_correct_prediction.sum().item() / len(val_correct_prediction)\n",
        "print(f'Validation Accuracy : {val_accuracy * 100}%')\n",
        "      "
      ],
      "execution_count": 214,
      "outputs": [
        {
          "output_type": "stream",
          "text": [
            "Epoch : 0/200\n",
            "Trin Cost : 0.6776736378669739\n",
            "Validation Cost : 0.6878156661987305\n",
            "--------------------------------------------------\n",
            "Epoch : 20/200\n",
            "Trin Cost : 0.6588205695152283\n",
            "Validation Cost : 0.6706239581108093\n",
            "--------------------------------------------------\n",
            "Epoch : 40/200\n",
            "Trin Cost : 0.6474354267120361\n",
            "Validation Cost : 0.6597134470939636\n",
            "--------------------------------------------------\n",
            "Epoch : 60/200\n",
            "Trin Cost : 0.6404700875282288\n",
            "Validation Cost : 0.6526290774345398\n",
            "--------------------------------------------------\n",
            "Epoch : 80/200\n",
            "Trin Cost : 0.6361246109008789\n",
            "Validation Cost : 0.6478903889656067\n",
            "--------------------------------------------------\n",
            "Epoch : 100/200\n",
            "Trin Cost : 0.6333431005477905\n",
            "Validation Cost : 0.6446084380149841\n",
            "--------------------------------------------------\n",
            "Epoch : 120/200\n",
            "Trin Cost : 0.6315034627914429\n",
            "Validation Cost : 0.6422448754310608\n",
            "--------------------------------------------------\n",
            "Epoch : 140/200\n",
            "Trin Cost : 0.6302370429039001\n",
            "Validation Cost : 0.640470564365387\n",
            "--------------------------------------------------\n",
            "Epoch : 160/200\n",
            "Trin Cost : 0.6293224692344666\n",
            "Validation Cost : 0.6390810012817383\n",
            "--------------------------------------------------\n",
            "Epoch : 180/200\n",
            "Trin Cost : 0.6286259889602661\n",
            "Validation Cost : 0.6379472613334656\n",
            "--------------------------------------------------\n",
            "Epoch : 200/200\n",
            "Trin Cost : 0.6280659437179565\n",
            "Validation Cost : 0.6369877457618713\n",
            "--------------------------------------------------\n",
            "Validation Accuracy : 67.27272727272727%\n"
          ],
          "name": "stdout"
        }
      ]
    },
    {
      "cell_type": "code",
      "metadata": {
        "id": "qoLH4A7lPhVO",
        "colab_type": "code",
        "colab": {
          "base_uri": "https://localhost:8080/",
          "height": 267
        },
        "outputId": "388692b6-dff1-4ea6-f983-3817bce37dd3"
      },
      "source": [
        "plt.plot(train_losses, label='train')\n",
        "plt.plot(val_losses, label='val')\n",
        "plt.legend()\n",
        "plt.show()"
      ],
      "execution_count": 215,
      "outputs": [
        {
          "output_type": "display_data",
          "data": {
            "image/png": "[encoded data removed]",
            "text/plain": [
              "<Figure size 432x288 with 1 Axes>"
            ]
          },
          "metadata": {
            "tags": [],
            "needs_background": "light"
          }
        }
      ]
    },
    {
      "cell_type": "markdown",
      "metadata": {
        "id": "-SI28D-ER029",
        "colab_type": "text"
      },
      "source": [
        "Random Under-Sampling 외에도 많은 샘플링 기법이 있다.\n",
        "\n",
        "라이브러리로 지원해주기 때문에 하나하나 할 필요는 없을 것 같고,\n",
        "\n",
        "링크 첨부한다. \n",
        "\n",
        "https://datascienceschool.net/view-notebook/c1a8dad913f74811ae8eef5d3bedc0c3/#%EC%96%B8%EB%8D%94-%EC%83%98%ED%94%8C%EB%A7%81"
      ]
    },
    {
      "cell_type": "code",
      "metadata": {
        "id": "HAqA0vzcPj8z",
        "colab_type": "code",
        "colab": {}
      },
      "source": [
        ""
      ],
      "execution_count": 184,
      "outputs": []
    }
  ]
}